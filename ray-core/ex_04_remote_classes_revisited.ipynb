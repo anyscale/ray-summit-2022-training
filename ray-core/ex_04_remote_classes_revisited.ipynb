{
 "cells": [
  {
   "cell_type": "markdown",
   "metadata": {},
   "source": [
    "# A Guided Tour of Ray Core: Ray Actor Tree Pattern\n",
    "\n",
    "© 2019-2022, Anyscale. All Rights Reserved\n",
    "\n",
    "# Tree of Actors Pattern\n",
    "\n",
    "A common pattern used in Ray libraries [Ray Tune](https://docs.ray.io/en/latest/tune/index.html), [Ray Train](https://docs.ray.io/en/latest/train/train.html), and [RLlib](https://docs.ray.io/en/latest/rllib/index.html) to train models in a parallel or conduct distributed HPO.\n",
    "\n",
    "In this common pattern, tree of actors, a collection of workers as actors, are managed by a supervisor. For example, you want to train multiple models at the same time, while being able to checkpoint/inspect its state.\n",
    "\n",
    "<img src=\"https://docs.ray.io/en/latest/_images/tree-of-actors.svg\" width=\"50%\" height=\"30%\">\n",
    "\n",
    "Let's implement a simple example to illustrate this pattern."
   ]
  },
  {
   "cell_type": "markdown",
   "metadata": {},
   "source": [
    "---"
   ]
  },
  {
   "cell_type": "markdown",
   "metadata": {},
   "source": [
    "First, let's start Ray…"
   ]
  },
  {
   "cell_type": "code",
   "execution_count": 1,
   "metadata": {},
   "outputs": [],
   "source": [
    "import logging\n",
    "import time\n",
    "from pprint import pprint\n",
    "import ray\n",
    "import random\n",
    "from random import randint\n",
    "import numpy as np"
   ]
  },
  {
   "cell_type": "code",
   "execution_count": 2,
   "metadata": {},
   "outputs": [
    {
     "name": "stdout",
     "output_type": "stream",
     "text": [
      "RayContext(dashboard_url='127.0.0.1:8265', python_version='3.8.12', ray_version='1.12.0', ray_commit='f18fc31c7562990955556899090f8e8656b48d2d', address_info={'node_ip_address': '127.0.0.1', 'raylet_ip_address': '127.0.0.1', 'redis_address': None, 'object_store_address': '/tmp/ray/session_2022-05-23_14-04-38_736481_11254/sockets/plasma_store', 'raylet_socket_name': '/tmp/ray/session_2022-05-23_14-04-38_736481_11254/sockets/raylet', 'webui_url': '127.0.0.1:8265', 'session_dir': '/tmp/ray/session_2022-05-23_14-04-38_736481_11254', 'metrics_export_port': 53824, 'gcs_address': '127.0.0.1:58474', 'address': '127.0.0.1:58474', 'node_id': '78cca61c79aabffd5b1caee3fa3c4032b92f41b7e2bc4bd5576bb8df'})\n"
     ]
    }
   ],
   "source": [
    "if ray.is_initialized:\n",
    "    ray.shutdown()\n",
    "context = ray.init(logging_level=logging.ERROR)\n",
    "pprint(context)"
   ]
  },
  {
   "cell_type": "code",
   "execution_count": 3,
   "metadata": {},
   "outputs": [
    {
     "name": "stdout",
     "output_type": "stream",
     "text": [
      "Dashboard url: http://127.0.0.1:8265\n"
     ]
    }
   ],
   "source": [
    "print(f\"Dashboard url: http://{context.address_info['webui_url']}\")"
   ]
  },
  {
   "cell_type": "markdown",
   "metadata": {},
   "source": [
    "### Generic model factory class"
   ]
  },
  {
   "cell_type": "code",
   "execution_count": 6,
   "metadata": {},
   "outputs": [],
   "source": [
    "STATES = [\"RUNNING\", \"PENDING\", \"DONE\"]\n",
    "\n",
    "class Model:\n",
    "\n",
    "    def __init__(self, m:str):\n",
    "        self._model = m\n",
    "\n",
    "    def train(self):\n",
    "        # do some training work here\n",
    "        time.sleep(1)\n",
    "\n",
    "# Factory function to return an instance of a model type\n",
    "def model_factory(m: str):\n",
    "    return Model(m)"
   ]
  },
  {
   "cell_type": "markdown",
   "metadata": {},
   "source": [
    "### Create a Worker Actor\n",
    "This worker actor will train each model. When the state reaches `DONE` we stop training"
   ]
  },
  {
   "cell_type": "code",
   "execution_count": 7,
   "metadata": {},
   "outputs": [],
   "source": [
    "@ray.remote\n",
    "class Worker(object):\n",
    "    def __init__(self, m:str):\n",
    "        # type of a model: lr, cl, or nn\n",
    "        self._model = m                  \n",
    "        \n",
    "    def state(self) -> str:\n",
    "        return random.choice(STATES)\n",
    "    # Do the work for this model\n",
    "    def work(self) -> None:\n",
    "        model_factory(self._model).train()"
   ]
  },
  {
   "cell_type": "markdown",
   "metadata": {},
   "source": [
    "### Create Supervisor Actor \n",
    "The supervisor create three actors, each with its own train model type"
   ]
  },
  {
   "cell_type": "code",
   "execution_count": 8,
   "metadata": {},
   "outputs": [],
   "source": [
    "@ray.remote\n",
    "class Supervisor:\n",
    "    def __init__(self):\n",
    "        # Create three Actor Workers, each by its unique model type\n",
    "        self.workers = [Worker.remote(name) for name in [\"lr\", \"cl\", \"nn\"]]\n",
    "                        \n",
    "    def work(self):\n",
    "        # do the work \n",
    "        [w.work.remote() for w in self.workers]\n",
    "        \n",
    "    def terminate(self):\n",
    "        [ray.kill(w) for w in self.workers]\n",
    "        \n",
    "    def state(self):\n",
    "        return ray.get([w.state.remote() for w in self.workers])"
   ]
  },
  {
   "cell_type": "markdown",
   "metadata": {
    "tags": []
   },
   "source": [
    "### Create a Actor instance for supervisor and launch its workers"
   ]
  },
  {
   "cell_type": "code",
   "execution_count": 15,
   "metadata": {},
   "outputs": [
    {
     "data": {
      "text/plain": [
       "ObjectRef(1e360ffa862f8fe390fd986a4188f4813241a5ea0100000001000000)"
      ]
     },
     "execution_count": 15,
     "metadata": {},
     "output_type": "execute_result"
    }
   ],
   "source": [
    "sup = Supervisor.remote()\n",
    "\n",
    "# Launch remote actors as workers\n",
    "sup.work.remote()"
   ]
  },
  {
   "cell_type": "markdown",
   "metadata": {},
   "source": [
    "### Look at the Ray Dashboard\n",
    "\n",
    "You should see Actors running as process on the workders nodes\n",
    " * Supervisor\n",
    " * Workers\n",
    " \n",
    "Also, click on the `Logical View` to view more metrics and data on individual Ray Actors"
   ]
  },
  {
   "cell_type": "code",
   "execution_count": 16,
   "metadata": {},
   "outputs": [
    {
     "name": "stdout",
     "output_type": "stream",
     "text": [
      "['DONE', 'DONE', 'RUNNING']\n",
      "['PENDING', 'DONE', 'DONE']\n",
      "['DONE', 'DONE', 'DONE']\n"
     ]
    }
   ],
   "source": [
    "# check their status\n",
    "while True:\n",
    "    # Fetch the states of all its workers\n",
    "    states = ray.get(sup.state.remote())\n",
    "    print(states)\n",
    "    # check if all are DONE\n",
    "    result = all('DONE' == e for e in states)\n",
    "    if result:\n",
    "        # Note: Actor processes will be terminated automatically when the initial actor handle goes out of scope in Python. \n",
    "        # If we create an actor with actor_handle = ActorClass.remote(), then when actor_handle goes out of scope and is destructed, \n",
    "        # the actor process will be terminated. Note that this only applies to the original actor handle created for the actor \n",
    "        # and not to subsequent actor handles created by passing the actor handle to other tasks.\n",
    "        \n",
    "        # kill supervisors all workers manually, only for illustrtation and demo\n",
    "        sup.terminate.remote()\n",
    "\n",
    "        # kill the supervisor manually, only for illustration and demo\n",
    "        ray.kill(sup)\n",
    "        break"
   ]
  },
  {
   "cell_type": "markdown",
   "metadata": {},
   "source": [
    "### Passing Actor handles to Ray Tasks\n",
    "\n",
    "You can pass actor handle instances to remote Ray tasks, which can change its \n",
    "state. The `MessageActor` keeps or clears messages, depending on the its method\n",
    "invoked."
   ]
  },
  {
   "cell_type": "markdown",
   "metadata": {},
   "source": [
    "Create a message actor."
   ]
  },
  {
   "cell_type": "code",
   "execution_count": 35,
   "metadata": {},
   "outputs": [],
   "source": [
    "@ray.remote\n",
    "def worker(message_actor, j):\n",
    "    for i in range(10):\n",
    "        time.sleep(1)\n",
    "        message_actor.add_message.remote(\n",
    "            f\"Message {i} from worker {j}.\")"
   ]
  },
  {
   "cell_type": "code",
   "execution_count": 36,
   "metadata": {},
   "outputs": [],
   "source": [
    "message_actor = MessageActor.remote()"
   ]
  },
  {
   "cell_type": "code",
   "execution_count": 37,
   "metadata": {},
   "outputs": [
    {
     "data": {
      "text/plain": [
       "[ObjectRef(5f70e045687d2f9affffffffffffffffffffffff0100000001000000),\n",
       " ObjectRef(a4dc031465f905f8ffffffffffffffffffffffff0100000001000000),\n",
       " ObjectRef(9e7872a82e7456d9ffffffffffffffffffffffff0100000001000000)]"
      ]
     },
     "execution_count": 37,
     "metadata": {},
     "output_type": "execute_result"
    }
   ],
   "source": [
    "[worker.remote(message_actor, j) for j in range(3)]"
   ]
  },
  {
   "cell_type": "code",
   "execution_count": 38,
   "metadata": {},
   "outputs": [
    {
     "name": "stdout",
     "output_type": "stream",
     "text": [
      "New messages\n",
      ": ['Message 0 from worker 0.', 'Message 0 from worker 2.', 'Message 0 from worker 1.', 'Message 1 from worker 0.', 'Message 1 from worker 2.', 'Message 1 from worker 1.', 'Message 2 from worker 0.', 'Message 2 from worker 2.', 'Message 2 from worker 1.']\n",
      "New messages\n",
      ": ['Message 3 from worker 0.', 'Message 3 from worker 2.', 'Message 3 from worker 1.']\n",
      "New messages\n",
      ": ['Message 4 from worker 0.', 'Message 4 from worker 2.', 'Message 4 from worker 1.']\n",
      "New messages\n",
      ": ['Message 5 from worker 0.', 'Message 5 from worker 2.', 'Message 5 from worker 1.']\n",
      "New messages\n",
      ": ['Message 6 from worker 0.', 'Message 6 from worker 2.', 'Message 6 from worker 1.']\n",
      "New messages\n",
      ": ['Message 7 from worker 2.', 'Message 7 from worker 1.', 'Message 7 from worker 0.']\n",
      "New messages\n",
      ": ['Message 8 from worker 0.', 'Message 8 from worker 2.', 'Message 8 from worker 1.']\n",
      "New messages\n",
      ": ['Message 9 from worker 2.', 'Message 9 from worker 1.', 'Message 9 from worker 0.']\n",
      "New messages\n",
      ": []\n",
      "New messages\n",
      ": []\n"
     ]
    }
   ],
   "source": [
    "for _ in range(10):\n",
    "    new_messages = ray.get(message_actor.get_and_clear_messages.remote())\n",
    "    print(\"New messages\\n:\", new_messages)\n",
    "    time.sleep(1)"
   ]
  },
  {
   "cell_type": "code",
   "execution_count": 25,
   "metadata": {},
   "outputs": [],
   "source": [
    "message_actor = MessageActor.remote()"
   ]
  },
  {
   "cell_type": "code",
   "execution_count": 26,
   "metadata": {},
   "outputs": [
    {
     "data": {
      "text/plain": [
       "[ObjectRef(aa3d5d11e415fe88ffffffffffffffffffffffff0100000001000000),\n",
       " ObjectRef(a6d6d59239756144ffffffffffffffffffffffff0100000001000000),\n",
       " ObjectRef(c7528efcb2fd36edffffffffffffffffffffffff0100000001000000)]"
      ]
     },
     "execution_count": 26,
     "metadata": {},
     "output_type": "execute_result"
    }
   ],
   "source": [
    "[worker.remote(message_actor, j) for j in range(3)]"
   ]
  },
  {
   "cell_type": "code",
   "execution_count": 27,
   "metadata": {},
   "outputs": [
    {
     "name": "stdout",
     "output_type": "stream",
     "text": [
      "New messages\n",
      ": ['Message 0 from worker 0.', 'Message 0 from worker 2.', 'Message 0 from worker 1.', 'Message 1 from worker 0.', 'Message 1 from worker 2.', 'Message 1 from worker 1.', 'Message 2 from worker 0.', 'Message 2 from worker 2.', 'Message 2 from worker 1.', 'Message 3 from worker 0.', 'Message 3 from worker 2.', 'Message 3 from worker 1.', 'Message 4 from worker 2.', 'Message 4 from worker 1.', 'Message 4 from worker 0.', 'Message 5 from worker 0.', 'Message 5 from worker 2.', 'Message 5 from worker 1.', 'Message 6 from worker 0.', 'Message 6 from worker 2.', 'Message 6 from worker 1.', 'Message 7 from worker 2.', 'Message 7 from worker 0.', 'Message 7 from worker 1.', 'Message 8 from worker 0.', 'Message 8 from worker 2.', 'Message 8 from worker 1.', 'Message 9 from worker 0.', 'Message 9 from worker 2.', 'Message 9 from worker 1.']\n",
      "New messages\n",
      ": []\n",
      "New messages\n",
      ": []\n",
      "New messages\n",
      ": []\n",
      "New messages\n",
      ": []\n",
      "New messages\n",
      ": []\n",
      "New messages\n",
      ": []\n",
      "New messages\n",
      ": []\n",
      "New messages\n",
      ": []\n",
      "New messages\n",
      ": []\n"
     ]
    }
   ],
   "source": [
    "for _ in range(10):\n",
    "    new_messages = ray.get(message_actor.get_and_clear_messages.remote())\n",
    "    print(\"New messages\\n:\", new_messages)\n",
    "    time.sleep(1)"
   ]
  },
  {
   "cell_type": "markdown",
   "metadata": {},
   "source": [
    "### Exercises\n",
    "\n",
    "1. Add a remote class, such as a logging actor, that keeps states by logging info (may be only in memory)\n",
    "2. Implement methods that alters the state\n",
    "3. Instantiate it and call its methods"
   ]
  },
  {
   "cell_type": "markdown",
   "metadata": {},
   "source": [
    "### Solution hints\n",
    "\n",
    "This solution is just a structural hint. There are few missing bits:\n",
    " * instantiation of `LoggingActor`\n",
    " * Need to use `ray.get()` to fetch the values from the object store"
   ]
  },
  {
   "cell_type": "code",
   "execution_count": null,
   "metadata": {},
   "outputs": [],
   "source": [
    "from collections import defaultdict\n",
    "@ray.remote\n",
    "class LoggingActor(object):\n",
    "    def __init__(self):\n",
    "        self.logs = defaultdict(list)\n",
    "    \n",
    "    def log(self, index, message):\n",
    "        self.logs[index].append(message)\n",
    "    \n",
    "    def get_logs(self):\n",
    "        return dict(self.logs)\n",
    "    \n",
    "@ray.remote\n",
    "def run_experiment(experiment_index, logging_actor):\n",
    "    for i in range(60):\n",
    "        time.sleep(1)\n",
    "        # Push a logging message to the actor.\n",
    "        logging_actor.log.remote(experiment_index, 'On iteration {}'.format(i))    "
   ]
  },
  {
   "cell_type": "code",
   "execution_count": null,
   "metadata": {},
   "outputs": [],
   "source": [
    "# logging_actor = # TODO Instantiate Actor here\n",
    "experiment_ids = []\n",
    "for i in range(3):\n",
    "    experiment_ids.append(run_experiment.remote(i, logging_actor))"
   ]
  },
  {
   "cell_type": "code",
   "execution_count": null,
   "metadata": {},
   "outputs": [],
   "source": [
    "logs = logging_actor.get_logs.remote()\n",
    "# TODO use ray.get() to fetch the logs"
   ]
  },
  {
   "cell_type": "markdown",
   "metadata": {},
   "source": [
    "---\n",
    "## References"
   ]
  },
  {
   "cell_type": "markdown",
   "metadata": {},
   "source": [
    " * [Writing your First Distributed Python Application with Ray](https://www.anyscale.com/blog/writing-your-first-distributed-python-application-with-ray)\n",
    " * [Using and Programming with Actors](https://docs.ray.io/en/latest/actors.html)\n",
    " * [Advanced Patterns and Anti-Patterns in Ray](https://docs.ray.io/en/latest/ray-design-patterns/index.htmlhttps://docs.ray.io/en/latest/ray-design-patterns/index.html)"
   ]
  }
 ],
 "metadata": {
  "kernelspec": {
   "display_name": "Python 3 (ipykernel)",
   "language": "python",
   "name": "python3"
  },
  "language_info": {
   "codemirror_mode": {
    "name": "ipython",
    "version": 3
   },
   "file_extension": ".py",
   "mimetype": "text/x-python",
   "name": "python",
   "nbconvert_exporter": "python",
   "pygments_lexer": "ipython3",
   "version": "3.8.12"
  }
 },
 "nbformat": 4,
 "nbformat_minor": 4
}
