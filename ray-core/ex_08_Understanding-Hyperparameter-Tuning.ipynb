{
 "cells": [
  {
   "cell_type": "markdown",
   "metadata": {},
   "source": [
    "# Ray Tune - A gentle introduction understanding hyperparameters optimization\n",
    "\n",
    "© 2019-2022, Anyscale. All Rights Reserved"
   ]
  },
  {
   "cell_type": "markdown",
   "metadata": {},
   "source": [
    "This lesson introduces the concepts of _Hyperparameter Tuning or Optimization_ (HPO) and works through a nontrivial example using Tune. \n",
    "\n",
    "\n",
    "### Learning Objective:\n",
    "In this introductory tutorial, you will:\n",
    " * understand the Ray tune concepts, components and architecture\n",
    " * how to use its API to tune distributed hyper-parameter optimzation\n",
    " * walk through a short example\n",
    "\n",
    "See also the [Hyperparameter Tuning References](References-Hyperparameter-Tuning.ipynb) notebook and the [Tune documentation](http://tune.io), in particular, the [API reference](https://docs.ray.io/en/latest/tune/api_docs/overview.html). "
   ]
  },
  {
   "cell_type": "markdown",
   "metadata": {},
   "source": [
    "## What Are Hyperparameters?\n",
    "\n",
    "In _supervised learning_, we train a model with labeled data so the model can properly label new data values. Everything about the model is defined by a set of _parameters_, such as the weights in a linear regression. \n",
    "\n",
    "In contrast, the _hyperparameters_<sup>1</sup> define structural details about the kind of model itself, like whether or not we are using a linear regression or what architecture is best for a neural network, etc. Other quantities considered hyperparameters include learning rates, discount rates, etc. If we want our training process and resulting model to work well, we first need to determine the optimal or near-optimal set of hyperparameters.\n",
    "\n",
    "How do we determine the optimal hyperparameters? The most straightfoward approach is to perform a loop where we pick a candidate set of values from some reasonably inclusive list of possible values, train a model, compare the results achieved with previous loop iterations, and pick the set that performed best. This process is called _Hyperparameter Tuning_ or _Optimization_ (HPO).\n",
    "\n",
    "This simple algorithm can quickly become very expensive, however. Training a single neural networks can be compute intensive and the space of all possible architectures is huge. Hence, much of the research in hyperparameter tuning, especially for neural networks, focuses on ways to optimize HPO, such as early stopping and pruning the search space when some combinations appear to perform poorly.\n",
    "\n",
    "1. _Hyperparameter_ is often spelled _hyper parameter_ or _hyper-parameter_, but we'll use the spelling with no space or dash.\n",
    "\n",
    "<img src=\"images/what-are-hyperparameters.png\" height=\"25%\" width=\"60%\">"
   ]
  },
  {
   "cell_type": "markdown",
   "metadata": {},
   "source": [
    "## A Simple Example: $k$-Means \n",
    "\n",
    "Let's start with a very simple example of HPO, finding $k$ in $k$-means. \n",
    "\n",
    "The $k$-means algorithm finds clusters in a data set. It's a canonical example of _unsupervised learning_, where information is extracted from a data set, rather than using labeled data to train a model for labelling new data, as in _supervised learning_. We won't discuss the algorithm details, but the essense of it involves a \"guess\" for the expected number of clusters, the $k$ value, then calculating $k$ centroids (the coordinates at the center), one per cluster, along with determining to which cluster each data point belongs. The details are in [$k$-means Wikipedia article](https://en.wikipedia.org/wiki/K-means_clustering). The following animation shows the algorithm in action for a two-dimensional data set where three clusters are evident.\n",
    "\n",
    "#### K-Means Convergence\n",
    "\n",
    "<img src=\"images/K-means_convergence.gif\">\n",
    "\n",
    "(source: [Wikipedia](https://en.wikipedia.org/wiki/K-means_clustering). [Larger Image](https://en.wikipedia.org/wiki/K-means_clustering#/media/File:K-means_convergence.gif))"
   ]
  },
  {
   "cell_type": "markdown",
   "metadata": {},
   "source": [
    "While it is easy to see the clusters in this two-dimensional data set, that won't be for arbitrary datasets, especially those with more than three dimensions. Hence, we should determine the best $k$ value by trying many values and picking the value that appears to be best. In this case, \"best\" would mean that we minimize the distances between the datapoints and centroids. \n",
    "\n",
    "With just one hyperparameter, this problem is comparatively simple and brute force calculations to find the optimal $k$ is usually good enough."
   ]
  },
  {
   "cell_type": "markdown",
   "metadata": {},
   "source": [
    "## HPO for Neural Networks\n",
    "\n",
    "Where HPO really becomes a challenge is finding the right neural network architecture for your problem. Why are neural networks a challenge? Consider this image of a typical architecture:\n",
    "\n",
    "<img src=\"images/hpo-neural-network-example.png\" height=\"25%\" width=\"60%\">\n",
    "\n",
    "Every number you see is a hyperparameter! So are the decisions about how many layers to have, what kind of layer to use for each layer, etc. The space of possible hyperparameters is enormous, too big to explore naively.\n",
    "\n",
    "So called _neural architecture search_ (NAS) has become a research field in its own right, along with general research in optimizing HPO. "
   ]
  },
  {
   "cell_type": "markdown",
   "metadata": {},
   "source": [
    "## Introduction to Ray Tune\n",
    "\n",
    "[Ray Tune](http://tune.io) is the Ray-based native library for hyperparameter tuning. Tune makes it nearly as easy to run distributed, parallelized HPO as it is to run trials on a single machine manually, one after the other. \n",
    "\n",
    "Tune is built as an extensible, pluggable framework, with built-in integrations for many frameworks, [PyTorch](https://pytorch.org), [TensorFlow](http://tensorflow.org), and recently, [sci-kit learn](https://scikit-learn.org/stable/) (see [this recent blog post](https://medium.com/distributed-computing-with-ray/gridsearchcv-2-0-new-and-improved-ee56644cbabf)).\n",
    "\n",
    "## How Tune Works\n",
    "\n",
    "Before we get into using Tune, let's understand the some definitions, terms, and components. With this understanding, you will get an insight into what happens when you use Tune to search your hyperparameter space and optimize your process to select the best, optimized model.\n",
    "\n",
    "<img src=\"https://docs.ray.io/en/latest/_images/tune_flow.png\" height=\"25%\" width=\"60%\">\n",
    "\n",
    "## Definitions\n",
    "\n",
    "Let's get an intuition of what those terms mean.  \n",
    "\n",
    "#### Trainable\n",
    "This is your training function, with an objective function. As [trainable](https://docs.ray.io/en/latest/tune/api_docs/trainable.html?highlight=trainable#ray.tune.Trainable), it's one of the argument to `tune.run(...)` method. Tune offers two iterface APIs for trainable: functional and class.\n",
    "\n",
    "#### Search Spaces\n",
    "To optimize your hyperparameters, you have to define a search space. A search space defines valid values for your hyperparameters and can specify how these values are sampled (e.g., from a uniform distribution or a normal distribution).\n",
    "\n",
    "#### Search Algorithms\n",
    "To optimize the hyperparameters of your training process, you use a Search Algorithm which suggests hyperparameter configurations. If you don’t specify a search algorithm, Tune will use random search by default, which can provide you with a good starting point for your hyperparameter optimization.\n",
    "\n",
    "#### Schedulers\n",
    "To make your training process more efficient, you can use a Trial Scheduler. For instance, in our trainable example minimizing a function in a training loop, we used tune.report(). This reported incremental results, given a hyperparameter configuration selected by a search algorithm. Based on these reported results, a Tune scheduler can decide whether to stop the trial early or not. If you don’t specify a scheduler, Tune will use a first-in-first-out (FIFO) scheduler by default, which simply passes through the trials selected by your search algorithm in the order they were picked and does not perform any early stopping.\n",
    "\n",
    "In short, schedulers can stop, pause, or tweak the hyperparameters of running trials, potentially making your hyperparameter tuning process much faster. Unlike search algorithms, Trial Scheduler do not select which hyperparameter configurations to evaluate.\n",
    "\n",
    "#### Trial\n",
    "\n",
    "A trial is an execution or run of a logical representation of a single hyperparameter configuration. Each trial is associated with an instance of a Trainable. And a collection of trials comprise an experiment.\n",
    "\n",
    "\n",
    "#### Lifecycle of a trial¶\n",
    "A trial’s life cycle consists of 6 stages:\n",
    "\n",
    "Initialization (generation): A trial is first generated as a hyperparameter sample, and its parameters are configured according to what was provided in `tune.run` as part of the `config` arggument. Trials are then placed into a queue to be executed (with status PENDING).\n",
    "\n",
    "**PENDING**: A pending trial is a trial to be executed on the machine. Every trial is configured with resource values. Whenever the trial’s resource values are available, tune will run the trial (by starting a ray actor holding the config and the training function).\n",
    "\n",
    "**RUNNING**: A running trial is assigned a Ray Actor. There can be multiple running trials in parallel.\n",
    "\n",
    "**ERRORED**: If a running trial throws an exception, Tune will catch that exception and mark the trial as errored. Note that exceptions can be propagated from an actor to the main Tune driver process. If `max_retries` is set, Tune will set the trial back into “PENDING” and later start it from the last checkpoint.\n",
    "\n",
    "**TERMINATED**: A trial is terminated if it is stopped or finished by a Stopper/Scheduler. If using the Function API, the trial is also terminated when the function stops.\n",
    "\n",
    "**PAUSED**: A trial can be paused by a Trial scheduler. This means that the trial’s actor will be stopped too. A paused trial can later be resumed from the most recent checkpoint.\n",
    "\n",
    "\n",
    "#### Driver/worker process\n",
    "\n",
    "The driver process is the python process that calls `tune.run` (which calls ray.init() underneath the hood); therefore, you\n",
    "do not need to invoke `ray.init(...)` explicity. Tune does it for you during its inital run. The Tune's driver process runs on the node where you run your script (which calls `tune.run`), while Ray Tune trainable “actors” run on any node (either on the same node on multiple cores) or on worker nodes (with multiple cores on a distributed Ray cluster).\n",
    "\n",
    "#### Ray Actors\n",
    "\n",
    "Tune uses Ray Actors as worker node's processes to evaluate multiple Trainables in parallel.\n",
    "\n",
    "[Ray Actors](https://docs.ray.io/en/latest/actors.html#actor-guide) allow you to parallelize an instance of a class in Python. When you instantiate a class that is a Ray actor, Ray will start a instance of that class on a separate process either on the same machine (or another distributed machine, if running a Ray cluster). This actor can then asynchronously execute method calls and maintain its own internal state.\n",
    "\n",
    "### The execution of a trainable¶\n",
    "Tune uses Ray actors to parallelize the evaluation of multiple hyperparameter configurations. Each actor is a Python process that executes an instance of the user-provided Trainable. The definition of the user-provided Trainable will be [serialized via cloudpickle](https://docs.ray.io/en/latest/serialization.html#serialization-guide) and sent to each actor process. Each Ray actor will start an instance of the Trainable to be executed.\n",
    "\n",
    "If the Trainable is a class, it will be executed iteratively by calling train/step. After each invocation, the driver is notified that a “result dict” is ready. The driver will then pull the result via `ray.get`.\n",
    "\n",
    "If the trainable is a callable or a function, it will be executed on the Ray actor process on a separate execution thread. Whenever `tune.report` is called, the execution thread is paused and waits for the driver to pull a result. After pulling, the actor’s execution thread will automatically resume.\n",
    "\n",
    "The diagram below depicts how Tune launches trainables on the worker nodes as processes in which the the trainables are run. \n",
    "Each trial will have its own instance of a trainable, hence we parallelize trials and its respective configuration across cores on a worker. \n",
    "\n",
    "<img src=\"images/ray_tune_report_launch_trainables.png\" height=\"25%\" width=\"60%\">\n",
    "\n",
    "Whenever the trainble calls `tune.report`, the driver will pull the metrics via `ray.get`, as shown in the diagram below.\n",
    "\n",
    "<img src=\"images/ray_tune_report_metrics.png\" height=\"25%\" width=\"60%\">\n",
    "\n",
    "\n",
    "Tune also integrates implementations of many state-of-the-art [search algorithms](https://docs.ray.io/en/latest/tune/key-concepts.html#search-algorithms) and [schedulers](https://docs.ray.io/en/latest/tune/key-concepts.html#schedulers), so it is easy to optimize your HPO process."
   ]
  },
  {
   "cell_type": "markdown",
   "metadata": {},
   "source": [
    "### Three simple steps to use Ray Tune"
   ]
  },
  {
   "cell_type": "code",
   "execution_count": 51,
   "metadata": {},
   "outputs": [],
   "source": [
    "import os\n",
    "import warnings\n",
    "import time\n",
    "import logging\n",
    "\n",
    "import ray\n",
    "from ray import tune"
   ]
  },
  {
   "cell_type": "code",
   "execution_count": 52,
   "metadata": {},
   "outputs": [],
   "source": [
    "warnings.filterwarnings(\"ignore\")\n",
    "os.environ[\"PYTHONWARNINGS\"] = \"ignore\""
   ]
  },
  {
   "cell_type": "code",
   "execution_count": 53,
   "metadata": {},
   "outputs": [
    {
     "name": "stdout",
     "output_type": "stream",
     "text": [
      "RayContext(dashboard_url='127.0.0.1:8267', python_version='3.8.13', ray_version='1.13.0', ray_commit='e4ce38d001dbbe09cd21c497fedd03d692b2be3e', address_info={'node_ip_address': '127.0.0.1', 'raylet_ip_address': '127.0.0.1', 'redis_address': None, 'object_store_address': '/tmp/ray/session_2022-06-16_16-01-47_593302_33905/sockets/plasma_store', 'raylet_socket_name': '/tmp/ray/session_2022-06-16_16-01-47_593302_33905/sockets/raylet', 'webui_url': '127.0.0.1:8267', 'session_dir': '/tmp/ray/session_2022-06-16_16-01-47_593302_33905', 'metrics_export_port': 57424, 'gcs_address': '127.0.0.1:57587', 'address': '127.0.0.1:57587', 'node_id': 'bbe5452153e7283c80e3cf149fa00ce0f32412f39a262b6e8533939b'})\n"
     ]
    }
   ],
   "source": [
    "if ray.is_initialized:\n",
    "    ray.shutdown()\n",
    "ctx = ray.init(logging_level=logging.ERROR)\n",
    "print(ctx)"
   ]
  },
  {
   "cell_type": "code",
   "execution_count": 54,
   "metadata": {},
   "outputs": [
    {
     "name": "stdout",
     "output_type": "stream",
     "text": [
      "Dashboard url: http://127.0.0.1:8267\n"
     ]
    }
   ],
   "source": [
    "print(f\"Dashboard url: http://{ctx.address_info['webui_url']}\")"
   ]
  },
  {
   "cell_type": "markdown",
   "metadata": {},
   "source": [
    "#### 1. Setup training using Trainable APIs\n",
    "\n",
    "Let's define our objective function"
   ]
  },
  {
   "cell_type": "code",
   "execution_count": 55,
   "metadata": {},
   "outputs": [],
   "source": [
    "def evaluation_fn(step, width, height):\n",
    "    time.sleep(0.1)\n",
    "    return (0.1 + width * step / 100)**(-1) + height * 0.1"
   ]
  },
  {
   "cell_type": "markdown",
   "metadata": {},
   "source": [
    "Next, we define a Trainable used by Tune using Tune's [Functional API](https://docs.ray.io/en/latest/tune/api_docs/trainable.html#function-api)"
   ]
  },
  {
   "cell_type": "code",
   "execution_count": 56,
   "metadata": {},
   "outputs": [],
   "source": [
    "def easy_objective(config):\n",
    "    # fetch our Hyperparameters sent as arguments\n",
    "    width, height = config[\"width\"], config[\"height\"]\n",
    "    # Iterate over number of steps\n",
    "    for step in range(config[\"steps\"]):\n",
    "        # Iterative training function - can be any arbitrary training procedure\n",
    "        # Here our objective function is the evaluation_fn\n",
    "        intermediate_score = evaluation_fn(step, width, height)\n",
    "        # Feed the score back back to Tune.\n",
    "        tune.report(iterations=step, mean_loss=intermediate_score)"
   ]
  },
  {
   "cell_type": "markdown",
   "metadata": {},
   "source": [
    "#### Step 2. Use tune API to execute tuning\n",
    "\n",
    "This will do a grid search over the activation parameter. This means that each of the two values (`relu` and `tanh`) will be sampled once for each sample (`num_samples`). We end up with `2 * N = 2N samples`, where is N is `num_samples`. The width and height parameters are sampled randomly. `steps` is a constant parameter.\n",
    "\n",
    "The `tune.run(...)` API returns a large [analysis](https://docs.ray.io/en/latest/tune/api_docs/analysis.html#analysis-tune-analysis) object."
   ]
  },
  {
   "cell_type": "code",
   "execution_count": 57,
   "metadata": {},
   "outputs": [
    {
     "data": {
      "text/html": [
       "== Status ==<br>Current time: 2022-06-16 16:01:59 (running for 00:00:06.67)<br>Memory usage on this node: 15.3/32.0 GiB<br>Using FIFO scheduling algorithm.<br>Resources requested: 0/12 CPUs, 0/0 GPUs, 0.0/15.21 GiB heap, 0.0/2.0 GiB objects<br>Current best trial: 4ff35_00007 with mean_loss=-4.946330135727665 and parameters={'steps': 5, 'width': 7.413264969884938, 'height': -74.68203612926789, 'activation': 'tanh'}<br>Result logdir: /Users/jules/ray_results/easy_objective_2022-06-16_16-01-53<br>Number of trials: 10/10 (10 TERMINATED)<br><br>"
      ],
      "text/plain": [
       "<IPython.core.display.HTML object>"
      ]
     },
     "metadata": {},
     "output_type": "display_data"
    }
   ],
   "source": [
    "analysis = tune.run(\n",
    "    easy_objective,\n",
    "    metric=\"mean_loss\",\n",
    "    mode=\"min\",\n",
    "    num_samples=5,\n",
    "    # Define our hypyerparameter search space\n",
    "    config={\n",
    "        \"steps\": 5,\n",
    "        \"width\": tune.uniform(0, 20),\n",
    "        \"height\": tune.uniform(-100, 100),\n",
    "        \"activation\": tune.grid_search([\"relu\", \"tanh\"]),\n",
    "    },\n",
    "    verbose=1\n",
    ")"
   ]
  },
  {
   "cell_type": "markdown",
   "metadata": {},
   "source": [
    "### Step 3. Analyse the results"
   ]
  },
  {
   "cell_type": "code",
   "execution_count": 58,
   "metadata": {},
   "outputs": [
    {
     "name": "stdout",
     "output_type": "stream",
     "text": [
      "Best hyperparameters found were:  {'steps': 5, 'width': 7.413264969884938, 'height': -74.68203612926789, 'activation': 'tanh'}\n"
     ]
    }
   ],
   "source": [
    "print(\"Best hyperparameters found were: \", analysis.best_config)"
   ]
  },
  {
   "cell_type": "code",
   "execution_count": 59,
   "metadata": {},
   "outputs": [
    {
     "data": {
      "text/html": [
       "<div>\n",
       "<style scoped>\n",
       "    .dataframe tbody tr th:only-of-type {\n",
       "        vertical-align: middle;\n",
       "    }\n",
       "\n",
       "    .dataframe tbody tr th {\n",
       "        vertical-align: top;\n",
       "    }\n",
       "\n",
       "    .dataframe thead th {\n",
       "        text-align: right;\n",
       "    }\n",
       "</style>\n",
       "<table border=\"1\" class=\"dataframe\">\n",
       "  <thead>\n",
       "    <tr style=\"text-align: right;\">\n",
       "      <th></th>\n",
       "      <th>iterations</th>\n",
       "      <th>mean_loss</th>\n",
       "      <th>time_this_iter_s</th>\n",
       "      <th>done</th>\n",
       "      <th>timesteps_total</th>\n",
       "      <th>episodes_total</th>\n",
       "      <th>training_iteration</th>\n",
       "      <th>neg_mean_loss</th>\n",
       "      <th>experiment_id</th>\n",
       "      <th>date</th>\n",
       "      <th>...</th>\n",
       "      <th>node_ip</th>\n",
       "      <th>time_since_restore</th>\n",
       "      <th>timesteps_since_restore</th>\n",
       "      <th>iterations_since_restore</th>\n",
       "      <th>warmup_time</th>\n",
       "      <th>experiment_tag</th>\n",
       "      <th>config.steps</th>\n",
       "      <th>config.width</th>\n",
       "      <th>config.height</th>\n",
       "      <th>config.activation</th>\n",
       "    </tr>\n",
       "    <tr>\n",
       "      <th>trial_id</th>\n",
       "      <th></th>\n",
       "      <th></th>\n",
       "      <th></th>\n",
       "      <th></th>\n",
       "      <th></th>\n",
       "      <th></th>\n",
       "      <th></th>\n",
       "      <th></th>\n",
       "      <th></th>\n",
       "      <th></th>\n",
       "      <th></th>\n",
       "      <th></th>\n",
       "      <th></th>\n",
       "      <th></th>\n",
       "      <th></th>\n",
       "      <th></th>\n",
       "      <th></th>\n",
       "      <th></th>\n",
       "      <th></th>\n",
       "      <th></th>\n",
       "      <th></th>\n",
       "    </tr>\n",
       "  </thead>\n",
       "  <tbody>\n",
       "    <tr>\n",
       "      <th>4ff35_00000</th>\n",
       "      <td>4</td>\n",
       "      <td>-3.935758</td>\n",
       "      <td>0.106224</td>\n",
       "      <td>True</td>\n",
       "      <td>None</td>\n",
       "      <td>None</td>\n",
       "      <td>5</td>\n",
       "      <td>3.935758</td>\n",
       "      <td>4c2f40dcb98e4ebfac139984d3da454b</td>\n",
       "      <td>2022-06-16_16-01-56</td>\n",
       "      <td>...</td>\n",
       "      <td>127.0.0.1</td>\n",
       "      <td>0.526359</td>\n",
       "      <td>0</td>\n",
       "      <td>5</td>\n",
       "      <td>0.002672</td>\n",
       "      <td>0_activation=relu,height=-54.5214,width=13.9866</td>\n",
       "      <td>5</td>\n",
       "      <td>13.986599</td>\n",
       "      <td>-54.521411</td>\n",
       "      <td>relu</td>\n",
       "    </tr>\n",
       "    <tr>\n",
       "      <th>4ff35_00001</th>\n",
       "      <td>4</td>\n",
       "      <td>3.065224</td>\n",
       "      <td>0.106327</td>\n",
       "      <td>True</td>\n",
       "      <td>None</td>\n",
       "      <td>None</td>\n",
       "      <td>5</td>\n",
       "      <td>-3.065224</td>\n",
       "      <td>272bf3e71fcc4d2486ecaf471cabdf8f</td>\n",
       "      <td>2022-06-16_16-01-59</td>\n",
       "      <td>...</td>\n",
       "      <td>127.0.0.1</td>\n",
       "      <td>0.529481</td>\n",
       "      <td>0</td>\n",
       "      <td>5</td>\n",
       "      <td>0.003904</td>\n",
       "      <td>1_activation=tanh,height=9.0552,width=9.0757</td>\n",
       "      <td>5</td>\n",
       "      <td>9.075680</td>\n",
       "      <td>9.055242</td>\n",
       "      <td>tanh</td>\n",
       "    </tr>\n",
       "    <tr>\n",
       "      <th>4ff35_00002</th>\n",
       "      <td>4</td>\n",
       "      <td>10.936879</td>\n",
       "      <td>0.104765</td>\n",
       "      <td>True</td>\n",
       "      <td>None</td>\n",
       "      <td>None</td>\n",
       "      <td>5</td>\n",
       "      <td>-10.936879</td>\n",
       "      <td>4ba206816a8c472c943d87a23f824b05</td>\n",
       "      <td>2022-06-16_16-01-59</td>\n",
       "      <td>...</td>\n",
       "      <td>127.0.0.1</td>\n",
       "      <td>0.526797</td>\n",
       "      <td>0</td>\n",
       "      <td>5</td>\n",
       "      <td>0.003277</td>\n",
       "      <td>2_activation=relu,height=93.2263,width=12.9871</td>\n",
       "      <td>5</td>\n",
       "      <td>12.987087</td>\n",
       "      <td>93.226312</td>\n",
       "      <td>relu</td>\n",
       "    </tr>\n",
       "    <tr>\n",
       "      <th>4ff35_00003</th>\n",
       "      <td>4</td>\n",
       "      <td>8.872950</td>\n",
       "      <td>0.103753</td>\n",
       "      <td>True</td>\n",
       "      <td>None</td>\n",
       "      <td>None</td>\n",
       "      <td>5</td>\n",
       "      <td>-8.872950</td>\n",
       "      <td>e64a1d9a559d416286d8600ef55f432b</td>\n",
       "      <td>2022-06-16_16-01-59</td>\n",
       "      <td>...</td>\n",
       "      <td>127.0.0.1</td>\n",
       "      <td>0.524727</td>\n",
       "      <td>0</td>\n",
       "      <td>5</td>\n",
       "      <td>0.004165</td>\n",
       "      <td>3_activation=tanh,height=32.9506,width=1.9820</td>\n",
       "      <td>5</td>\n",
       "      <td>1.981982</td>\n",
       "      <td>32.950597</td>\n",
       "      <td>tanh</td>\n",
       "    </tr>\n",
       "    <tr>\n",
       "      <th>4ff35_00004</th>\n",
       "      <td>4</td>\n",
       "      <td>2.702770</td>\n",
       "      <td>0.106062</td>\n",
       "      <td>True</td>\n",
       "      <td>None</td>\n",
       "      <td>None</td>\n",
       "      <td>5</td>\n",
       "      <td>-2.702770</td>\n",
       "      <td>ebe5cb9a14184de68a13cda15c286a95</td>\n",
       "      <td>2022-06-16_16-01-59</td>\n",
       "      <td>...</td>\n",
       "      <td>127.0.0.1</td>\n",
       "      <td>0.526744</td>\n",
       "      <td>0</td>\n",
       "      <td>5</td>\n",
       "      <td>0.003682</td>\n",
       "      <td>4_activation=relu,height=14.6591,width=17.7125</td>\n",
       "      <td>5</td>\n",
       "      <td>17.712473</td>\n",
       "      <td>14.659099</td>\n",
       "      <td>relu</td>\n",
       "    </tr>\n",
       "  </tbody>\n",
       "</table>\n",
       "<p>5 rows × 24 columns</p>\n",
       "</div>"
      ],
      "text/plain": [
       "             iterations  mean_loss  time_this_iter_s  done timesteps_total  \\\n",
       "trial_id                                                                     \n",
       "4ff35_00000           4  -3.935758          0.106224  True            None   \n",
       "4ff35_00001           4   3.065224          0.106327  True            None   \n",
       "4ff35_00002           4  10.936879          0.104765  True            None   \n",
       "4ff35_00003           4   8.872950          0.103753  True            None   \n",
       "4ff35_00004           4   2.702770          0.106062  True            None   \n",
       "\n",
       "            episodes_total  training_iteration  neg_mean_loss  \\\n",
       "trial_id                                                        \n",
       "4ff35_00000           None                   5       3.935758   \n",
       "4ff35_00001           None                   5      -3.065224   \n",
       "4ff35_00002           None                   5     -10.936879   \n",
       "4ff35_00003           None                   5      -8.872950   \n",
       "4ff35_00004           None                   5      -2.702770   \n",
       "\n",
       "                                experiment_id                 date  ...  \\\n",
       "trial_id                                                            ...   \n",
       "4ff35_00000  4c2f40dcb98e4ebfac139984d3da454b  2022-06-16_16-01-56  ...   \n",
       "4ff35_00001  272bf3e71fcc4d2486ecaf471cabdf8f  2022-06-16_16-01-59  ...   \n",
       "4ff35_00002  4ba206816a8c472c943d87a23f824b05  2022-06-16_16-01-59  ...   \n",
       "4ff35_00003  e64a1d9a559d416286d8600ef55f432b  2022-06-16_16-01-59  ...   \n",
       "4ff35_00004  ebe5cb9a14184de68a13cda15c286a95  2022-06-16_16-01-59  ...   \n",
       "\n",
       "               node_ip  time_since_restore  timesteps_since_restore  \\\n",
       "trial_id                                                              \n",
       "4ff35_00000  127.0.0.1            0.526359                        0   \n",
       "4ff35_00001  127.0.0.1            0.529481                        0   \n",
       "4ff35_00002  127.0.0.1            0.526797                        0   \n",
       "4ff35_00003  127.0.0.1            0.524727                        0   \n",
       "4ff35_00004  127.0.0.1            0.526744                        0   \n",
       "\n",
       "            iterations_since_restore warmup_time  \\\n",
       "trial_id                                           \n",
       "4ff35_00000                        5    0.002672   \n",
       "4ff35_00001                        5    0.003904   \n",
       "4ff35_00002                        5    0.003277   \n",
       "4ff35_00003                        5    0.004165   \n",
       "4ff35_00004                        5    0.003682   \n",
       "\n",
       "                                              experiment_tag  config.steps  \\\n",
       "trial_id                                                                     \n",
       "4ff35_00000  0_activation=relu,height=-54.5214,width=13.9866             5   \n",
       "4ff35_00001     1_activation=tanh,height=9.0552,width=9.0757             5   \n",
       "4ff35_00002   2_activation=relu,height=93.2263,width=12.9871             5   \n",
       "4ff35_00003    3_activation=tanh,height=32.9506,width=1.9820             5   \n",
       "4ff35_00004   4_activation=relu,height=14.6591,width=17.7125             5   \n",
       "\n",
       "             config.width  config.height config.activation  \n",
       "trial_id                                                    \n",
       "4ff35_00000     13.986599     -54.521411              relu  \n",
       "4ff35_00001      9.075680       9.055242              tanh  \n",
       "4ff35_00002     12.987087      93.226312              relu  \n",
       "4ff35_00003      1.981982      32.950597              tanh  \n",
       "4ff35_00004     17.712473      14.659099              relu  \n",
       "\n",
       "[5 rows x 24 columns]"
      ]
     },
     "execution_count": 59,
     "metadata": {},
     "output_type": "execute_result"
    }
   ],
   "source": [
    "analysis.results_df.head(5)"
   ]
  },
  {
   "cell_type": "markdown",
   "metadata": {},
   "source": [
    "### Ray Tune's TuneGridSearchCV and Scikit-Learn\n",
    "Basically, there are three basic steps or Ray Tune pattern for you as a newcomer to get started with using Ray Tune. We'll use a drop-in replacement for normal Scikit-learn's distributed `TuneGridSearchCV` \n",
    "\n",
    "See also the [Tune documentation](http://tune.io/), in particular, the [API reference](https://docs.ray.io/en/latest/tune/api_docs/overview.html)."
   ]
  },
  {
   "cell_type": "code",
   "execution_count": 60,
   "metadata": {},
   "outputs": [],
   "source": [
    "# Import Tune's replacement\n",
    "from ray.tune.sklearn import TuneGridSearchCV\n",
    "\n",
    "# Other relevant imports\n",
    "from sklearn.model_selection import train_test_split\n",
    "\n",
    "# Use the stochastic gradient descent (SGD) classifier\n",
    "from sklearn.linear_model import SGDClassifier\n",
    "\n",
    "# import the classification dataset\n",
    "from sklearn.datasets import make_classification\n",
    "import numpy as np"
   ]
  },
  {
   "cell_type": "markdown",
   "metadata": {},
   "source": [
    "### Create Feature Set\n",
    " * 250K rows\n",
    " * 250 features\n",
    " * 2 classes"
   ]
  },
  {
   "cell_type": "code",
   "execution_count": 61,
   "metadata": {},
   "outputs": [],
   "source": [
    "def create_classification_data() -> (np.ndarray, np.ndarray):\n",
    "    X, y = make_classification(\n",
    "        n_samples=250000,\n",
    "        n_features=250,\n",
    "        n_informative=50,\n",
    "        n_redundant=0,\n",
    "        n_classes=2,\n",
    "        class_sep=2.5)\n",
    "    return X, y\n",
    "\n",
    "X, y = create_classification_data()\n",
    "# Split the dataset into train and test sets\n",
    "x_train, x_test, y_train, y_test = train_test_split(X, y, test_size=10000)"
   ]
  },
  {
   "cell_type": "markdown",
   "metadata": {},
   "source": [
    "#### Step 1. Define parameter search space"
   ]
  },
  {
   "cell_type": "code",
   "execution_count": 62,
   "metadata": {},
   "outputs": [],
   "source": [
    "# Example parameters grid to tune from SGDClassifier\n",
    "parameter_grid = {\"alpha\": [1e-4, 1e-1, 1], \"epsilon\": [0.01, 0.1]}"
   ]
  },
  {
   "cell_type": "markdown",
   "metadata": {},
   "source": [
    "#### Step 2. Use Ray's Scikit-learn drop-in replacement TuneGridSearchCV\n",
    "\n",
    "Use all cores on a Ray Cluster (or local host) to tune\n",
    "\n",
    "The `early_stopping parameter` allows us to terminate unpromising configurations. If `early_stopping=True`, `TuneGridSearchCV` will default to using Tune’s `ASHAScheduler`. You can pass in a custom algorithm - see Tune’s documentation on schedulers here for a full list to choose from. \n",
    "\n",
    "`max_iters` is the maximum number of iterations a given hyperparameter set could run for; it may run for fewer iterations if it is early stopped."
   ]
  },
  {
   "cell_type": "code",
   "execution_count": 63,
   "metadata": {},
   "outputs": [],
   "source": [
    "# Now let's do with Tune's in-place replacement\n",
    "# Note: If early_stopping=True, TuneGridSearchCV will default to using Tune’s ASHAScheduler.\n",
    "tune_sklearn = TuneGridSearchCV(SGDClassifier(), \n",
    "                    parameter_grid,\n",
    "                    early_stopping=True,\n",
    "                    max_iters=30,\n",
    "                    n_jobs=-1,    # Use all cores if running on a cluster\n",
    "                    mode=\"min\",\n",
    "                    verbose=True)"
   ]
  },
  {
   "cell_type": "markdown",
   "metadata": {},
   "source": [
    "### Step 3. Run tune\n",
    "\n",
    "The `.fit()` under the hood will call tune"
   ]
  },
  {
   "cell_type": "code",
   "execution_count": 64,
   "metadata": {},
   "outputs": [
    {
     "data": {
      "text/html": [
       "== Status ==<br>Current time: 2022-06-16 16:03:03 (running for 00:00:47.53)<br>Memory usage on this node: 15.9/32.0 GiB<br>Using AsyncHyperBand: num_stopped=5\n",
       "Bracket: Iter 16.000: -0.9783875 | Iter 4.000: -0.9711510416666667 | Iter 1.000: -0.9771833333333333<br>Resources requested: 0/12 CPUs, 0/0 GPUs, 0.0/15.21 GiB heap, 0.0/2.0 GiB objects<br>Current best trial: 5d652_00003 with average_test_score=0.9753791666666667 and parameters={'early_stopping': True, 'early_stop_type': <EarlyStopping.PARTIAL_FIT: 1>, 'groups': None, 'cv': StratifiedKFold(n_splits=5, random_state=None, shuffle=False), 'fit_params': {}, 'scoring': {'score': <function _passthrough_scorer at 0x7fcb42c658b0>}, 'max_iters': 30, 'return_train_score': False, 'n_jobs': 1, 'metric_name': 'average_test_score', 'alpha': 0.0001, 'epsilon': 0.1}<br>Result logdir: /Users/jules/ray_results/_Trainable_2022-06-16_16-02-15<br>Number of trials: 6/6 (6 TERMINATED)<br><br>"
      ],
      "text/plain": [
       "<IPython.core.display.HTML object>"
      ]
     },
     "metadata": {},
     "output_type": "display_data"
    },
    {
     "data": {
      "text/html": [
       "<style>#sk-container-id-4 {color: black;background-color: white;}#sk-container-id-4 pre{padding: 0;}#sk-container-id-4 div.sk-toggleable {background-color: white;}#sk-container-id-4 label.sk-toggleable__label {cursor: pointer;display: block;width: 100%;margin-bottom: 0;padding: 0.3em;box-sizing: border-box;text-align: center;}#sk-container-id-4 label.sk-toggleable__label-arrow:before {content: \"▸\";float: left;margin-right: 0.25em;color: #696969;}#sk-container-id-4 label.sk-toggleable__label-arrow:hover:before {color: black;}#sk-container-id-4 div.sk-estimator:hover label.sk-toggleable__label-arrow:before {color: black;}#sk-container-id-4 div.sk-toggleable__content {max-height: 0;max-width: 0;overflow: hidden;text-align: left;background-color: #f0f8ff;}#sk-container-id-4 div.sk-toggleable__content pre {margin: 0.2em;color: black;border-radius: 0.25em;background-color: #f0f8ff;}#sk-container-id-4 input.sk-toggleable__control:checked~div.sk-toggleable__content {max-height: 200px;max-width: 100%;overflow: auto;}#sk-container-id-4 input.sk-toggleable__control:checked~label.sk-toggleable__label-arrow:before {content: \"▾\";}#sk-container-id-4 div.sk-estimator input.sk-toggleable__control:checked~label.sk-toggleable__label {background-color: #d4ebff;}#sk-container-id-4 div.sk-label input.sk-toggleable__control:checked~label.sk-toggleable__label {background-color: #d4ebff;}#sk-container-id-4 input.sk-hidden--visually {border: 0;clip: rect(1px 1px 1px 1px);clip: rect(1px, 1px, 1px, 1px);height: 1px;margin: -1px;overflow: hidden;padding: 0;position: absolute;width: 1px;}#sk-container-id-4 div.sk-estimator {font-family: monospace;background-color: #f0f8ff;border: 1px dotted black;border-radius: 0.25em;box-sizing: border-box;margin-bottom: 0.5em;}#sk-container-id-4 div.sk-estimator:hover {background-color: #d4ebff;}#sk-container-id-4 div.sk-parallel-item::after {content: \"\";width: 100%;border-bottom: 1px solid gray;flex-grow: 1;}#sk-container-id-4 div.sk-label:hover label.sk-toggleable__label {background-color: #d4ebff;}#sk-container-id-4 div.sk-serial::before {content: \"\";position: absolute;border-left: 1px solid gray;box-sizing: border-box;top: 0;bottom: 0;left: 50%;z-index: 0;}#sk-container-id-4 div.sk-serial {display: flex;flex-direction: column;align-items: center;background-color: white;padding-right: 0.2em;padding-left: 0.2em;position: relative;}#sk-container-id-4 div.sk-item {position: relative;z-index: 1;}#sk-container-id-4 div.sk-parallel {display: flex;align-items: stretch;justify-content: center;background-color: white;position: relative;}#sk-container-id-4 div.sk-item::before, #sk-container-id-4 div.sk-parallel-item::before {content: \"\";position: absolute;border-left: 1px solid gray;box-sizing: border-box;top: 0;bottom: 0;left: 50%;z-index: -1;}#sk-container-id-4 div.sk-parallel-item {display: flex;flex-direction: column;z-index: 1;position: relative;background-color: white;}#sk-container-id-4 div.sk-parallel-item:first-child::after {align-self: flex-end;width: 50%;}#sk-container-id-4 div.sk-parallel-item:last-child::after {align-self: flex-start;width: 50%;}#sk-container-id-4 div.sk-parallel-item:only-child::after {width: 0;}#sk-container-id-4 div.sk-dashed-wrapped {border: 1px dashed gray;margin: 0 0.4em 0.5em 0.4em;box-sizing: border-box;padding-bottom: 0.4em;background-color: white;}#sk-container-id-4 div.sk-label label {font-family: monospace;font-weight: bold;display: inline-block;line-height: 1.2em;}#sk-container-id-4 div.sk-label-container {text-align: center;}#sk-container-id-4 div.sk-container {/* jupyter's `normalize.less` sets `[hidden] { display: none; }` but bootstrap.min.css set `[hidden] { display: none !important; }` so we also need the `!important` here to be able to override the default hidden behavior on the sphinx rendered scikit-learn.org. See: https://github.com/scikit-learn/scikit-learn/issues/21755 */display: inline-block !important;position: relative;}#sk-container-id-4 div.sk-text-repr-fallback {display: none;}</style><div id=\"sk-container-id-4\" class=\"sk-top-container\"><div class=\"sk-text-repr-fallback\"><pre>TuneGridSearchCV(early_stopping=True, estimator=SGDClassifier(), max_iters=30,\n",
       "                 mode=&#x27;min&#x27;, n_jobs=-1,\n",
       "                 param_grid={&#x27;alpha&#x27;: [0.0001, 0.1, 1], &#x27;epsilon&#x27;: [0.01, 0.1]},\n",
       "                 sk_n_jobs=1, verbose=True)</pre><b>In a Jupyter environment, please rerun this cell to show the HTML representation or trust the notebook. <br />On GitHub, the HTML representation is unable to render, please try loading this page with nbviewer.org.</b></div><div class=\"sk-container\" hidden><div class=\"sk-item sk-dashed-wrapped\"><div class=\"sk-label-container\"><div class=\"sk-label sk-toggleable\"><input class=\"sk-toggleable__control sk-hidden--visually\" id=\"sk-estimator-id-10\" type=\"checkbox\" ><label for=\"sk-estimator-id-10\" class=\"sk-toggleable__label sk-toggleable__label-arrow\">TuneGridSearchCV</label><div class=\"sk-toggleable__content\"><pre>TuneGridSearchCV(early_stopping=True, estimator=SGDClassifier(), max_iters=30,\n",
       "                 mode=&#x27;min&#x27;, n_jobs=-1,\n",
       "                 param_grid={&#x27;alpha&#x27;: [0.0001, 0.1, 1], &#x27;epsilon&#x27;: [0.01, 0.1]},\n",
       "                 sk_n_jobs=1, verbose=True)</pre></div></div></div><div class=\"sk-parallel\"><div class=\"sk-parallel-item\"><div class=\"sk-item\"><div class=\"sk-label-container\"><div class=\"sk-label sk-toggleable\"><input class=\"sk-toggleable__control sk-hidden--visually\" id=\"sk-estimator-id-11\" type=\"checkbox\" ><label for=\"sk-estimator-id-11\" class=\"sk-toggleable__label sk-toggleable__label-arrow\">estimator: SGDClassifier</label><div class=\"sk-toggleable__content\"><pre>SGDClassifier()</pre></div></div></div><div class=\"sk-serial\"><div class=\"sk-item\"><div class=\"sk-estimator sk-toggleable\"><input class=\"sk-toggleable__control sk-hidden--visually\" id=\"sk-estimator-id-12\" type=\"checkbox\" ><label for=\"sk-estimator-id-12\" class=\"sk-toggleable__label sk-toggleable__label-arrow\">SGDClassifier</label><div class=\"sk-toggleable__content\"><pre>SGDClassifier()</pre></div></div></div></div></div></div></div></div></div></div>"
      ],
      "text/plain": [
       "TuneGridSearchCV(early_stopping=True, estimator=SGDClassifier(), max_iters=30,\n",
       "                 mode='min', n_jobs=-1,\n",
       "                 param_grid={'alpha': [0.0001, 0.1, 1], 'epsilon': [0.01, 0.1]},\n",
       "                 sk_n_jobs=1, verbose=True)"
      ]
     },
     "execution_count": 64,
     "metadata": {},
     "output_type": "execute_result"
    }
   ],
   "source": [
    "tune_sklearn.fit(x_train, y_train)"
   ]
  },
  {
   "cell_type": "code",
   "execution_count": 65,
   "metadata": {},
   "outputs": [
    {
     "name": "stdout",
     "output_type": "stream",
     "text": [
      "Ray Tune Scikit-learn TuneGridSearchCV Best params: {'alpha': 0.1, 'epsilon': 0.1}\n"
     ]
    }
   ],
   "source": [
    "print(f\"Ray Tune Scikit-learn TuneGridSearchCV Best params: {tune_sklearn.best_params}\")"
   ]
  },
  {
   "cell_type": "code",
   "execution_count": 66,
   "metadata": {},
   "outputs": [],
   "source": [
    "ray.shutdown()"
   ]
  }
 ],
 "metadata": {
  "kernelspec": {
   "display_name": "Python 3 (ipykernel)",
   "language": "python",
   "name": "python3"
  },
  "language_info": {
   "codemirror_mode": {
    "name": "ipython",
    "version": 3
   },
   "file_extension": ".py",
   "mimetype": "text/x-python",
   "name": "python",
   "nbconvert_exporter": "python",
   "pygments_lexer": "ipython3",
   "version": "3.8.13"
  }
 },
 "nbformat": 4,
 "nbformat_minor": 4
}
