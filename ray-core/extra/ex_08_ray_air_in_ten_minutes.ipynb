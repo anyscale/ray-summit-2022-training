{
 "cells": [
  {
   "cell_type": "markdown",
   "id": "d893ceac",
   "metadata": {},
   "source": [
    "## A gentle 10-minute primer to Ray AI Runitime (Ray AIR)\n",
    "\n",
    "© 2019-2022, Anyscale. All Rights Reserved\n",
    "\n",
    "📖 [Back to Table of Contents](./ex_00_tutorial_overview.ipynb)<br>\n",
    "⬅️ [Previous notebook](./ex_07_ray_data.ipynb) <br>\n",
    "\n",
    "### Overview\n",
    "\n",
    "As part of Ray 2.0, Ray AI Runtime (AIR) is an open-source and unified toolkit for building end-to-end simple and scalable ML applications. \n",
    "\n",
    "<img src = \"https://docs.ray.io/en/latest/_images/ray-air.svg\" width=\"60%\" height=\"30%\">\n",
    "\n",
    "Ray AI Runtime focuses on two functional aspects:\n",
    " * It provides scalability by leveraging Ray’s distributed compute layer for ML workloads.\n",
    " * It is designed to interoperate with other systems for storage and metadata needs.\n",
    "\n",
    "Ray AIR consists of five key components:\n",
    "\n",
    "<img src = \"../images/air_ml_workflow.png\" width=\"60%\" height=\"30%\">\n",
    "\n",
    " * Data processing ([Ray Data](https://docs.ray.io/en/latest/data/dataset.html))\n",
    " * Model Training ([Ray Train](https://docs.ray.io/en/latest/train/train.html))\n",
    " * Hyperparameter Tuning ([Ray Tune](https://docs.ray.io/en/latest/tune/index.html))\n",
    " * Model Serving ([Ray Serve](https://docs.ray.io/en/latest/serve/index.html)).\n",
    " * Reinforcement Learning ([Ray RLlib](https://docs.ray.io/en/latest/rllib/index.html))\n",
    " \n",
    " \n",
    "📖 [Back to Table of Contents](./ex_00_tutorial_overview.ipynb)<br>\n",
    "⬅️ [Previous notebook](./ex_07_ray_data.ipynb) <br>\n",
    " \n",
    "### Learning objectives:\n",
    "  * How to use Ray AIR as a unified toolkit to write an end-to-end ML application in a single Python script\n",
    "  * Use out-of-box Preprocessors\n",
    "  * Load model from the best model checkpoint and use for batch inference\n",
    "  * Deploy best checkpoint model and use for online inference"
   ]
  },
  {
   "cell_type": "code",
   "execution_count": 2,
   "id": "6a2f8cb6",
   "metadata": {},
   "outputs": [],
   "source": [
    "import logging, os, random, warnings\n",
    "import ray\n",
    "import pandas as pd"
   ]
  },
  {
   "cell_type": "code",
   "execution_count": 3,
   "id": "e9f07c2a",
   "metadata": {},
   "outputs": [],
   "source": [
    "warnings.filterwarnings(\"ignore\")\n",
    "os.environ[\"PYTHONWARNINGS\"] = \"ignore\""
   ]
  },
  {
   "cell_type": "code",
   "execution_count": 4,
   "id": "9d9a2a19",
   "metadata": {},
   "outputs": [
    {
     "data": {
      "text/html": [
       "<div>\n",
       "    <div style=\"margin-left: 50px;display: flex;flex-direction: row;align-items: center\">\n",
       "        <h3 style=\"color: var(--jp-ui-font-color0)\">Ray</h3>\n",
       "        <svg version=\"1.1\" id=\"ray\" width=\"3em\" viewBox=\"0 0 144.5 144.6\" style=\"margin-left: 3em;margin-right: 3em\">\n",
       "            <g id=\"layer-1\">\n",
       "                <path fill=\"#00a2e9\" class=\"st0\" d=\"M97.3,77.2c-3.8-1.1-6.2,0.9-8.3,5.1c-3.5,6.8-9.9,9.9-17.4,9.6S58,88.1,54.8,81.2c-1.4-3-3-4-6.3-4.1\n",
       "                    c-5.6-0.1-9.9,0.1-13.1,6.4c-3.8,7.6-13.6,10.2-21.8,7.6C5.2,88.4-0.4,80.5,0,71.7c0.1-8.4,5.7-15.8,13.8-18.2\n",
       "                    c8.4-2.6,17.5,0.7,22.3,8c1.3,1.9,1.3,5.2,3.6,5.6c3.9,0.6,8,0.2,12,0.2c1.8,0,1.9-1.6,2.4-2.8c3.5-7.8,9.7-11.8,18-11.9\n",
       "                    c8.2-0.1,14.4,3.9,17.8,11.4c1.3,2.8,2.9,3.6,5.7,3.3c1-0.1,2,0.1,3,0c2.8-0.5,6.4,1.7,8.1-2.7s-2.3-5.5-4.1-7.5\n",
       "                    c-5.1-5.7-10.9-10.8-16.1-16.3C84,38,81.9,37.1,78,38.3C66.7,42,56.2,35.7,53,24.1C50.3,14,57.3,2.8,67.7,0.5\n",
       "                    C78.4-2,89,4.7,91.5,15.3c0.1,0.3,0.1,0.5,0.2,0.8c0.7,3.4,0.7,6.9-0.8,9.8c-1.7,3.2-0.8,5,1.5,7.2c6.7,6.5,13.3,13,19.8,19.7\n",
       "                    c1.8,1.8,3,2.1,5.5,1.2c9.1-3.4,17.9-0.6,23.4,7c4.8,6.9,4.6,16.1-0.4,22.9c-5.4,7.2-14.2,9.9-23.1,6.5c-2.3-0.9-3.5-0.6-5.1,1.1\n",
       "                    c-6.7,6.9-13.6,13.7-20.5,20.4c-1.8,1.8-2.5,3.2-1.4,5.9c3.5,8.7,0.3,18.6-7.7,23.6c-7.9,5-18.2,3.8-24.8-2.9\n",
       "                    c-6.4-6.4-7.4-16.2-2.5-24.3c4.9-7.8,14.5-11,23.1-7.8c3,1.1,4.7,0.5,6.9-1.7C91.7,98.4,98,92.3,104.2,86c1.6-1.6,4.1-2.7,2.6-6.2\n",
       "                    c-1.4-3.3-3.8-2.5-6.2-2.6C99.8,77.2,98.9,77.2,97.3,77.2z M72.1,29.7c5.5,0.1,9.9-4.3,10-9.8c0-0.1,0-0.2,0-0.3\n",
       "                    C81.8,14,77,9.8,71.5,10.2c-5,0.3-9,4.2-9.3,9.2c-0.2,5.5,4,10.1,9.5,10.3C71.8,29.7,72,29.7,72.1,29.7z M72.3,62.3\n",
       "                    c-5.4-0.1-9.9,4.2-10.1,9.7c0,0.2,0,0.3,0,0.5c0.2,5.4,4.5,9.7,9.9,10c5.1,0.1,9.9-4.7,10.1-9.8c0.2-5.5-4-10-9.5-10.3\n",
       "                    C72.6,62.3,72.4,62.3,72.3,62.3z M115,72.5c0.1,5.4,4.5,9.7,9.8,9.9c5.6-0.2,10-4.8,10-10.4c-0.2-5.4-4.6-9.7-10-9.7\n",
       "                    c-5.3-0.1-9.8,4.2-9.9,9.5C115,72.1,115,72.3,115,72.5z M19.5,62.3c-5.4,0.1-9.8,4.4-10,9.8c-0.1,5.1,5.2,10.4,10.2,10.3\n",
       "                    c5.6-0.2,10-4.9,9.8-10.5c-0.1-5.4-4.5-9.7-9.9-9.6C19.6,62.3,19.5,62.3,19.5,62.3z M71.8,134.6c5.9,0.2,10.3-3.9,10.4-9.6\n",
       "                    c0.5-5.5-3.6-10.4-9.1-10.8c-5.5-0.5-10.4,3.6-10.8,9.1c0,0.5,0,0.9,0,1.4c-0.2,5.3,4,9.8,9.3,10\n",
       "                    C71.6,134.6,71.7,134.6,71.8,134.6z\"/>\n",
       "            </g>\n",
       "        </svg>\n",
       "        <table>\n",
       "            <tr>\n",
       "                <td style=\"text-align: left\"><b>Python version:</b></td>\n",
       "                <td style=\"text-align: left\"><b>3.8.13</b></td>\n",
       "            </tr>\n",
       "            <tr>\n",
       "                <td style=\"text-align: left\"><b>Ray version:</b></td>\n",
       "                <td style=\"text-align: left\"><b> 3.0.0.dev0</b></td>\n",
       "            </tr>\n",
       "            <tr>\n",
       "    <td style=\"text-align: left\"><b>Dashboard:</b></td>\n",
       "    <td style=\"text-align: left\"><b><a href=\"http://127.0.0.1:8266\" target=\"_blank\">http://127.0.0.1:8266</a></b></td>\n",
       "</tr>\n",
       "\n",
       "        </table>\n",
       "    </div>\n",
       "</div>\n"
      ],
      "text/plain": [
       "RayContext(dashboard_url='127.0.0.1:8266', python_version='3.8.13', ray_version='3.0.0.dev0', ray_commit='{{RAY_COMMIT_SHA}}', address_info={'node_ip_address': '127.0.0.1', 'raylet_ip_address': '127.0.0.1', 'redis_address': None, 'object_store_address': '/tmp/ray/session_2022-10-14_13-44-14_299567_87512/sockets/plasma_store', 'raylet_socket_name': '/tmp/ray/session_2022-10-14_13-44-14_299567_87512/sockets/raylet', 'webui_url': '127.0.0.1:8266', 'session_dir': '/tmp/ray/session_2022-10-14_13-44-14_299567_87512', 'metrics_export_port': 59868, 'gcs_address': '127.0.0.1:52654', 'address': '127.0.0.1:52654', 'dashboard_agent_listen_port': 52365, 'node_id': 'b74df5b303e952699599aa9660d7392271d77abc0ae5c132334378e2'})"
      ]
     },
     "execution_count": 4,
     "metadata": {},
     "output_type": "execute_result"
    }
   ],
   "source": [
    "if ray.is_initialized:\n",
    "    ray.shutdown()\n",
    "ray.init(logging_level=logging.ERROR)"
   ]
  },
  {
   "cell_type": "markdown",
   "id": "76f2eb29-e7be-4e84-96fc-76a0021b2a98",
   "metadata": {},
   "source": [
    "### End-to-end ML stages for a Ray AIR ML application\n",
    "\n",
    "<img src=\"../images/ray_air_pipeline.png\" width=\"50%\" height=\"25%\">"
   ]
  },
  {
   "cell_type": "markdown",
   "id": "b432675a",
   "metadata": {},
   "source": [
    "### 1. Create Ray data from an S3 CSV datasource"
   ]
  },
  {
   "cell_type": "code",
   "execution_count": 5,
   "id": "8794a93a",
   "metadata": {},
   "outputs": [
    {
     "name": "stderr",
     "output_type": "stream",
     "text": [
      "Map_Batches: 100%|████████████████████████████████████████████████████████████████████████████████████████████████████████████████████████| 1/1 [00:00<00:00, 49.15it/s]\n"
     ]
    }
   ],
   "source": [
    "dataset = ray.data.read_csv(\"s3://anonymous@air-example-data/breast_cancer.csv\")\n",
    "\n",
    "# Split data into train and validation.\n",
    "train_dataset, valid_dataset = dataset.train_test_split(test_size=0.3)\n",
    "test_dataset = valid_dataset.drop_columns([\"target\"])"
   ]
  },
  {
   "cell_type": "markdown",
   "id": "8fd637f4",
   "metadata": {},
   "source": [
    "### 2. Use out-of-the-box Preprocessors\n",
    "This preprocessor is automatically used in the training function to `fit` and `tranform` your datasets for training and validation. You don't have to explicitly call the preprocess before training or inference. Ray AIR toolkit automatically does that for you. \n",
    "\n",
    "<img src=\"../images/data_prep.png\" width=\"50%\" height=\"25%\">\n",
    "\n",
    "We are going to scaler a few features like `mean radius` and `mean texture`."
   ]
  },
  {
   "cell_type": "code",
   "execution_count": 6,
   "id": "84948e73",
   "metadata": {},
   "outputs": [],
   "source": [
    "from ray.data.preprocessors import StandardScaler\n",
    "\n",
    "# Create a preprocessor to scale some columns\n",
    "columns_to_scale = [\"mean radius\", \"mean texture\"]\n",
    "preprocessor = StandardScaler(columns=columns_to_scale)"
   ]
  },
  {
   "cell_type": "markdown",
   "id": "5b7f7511",
   "metadata": {},
   "source": [
    "### 3a. Use AIR Trainers for supported ML frameworks\n",
    "Use the Ray AIR trainer `XGBoostTrainer` with simple steps:\n",
    " 1. define the parallelism for Ray compute\n",
    " 2. define the XGBoost parameters for training\n",
    " 3. supply the preprocessor for fitting and transforming dataset during training and validation\n",
    " 4. provide the datasets for training and validation\n",
    " 5. invoke `trainer.fit()` \n",
    " \n",
    " <img src=\"../images/trainer.png\" width=\"50%\" height=\"25%\">\n",
    " \n",
    " Simple API that does a lot behind the scenes for you!"
   ]
  },
  {
   "cell_type": "code",
   "execution_count": 9,
   "id": "b860b16c",
   "metadata": {},
   "outputs": [],
   "source": [
    "from ray.air.config import ScalingConfig\n",
    "from ray.train.xgboost import XGBoostTrainer\n",
    "\n",
    "trainer = XGBoostTrainer(\n",
    "    scaling_config=ScalingConfig(\n",
    "        # Number of workers to use for data parallelism.\n",
    "        num_workers=2,\n",
    "        # Whether to use GPU acceleration.\n",
    "        use_gpu=False),\n",
    "    label_column=\"target\",\n",
    "    num_boost_round=20,\n",
    "    params={\n",
    "        # XGBoost specific params\n",
    "        \"objective\": \"binary:logistic\",\n",
    "        \"eval_metric\": [\"logloss\", \"error\"],\n",
    "    },\n",
    "    # our train and validation dataset and preprocessor\n",
    "    datasets={\"train\": train_dataset, \"valid\": valid_dataset},\n",
    "    preprocessor=preprocessor,\n",
    ")"
   ]
  },
  {
   "cell_type": "markdown",
   "id": "5859d859-977a-4f1b-bf2a-4ec2098c081c",
   "metadata": {},
   "source": [
    "##### Fit the trainer"
   ]
  },
  {
   "cell_type": "code",
   "execution_count": 10,
   "id": "d5618feb-86b5-46db-b6ab-0391de3ddd3a",
   "metadata": {},
   "outputs": [
    {
     "data": {
      "text/html": [
       "<div class=\"tuneStatus\">\n",
       "  <div style=\"display: flex;flex-direction: row\">\n",
       "    <div style=\"display: flex;flex-direction: column;\">\n",
       "      <h3>Tune Status</h3>\n",
       "      <table>\n",
       "<tbody>\n",
       "<tr><td>Current time:</td><td>2022-10-14 13:47:22</td></tr>\n",
       "<tr><td>Running for: </td><td>00:00:06.34        </td></tr>\n",
       "<tr><td>Memory:      </td><td>30.1/64.0 GiB      </td></tr>\n",
       "</tbody>\n",
       "</table>\n",
       "    </div>\n",
       "    <div class=\"vDivider\"></div>\n",
       "    <div class=\"systemInfo\">\n",
       "      <h3>System Info</h3>\n",
       "      Using FIFO scheduling algorithm.<br>Resources requested: 0/10 CPUs, 0/0 GPUs, 0.0/30.41 GiB heap, 0.0/2.0 GiB objects\n",
       "    </div>\n",
       "    \n",
       "  </div>\n",
       "  <div class=\"hDivider\"></div>\n",
       "  <div class=\"trialStatus\">\n",
       "    <h3>Trial Status</h3>\n",
       "    <table>\n",
       "<thead>\n",
       "<tr><th>Trial name                </th><th>status    </th><th>loc            </th><th style=\"text-align: right;\">  iter</th><th style=\"text-align: right;\">  total time (s)</th><th style=\"text-align: right;\">  train-logloss</th><th style=\"text-align: right;\">  train-error</th><th style=\"text-align: right;\">  valid-logloss</th></tr>\n",
       "</thead>\n",
       "<tbody>\n",
       "<tr><td>XGBoostTrainer_633df_00000</td><td>TERMINATED</td><td>127.0.0.1:92157</td><td style=\"text-align: right;\">    21</td><td style=\"text-align: right;\">         4.99818</td><td style=\"text-align: right;\">      0.0184957</td><td style=\"text-align: right;\">            0</td><td style=\"text-align: right;\">      0.0893879</td></tr>\n",
       "</tbody>\n",
       "</table>\n",
       "  </div>\n",
       "</div>\n",
       "<style>\n",
       ".tuneStatus {\n",
       "  color: var(--jp-ui-font-color1);\n",
       "}\n",
       ".tuneStatus .systemInfo {\n",
       "  display: flex;\n",
       "  flex-direction: column;\n",
       "}\n",
       ".tuneStatus td {\n",
       "  white-space: nowrap;\n",
       "}\n",
       ".tuneStatus .trialStatus {\n",
       "  display: flex;\n",
       "  flex-direction: column;\n",
       "}\n",
       ".tuneStatus h3 {\n",
       "  font-weight: bold;\n",
       "}\n",
       ".tuneStatus .hDivider {\n",
       "  border-bottom-width: var(--jp-border-width);\n",
       "  border-bottom-color: var(--jp-border-color0);\n",
       "  border-bottom-style: solid;\n",
       "}\n",
       ".tuneStatus .vDivider {\n",
       "  border-left-width: var(--jp-border-width);\n",
       "  border-left-color: var(--jp-border-color0);\n",
       "  border-left-style: solid;\n",
       "  margin: 0.5em 1em 0.5em 1em;\n",
       "}\n",
       "</style>\n"
      ],
      "text/plain": [
       "<IPython.core.display.HTML object>"
      ]
     },
     "metadata": {},
     "output_type": "display_data"
    },
    {
     "name": "stderr",
     "output_type": "stream",
     "text": [
      "\u001b[2m\u001b[36m(_RemoteRayXGBoostActor pid=92178)\u001b[0m [13:47:20] task [xgboost.ray]:4808387936 got new rank 1\n",
      "\u001b[2m\u001b[36m(_RemoteRayXGBoostActor pid=92177)\u001b[0m [13:47:20] task [xgboost.ray]:4755840448 got new rank 0\n"
     ]
    },
    {
     "data": {
      "text/html": [
       "<div class=\"trialProgress\">\n",
       "  <h3>Trial Progress</h3>\n",
       "  <table>\n",
       "<thead>\n",
       "<tr><th>Trial name                </th><th>date               </th><th>done  </th><th>episodes_total  </th><th>experiment_id                   </th><th style=\"text-align: right;\">  experiment_tag</th><th>hostname             </th><th style=\"text-align: right;\">  iterations_since_restore</th><th>node_ip  </th><th style=\"text-align: right;\">  pid</th><th>should_checkpoint  </th><th style=\"text-align: right;\">  time_since_restore</th><th style=\"text-align: right;\">  time_this_iter_s</th><th style=\"text-align: right;\">  time_total_s</th><th style=\"text-align: right;\">  timestamp</th><th style=\"text-align: right;\">  timesteps_since_restore</th><th>timesteps_total  </th><th style=\"text-align: right;\">  train-error</th><th style=\"text-align: right;\">  train-logloss</th><th style=\"text-align: right;\">  training_iteration</th><th>trial_id   </th><th style=\"text-align: right;\">  valid-error</th><th style=\"text-align: right;\">  valid-logloss</th><th style=\"text-align: right;\">  warmup_time</th></tr>\n",
       "</thead>\n",
       "<tbody>\n",
       "<tr><td>XGBoostTrainer_633df_00000</td><td>2022-10-14_13-47-22</td><td>True  </td><td>                </td><td>1e78f8922f2342bf880d0f73050358de</td><td style=\"text-align: right;\">               0</td><td>Juless-MacBook-Pro-16</td><td style=\"text-align: right;\">                        21</td><td>127.0.0.1</td><td style=\"text-align: right;\">92157</td><td>True               </td><td style=\"text-align: right;\">             4.99818</td><td style=\"text-align: right;\">            0.6509</td><td style=\"text-align: right;\">       4.99818</td><td style=\"text-align: right;\"> 1665780442</td><td style=\"text-align: right;\">                        0</td><td>                 </td><td style=\"text-align: right;\">            0</td><td style=\"text-align: right;\">      0.0184957</td><td style=\"text-align: right;\">                  21</td><td>633df_00000</td><td style=\"text-align: right;\">    0.0409357</td><td style=\"text-align: right;\">      0.0893879</td><td style=\"text-align: right;\">   0.00550771</td></tr>\n",
       "</tbody>\n",
       "</table>\n",
       "</div>\n",
       "<style>\n",
       ".trialProgress {\n",
       "  display: flex;\n",
       "  flex-direction: column;\n",
       "  color: var(--jp-ui-font-color1);\n",
       "}\n",
       ".trialProgress h3 {\n",
       "  font-weight: bold;\n",
       "}\n",
       ".trialProgress td {\n",
       "  white-space: nowrap;\n",
       "}\n",
       "</style>\n"
      ],
      "text/plain": [
       "<IPython.core.display.HTML object>"
      ]
     },
     "metadata": {},
     "output_type": "display_data"
    }
   ],
   "source": [
    "result = trainer.fit()\n",
    "# print(result.metrics)"
   ]
  },
  {
   "cell_type": "markdown",
   "id": "e78a135f",
   "metadata": {},
   "source": [
    "### 3b. Use AIR Tuner for hyperparameter search\n",
    "\n",
    "What if you want to do hyperparameter optimization during training and use the best config for the model? Well, you can then use Tuner and supply your training function, Trainer, as part of the argument, along \n",
    "with other Tuner configuration. \n",
    "\n",
    "<img src=\"../images/tuner.png\" width=\"50%\" height=\"25%\">\n",
    "Again, simple steps:\n",
    " 1. define your hyperparameter space\n",
    " 2. define `TuneConfig` for number of trials and parallelism \n",
    " 3. invoke `tuner.fit()`"
   ]
  },
  {
   "cell_type": "code",
   "execution_count": 11,
   "id": "6a59cf93",
   "metadata": {},
   "outputs": [],
   "source": [
    "from ray import tune\n",
    "\n",
    "param_space = {\"params\": {\"max_depth\": tune.randint(1, 9)}}\n",
    "metric = \"train-logloss\"\n",
    "our_mode=\"min\""
   ]
  },
  {
   "cell_type": "code",
   "execution_count": 12,
   "id": "28bd4cba",
   "metadata": {},
   "outputs": [
    {
     "data": {
      "text/html": [
       "<div class=\"tuneStatus\">\n",
       "  <div style=\"display: flex;flex-direction: row\">\n",
       "    <div style=\"display: flex;flex-direction: column;\">\n",
       "      <h3>Tune Status</h3>\n",
       "      <table>\n",
       "<tbody>\n",
       "<tr><td>Current time:</td><td>2022-10-14 13:51:39</td></tr>\n",
       "<tr><td>Running for: </td><td>00:00:13.13        </td></tr>\n",
       "<tr><td>Memory:      </td><td>29.9/64.0 GiB      </td></tr>\n",
       "</tbody>\n",
       "</table>\n",
       "    </div>\n",
       "    <div class=\"vDivider\"></div>\n",
       "    <div class=\"systemInfo\">\n",
       "      <h3>System Info</h3>\n",
       "      Using FIFO scheduling algorithm.<br>Resources requested: 0/10 CPUs, 0/0 GPUs, 0.0/30.41 GiB heap, 0.0/2.0 GiB objects\n",
       "    </div>\n",
       "    \n",
       "  </div>\n",
       "  <div class=\"hDivider\"></div>\n",
       "  <div class=\"trialStatus\">\n",
       "    <h3>Trial Status</h3>\n",
       "    <table>\n",
       "<thead>\n",
       "<tr><th>Trial name                </th><th>status    </th><th>loc            </th><th style=\"text-align: right;\">  params/max_depth</th><th style=\"text-align: right;\">  iter</th><th style=\"text-align: right;\">  total time (s)</th><th style=\"text-align: right;\">  train-logloss</th><th style=\"text-align: right;\">  train-error</th><th style=\"text-align: right;\">  valid-logloss</th></tr>\n",
       "</thead>\n",
       "<tbody>\n",
       "<tr><td>XGBoostTrainer_f84e5_00000</td><td>TERMINATED</td><td>127.0.0.1:92681</td><td style=\"text-align: right;\">                 1</td><td style=\"text-align: right;\">    21</td><td style=\"text-align: right;\">         3.99127</td><td style=\"text-align: right;\">      0.0955215</td><td style=\"text-align: right;\">    0.0175879</td><td style=\"text-align: right;\">      0.112007 </td></tr>\n",
       "<tr><td>XGBoostTrainer_f84e5_00001</td><td>TERMINATED</td><td>127.0.0.1:92691</td><td style=\"text-align: right;\">                 6</td><td style=\"text-align: right;\">    21</td><td style=\"text-align: right;\">         5.08396</td><td style=\"text-align: right;\">      0.0184957</td><td style=\"text-align: right;\">    0        </td><td style=\"text-align: right;\">      0.0893879</td></tr>\n",
       "<tr><td>XGBoostTrainer_f84e5_00002</td><td>TERMINATED</td><td>127.0.0.1:92692</td><td style=\"text-align: right;\">                 6</td><td style=\"text-align: right;\">    21</td><td style=\"text-align: right;\">         5.10759</td><td style=\"text-align: right;\">      0.0184957</td><td style=\"text-align: right;\">    0        </td><td style=\"text-align: right;\">      0.0893879</td></tr>\n",
       "<tr><td>XGBoostTrainer_f84e5_00003</td><td>TERMINATED</td><td>127.0.0.1:92752</td><td style=\"text-align: right;\">                 3</td><td style=\"text-align: right;\">    21</td><td style=\"text-align: right;\">         5.00233</td><td style=\"text-align: right;\">      0.0215151</td><td style=\"text-align: right;\">    0        </td><td style=\"text-align: right;\">      0.0765915</td></tr>\n",
       "<tr><td>XGBoostTrainer_f84e5_00004</td><td>TERMINATED</td><td>127.0.0.1:92783</td><td style=\"text-align: right;\">                 1</td><td style=\"text-align: right;\">    21</td><td style=\"text-align: right;\">         2.98231</td><td style=\"text-align: right;\">      0.0955215</td><td style=\"text-align: right;\">    0.0175879</td><td style=\"text-align: right;\">      0.112007 </td></tr>\n",
       "</tbody>\n",
       "</table>\n",
       "  </div>\n",
       "</div>\n",
       "<style>\n",
       ".tuneStatus {\n",
       "  color: var(--jp-ui-font-color1);\n",
       "}\n",
       ".tuneStatus .systemInfo {\n",
       "  display: flex;\n",
       "  flex-direction: column;\n",
       "}\n",
       ".tuneStatus td {\n",
       "  white-space: nowrap;\n",
       "}\n",
       ".tuneStatus .trialStatus {\n",
       "  display: flex;\n",
       "  flex-direction: column;\n",
       "}\n",
       ".tuneStatus h3 {\n",
       "  font-weight: bold;\n",
       "}\n",
       ".tuneStatus .hDivider {\n",
       "  border-bottom-width: var(--jp-border-width);\n",
       "  border-bottom-color: var(--jp-border-color0);\n",
       "  border-bottom-style: solid;\n",
       "}\n",
       ".tuneStatus .vDivider {\n",
       "  border-left-width: var(--jp-border-width);\n",
       "  border-left-color: var(--jp-border-color0);\n",
       "  border-left-style: solid;\n",
       "  margin: 0.5em 1em 0.5em 1em;\n",
       "}\n",
       "</style>\n"
      ],
      "text/plain": [
       "<IPython.core.display.HTML object>"
      ]
     },
     "metadata": {},
     "output_type": "display_data"
    },
    {
     "name": "stderr",
     "output_type": "stream",
     "text": [
      "\u001b[2m\u001b[36m(_RemoteRayXGBoostActor pid=92698)\u001b[0m [13:51:29] task [xgboost.ray]:4901727584 got new rank 1\n",
      "\u001b[2m\u001b[36m(_RemoteRayXGBoostActor pid=92697)\u001b[0m [13:51:29] task [xgboost.ray]:4877151584 got new rank 0\n"
     ]
    },
    {
     "data": {
      "text/html": [
       "<div class=\"trialProgress\">\n",
       "  <h3>Trial Progress</h3>\n",
       "  <table>\n",
       "<thead>\n",
       "<tr><th>Trial name                </th><th>date               </th><th>done  </th><th>episodes_total  </th><th>experiment_id                   </th><th>experiment_tag  </th><th>hostname             </th><th style=\"text-align: right;\">  iterations_since_restore</th><th>node_ip  </th><th style=\"text-align: right;\">  pid</th><th>should_checkpoint  </th><th style=\"text-align: right;\">  time_since_restore</th><th style=\"text-align: right;\">  time_this_iter_s</th><th style=\"text-align: right;\">  time_total_s</th><th style=\"text-align: right;\">  timestamp</th><th style=\"text-align: right;\">  timesteps_since_restore</th><th>timesteps_total  </th><th style=\"text-align: right;\">  train-error</th><th style=\"text-align: right;\">  train-logloss</th><th style=\"text-align: right;\">  training_iteration</th><th>trial_id   </th><th style=\"text-align: right;\">  valid-error</th><th style=\"text-align: right;\">  valid-logloss</th><th style=\"text-align: right;\">  warmup_time</th></tr>\n",
       "</thead>\n",
       "<tbody>\n",
       "<tr><td>XGBoostTrainer_f84e5_00000</td><td>2022-10-14_13-51-31</td><td>True  </td><td>                </td><td>38b9027795a94b0fa10e7609135f7b87</td><td>0_max_depth=1   </td><td>Juless-MacBook-Pro-16</td><td style=\"text-align: right;\">                        21</td><td>127.0.0.1</td><td style=\"text-align: right;\">92681</td><td>True               </td><td style=\"text-align: right;\">             3.99127</td><td style=\"text-align: right;\">         0.648581 </td><td style=\"text-align: right;\">       3.99127</td><td style=\"text-align: right;\"> 1665780691</td><td style=\"text-align: right;\">                        0</td><td>                 </td><td style=\"text-align: right;\">    0.0175879</td><td style=\"text-align: right;\">      0.0955215</td><td style=\"text-align: right;\">                  21</td><td>f84e5_00000</td><td style=\"text-align: right;\">    0.0292398</td><td style=\"text-align: right;\">      0.112007 </td><td style=\"text-align: right;\">   0.00591516</td></tr>\n",
       "<tr><td>XGBoostTrainer_f84e5_00001</td><td>2022-10-14_13-51-33</td><td>True  </td><td>                </td><td>e9aa8736e89040c9820818fbab30abd6</td><td>1_max_depth=6   </td><td>Juless-MacBook-Pro-16</td><td style=\"text-align: right;\">                        21</td><td>127.0.0.1</td><td style=\"text-align: right;\">92691</td><td>True               </td><td style=\"text-align: right;\">             5.08396</td><td style=\"text-align: right;\">         0.865617 </td><td style=\"text-align: right;\">       5.08396</td><td style=\"text-align: right;\"> 1665780693</td><td style=\"text-align: right;\">                        0</td><td>                 </td><td style=\"text-align: right;\">    0        </td><td style=\"text-align: right;\">      0.0184957</td><td style=\"text-align: right;\">                  21</td><td>f84e5_00001</td><td style=\"text-align: right;\">    0.0409357</td><td style=\"text-align: right;\">      0.0893879</td><td style=\"text-align: right;\">   0.00583005</td></tr>\n",
       "<tr><td>XGBoostTrainer_f84e5_00002</td><td>2022-10-14_13-51-34</td><td>True  </td><td>                </td><td>3143aa960bac43c8bee8e6cb324f09f9</td><td>2_max_depth=6   </td><td>Juless-MacBook-Pro-16</td><td style=\"text-align: right;\">                        21</td><td>127.0.0.1</td><td style=\"text-align: right;\">92692</td><td>True               </td><td style=\"text-align: right;\">             5.10759</td><td style=\"text-align: right;\">         0.895789 </td><td style=\"text-align: right;\">       5.10759</td><td style=\"text-align: right;\"> 1665780694</td><td style=\"text-align: right;\">                        0</td><td>                 </td><td style=\"text-align: right;\">    0        </td><td style=\"text-align: right;\">      0.0184957</td><td style=\"text-align: right;\">                  21</td><td>f84e5_00002</td><td style=\"text-align: right;\">    0.0409357</td><td style=\"text-align: right;\">      0.0893879</td><td style=\"text-align: right;\">   0.00528216</td></tr>\n",
       "<tr><td>XGBoostTrainer_f84e5_00003</td><td>2022-10-14_13-51-38</td><td>True  </td><td>                </td><td>2bf046e02ab841bfbbf025600ddd8edf</td><td>3_max_depth=3   </td><td>Juless-MacBook-Pro-16</td><td style=\"text-align: right;\">                        21</td><td>127.0.0.1</td><td style=\"text-align: right;\">92752</td><td>True               </td><td style=\"text-align: right;\">             5.00233</td><td style=\"text-align: right;\">         0.894817 </td><td style=\"text-align: right;\">       5.00233</td><td style=\"text-align: right;\"> 1665780698</td><td style=\"text-align: right;\">                        0</td><td>                 </td><td style=\"text-align: right;\">    0        </td><td style=\"text-align: right;\">      0.0215151</td><td style=\"text-align: right;\">                  21</td><td>f84e5_00003</td><td style=\"text-align: right;\">    0.0350877</td><td style=\"text-align: right;\">      0.0765915</td><td style=\"text-align: right;\">   0.00592518</td></tr>\n",
       "<tr><td>XGBoostTrainer_f84e5_00004</td><td>2022-10-14_13-51-39</td><td>True  </td><td>                </td><td>1faf62ec280e45729cbd9aae10a9206c</td><td>4_max_depth=1   </td><td>Juless-MacBook-Pro-16</td><td style=\"text-align: right;\">                        21</td><td>127.0.0.1</td><td style=\"text-align: right;\">92783</td><td>True               </td><td style=\"text-align: right;\">             2.98231</td><td style=\"text-align: right;\">         0.0774159</td><td style=\"text-align: right;\">       2.98231</td><td style=\"text-align: right;\"> 1665780699</td><td style=\"text-align: right;\">                        0</td><td>                 </td><td style=\"text-align: right;\">    0.0175879</td><td style=\"text-align: right;\">      0.0955215</td><td style=\"text-align: right;\">                  21</td><td>f84e5_00004</td><td style=\"text-align: right;\">    0.0292398</td><td style=\"text-align: right;\">      0.112007 </td><td style=\"text-align: right;\">   0.00568128</td></tr>\n",
       "</tbody>\n",
       "</table>\n",
       "</div>\n",
       "<style>\n",
       ".trialProgress {\n",
       "  display: flex;\n",
       "  flex-direction: column;\n",
       "  color: var(--jp-ui-font-color1);\n",
       "}\n",
       ".trialProgress h3 {\n",
       "  font-weight: bold;\n",
       "}\n",
       ".trialProgress td {\n",
       "  white-space: nowrap;\n",
       "}\n",
       "</style>\n"
      ],
      "text/plain": [
       "<IPython.core.display.HTML object>"
      ]
     },
     "metadata": {},
     "output_type": "display_data"
    },
    {
     "name": "stderr",
     "output_type": "stream",
     "text": [
      "\u001b[2m\u001b[36m(_RemoteRayXGBoostActor pid=92712)\u001b[0m [13:51:31] task [xgboost.ray]:5132070240 got new rank 1\n",
      "\u001b[2m\u001b[36m(_RemoteRayXGBoostActor pid=92711)\u001b[0m [13:51:31] task [xgboost.ray]:4899118576 got new rank 0\n",
      "\u001b[2m\u001b[36m(_RemoteRayXGBoostActor pid=92716)\u001b[0m [13:51:31] task [xgboost.ray]:5013737040 got new rank 1\n",
      "\u001b[2m\u001b[36m(_RemoteRayXGBoostActor pid=92715)\u001b[0m [13:51:31] task [xgboost.ray]:5240561136 got new rank 0\n",
      "\u001b[2m\u001b[36m(_RemoteRayXGBoostActor pid=92765)\u001b[0m [13:51:35] task [xgboost.ray]:5120585008 got new rank 1\n",
      "\u001b[2m\u001b[36m(_RemoteRayXGBoostActor pid=92764)\u001b[0m [13:51:35] task [xgboost.ray]:4725759520 got new rank 0\n",
      "\u001b[2m\u001b[36m(_RemoteRayXGBoostActor pid=92789)\u001b[0m [13:51:37] task [xgboost.ray]:4764458576 got new rank 0\n",
      "\u001b[2m\u001b[36m(_RemoteRayXGBoostActor pid=92790)\u001b[0m [13:51:37] task [xgboost.ray]:4757744752 got new rank 1\n"
     ]
    }
   ],
   "source": [
    "from ray.tune.tuner import Tuner, TuneConfig\n",
    "from ray.air.config import RunConfig\n",
    "\n",
    "tuner = Tuner(\n",
    "    trainer,\n",
    "    param_space=param_space,\n",
    "    tune_config=TuneConfig(num_samples=5, metric=metric, mode=our_mode),\n",
    ")\n",
    "# Execute tuning.\n",
    "result_grid = tuner.fit()"
   ]
  },
  {
   "cell_type": "code",
   "execution_count": 13,
   "id": "51a76225-e44b-46f3-845d-d91220ba5fa1",
   "metadata": {},
   "outputs": [
    {
     "name": "stdout",
     "output_type": "stream",
     "text": [
      "Best Result: Result(metrics={'train-logloss': 0.01849572773292735, 'train-error': 0.0, 'valid-logloss': 0.08938791319913073, 'valid-error': 0.04093567251461988, 'should_checkpoint': True, 'done': True, 'trial_id': 'f84e5_00001', 'experiment_tag': '1_max_depth=6'}, error=None, log_dir=PosixPath('/Users/jules/ray_results/XGBoostTrainer_2022-10-14_13-51-26/XGBoostTrainer_f84e5_00001_1_max_depth=6_2022-10-14_13-51-27'))\n"
     ]
    }
   ],
   "source": [
    "# Fetch the best result with its best hyperparameter config \n",
    "best_result = result_grid.get_best_result()\n",
    "print(\"Best Result:\", best_result)"
   ]
  },
  {
   "cell_type": "markdown",
   "id": "fb15b435-5114-46e9-bed8-2c9b2d823150",
   "metadata": {},
   "source": [
    "### Ray AIR Checkpoints\n",
    "\n",
    "The AIR trainers, tuners, and custom pretrained model generate Checkpoints. An AIR Checkpoint is a format for models that are used across different components of the Ray AI Runtime. This common format allows easy interoperability among AIR components and seamless integration with external supported machine learning frameworks. Read more\n",
    "about [Checkpoints]().\n",
    "\n",
    "<img src=\"../images/checkpoints.jpeg\" height=\"25%\" and width=\"50%\"> "
   ]
  },
  {
   "cell_type": "markdown",
   "id": "e0714de2",
   "metadata": {},
   "source": [
    "### 4. Use AIR `BatchPreditor` for batch prediction\n",
    "Once you have trained and tuned your model, create a batch predictor from best model using the `best_result.checkpoint` and do batch inference. \n",
    "\n",
    "<img src=\"../images/batch_predictor.png\" height=\"25%\" and width=\"50%\"> "
   ]
  },
  {
   "cell_type": "code",
   "execution_count": 15,
   "id": "72b605fc",
   "metadata": {},
   "outputs": [
    {
     "name": "stderr",
     "output_type": "stream",
     "text": [
      "Map Progress (1 actors 0 pending): 100%|██████████████████████████████████████████████████████████████████████████████████████████████████| 1/1 [00:00<00:00,  1.49it/s]"
     ]
    },
    {
     "name": "stdout",
     "output_type": "stream",
     "text": [
      "PREDICTED PROBABILITIES\n",
      "{'predictions': 0.9964648485183716}\n",
      "{'predictions': 0.9951295852661133}\n",
      "{'predictions': 0.0037899704184383154}\n",
      "{'predictions': 0.9964648485183716}\n",
      "{'predictions': 0.9969868063926697}\n",
      "{'predictions': 0.9947494864463806}\n",
      "{'predictions': 0.9899886250495911}\n",
      "{'predictions': 0.9952162504196167}\n",
      "{'predictions': 0.3375702202320099}\n",
      "{'predictions': 0.9766711592674255}\n",
      "{'predictions': 0.0037899704184383154}\n",
      "{'predictions': 0.9948934316635132}\n",
      "{'predictions': 0.9472665786743164}\n",
      "{'predictions': 0.989780068397522}\n",
      "{'predictions': 0.9952002763748169}\n",
      "{'predictions': 0.18953870236873627}\n",
      "{'predictions': 0.2149435132741928}\n",
      "{'predictions': 0.99428790807724}\n",
      "{'predictions': 0.9890844225883484}\n",
      "{'predictions': 0.0037899704184383154}\n"
     ]
    },
    {
     "name": "stderr",
     "output_type": "stream",
     "text": [
      "\n"
     ]
    }
   ],
   "source": [
    "from ray.train.batch_predictor import BatchPredictor\n",
    "from ray.train.xgboost import XGBoostPredictor\n",
    "\n",
    "batch_predictor = BatchPredictor.from_checkpoint(best_result.checkpoint, XGBoostPredictor)\n",
    "\n",
    "predicted_probabilities = batch_predictor.predict(test_dataset)\n",
    "print(\"PREDICTED PROBABILITIES\")\n",
    "predicted_probabilities.show()"
   ]
  },
  {
   "cell_type": "markdown",
   "id": "262d4a87",
   "metadata": {},
   "source": [
    "### 5. Use `PredictorDeployment` for online inference\n",
    "\n",
    "Deploy the best model as an inference service by using Ray Serve and the `PredictorDeployment` class.\n",
    "\n",
    "<img src=\"../images/online_predictor.png\" height=\"25%\" and width=\"50%\">"
   ]
  },
  {
   "cell_type": "code",
   "execution_count": 16,
   "id": "f8ab0ec7-2858-4ced-94cd-e055828a7a69",
   "metadata": {},
   "outputs": [
    {
     "name": "stderr",
     "output_type": "stream",
     "text": [
      "\u001b[2m\u001b[36m(ServeController pid=93079)\u001b[0m INFO 2022-10-14 13:54:53,208 controller 93079 http_state.py:129 - Starting HTTP proxy with name 'SERVE_CONTROLLER_ACTOR:SERVE_PROXY_ACTOR-b74df5b303e952699599aa9660d7392271d77abc0ae5c132334378e2' on node 'b74df5b303e952699599aa9660d7392271d77abc0ae5c132334378e2' listening on '127.0.0.1:8000'\n",
      "\u001b[2m\u001b[36m(HTTPProxyActor pid=93081)\u001b[0m INFO:     Started server process [93081]\n",
      "\u001b[2m\u001b[36m(ServeController pid=93079)\u001b[0m INFO 2022-10-14 13:54:53,927 controller 93079 deployment_state.py:1310 - Adding 2 replicas to deployment 'XGBoostService'.\n"
     ]
    },
    {
     "data": {
      "text/plain": [
       "RayServeSyncHandle(deployment='XGBoostService')"
      ]
     },
     "execution_count": 16,
     "metadata": {},
     "output_type": "execute_result"
    }
   ],
   "source": [
    "from ray import serve\n",
    "from fastapi import Request\n",
    "from ray.serve import PredictorDeployment\n",
    "from ray.serve.http_adapters import pandas_read_json\n",
    "\n",
    "serve.run(\n",
    "    PredictorDeployment.options(name=\"XGBoostService\", num_replicas=2, route_prefix=\"/rayair\").bind(\n",
    "        XGBoostPredictor, result.checkpoint, http_adapter=pandas_read_json\n",
    "    )\n",
    ")"
   ]
  },
  {
   "cell_type": "markdown",
   "id": "7f463546",
   "metadata": {},
   "source": [
    "After deploying the service, you can send requests to it."
   ]
  },
  {
   "cell_type": "code",
   "execution_count": 17,
   "id": "1ed9ae80",
   "metadata": {},
   "outputs": [
    {
     "name": "stdout",
     "output_type": "stream",
     "text": [
      "[{'predictions': 0.9964648485183716}]\n"
     ]
    },
    {
     "name": "stderr",
     "output_type": "stream",
     "text": [
      "\u001b[2m\u001b[36m(HTTPProxyActor pid=93081)\u001b[0m INFO 2022-10-14 13:54:59,008 http_proxy 127.0.0.1 http_proxy.py:315 - POST /rayair 307 11.4ms\n",
      "\u001b[2m\u001b[36m(HTTPProxyActor pid=93081)\u001b[0m INFO 2022-10-14 13:54:59,029 http_proxy 127.0.0.1 http_proxy.py:315 - POST /rayair 200 16.8ms\n",
      "\u001b[2m\u001b[36m(ServeReplica:XGBoostService pid=93084)\u001b[0m INFO 2022-10-14 13:54:59,028 XGBoostService XGBoostService#bukdMN replica.py:505 - HANDLE __call__ OK 13.4ms\n",
      "\u001b[2m\u001b[36m(ServeReplica:XGBoostService pid=93083)\u001b[0m INFO 2022-10-14 13:54:59,006 XGBoostService XGBoostService#zKpBjc replica.py:505 - HANDLE __call__ OK 0.3ms\n"
     ]
    }
   ],
   "source": [
    "import requests\n",
    "\n",
    "sample_input = test_dataset.take(1)\n",
    "sample_input = dict(sample_input[0])\n",
    "\n",
    "output = requests.post(\"http://localhost:8000/rayair\", json=[sample_input]).json()\n",
    "print(output)"
   ]
  },
  {
   "cell_type": "code",
   "execution_count": 18,
   "id": "e61bfda4",
   "metadata": {},
   "outputs": [],
   "source": [
    "ray.shutdown()"
   ]
  },
  {
   "cell_type": "markdown",
   "id": "623f655d",
   "metadata": {},
   "source": [
    "### Homework\n",
    "\n",
    "1. Have a go at Ray AIR examples in the documentation."
   ]
  },
  {
   "cell_type": "markdown",
   "id": "8bbf1bb5-78bb-4d17-a7fe-47e81960a5f3",
   "metadata": {},
   "source": [
    " 📖 [Back to Table of Contents](./ex_00_tutorial_overview.ipynb)<br>\n",
    "⬅️ [Previous notebook](./ex_07_ray_data.ipynb) <br>\n",
    "\n",
    "Done! 🍻\n",
    " "
   ]
  }
 ],
 "metadata": {
  "kernelspec": {
   "display_name": "Python 3 (ipykernel)",
   "language": "python",
   "name": "python3"
  },
  "language_info": {
   "codemirror_mode": {
    "name": "ipython",
    "version": 3
   },
   "file_extension": ".py",
   "mimetype": "text/x-python",
   "name": "python",
   "nbconvert_exporter": "python",
   "pygments_lexer": "ipython3",
   "version": "3.8.13"
  }
 },
 "nbformat": 4,
 "nbformat_minor": 5
}
