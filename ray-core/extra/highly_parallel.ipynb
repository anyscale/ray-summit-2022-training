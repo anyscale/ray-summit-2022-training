{
 "cells": [
  {
   "cell_type": "markdown",
   "id": "515dffba",
   "metadata": {},
   "source": [
    "# Using Ray for Highly Parallelizable Tasks\n",
    "\n",
    "While Ray can be used for very complex parallelization tasks,\n",
    "often we just want to do something simple in parallel.\n",
    "For example, we may have 100,000 time series to process with exactly the same algorithm,\n",
    "and each one takes a minute of processing.\n",
    "\n",
    "Clearly running it on a single processor is prohibitive: this would take 70 days.\n",
    "Even if we managed to use 8 processors on a single machine,\n",
    "that would bring it down to 9 days. But if we can use 8 machines, each with 16 cores,\n",
    "it can be done in about 12 hours.\n",
    "\n",
    "How can we use Ray for these types of task? \n",
    "\n",
    "## Let's try to compute the value of PI\n",
    "\n",
    "\n",
    "We take the simple example of computing the digits of pi using the [monte carlo](https://www.geeksforgeeks.org/estimating-value-pi-using-monte-carlo/) approach.\n",
    "The algorithm is simple: generate random x and y, and if ``x^2 + y^2 < 1``, it's\n",
    "inside the circle, we count as in. This actually turns out to be pi/4\n",
    "(remembering your high school math).\n",
    "\n",
    "<img src=\"https://media.geeksforgeeks.org/wp-content/uploads/MonteCarlo.png\" width=\"60%\" height=\"30%\">\n",
    "\n",
    "The following code (and this notebook) assumes you have already set up your Ray cluster and that you are running on the head node. For more details on how to set up a Ray cluster please see the [Ray Cluster Quickstart Guide](https://docs.ray.io/en/master/cluster/quickstart.html). \n"
   ]
  },
  {
   "cell_type": "code",
   "execution_count": 1,
   "id": "8e3e7c4f",
   "metadata": {},
   "outputs": [],
   "source": [
    "import os\n",
    "import time\n",
    "import logging\n",
    "from pprint import pprint\n",
    "\n",
    "import ray\n",
    "import random\n",
    "import math\n",
    "from fractions import Fraction"
   ]
  },
  {
   "cell_type": "code",
   "execution_count": 2,
   "id": "92d2461b",
   "metadata": {
    "scrolled": true,
    "tags": [
     "remove-output"
    ]
   },
   "outputs": [
    {
     "data": {
      "text/html": [
       "<div>\n",
       "    <div style=\"margin-left: 50px;display: flex;flex-direction: row;align-items: center\">\n",
       "        <h3 style=\"color: var(--jp-ui-font-color0)\">Ray</h3>\n",
       "        <svg version=\"1.1\" id=\"ray\" width=\"3em\" viewBox=\"0 0 144.5 144.6\" style=\"margin-left: 3em;margin-right: 3em\">\n",
       "            <g id=\"layer-1\">\n",
       "                <path fill=\"#00a2e9\" class=\"st0\" d=\"M97.3,77.2c-3.8-1.1-6.2,0.9-8.3,5.1c-3.5,6.8-9.9,9.9-17.4,9.6S58,88.1,54.8,81.2c-1.4-3-3-4-6.3-4.1\n",
       "                    c-5.6-0.1-9.9,0.1-13.1,6.4c-3.8,7.6-13.6,10.2-21.8,7.6C5.2,88.4-0.4,80.5,0,71.7c0.1-8.4,5.7-15.8,13.8-18.2\n",
       "                    c8.4-2.6,17.5,0.7,22.3,8c1.3,1.9,1.3,5.2,3.6,5.6c3.9,0.6,8,0.2,12,0.2c1.8,0,1.9-1.6,2.4-2.8c3.5-7.8,9.7-11.8,18-11.9\n",
       "                    c8.2-0.1,14.4,3.9,17.8,11.4c1.3,2.8,2.9,3.6,5.7,3.3c1-0.1,2,0.1,3,0c2.8-0.5,6.4,1.7,8.1-2.7s-2.3-5.5-4.1-7.5\n",
       "                    c-5.1-5.7-10.9-10.8-16.1-16.3C84,38,81.9,37.1,78,38.3C66.7,42,56.2,35.7,53,24.1C50.3,14,57.3,2.8,67.7,0.5\n",
       "                    C78.4-2,89,4.7,91.5,15.3c0.1,0.3,0.1,0.5,0.2,0.8c0.7,3.4,0.7,6.9-0.8,9.8c-1.7,3.2-0.8,5,1.5,7.2c6.7,6.5,13.3,13,19.8,19.7\n",
       "                    c1.8,1.8,3,2.1,5.5,1.2c9.1-3.4,17.9-0.6,23.4,7c4.8,6.9,4.6,16.1-0.4,22.9c-5.4,7.2-14.2,9.9-23.1,6.5c-2.3-0.9-3.5-0.6-5.1,1.1\n",
       "                    c-6.7,6.9-13.6,13.7-20.5,20.4c-1.8,1.8-2.5,3.2-1.4,5.9c3.5,8.7,0.3,18.6-7.7,23.6c-7.9,5-18.2,3.8-24.8-2.9\n",
       "                    c-6.4-6.4-7.4-16.2-2.5-24.3c4.9-7.8,14.5-11,23.1-7.8c3,1.1,4.7,0.5,6.9-1.7C91.7,98.4,98,92.3,104.2,86c1.6-1.6,4.1-2.7,2.6-6.2\n",
       "                    c-1.4-3.3-3.8-2.5-6.2-2.6C99.8,77.2,98.9,77.2,97.3,77.2z M72.1,29.7c5.5,0.1,9.9-4.3,10-9.8c0-0.1,0-0.2,0-0.3\n",
       "                    C81.8,14,77,9.8,71.5,10.2c-5,0.3-9,4.2-9.3,9.2c-0.2,5.5,4,10.1,9.5,10.3C71.8,29.7,72,29.7,72.1,29.7z M72.3,62.3\n",
       "                    c-5.4-0.1-9.9,4.2-10.1,9.7c0,0.2,0,0.3,0,0.5c0.2,5.4,4.5,9.7,9.9,10c5.1,0.1,9.9-4.7,10.1-9.8c0.2-5.5-4-10-9.5-10.3\n",
       "                    C72.6,62.3,72.4,62.3,72.3,62.3z M115,72.5c0.1,5.4,4.5,9.7,9.8,9.9c5.6-0.2,10-4.8,10-10.4c-0.2-5.4-4.6-9.7-10-9.7\n",
       "                    c-5.3-0.1-9.8,4.2-9.9,9.5C115,72.1,115,72.3,115,72.5z M19.5,62.3c-5.4,0.1-9.8,4.4-10,9.8c-0.1,5.1,5.2,10.4,10.2,10.3\n",
       "                    c5.6-0.2,10-4.9,9.8-10.5c-0.1-5.4-4.5-9.7-9.9-9.6C19.6,62.3,19.5,62.3,19.5,62.3z M71.8,134.6c5.9,0.2,10.3-3.9,10.4-9.6\n",
       "                    c0.5-5.5-3.6-10.4-9.1-10.8c-5.5-0.5-10.4,3.6-10.8,9.1c0,0.5,0,0.9,0,1.4c-0.2,5.3,4,9.8,9.3,10\n",
       "                    C71.6,134.6,71.7,134.6,71.8,134.6z\"/>\n",
       "            </g>\n",
       "        </svg>\n",
       "        <table>\n",
       "            <tr>\n",
       "                <td style=\"text-align: left\"><b>Python version:</b></td>\n",
       "                <td style=\"text-align: left\"><b>3.8.13</b></td>\n",
       "            </tr>\n",
       "            <tr>\n",
       "                <td style=\"text-align: left\"><b>Ray version:</b></td>\n",
       "                <td style=\"text-align: left\"><b> 3.0.0.dev0</b></td>\n",
       "            </tr>\n",
       "            <tr>\n",
       "    <td style=\"text-align: left\"><b>Dashboard:</b></td>\n",
       "    <td style=\"text-align: left\"><b><a href=\"http://127.0.0.1:8275\" target=\"_blank\">http://127.0.0.1:8275</a></b></td>\n",
       "</tr>\n",
       "\n",
       "        </table>\n",
       "    </div>\n",
       "</div>\n"
      ],
      "text/plain": [
       "RayContext(dashboard_url='127.0.0.1:8275', python_version='3.8.13', ray_version='3.0.0.dev0', ray_commit='{{RAY_COMMIT_SHA}}', address_info={'node_ip_address': '127.0.0.1', 'raylet_ip_address': '127.0.0.1', 'redis_address': None, 'object_store_address': '/tmp/ray/session_2022-07-29_10-29-06_803251_3157/sockets/plasma_store', 'raylet_socket_name': '/tmp/ray/session_2022-07-29_10-29-06_803251_3157/sockets/raylet', 'webui_url': '127.0.0.1:8275', 'session_dir': '/tmp/ray/session_2022-07-29_10-29-06_803251_3157', 'metrics_export_port': 63330, 'gcs_address': '127.0.0.1:63039', 'address': '127.0.0.1:63039', 'dashboard_agent_listen_port': 52365, 'node_id': '53ede002efae2e3dd98eecf7a36dfb38808e064bc1f160ecafe3af69'})"
      ]
     },
     "execution_count": 2,
     "metadata": {},
     "output_type": "execute_result"
    }
   ],
   "source": [
    "if ray.is_initialized:\n",
    "    ray.shutdown()\n",
    "ray.init(logging_level=logging.ERROR)"
   ]
  },
  {
   "cell_type": "markdown",
   "id": "b96f2eb9",
   "metadata": {},
   "source": [
    "We use the ``@ray.remote`` decorator to create a Ray task.\n",
    "A task is like a function, except the result is returned asynchronously.\n",
    "\n",
    "It also may not run on the local machine, it may run elsewhere in the cluster.\n",
    "This way you can run multiple tasks in parallel,\n",
    "beyond the limit of the number of processors you can have in a single machine."
   ]
  },
  {
   "cell_type": "code",
   "execution_count": 4,
   "id": "ece9887c",
   "metadata": {},
   "outputs": [],
   "source": [
    "@ray.remote\n",
    "def pi4_sample(sample_count):\n",
    "    \"\"\"pi4_sample runs sample_count experiments, and returns the \n",
    "    fraction of time it was inside the circle. \n",
    "    \"\"\"\n",
    "    in_count = 0\n",
    "    for i in range(sample_count):\n",
    "        x = random.random()\n",
    "        y = random.random()\n",
    "        if x*x + y*y <= 1:\n",
    "            in_count += 1\n",
    "    return Fraction(in_count, sample_count)\n"
   ]
  },
  {
   "cell_type": "markdown",
   "id": "05bf8675",
   "metadata": {},
   "source": [
    "To get the result of a future, we use `ray.get()` which \n",
    "blocks until the result is complete. "
   ]
  },
  {
   "cell_type": "code",
   "execution_count": 5,
   "id": "9d9a3509",
   "metadata": {},
   "outputs": [
    {
     "name": "stdout",
     "output_type": "stream",
     "text": [
      "Running 1000000 tests took 0.23054122924804688 seconds\n"
     ]
    }
   ],
   "source": [
    "SAMPLE_COUNT = 1000 * 1000\n",
    "start = time.time() \n",
    "future = pi4_sample.remote(sample_count = SAMPLE_COUNT)\n",
    "pi4 = ray.get(future)\n",
    "end = time.time()\n",
    "dur = end - start\n",
    "print(f'Running {SAMPLE_COUNT} tests took {dur} seconds')"
   ]
  },
  {
   "cell_type": "markdown",
   "id": "cc17429d",
   "metadata": {},
   "source": [
    "Now let's see how good our approximation is."
   ]
  },
  {
   "cell_type": "code",
   "execution_count": 6,
   "id": "42d4c464",
   "metadata": {},
   "outputs": [],
   "source": [
    "pi = pi4 * 4"
   ]
  },
  {
   "cell_type": "code",
   "execution_count": 7,
   "id": "4009bee0",
   "metadata": {},
   "outputs": [
    {
     "name": "stdout",
     "output_type": "stream",
     "text": [
      " Our computed PI: 3.143848; real PI: 3.141592653589793\n"
     ]
    }
   ],
   "source": [
    "print(f\" Our computed PI: {float(pi)}; real PI: {math.pi}\")"
   ]
  },
  {
   "cell_type": "code",
   "execution_count": 8,
   "id": "d19155d6",
   "metadata": {},
   "outputs": [
    {
     "data": {
      "text/plain": [
       "0.0007173840498036425"
      ]
     },
     "execution_count": 8,
     "metadata": {},
     "output_type": "execute_result"
    }
   ],
   "source": [
    "abs(pi-math.pi)/pi"
   ]
  },
  {
   "cell_type": "markdown",
   "id": "ddb3b095",
   "metadata": {},
   "source": [
    "Meh. A little off -- that's barely 4 decimal places.\n",
    "Why don't we do it a 100,000 times as much? Let's do 100 billion!\n",
    "`FULL_SAMPLE_COUNT = 100 * 1000 * 1000 * 1000 # 100 billion samples!` may take a while. \n",
    "\n",
    "Let's try with `1, 2 and 3b` and observe each value.\n"
   ]
  },
  {
   "cell_type": "code",
   "execution_count": 9,
   "id": "b7b9cff9",
   "metadata": {},
   "outputs": [
    {
     "name": "stdout",
     "output_type": "stream",
     "text": [
      "Doing 1000 batches\n",
      "Running 1000000 tests took 18.984688997268677 seconds\n"
     ]
    }
   ],
   "source": [
    "FULL_SAMPLE_COUNT = 1 * 1000 * 1000 * 1000 # 1 billion samples! \n",
    "start = time.time()\n",
    "BATCHES = int(FULL_SAMPLE_COUNT / SAMPLE_COUNT)\n",
    "print(f'Doing {BATCHES} batches')\n",
    "results = []\n",
    "for _ in range(BATCHES):\n",
    "    results.append(pi4_sample.remote(sample_count = SAMPLE_COUNT))\n",
    "output = ray.get(results)\n",
    "end = time.time()\n",
    "dur = end - start\n",
    "print(f'Running {SAMPLE_COUNT} tests took {dur} seconds')"
   ]
  },
  {
   "cell_type": "markdown",
   "id": "94264de4",
   "metadata": {},
   "source": [
    "Notice that in the above, we generated a list with 100,000 futures.\n",
    "Now all we do is have to do is wait for the result.\n",
    "\n",
    "Depending on your ray cluster's size, this might take a few minutes.\n",
    "But to give you some idea, if we were to do it on a single machine,\n",
    "when we ran this, it took 0.4 seconds.\n",
    "\n",
    "On a single core, that means we're looking at 0.4 * 100000 = about 11 hours. \n",
    "\n",
    "So now, rather than just a single core working on this, we have all our cores working on the task together (depending on the number cores on each worker node). "
   ]
  },
  {
   "cell_type": "code",
   "execution_count": 10,
   "id": "76eba02d",
   "metadata": {},
   "outputs": [],
   "source": [
    "pi = sum(output)*4/len(output)"
   ]
  },
  {
   "cell_type": "code",
   "execution_count": 11,
   "id": "ede2bd8c",
   "metadata": {},
   "outputs": [
    {
     "data": {
      "text/plain": [
       "3.141610228"
      ]
     },
     "execution_count": 11,
     "metadata": {},
     "output_type": "execute_result"
    }
   ],
   "source": [
    "float(pi)"
   ]
  },
  {
   "cell_type": "code",
   "execution_count": 12,
   "id": "bb62cb27",
   "metadata": {},
   "outputs": [
    {
     "data": {
      "text/plain": [
       "5.5940772187563095e-06"
      ]
     },
     "execution_count": 12,
     "metadata": {},
     "output_type": "execute_result"
    }
   ],
   "source": [
    "float(abs(pi-math.pi)/pi)"
   ]
  },
  {
   "cell_type": "markdown",
   "id": "30d12e50",
   "metadata": {},
   "source": [
    "Not bad at all -- we're off by a millionth. "
   ]
  }
 ],
 "metadata": {
  "celltoolbar": "Tags",
  "kernelspec": {
   "display_name": "Python 3 (ipykernel)",
   "language": "python",
   "name": "python3"
  },
  "language_info": {
   "codemirror_mode": {
    "name": "ipython",
    "version": 3
   },
   "file_extension": ".py",
   "mimetype": "text/x-python",
   "name": "python",
   "nbconvert_exporter": "python",
   "pygments_lexer": "ipython3",
   "version": "3.8.13"
  }
 },
 "nbformat": 4,
 "nbformat_minor": 5
}
