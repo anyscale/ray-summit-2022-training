{
 "cells": [
  {
   "cell_type": "markdown",
   "id": "44e5740d-f196-4df3-80ca-bb1124d9f7ce",
   "metadata": {
    "tags": []
   },
   "source": [
    "# A Guided Tour of Ray Core: Multiprocessing Pool\n",
    "\n",
    "© 2019-2022, Anyscale. All Rights Reserved\n",
    "\n",
    "### Scaling CPU bound tasks using four different strategies:\n",
    "\n",
    " 1. A serial approach for a CPU bound task\n",
    " 2. A multi-threaded approach for a CPU bound task\n",
    " 3. A multiprocess approach for a CPU bound task\n",
    " 4. A Ray distributed multiprocess appraoch for a CPU bound task\n",
    " \n",
    "### Learning objectives:\n",
    " * Understand various strategies for scaling CPU bound tasks\n",
    " * Undertand the pros and cons of each"
   ]
  },
  {
   "cell_type": "code",
   "execution_count": 46,
   "id": "a1a32dd3-8db7-4466-9599-c1a5a8db8a4f",
   "metadata": {},
   "outputs": [],
   "source": [
    "import concurrent.futures as mt\n",
    "import multiprocessing as mp\n",
    "import time\n",
    "import ray\n",
    "from ray.util.multiprocessing import Pool\n",
    "from defs import get_cpu_count, is_prime"
   ]
  },
  {
   "cell_type": "code",
   "execution_count": 47,
   "id": "813f8492-7228-458a-84e9-a3ee518b6d6d",
   "metadata": {},
   "outputs": [],
   "source": [
    "num = 2000000"
   ]
  },
  {
   "cell_type": "markdown",
   "id": "3c2cee83-c7c3-4209-a887-9a592bb4f138",
   "metadata": {},
   "source": [
    "### 1. A serial approach for a CPU bound task"
   ]
  },
  {
   "cell_type": "code",
   "execution_count": 48,
   "id": "07d8b3f1-520f-4f8b-9aab-f1d6ef4cb3de",
   "metadata": {},
   "outputs": [
    {
     "name": "stdout",
     "output_type": "stream",
     "text": [
      "Serial access: Time elapsed: 6.21 sec to compute all primes in 2000000 are 148935 \n"
     ]
    }
   ],
   "source": [
    "start = time.time()\n",
    "prime_numbers = [n for n in range(num) if is_prime(n)]\n",
    "end = time.time()\n",
    "print(f\"Serial access: Time elapsed: {end - start:4.2f} sec to compute all primes in {num} are {len(prime_numbers)} \")"
   ]
  },
  {
   "cell_type": "markdown",
   "id": "1d8ea837-b47d-47ca-acca-a352eedc660c",
   "metadata": {},
   "source": [
    "### 2. A multi-threaded approach for a CPU bound task\n",
    "\n",
    "Python comes with the Global Interpreter Lock (GIL). While you can spawn as many threas, Python the GIL ensures that only one of those threads will ever be executing at any given time. For a CPU bound process, you'll only have a single thread execute, meaning only a single thread will execute computing a prime number.\n",
    "\n",
    "**Note**: The duration is longer than serial approach."
   ]
  },
  {
   "cell_type": "code",
   "execution_count": 49,
   "id": "709537ac-5850-484f-b8e3-e2cb88cb14c9",
   "metadata": {},
   "outputs": [
    {
     "data": {
      "text/plain": [
       "10"
      ]
     },
     "execution_count": 49,
     "metadata": {},
     "output_type": "execute_result"
    }
   ],
   "source": [
    "cpu_count = get_cpu_count()\n",
    "cpu_count"
   ]
  },
  {
   "cell_type": "code",
   "execution_count": 50,
   "id": "6a8f1fc1-a545-421d-991b-ca9e9eaf2c57",
   "metadata": {},
   "outputs": [
    {
     "name": "stdout",
     "output_type": "stream",
     "text": [
      "Multi Threaded access: Time elapsed: 25.01 sec to compute all primes in 2000000 are 148935\n"
     ]
    }
   ],
   "source": [
    "start = time.time()\n",
    "with mt.ThreadPoolExecutor(cpu_count) as executor:\n",
    "    prime_numbers = executor.map(is_prime, list(range(num)))\n",
    "end = time.time()\n",
    "print(f\"Multi Threaded access: Time elapsed: {end - start:4.2f} sec to compute all primes in {num} are {sum(list(prime_numbers))}\")"
   ]
  },
  {
   "cell_type": "markdown",
   "id": "dfaac3b8-a1cf-42eb-b7c0-a81b02c339e7",
   "metadata": {},
   "source": [
    "### 3. A multiprocess approach for a CPU bound task\n",
    "\n",
    "In a multipleprocess setting, you are not encumbered by the GIL, as each process runs on a seperate core. This ought to be much faster than the above two strategies.\n",
    "\n",
    "**Note**: Multiprocessing pool does not work in [IPython environments](https://stackoverflow.com/questions/41385708/multiprocessing-example-giving-attributeerror/42383397#42383397https://stackoverflow.com/questions/41385708/multiprocessing-example-giving-attributeerror/42383397#42383397). You have to define \n",
    "the function in an external file."
   ]
  },
  {
   "cell_type": "code",
   "execution_count": 51,
   "id": "a5655000-093c-4d7e-aab2-1bf6a8915e98",
   "metadata": {},
   "outputs": [
    {
     "name": "stdout",
     "output_type": "stream",
     "text": [
      "Multi Process access: Time elapsed: 0.97 sec to compute all primes in 2000000 are 148935\n"
     ]
    }
   ],
   "source": [
    "# Let's try multiprocess for each core, without being hindered by the GIL\n",
    "# Since this is CPU I/O bound task, we should get better performance\n",
    "# the serial and threading\n",
    "#\n",
    "start = time.time()\n",
    "mp_pool = mp.Pool(cpu_count)\n",
    "with mp_pool as p:\n",
    "    prime_numbers = p.map(is_prime, list(range(num)))\n",
    "end = time.time()\n",
    "mp_pool.terminate()\n",
    "print(f\"Multi Process access: Time elapsed: {end - start:4.2f} sec to compute all primes in {num} are {sum(list(prime_numbers))}\")"
   ]
  },
  {
   "cell_type": "markdown",
   "id": "95053709-d1ee-4e14-855e-d90aec14e12f",
   "metadata": {},
   "source": [
    "### 4. A Ray distributed multiprocess approach for a CPU bound task\n",
    "\n",
    "This is most beneficial when your task is compute-intensive and you wish to scale horizontally across a large number of clusters. There lies the power and merit of using Ray replacement for `multiprocessing.pool`\n",
    "\n",
    "**Note**: The Ray distributed version has the trade-off of an initial increased overhead, albeit now it can scale-out horizontally across a cluster. The benefits would be more pronounced and amortized over time with a more computationally expensive calculation."
   ]
  },
  {
   "cell_type": "code",
   "execution_count": 52,
   "id": "2a679f5b-f21b-42cb-a94b-0f43d6616d2e",
   "metadata": {},
   "outputs": [
    {
     "name": "stderr",
     "output_type": "stream",
     "text": [
      "2022-07-26 20:33:00,576\tINFO services.py:1470 -- View the Ray dashboard at \u001b[1m\u001b[32mhttp://127.0.0.1:8267\u001b[39m\u001b[22m\n"
     ]
    },
    {
     "name": "stdout",
     "output_type": "stream",
     "text": [
      "Ray Distributed Multi Process access: Time elapsed: 3.79 sec to compute all primes in 2000000 are 148935\n"
     ]
    }
   ],
   "source": [
    "# Let's try that with Ray multiprocessing pool\n",
    "ray.init()\n",
    "ray_pool = Pool(cpu_count)\n",
    "lst = list(range(num))\n",
    "results = []\n",
    "start = time.time()\n",
    "for result in ray_pool.map(is_prime, lst):\n",
    "    results.append(result)\n",
    "end = time.time()\n",
    "ray_pool.terminate()\n",
    "print(f\"Ray Distributed Multi Process access: Time elapsed: {end - start:4.2f} sec to compute all primes in {num} are {sum(results)}\")"
   ]
  },
  {
   "cell_type": "code",
   "execution_count": 53,
   "id": "aaf32444-40ec-42c6-b42a-ac42ef92f4f8",
   "metadata": {},
   "outputs": [],
   "source": [
    "ray.shutdown()"
   ]
  },
  {
   "cell_type": "markdown",
   "id": "b6d7e1b4-9e95-4281-8e60-ac42108131fa",
   "metadata": {},
   "source": [
    "### References\n",
    "\n",
    " * [How use python for multi-threading and multi-processing applications](https://medium.com/towards-artificial-intelligence/the-why-when-and-how-of-using-python-multi-threading-and-multi-processing-afd1b8a8ecca)"
   ]
  }
 ],
 "metadata": {
  "kernelspec": {
   "display_name": "Python 3 (ipykernel)",
   "language": "python",
   "name": "python3"
  },
  "language_info": {
   "codemirror_mode": {
    "name": "ipython",
    "version": 3
   },
   "file_extension": ".py",
   "mimetype": "text/x-python",
   "name": "python",
   "nbconvert_exporter": "python",
   "pygments_lexer": "ipython3",
   "version": "3.8.13"
  }
 },
 "nbformat": 4,
 "nbformat_minor": 5
}
