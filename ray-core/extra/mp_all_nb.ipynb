{
 "cells": [
  {
   "cell_type": "markdown",
   "id": "44e5740d-f196-4df3-80ca-bb1124d9f7ce",
   "metadata": {
    "tags": []
   },
   "source": [
    "# A Guided Tour of Ray Core: Multiprocessing Pool\n",
    "\n",
    "© 2019-2022, Anyscale. All Rights Reserved\n",
    "\n",
    "📖 [Back to Table of Contents](../ex_00_tutorial_overview.ipynb)<br>\n",
    "\n",
    "### Scaling CPU bound tasks using four different strategies:\n",
    "\n",
    " 1. serial approach for a CPU bound task\n",
    " 2. multi-threaded approach for a CPU bound task\n",
    " 3. multiprocess approach for a CPU bound task\n",
    " 4. Ray distributed multiprocess approach for a CPU bound task\n",
    " \n",
    "### Learning objectives:\n",
    " * understand various strategies for scaling CPU bound tasks\n",
    " * undertand the pros and cons of each"
   ]
  },
  {
   "cell_type": "code",
   "execution_count": 1,
   "id": "a1a32dd3-8db7-4466-9599-c1a5a8db8a4f",
   "metadata": {},
   "outputs": [],
   "source": [
    "import concurrent.futures as mt\n",
    "import multiprocessing as mp\n",
    "import numpy as np\n",
    "import logging\n",
    "import time\n",
    "import ray\n",
    "from ray.util.multiprocessing import Pool\n",
    "from defs import get_cpu_count, is_prime, f_py_image_signal, f_ray_image_signal"
   ]
  },
  {
   "cell_type": "code",
   "execution_count": 2,
   "id": "813f8492-7228-458a-84e9-a3ee518b6d6d",
   "metadata": {},
   "outputs": [],
   "source": [
    "num = 2000000"
   ]
  },
  {
   "cell_type": "markdown",
   "id": "3c2cee83-c7c3-4209-a887-9a592bb4f138",
   "metadata": {},
   "source": [
    "### 1. A serial approach for a CPU bound task"
   ]
  },
  {
   "cell_type": "code",
   "execution_count": 3,
   "id": "07d8b3f1-520f-4f8b-9aab-f1d6ef4cb3de",
   "metadata": {},
   "outputs": [
    {
     "name": "stdout",
     "output_type": "stream",
     "text": [
      "Serial access: Time elapsed: 6.24 sec to compute all primes in 2000000 are 148935 \n"
     ]
    }
   ],
   "source": [
    "start = time.time()\n",
    "prime_numbers = [n for n in range(num) if is_prime(n)]\n",
    "end = time.time()\n",
    "print(f\"Serial access: Time elapsed: {end - start:4.2f} sec to compute all primes in {num} are {len(prime_numbers)} \")"
   ]
  },
  {
   "cell_type": "markdown",
   "id": "1d8ea837-b47d-47ca-acca-a352eedc660c",
   "metadata": {},
   "source": [
    "### 2. A multi-threaded approach for a CPU bound task\n",
    "\n",
    "Python comes with the [Global Interpreter Lock (GIL)](https://realpython.com/python-gil/). While you can spawn as many threads, Python GIL ensures that only one of those threads will ever be executing at any given time. For a CPU bound process, you'll only have a single thread execute, meaning only a single thread will execute computing a prime number.\n",
    "\n",
    "**Note**: The duration is longer than serial approach."
   ]
  },
  {
   "cell_type": "code",
   "execution_count": 4,
   "id": "709537ac-5850-484f-b8e3-e2cb88cb14c9",
   "metadata": {},
   "outputs": [
    {
     "data": {
      "text/plain": [
       "10"
      ]
     },
     "execution_count": 4,
     "metadata": {},
     "output_type": "execute_result"
    }
   ],
   "source": [
    "cpu_count = get_cpu_count()\n",
    "cpu_count"
   ]
  },
  {
   "cell_type": "code",
   "execution_count": 5,
   "id": "6a8f1fc1-a545-421d-991b-ca9e9eaf2c57",
   "metadata": {},
   "outputs": [
    {
     "name": "stdout",
     "output_type": "stream",
     "text": [
      "Multi Threaded access: Time elapsed: 25.62 sec to compute all primes in 2000000 are 148935\n"
     ]
    }
   ],
   "source": [
    "start = time.time()\n",
    "with mt.ThreadPoolExecutor(cpu_count) as executor:\n",
    "    prime_numbers = executor.map(is_prime, list(range(num)))\n",
    "end = time.time()\n",
    "print(f\"Multi Threaded access: Time elapsed: {end - start:4.2f} sec to compute all primes in {num} are {sum(list(prime_numbers))}\")"
   ]
  },
  {
   "cell_type": "markdown",
   "id": "dfaac3b8-a1cf-42eb-b7c0-a81b02c339e7",
   "metadata": {},
   "source": [
    "### 3. A multiprocess approach for a CPU bound task\n",
    "\n",
    "In a multiprocess setting, you are not encumbered by the GIL, as each process runs on a seperate core. This ought to be much faster than the above two strategies.\n",
    "\n",
    "**Note**: Multiprocessing pool does not work in [IPython environments](https://stackoverflow.com/questions/41385708/multiprocessing-example-giving-attributeerror/42383397#42383397https://stackoverflow.com/questions/41385708/multiprocessing-example-giving-attributeerror/42383397#42383397). You have to define \n",
    "the function in an external file."
   ]
  },
  {
   "cell_type": "code",
   "execution_count": 6,
   "id": "a5655000-093c-4d7e-aab2-1bf6a8915e98",
   "metadata": {},
   "outputs": [
    {
     "name": "stdout",
     "output_type": "stream",
     "text": [
      "Multi Process access: Time elapsed: 1.23 sec to compute all primes in 2000000 are 148935\n"
     ]
    }
   ],
   "source": [
    "# Let's try multiprocess for each core, without being hindered by the GIL\n",
    "# Since this is CPU bound and not I/O bound task, we should get better performance\n",
    "# the serial and threading\n",
    "#\n",
    "start = time.time()\n",
    "mp_pool = mp.Pool(cpu_count)\n",
    "with mp_pool as p:\n",
    "    prime_numbers = p.map(is_prime, list(range(num)))\n",
    "end = time.time()\n",
    "mp_pool.terminate()\n",
    "print(f\"Multi Process access: Time elapsed: {end - start:4.2f} sec to compute all primes in {num} are {sum(list(prime_numbers))}\")"
   ]
  },
  {
   "cell_type": "markdown",
   "id": "95053709-d1ee-4e14-855e-d90aec14e12f",
   "metadata": {},
   "source": [
    "### 4. A Ray distributed multiprocess approach for a CPU bound task\n",
    "\n",
    "This is most beneficial when your task is compute-intensive and you wish to scale horizontally across a large number of clusters. There lies the power and merit of using Ray's replacement for `multiprocessing.pool`. \n",
    "\n",
    "For certain workloads such as intensive scientific numberical computation and image processing workloads, Ray's MPs scales with both single-node, multi-cores and multi-node, multi-cores. Read the [blog for benchmarks](https://towardsdatascience.com/10x-faster-parallel-python-without-python-multiprocessing-e5017c93cce1)"
   ]
  },
  {
   "cell_type": "code",
   "execution_count": 7,
   "id": "87367ac6-8610-4ae0-a9e2-3be6b5d9ba47",
   "metadata": {},
   "outputs": [
    {
     "data": {
      "text/html": [
       "<div>\n",
       "    <div style=\"margin-left: 50px;display: flex;flex-direction: row;align-items: center\">\n",
       "        <h3 style=\"color: var(--jp-ui-font-color0)\">Ray</h3>\n",
       "        <svg version=\"1.1\" id=\"ray\" width=\"3em\" viewBox=\"0 0 144.5 144.6\" style=\"margin-left: 3em;margin-right: 3em\">\n",
       "            <g id=\"layer-1\">\n",
       "                <path fill=\"#00a2e9\" class=\"st0\" d=\"M97.3,77.2c-3.8-1.1-6.2,0.9-8.3,5.1c-3.5,6.8-9.9,9.9-17.4,9.6S58,88.1,54.8,81.2c-1.4-3-3-4-6.3-4.1\n",
       "                    c-5.6-0.1-9.9,0.1-13.1,6.4c-3.8,7.6-13.6,10.2-21.8,7.6C5.2,88.4-0.4,80.5,0,71.7c0.1-8.4,5.7-15.8,13.8-18.2\n",
       "                    c8.4-2.6,17.5,0.7,22.3,8c1.3,1.9,1.3,5.2,3.6,5.6c3.9,0.6,8,0.2,12,0.2c1.8,0,1.9-1.6,2.4-2.8c3.5-7.8,9.7-11.8,18-11.9\n",
       "                    c8.2-0.1,14.4,3.9,17.8,11.4c1.3,2.8,2.9,3.6,5.7,3.3c1-0.1,2,0.1,3,0c2.8-0.5,6.4,1.7,8.1-2.7s-2.3-5.5-4.1-7.5\n",
       "                    c-5.1-5.7-10.9-10.8-16.1-16.3C84,38,81.9,37.1,78,38.3C66.7,42,56.2,35.7,53,24.1C50.3,14,57.3,2.8,67.7,0.5\n",
       "                    C78.4-2,89,4.7,91.5,15.3c0.1,0.3,0.1,0.5,0.2,0.8c0.7,3.4,0.7,6.9-0.8,9.8c-1.7,3.2-0.8,5,1.5,7.2c6.7,6.5,13.3,13,19.8,19.7\n",
       "                    c1.8,1.8,3,2.1,5.5,1.2c9.1-3.4,17.9-0.6,23.4,7c4.8,6.9,4.6,16.1-0.4,22.9c-5.4,7.2-14.2,9.9-23.1,6.5c-2.3-0.9-3.5-0.6-5.1,1.1\n",
       "                    c-6.7,6.9-13.6,13.7-20.5,20.4c-1.8,1.8-2.5,3.2-1.4,5.9c3.5,8.7,0.3,18.6-7.7,23.6c-7.9,5-18.2,3.8-24.8-2.9\n",
       "                    c-6.4-6.4-7.4-16.2-2.5-24.3c4.9-7.8,14.5-11,23.1-7.8c3,1.1,4.7,0.5,6.9-1.7C91.7,98.4,98,92.3,104.2,86c1.6-1.6,4.1-2.7,2.6-6.2\n",
       "                    c-1.4-3.3-3.8-2.5-6.2-2.6C99.8,77.2,98.9,77.2,97.3,77.2z M72.1,29.7c5.5,0.1,9.9-4.3,10-9.8c0-0.1,0-0.2,0-0.3\n",
       "                    C81.8,14,77,9.8,71.5,10.2c-5,0.3-9,4.2-9.3,9.2c-0.2,5.5,4,10.1,9.5,10.3C71.8,29.7,72,29.7,72.1,29.7z M72.3,62.3\n",
       "                    c-5.4-0.1-9.9,4.2-10.1,9.7c0,0.2,0,0.3,0,0.5c0.2,5.4,4.5,9.7,9.9,10c5.1,0.1,9.9-4.7,10.1-9.8c0.2-5.5-4-10-9.5-10.3\n",
       "                    C72.6,62.3,72.4,62.3,72.3,62.3z M115,72.5c0.1,5.4,4.5,9.7,9.8,9.9c5.6-0.2,10-4.8,10-10.4c-0.2-5.4-4.6-9.7-10-9.7\n",
       "                    c-5.3-0.1-9.8,4.2-9.9,9.5C115,72.1,115,72.3,115,72.5z M19.5,62.3c-5.4,0.1-9.8,4.4-10,9.8c-0.1,5.1,5.2,10.4,10.2,10.3\n",
       "                    c5.6-0.2,10-4.9,9.8-10.5c-0.1-5.4-4.5-9.7-9.9-9.6C19.6,62.3,19.5,62.3,19.5,62.3z M71.8,134.6c5.9,0.2,10.3-3.9,10.4-9.6\n",
       "                    c0.5-5.5-3.6-10.4-9.1-10.8c-5.5-0.5-10.4,3.6-10.8,9.1c0,0.5,0,0.9,0,1.4c-0.2,5.3,4,9.8,9.3,10\n",
       "                    C71.6,134.6,71.7,134.6,71.8,134.6z\"/>\n",
       "            </g>\n",
       "        </svg>\n",
       "        <table>\n",
       "            <tr>\n",
       "                <td style=\"text-align: left\"><b>Python version:</b></td>\n",
       "                <td style=\"text-align: left\"><b>3.8.13</b></td>\n",
       "            </tr>\n",
       "            <tr>\n",
       "                <td style=\"text-align: left\"><b>Ray version:</b></td>\n",
       "                <td style=\"text-align: left\"><b> 2.0.0rc1</b></td>\n",
       "            </tr>\n",
       "            <tr>\n",
       "    <td style=\"text-align: left\"><b>Dashboard:</b></td>\n",
       "    <td style=\"text-align: left\"><b><a href=\"http://127.0.0.1:8266\" target=\"_blank\">http://127.0.0.1:8266</a></b></td>\n",
       "</tr>\n",
       "\n",
       "        </table>\n",
       "    </div>\n",
       "</div>\n"
      ],
      "text/plain": [
       "RayContext(dashboard_url='127.0.0.1:8266', python_version='3.8.13', ray_version='2.0.0rc1', ray_commit='321d8717f73995153d4f9abe98678160831090e1', address_info={'node_ip_address': '127.0.0.1', 'raylet_ip_address': '127.0.0.1', 'redis_address': None, 'object_store_address': '/tmp/ray/session_2022-08-19_18-25-52_808230_71507/sockets/plasma_store', 'raylet_socket_name': '/tmp/ray/session_2022-08-19_18-25-52_808230_71507/sockets/raylet', 'webui_url': '127.0.0.1:8266', 'session_dir': '/tmp/ray/session_2022-08-19_18-25-52_808230_71507', 'metrics_export_port': 50892, 'gcs_address': '127.0.0.1:61073', 'address': '127.0.0.1:61073', 'dashboard_agent_listen_port': 52365, 'node_id': '2a6b543017fe99474cfc33981d4a9821b54209515524a3f02196f3e9'})"
      ]
     },
     "execution_count": 7,
     "metadata": {},
     "output_type": "execute_result"
    }
   ],
   "source": [
    "if ray.is_initialized:\n",
    "    ray.shutdown()\n",
    "ray.init(logging_level=logging.ERROR)"
   ]
  },
  {
   "cell_type": "code",
   "execution_count": 9,
   "id": "2a679f5b-f21b-42cb-a94b-0f43d6616d2e",
   "metadata": {},
   "outputs": [
    {
     "name": "stdout",
     "output_type": "stream",
     "text": [
      "Ray Distributed Multi Process access: Time elapsed: 4.19 sec to compute all primes in 2000000 are 148935\n"
     ]
    }
   ],
   "source": [
    "# Let's try that with Ray multiprocessing pool.\n",
    "ray_pool = Pool(cpu_count)\n",
    "lst = list(range(num))\n",
    "results = []\n",
    "start = time.time()\n",
    "for result in ray_pool.map(is_prime, lst):\n",
    "    results.append(result)\n",
    "end = time.time()\n",
    "ray_pool.terminate()\n",
    "print(f\"Ray Distributed Multi Process access: Time elapsed: {end - start:4.2f} sec to compute all primes in {num} are {sum(results)}\")"
   ]
  },
  {
   "cell_type": "markdown",
   "id": "6c54232e-2a77-4063-a427-5d23eaeaa715",
   "metadata": {},
   "source": [
    "## Compute intensive operation like image processing\n",
    "\n",
    "#### Python's multiprocessing is slower:\n",
    " * Python uses pickle to serialize large objects when passing them between processes.\n",
    " * This approach requires each process to create its own copy of the data, which adds substantial memory usage and compute overhead for expensive deserialization.\n",
    " *  Ray avoids all this by using the [Apache Arrow data layout]((https://arrow.apache.org/) for zero-copy serialization along with the Plasma store."
   ]
  },
  {
   "cell_type": "code",
   "execution_count": 10,
   "id": "0c2fd458-ee69-4e08-8d4c-fc12c3c48b58",
   "metadata": {},
   "outputs": [
    {
     "name": "stdout",
     "output_type": "stream",
     "text": [
      "Python MP Image processing: Time elapsed: 20.14 sec\n"
     ]
    }
   ],
   "source": [
    "# Create a Python MP pool == number of cores\n",
    "mp_pool = mp.Pool(cpu_count)\n",
    "\n",
    "# Create random filters for image convolving \n",
    "filters = [np.random.normal(size=(4, 4)) for _ in range(cpu_count)]\n",
    "\n",
    "start = time.time()\n",
    "for _ in range(10):\n",
    "    image = np.zeros((3000, 3000))\n",
    "    mp_pool.map(f_py_image_signal, zip(cpu_count * [image], filters))\n",
    "end = time.time()\n",
    "mp_pool.terminate()\n",
    "print(f\"Python MP Image processing: Time elapsed: {end - start:4.2f} sec\")"
   ]
  },
  {
   "cell_type": "markdown",
   "id": "eeafc7ea-0865-4d94-836f-1f796be543fb",
   "metadata": {},
   "source": [
    "#### Ray's multiprocessing faster:\n",
    "\n",
    "* Ray's MP uses the shared object store to share data among processes on the same node.\n",
    "* Ray's MP leverages [Apache Arrow](https://arrow.apache.org/) for efficient data handling.\n",
    "* Numpy arrays are backed by shared memory without having to deserialize or copy the values.\n",
    "* All this saves overhead of ser/der and allows zero-copy share among processes on the same node."
   ]
  },
  {
   "cell_type": "code",
   "execution_count": 11,
   "id": "2f3b69bf-35d3-4431-99aa-772c04b57f59",
   "metadata": {},
   "outputs": [
    {
     "name": "stdout",
     "output_type": "stream",
     "text": [
      "Ray MP Image processing: Time elapsed: 6.79 sec\n"
     ]
    }
   ],
   "source": [
    "# Create Ray MP pool == number of cores\n",
    "ray_pool = Pool(cpu_count)\n",
    "\n",
    "# Create random filters for image convolving \n",
    "filters = [np.random.normal(size=(4, 4)) for _ in range(cpu_count)]\n",
    "\n",
    "start = time.time()\n",
    "for _ in range(10):\n",
    "    image = np.zeros((3000, 3000))\n",
    "    image_id = ray.put(image)\n",
    "    ray_pool.map(f_ray_image_signal, zip(cpu_count * [image], filters))\n",
    "end = time.time()\n",
    "ray_pool.terminate()\n",
    "print(f\"Ray MP Image processing: Time elapsed: {end - start:4.2f} sec\")"
   ]
  },
  {
   "cell_type": "code",
   "execution_count": 12,
   "id": "aaf32444-40ec-42c6-b42a-ac42ef92f4f8",
   "metadata": {},
   "outputs": [],
   "source": [
    "ray.shutdown()"
   ]
  },
  {
   "cell_type": "markdown",
   "id": "b6d7e1b4-9e95-4281-8e60-ac42108131fa",
   "metadata": {},
   "source": [
    "### References\n",
    "\n",
    " * [10x Faster Parallel Python Without Python Multiprocessing](https://towardsdatascience.com/10x-faster-parallel-python-without-python-multiprocessing-e5017c93cce1)\n",
    " * [Parallelizing Python Code](https://www.anyscale.com/blog/parallelizing-python-code)\n",
    " * [How use python for multi-threading and multi-processing applications](https://medium.com/towards-artificial-intelligence/the-why-when-and-how-of-using-python-multi-threading-and-multi-processing-afd1b8a8ecca)"
   ]
  },
  {
   "cell_type": "markdown",
   "id": "3d908020-c3d4-4ec8-af9a-658b79721578",
   "metadata": {},
   "source": [
    "📖 [Back to Table of Contents](../ex_00_tutorial_overview.ipynb)<br>"
   ]
  }
 ],
 "metadata": {
  "kernelspec": {
   "display_name": "Python 3 (ipykernel)",
   "language": "python",
   "name": "python3"
  },
  "language_info": {
   "codemirror_mode": {
    "name": "ipython",
    "version": 3
   },
   "file_extension": ".py",
   "mimetype": "text/x-python",
   "name": "python",
   "nbconvert_exporter": "python",
   "pygments_lexer": "ipython3",
   "version": "3.8.13"
  }
 },
 "nbformat": 4,
 "nbformat_minor": 5
}
