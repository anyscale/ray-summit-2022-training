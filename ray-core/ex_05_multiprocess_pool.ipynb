{
 "cells": [
  {
   "cell_type": "markdown",
   "metadata": {},
   "source": [
    "# A Guided Tour of Ray Core: Multiprocessing Pool\n",
    "\n",
    "© 2019-2022, Anyscale. All Rights Reserved\n",
    "\n",
    "### Learning objectives\n",
    "In this this tutorial, you will learn about:\n",
    "\n",
    " * Ray's replacement for distribtued Python's normal `Multiprocessing.pool` library \n",
    " * Scaling CPU bound tasks using different strategies:\n",
    "   * A serial approach for a CPU bound task\n",
    "   * A multi-threaded approach for a CPU bound task\n",
    "   * A multiprocess approach for a CPU bound task\n",
    "   * A Ray distributed multiprocess appraoch for a CPU bound task"
   ]
  },
  {
   "cell_type": "markdown",
   "metadata": {},
   "source": [
    "[*Distributed multiprocessing.Pool*](https://docs.ray.io/en/latest/multiprocessing.html) makes it easy to scale existing Python applications that use [`multiprocessing.Pool`](https://docs.python.org/3/library/multiprocessing.html) by leveraging *Ray Actors*. Ray supports running distributed python programs with the **multiprocessing.Pool** API using Ray Actors, each running on a [workder node](https://docs.ray.io/en/latest/ray-core/actors.html#faq-actors-workers-and-resources), instead of local processes. This makes it easy to scale existing applications that use regular `multiprocessing.Pool` from a single node to a cluster.\n",
    "\n",
    "<img src=\"images/dist_multi_pool.png\" width=\"80%\" height=\"55%\">"
   ]
  },
  {
   "cell_type": "markdown",
   "metadata": {},
   "source": [
    "First, let's have go ...."
   ]
  },
  {
   "cell_type": "code",
   "execution_count": 4,
   "metadata": {},
   "outputs": [],
   "source": [
    "import numpy as np\n",
    "from pprint import pprint\n",
    "import time\n",
    "import logging\n",
    "import ray\n",
    "from ray.util.multiprocessing import Pool"
   ]
  },
  {
   "cell_type": "markdown",
   "metadata": {},
   "source": [
    "## Multiprocessing Pool example"
   ]
  },
  {
   "cell_type": "markdown",
   "metadata": {},
   "source": [
    "The following is a simple Python function with a slight delay added (to make it behave like a more complex calculation)..."
   ]
  },
  {
   "cell_type": "code",
   "execution_count": 5,
   "metadata": {},
   "outputs": [],
   "source": [
    "# This could be some complicated and compute intensive task\n",
    "def func(x):\n",
    "    time.sleep(1.5)\n",
    "    return x ** 2"
   ]
  },
  {
   "cell_type": "code",
   "execution_count": 6,
   "metadata": {},
   "outputs": [],
   "source": [
    "# Let's compute some prime numbers between a range  2-->N\n",
    "def is_prime(n):\n",
    "    for divisor in range(2, int(n ** 0.5) + 1):\n",
    "        if n % divisor == 0:\n",
    "            return 0\n",
    "    return 1"
   ]
  },
  {
   "cell_type": "markdown",
   "metadata": {},
   "source": [
    "Let's start Ray"
   ]
  },
  {
   "cell_type": "code",
   "execution_count": 7,
   "metadata": {},
   "outputs": [
    {
     "name": "stdout",
     "output_type": "stream",
     "text": [
      "RayContext(dashboard_url='127.0.0.1:8267', python_version='3.8.13', ray_version='1.13.0', ray_commit='e4ce38d001dbbe09cd21c497fedd03d692b2be3e', address_info={'node_ip_address': '127.0.0.1', 'raylet_ip_address': '127.0.0.1', 'redis_address': None, 'object_store_address': '/tmp/ray/session_2022-07-26_18-42-07_610996_46278/sockets/plasma_store', 'raylet_socket_name': '/tmp/ray/session_2022-07-26_18-42-07_610996_46278/sockets/raylet', 'webui_url': '127.0.0.1:8267', 'session_dir': '/tmp/ray/session_2022-07-26_18-42-07_610996_46278', 'metrics_export_port': 58479, 'gcs_address': '127.0.0.1:61578', 'address': '127.0.0.1:61578', 'node_id': '4bd50545362b8b106f1aab12440e168d3425ebb8dbca81de214ee712'})\n"
     ]
    }
   ],
   "source": [
    "if ray.is_initialized:\n",
    "    ray.shutdown()\n",
    "context = ray.init(logging_level=logging.ERROR)\n",
    "pprint(context)"
   ]
  },
  {
   "cell_type": "code",
   "execution_count": 8,
   "metadata": {},
   "outputs": [
    {
     "name": "stdout",
     "output_type": "stream",
     "text": [
      "Dashboard url: http://127.0.0.1:8267\n"
     ]
    }
   ],
   "source": [
    "print(f\"Dashboard url: http://{context.address_info['webui_url']}\")"
   ]
  },
  {
   "cell_type": "markdown",
   "metadata": {},
   "source": [
    "Now we'll create a *Pool* of Actors and distribute its tasks across a cluster (or across the available cores on a laptop). Let's use Ray's drop-in replacement for [multiprocessing pool](https://docs.ray.io/en/latest/multiprocessing.html) uses Ray Actors to distribute the tasks."
   ]
  },
  {
   "cell_type": "code",
   "execution_count": 10,
   "metadata": {},
   "outputs": [
    {
     "name": "stdout",
     "output_type": "stream",
     "text": [
      "0\n",
      "1\n",
      "4\n",
      "9\n",
      "16\n",
      "25\n",
      "36\n",
      "49\n",
      "64\n",
      "81\n",
      "100\n",
      "121\n"
     ]
    }
   ],
   "source": [
    "# Create a Pool of Actors\n",
    "pool = Pool()\n",
    "\n",
    "for result in pool.map(func, range(12)):\n",
    "    time.sleep(2)      # sleep for you to check the dashboard; you should see 10 Actors\n",
    "    print(result)"
   ]
  },
  {
   "cell_type": "code",
   "execution_count": 11,
   "metadata": {},
   "outputs": [],
   "source": [
    "pool.terminate()"
   ]
  },
  {
   "cell_type": "markdown",
   "metadata": {},
   "source": [
    "**NOTE**: The distributed version has the trade-off of initial increased overhead, albeit now it can scale-out horizontally across a cluster. The benefits would be more pronounced with a more computationally expensive calculation. In other words, its value is amortized over time with compute-intensive complex operations."
   ]
  },
  {
   "cell_type": "code",
   "execution_count": 13,
   "metadata": {},
   "outputs": [],
   "source": [
    "num = 2000000 \n",
    "lst = list(range(num))\n",
    "results = []\n",
    "pool = Pool(5) # by default it will create pool == number of cores on the machine"
   ]
  },
  {
   "cell_type": "code",
   "execution_count": 14,
   "metadata": {},
   "outputs": [
    {
     "name": "stdout",
     "output_type": "stream",
     "text": [
      "Total number of primes in 2000000 are 148935\n",
      "CPU times: user 3.88 s, sys: 143 ms, total: 4.02 s\n",
      "Wall time: 4.37 s\n"
     ]
    }
   ],
   "source": [
    "%%time\n",
    "for result in pool.map(is_prime, lst):\n",
    "    results.append(result)\n",
    "print(f\"Total number of primes in {num} are {sum(results)}\")\n"
   ]
  },
  {
   "cell_type": "code",
   "execution_count": 15,
   "metadata": {},
   "outputs": [],
   "source": [
    "pool.terminate()"
   ]
  },
  {
   "cell_type": "markdown",
   "metadata": {},
   "source": [
    "Let's define a compute intensive class that does some matrix\n",
    "computation. Consider this to be a compute intenstive task\n",
    "doing massive tensor transformation or computation.\n",
    "\n",
    "**NOTE**: This will be your excercise"
   ]
  },
  {
   "cell_type": "code",
   "execution_count": 16,
   "metadata": {},
   "outputs": [],
   "source": [
    "def task(n):\n",
    "    # Simulate a long intensive task\n",
    "    #TODO\n",
    "    \n",
    "    # do some matrix computation \n",
    "    # and return results\n",
    "    return"
   ]
  },
  {
   "cell_type": "markdown",
   "metadata": {},
   "source": [
    "Define a Ray remote task that launches `task()` across a pool of Actors on the cluster. It creates\n",
    "a pool of `Ray Actors`, each scheduled on a cluster worker. On a single node or localhost it will be an Actor per CPU"
   ]
  },
  {
   "cell_type": "code",
   "execution_count": 17,
   "metadata": {},
   "outputs": [],
   "source": [
    "# A long running task doing the work, collecting data, updating the database\n",
    "# create an Actor pool of num_pool workers nodes\n",
    "@ray.remote\n",
    "def launch_long_running_tasks(num_pool):\n",
    "    pool = Pool(num_pool) # num_pool of Actors\n",
    "    results = []\n",
    "    # Iterate over 50 times in batches of 10\n",
    "    # TODO, replace func with task() here for the exercise\n",
    "    for result in pool.map(func, range(1, 51, 10)):\n",
    "        results.append(result)\n",
    "        \n",
    "    # Done so terminate pool\n",
    "    pool.terminate()\n",
    "    \n",
    "    return results"
   ]
  },
  {
   "cell_type": "markdown",
   "metadata": {},
   "source": [
    "### Create a Actor like supervisor that launches all these remote tasks"
   ]
  },
  {
   "cell_type": "code",
   "execution_count": 18,
   "metadata": {},
   "outputs": [],
   "source": [
    "@ray.remote\n",
    "class LaunchDistributedTasks:\n",
    "    def __init__(self, limit=5):\n",
    "        self._limit = limit\n",
    "\n",
    "    def launch(self):\n",
    "        # launch the remote task\n",
    "        return launch_long_running_tasks.remote(self._limit)"
   ]
  },
  {
   "cell_type": "markdown",
   "metadata": {},
   "source": [
    "### Launch our supervisor"
   ]
  },
  {
   "cell_type": "code",
   "execution_count": 19,
   "metadata": {},
   "outputs": [
    {
     "name": "stdout",
     "output_type": "stream",
     "text": [
      "Launched remote jobs\n"
     ]
    }
   ],
   "source": [
    "launcher = LaunchDistributedTasks.remote()\n",
    "print(\"Launched remote jobs\")"
   ]
  },
  {
   "cell_type": "code",
   "execution_count": 20,
   "metadata": {},
   "outputs": [
    {
     "name": "stdout",
     "output_type": "stream",
     "text": [
      " list of results :[1, 121, 441, 961, 1681]\n",
      " Total results: 5\n"
     ]
    }
   ],
   "source": [
    "values = ray.get(ray.get(launcher.launch.remote()))\n",
    "print(f\" list of results :{values}\")\n",
    "print(f\" Total results: {len(values)}\")"
   ]
  },
  {
   "cell_type": "code",
   "execution_count": 21,
   "metadata": {},
   "outputs": [],
   "source": [
    "ray.shutdown()"
   ]
  },
  {
   "cell_type": "markdown",
   "metadata": {
    "tags": []
   },
   "source": [
    "### Exercises\n",
    "\n",
    "1. Can you convert `task()` into a compute-intensive function?\n",
    "2. Use `task()` in `pool.map(task,....)`\n",
    "3. (Optional) Explore the CPU bound tasks using different strategies in this [notebook](extra/mp_all_nb.ipynb) in the `extra` directory"
   ]
  },
  {
   "cell_type": "markdown",
   "metadata": {},
   "source": [
    "### Homework\n",
    "\n",
    "1. Write a Python `multiprocessing.pool` version of `task()`, with a large dataset, and compare the timings with \n",
    "the Ray distributed `multiprocessing.pool`. \n",
    "2. Do you see a difference in timings?"
   ]
  },
  {
   "cell_type": "markdown",
   "metadata": {},
   "source": [
    "### Next step\n",
    "\n",
    "Let's take a tour of the [Ray APIs](ex_06_ray_api_calls.ipynb)."
   ]
  }
 ],
 "metadata": {
  "kernelspec": {
   "display_name": "Python 3 (ipykernel)",
   "language": "python",
   "name": "python3"
  },
  "language_info": {
   "codemirror_mode": {
    "name": "ipython",
    "version": 3
   },
   "file_extension": ".py",
   "mimetype": "text/x-python",
   "name": "python",
   "nbconvert_exporter": "python",
   "pygments_lexer": "ipython3",
   "version": "3.8.13"
  }
 },
 "nbformat": 4,
 "nbformat_minor": 4
}
