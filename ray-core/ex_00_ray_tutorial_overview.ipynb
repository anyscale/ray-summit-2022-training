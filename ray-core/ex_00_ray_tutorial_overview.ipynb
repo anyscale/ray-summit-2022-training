{
 "cells": [
  {
   "cell_type": "markdown",
   "metadata": {},
   "source": [
    "# Ray Tutorial Basic Core APIs - Overview\n",
    "\n",
    "© 2021-2022, Anyscale. All Rights Reserved\n",
    "\n",
    "<img src=\"images/ray-logo.png\" height=\"15%\" width=\"30%\">\n",
    "\n",
    "## About This Tutorial\n",
    "\n",
    "\n",
    "See the instructions in the [README](README.md) the tutorial overview and setting up your environment to use this tutorial if you want to run this on your laptop.\n",
    "\n",
    "If you using Anyscale hosted enviroment for this class, then you don't have to anything. "
   ]
  },
  {
   "cell_type": "markdown",
   "metadata": {},
   "source": [
    "|     | Lesson | Description |\n",
    "| :-- | :----- | :---------- |\n",
    "|     | **Module 1** | **Ray Tasks, Ray Objects** |\n",
    "| 00  | [Ray Tutorial Overview](ex_00_ray_tutorial_overview.ipynb) | Overview of this tutorial. |\n",
    "| 01  | [Ray Remote Functions ](ex_01_remote_funcs.ipynb) |The Remote Function as Stateless Tasks Pattern. |\n",
    "| 02  | [Ray Remote Objects](ex_02_remote_objs.ipynb) |The Remote Objects as Futures Pattern. |\n",
    "| 03  | [Ray Remote Classes](ex_03_remote_classes.ipynb)| The Remote Class as stateful service.|\n",
    "|     | **Module 2** | **Focus on Ray Actor Tree Patterns, Ray Multiprocess Pool for clusters, Ray API Tour** |\n",
    "| 04  | [Ray Remote Classes Revisited](ex_04_remote_classes_revisited.ipynb) |The  Stateful Tree Actor Pattern |\n",
    "| 05  | [Ray Multiprocess Pool for clusters](ex_05_multitask_pool.ipynb) | Ray Multiprocess Pool for clusters|\n",
    "| 06  | [Ray API Calls Tour](ex_06_ray_api_calls.ipynb) |A look at common Ray API calls |\n",
    "|     | **Module 3** | **Brief introduction Ray Libraries** |\n",
    "| 07  | [Introduction to Ray Data](ex_07_ray_data.ipynb) | A gentle introduction to Ray Datasets|\n",
    "| 08  | [Introduction to Ray Train](ex_08_ray_train.ipynb) | Ray Train for Distributed Training |\n",
    "| 09  | [Introduction fo Ray Tune]()| Ray Tune and hyperparameter optimization HPO |"
   ]
  },
  {
   "cell_type": "code",
   "execution_count": null,
   "metadata": {},
   "outputs": [],
   "source": []
  }
 ],
 "metadata": {
  "kernelspec": {
   "display_name": "Python 3 (ipykernel)",
   "language": "python",
   "name": "python3"
  },
  "language_info": {
   "codemirror_mode": {
    "name": "ipython",
    "version": 3
   },
   "file_extension": ".py",
   "mimetype": "text/x-python",
   "name": "python",
   "nbconvert_exporter": "python",
   "pygments_lexer": "ipython3",
   "version": "3.8.13"
  }
 },
 "nbformat": 4,
 "nbformat_minor": 4
}
