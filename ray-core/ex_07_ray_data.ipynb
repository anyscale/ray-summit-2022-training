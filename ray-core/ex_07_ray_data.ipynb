{
 "cells": [
  {
   "cell_type": "markdown",
   "id": "89505bc4-70e5-4ed5-9b91-f75804ce40db",
   "metadata": {},
   "source": [
    "# Gentle introduction to Ray datasets APIs\n",
    "\n",
    "© 2019-2022, Anyscale. All Rights Reserved\n",
    "\n",
    "### Learning objectives\n",
    "\n",
    "In this introductory tutorial you will learn to:\n",
    " * create, transform, read, and save Ray datasets\n",
    " * use shards for parallel processing of large datasets\n",
    " * understand datapipelines and their merits\n",
    " * use `DatasetPipeline` for parallel computation \n",
    " * use datasets for last-mile ML ingestion for distributed training\n",
    " * why use datasets and what for\n",
    "\n",
    "### Overview\n",
    "\n",
    "This is a brief and gentle introduction to Ray's native library `ray dataset`. As a native Ray library, built atop Ray, it allows you to exchange data among Ray tasks, actors, libraries, and applications. It also allows you to read/write training data from different file sources, include csv, parquet, text, etc.\n",
    "\n",
    "Ray Datasets, using distributed [Apache Arrow](https://arrow.apache.org/), are designed to load and preprocess data for distributed ML training pipelines. Compared to other loading solutions, Datasets are more flexible (e.g., you can express higher-quality per-epoch global shuffles) and provides higher overall performance.\n",
    "\n",
    "Additionally, Ray datasets provides standard and simple transformations like `map`, `filter`, and `partition`. Ray datasets is *not* a replacement for a full-fledged data processing library for doing exploratory data analysis (EDA), extract, transform and load (ETL) or a subsitute for Apache Spark or Dask or Pandas DataFrames. Its primary objective is the last-mile rudimentary distributed data preprocessing and data ingestion for ML training.\n",
    "\n",
    "Supporting myriad [file formats and data sources](https://docs.ray.io/en/latest/data/dataset.html#datasource-compatibility), you can read from and write to local FS and cloud storage. \n",
    "\n",
    "<img src=\"images/dataset.png\" width=\"70%\" height=\"35%\">\n"
   ]
  },
  {
   "cell_type": "markdown",
   "id": "f7993f2e-5313-463b-a854-d49a0e7a0dfc",
   "metadata": {},
   "source": [
    "### Key concepts\n",
    "\n",
    "To work with Ray Datasets, you need to understand how Datasets and Dataset Pipelines work. That is, how datasets are stored internally and in what format. And what beneift does Datapielines offer for faster processing and execution. A quick peek into each of these will shed some light into overall benefits of Ray Datasets.\n",
    "\n",
    "Let's start with the internal format. "
   ]
  },
  {
   "cell_type": "markdown",
   "id": "39ca802b-f3d5-4227-b43c-08fd14878021",
   "metadata": {
    "tags": []
   },
   "source": [
    "#### Ray Datasets\n",
    "\n",
    "A Ray dataset implements a distributed [Apache Arrow](https://arrow.apache.org/). As such, a Dataset consists of a list of Ray object references to blocks. Each block holds a set of items in either an [Arrow table](https://arrow.apache.org/docs/python/data.html#tables) or a Python list (for Arrow incompatible objects).\n",
    "\n",
    "<img src=\"images/dataset-arch.png\" width=\"70%\" height=\"35%\">"
   ]
  },
  {
   "cell_type": "markdown",
   "id": "be8dd1bb-e9ff-4ff3-b994-9415b0644dd9",
   "metadata": {},
   "source": [
    "#### Dataset Pipelines\n",
    "Datasets execute their transformations synchronously in blocking calls. However, it can be useful to overlap dataset computations with output. This can be done with a `DatasetPipeline`.\n",
    "\n",
    "A `DatasetPipeline` is an unified iterator over a (potentially infinite) sequence of Ray Datasets, each of which represents a window over the original data. Conceptually, it is similar to a `Spark DStream`, but manages execution over a bounded amount of source data instead of an unbounded stream. Ray computes each dataset window on-demand and stitches their output together into a single logical data iterator. `DatasetPipeline` implements most of the same transformation and output methods as Datasets (e.g., `map`, `filter`, `split`, `iter_rows`, `to_torch`, etc.)."
   ]
  },
  {
   "cell_type": "markdown",
   "id": "a8ffc679-74a7-4aea-a572-a5231cc4c031",
   "metadata": {},
   "source": [
    "### Datasets Execution Model\n",
    "This section overviews the execution model of Datasets, which may be useful for understanding and tuning performance."
   ]
  },
  {
   "cell_type": "markdown",
   "id": "b5c5fd4d-144b-42a4-8ae7-6e01ab2ed31a",
   "metadata": {},
   "source": [
    "#### Reading Data\n",
    "Datasets uses Ray tasks, for parallelism, to read data from remote storage or source. When reading from a file-based datasource (e.g., S3, GCS), it creates a number of parallel\n",
    "read tasks equal to the specified read parallelism (200 by default). One or more files will be assigned to each read task. Each read task reads its assigned files and produces one or more output blocks (Ray objects):\n",
    "\n",
    "<img src=\"https://docs.ray.io/en/master/_images/dataset-read.svg\" height=\"25%\" width=\"50%\">\n",
    "\n",
    "In the common case, each read task produces a single output block. Read tasks may split the output into multiple blocks if the data exceeds the target max block size (2GiB by default). This automatic block splitting avoids out-of-memory errors when reading very large single files (e.g., a 100-gigabyte CSV file). All of the built-in datasources except for JSON currently support automatic block splitting."
   ]
  },
  {
   "cell_type": "markdown",
   "id": "8da96b47-0065-46da-8071-2cc91246f85b",
   "metadata": {},
   "source": [
    "#### Deferred Read Task Execution\n",
    "\n",
    "When a Dataset is created using `ray.data.read_*`, only the first read task will be executed initially. This avoids blocking Dataset creation on the reading of all data files, enabling inspection functions like `ds.schema()` without incurring high read costs. `<ray.data.Dataset.schema>`() and `ds.show()` can be used right away. Executing further transformations on the Dataset will trigger execution of all read tasks."
   ]
  },
  {
   "cell_type": "markdown",
   "id": "fa571512-a332-4e91-a6ea-d58c507d239e",
   "metadata": {
    "tags": []
   },
   "source": [
    "#### Dataset Transforms\n",
    "\n",
    "Datasets use either Ray tasks or Ray actors to transform datasets (i.e., for `ds.map_batches()`, `ds.map()`, or `ds.flat_map()`). By default, tasks are used `(compute=\"tasks\")`. Actors can be specified with `compute=\"actors\"`, in which case an autoscaling pool of Ray actors will be used to apply transformations. Using actors allows for expensive state initialization (e.g., for GPU-based tasks) to be re-used. Whichever compute strategy is used, each map task generally takes in one block and produces one or more output blocks. The output block splitting rule is the same as for file reads (blocks are split after hitting the target max block size of 2GiB):\n",
    "\n",
    "<img src=\"https://docs.ray.io/en/master/_images/dataset-map.svg\" height=\"25%\" width=\"50%\">"
   ]
  },
  {
   "cell_type": "markdown",
   "id": "24d98b3e-f13a-4c20-9adf-94d53233692e",
   "metadata": {},
   "source": [
    "#### Shuffling Data\n",
    "\n",
    "Certain operations like `ds.sort()` and `ds.groupby()` require data blocks to be partitioned by value. Datasets executes this in three phases. First, a wave of sampling tasks determines suitable partition boundaries based on a random sample of data. Second, map tasks divide each input block into a number of output blocks equal to the number of reduce tasks. Third, reduce tasks take assigned output blocks from each map task and combines them into one block. Overall, this strategy generates O(n^2) intermediate objects where n is the number of input blocks.\n",
    "\n",
    "You can also change the partitioning of a Dataset using `ds.random_shuffle()` or `ds.repartition()`. The former should be used if you want to randomize the order of elements in the dataset. The second should be used if you only want to equalize the size of the Dataset blocks (e.g., after a read or transformation that may skew the distribution of block sizes). Note that repartition has two modes, `shuffle=False`, which performs the minimal data movement needed to equalize block sizes, and `shuffle=True`, which performs a full (non-random) distributed shuffle:\n",
    "\n",
    "<img src=\"https://docs.ray.io/en/master/_images/dataset-shuffle.svg\" height=\"25%\" width=\"50%\">"
   ]
  },
  {
   "cell_type": "markdown",
   "id": "bdea6204-f0de-4574-b98a-d9057c14e27b",
   "metadata": {},
   "source": [
    "#### Fault tolerance\n",
    "\n",
    "Datasets relies on task-based [fault tolerance](https://docs.ray.io/en/latest/ray-core/tasks/fault-tolerance.html) in Ray core. Specifically, a `Dataset` will be automatically recovered by Ray in case of failures. This works through **lineage reconstruction**: a Dataset is a collection of Ray objects stored in shared memory, and if any of these objects are lost, then Ray will recreate them by re-executing the task(s) that created them.\n",
    "\n",
    "There are a few cases that are not currently supported: 1. If the original creator of the Dataset dies. This is because the creator stores the metadata for the objects that comprise the Dataset. 2. `For a DatasetPipeline.split()`, we do not support recovery for a consumer failure. When there are multiple consumers, they must all read the split pipeline in lockstep. To recover from this case, the pipeline and all consumers must be restarted together. 3. The `compute=actors` option for transformations."
   ]
  },
  {
   "cell_type": "markdown",
   "id": "6981e221-1406-4625-acdd-d9c914d6c685",
   "metadata": {},
   "source": [
    "#### Execution and Memory Management\n",
    "\n",
    "See [Execution and Memory Management](https://docs.ray.io/en/master/data/memory-management.html#data-advanced) for more details about how Datasets manages memory and optimizations such as lazy vs eager execution."
   ]
  },
  {
   "cell_type": "code",
   "execution_count": 1,
   "id": "048e1661-7411-4ff2-8752-61a564b3987d",
   "metadata": {},
   "outputs": [],
   "source": [
    "import logging, os, random, warnings\n",
    "import ray"
   ]
  },
  {
   "cell_type": "code",
   "execution_count": 2,
   "id": "ce3ba950-f297-42cc-b272-dffab53f79a8",
   "metadata": {},
   "outputs": [],
   "source": [
    "warnings.filterwarnings(\"ignore\")\n",
    "os.environ[\"PYTHONWARNINGS\"] = \"ignore\""
   ]
  },
  {
   "cell_type": "code",
   "execution_count": 3,
   "id": "9c79e3c7-feba-4d77-afc2-c29ae62a4736",
   "metadata": {},
   "outputs": [
    {
     "name": "stdout",
     "output_type": "stream",
     "text": [
      "RayContext(dashboard_url='127.0.0.1:8265', python_version='3.9.12', ray_version='1.13.0', ray_commit='e4ce38d001dbbe09cd21c497fedd03d692b2be3e', address_info={'node_ip_address': '127.0.0.1', 'raylet_ip_address': '127.0.0.1', 'redis_address': None, 'object_store_address': '/tmp/ray/session_2022-07-07_19-01-45_896763_79220/sockets/plasma_store', 'raylet_socket_name': '/tmp/ray/session_2022-07-07_19-01-45_896763_79220/sockets/raylet', 'webui_url': '127.0.0.1:8265', 'session_dir': '/tmp/ray/session_2022-07-07_19-01-45_896763_79220', 'metrics_export_port': 64742, 'gcs_address': '127.0.0.1:65293', 'address': '127.0.0.1:65293', 'node_id': '5bf0502f59e86e0cfbfcd26939e560fa796efb271de254c835504c38'})\n"
     ]
    }
   ],
   "source": [
    "if ray.is_initialized:\n",
    "    ray.shutdown()\n",
    "ctx = ray.init(logging_level=logging.ERROR)\n",
    "print(ctx)"
   ]
  },
  {
   "cell_type": "code",
   "execution_count": 4,
   "id": "aa0cf1de-71d7-478e-a13e-3c53ae0ab115",
   "metadata": {},
   "outputs": [
    {
     "name": "stdout",
     "output_type": "stream",
     "text": [
      "Dashboard url: http://127.0.0.1:8265\n"
     ]
    }
   ],
   "source": [
    "print(f\"Dashboard url: http://{ctx.address_info['webui_url']}\")"
   ]
  },
  {
   "cell_type": "markdown",
   "id": "032316d9-cec9-4166-ac02-aa3490b625f9",
   "metadata": {},
   "source": [
    "### Creating a simple Ray Dataset"
   ]
  },
  {
   "cell_type": "markdown",
   "id": "7ffdbd1d-7083-44b6-918d-de1312af52f2",
   "metadata": {},
   "source": [
    "Let's create a generic dataset of 100K integers and look at the schema and underlying datatype. The difference between `show` and `take` is that the former takes one item at time and prints it, while the latter iterates over row items from the dataset, appends to a list and returns it. Underneath, `ds.show()` calls `ds.take()`."
   ]
  },
  {
   "cell_type": "code",
   "execution_count": 5,
   "id": "e2460a28-e0dd-4745-b52b-2a66c74c48e1",
   "metadata": {},
   "outputs": [
    {
     "data": {
      "text/plain": [
       "100000"
      ]
     },
     "execution_count": 5,
     "metadata": {},
     "output_type": "execute_result"
    }
   ],
   "source": [
    "ds = ray.data.range(100_000)\n",
    "ds.count()"
   ]
  },
  {
   "cell_type": "code",
   "execution_count": 6,
   "id": "2c44168c-e450-4d87-817c-e3513fda6f68",
   "metadata": {},
   "outputs": [
    {
     "data": {
      "text/plain": [
       "int"
      ]
     },
     "execution_count": 6,
     "metadata": {},
     "output_type": "execute_result"
    }
   ],
   "source": [
    "ds.schema()"
   ]
  },
  {
   "cell_type": "code",
   "execution_count": 7,
   "id": "da5a1b99-4cd1-4908-8c19-43d2bc35c518",
   "metadata": {},
   "outputs": [
    {
     "name": "stdout",
     "output_type": "stream",
     "text": [
      "0\n",
      "1\n",
      "2\n",
      "3\n",
      "4\n"
     ]
    }
   ],
   "source": [
    "ds.show(5)"
   ]
  },
  {
   "cell_type": "code",
   "execution_count": 8,
   "id": "da31060e-b56c-4e9b-98d3-e935257989e0",
   "metadata": {},
   "outputs": [
    {
     "data": {
      "text/plain": [
       "[0, 1, 2, 3, 4]"
      ]
     },
     "execution_count": 8,
     "metadata": {},
     "output_type": "execute_result"
    }
   ],
   "source": [
    "ds.take(5)"
   ]
  },
  {
   "cell_type": "markdown",
   "id": "6f6ad0f2-6341-47a3-ab50-3ca78a7d76a0",
   "metadata": {},
   "source": [
    "### Creating a large Ray Dataset"
   ]
  },
  {
   "cell_type": "markdown",
   "id": "de79f73a-b7a5-42f6-bfab-e0db44c13866",
   "metadata": {},
   "source": [
    "Let's create a synthetic dataset, *Homeowners*, of Arrow records (750K) with several columns and data associated with it. "
   ]
  },
  {
   "cell_type": "code",
   "execution_count": 9,
   "id": "a0b84110-bcc8-4ea3-bdf2-ff6031caf6d1",
   "metadata": {},
   "outputs": [
    {
     "data": {
      "text/plain": [
       "[{'id': 1,\n",
       "  'ssn': None,\n",
       "  'name': None,\n",
       "  'amount': 1.5,\n",
       "  'interest': 0.4,\n",
       "  'state': 'UT',\n",
       "  'marital_status': 'married',\n",
       "  'property': 'rental',\n",
       "  'dependents': 1,\n",
       "  'defaulted': 0,\n",
       "  'gender': 'U'},\n",
       " {'id': 2,\n",
       "  'ssn': None,\n",
       "  'name': None,\n",
       "  'amount': 3.0,\n",
       "  'interest': 0.30000000000000004,\n",
       "  'state': 'TX',\n",
       "  'marital_status': 'single',\n",
       "  'property': 'rental',\n",
       "  'dependents': 5,\n",
       "  'defaulted': 0,\n",
       "  'gender': 'U'}]"
      ]
     },
     "execution_count": 9,
     "metadata": {},
     "output_type": "execute_result"
    }
   ],
   "source": [
    "STATES = [\"CA\", \"AZ\", \"OR\", \"WA\", \"TX\", \"UT\"]\n",
    "M_STATUS = [\"married\", \"single\", \"domestic\", \"divorced\", \"undeclared\"]\n",
    "GENDER = [\"F\", \"M\", \"U\"]\n",
    "HOME_OWNER = [\"condo\", \"house\", \"rental\"]\n",
    "\n",
    "items = [{\"id\": i,\n",
    "          \"ssn\": None,\n",
    "          \"name\": None,\n",
    "          \"amount\": i * 1.5, \n",
    "          \"interest\": random.randint(1,5) * .1,\n",
    "          \"state\": random.choice(STATES),\n",
    "          \"marital_status\": random.choice(M_STATUS),\n",
    "          \"property\": random.choice(HOME_OWNER),\n",
    "          \"dependents\": random.randint(1, 5),\n",
    "          \"defaulted\": random.randint(0,1),\n",
    "          \"gender\":random.choice(GENDER) } for i in range(1,750_001)]\n",
    "items[:2]"
   ]
  },
  {
   "cell_type": "markdown",
   "id": "6e2ba080-9860-46d0-a7b0-0475a0886b73",
   "metadata": {},
   "source": [
    "#### Creating a dataset from list of dictionary items"
   ]
  },
  {
   "cell_type": "code",
   "execution_count": 10,
   "id": "71a5f028-aa5b-4e40-9d89-c2458eae5a2e",
   "metadata": {},
   "outputs": [
    {
     "data": {
      "text/plain": [
       "Dataset(num_blocks=200, num_rows=750000, schema={id: int64, ssn: null, name: null, amount: double, interest: double, state: string, marital_status: string, property: string, dependents: int64, defaulted: int64, gender: string})"
      ]
     },
     "execution_count": 10,
     "metadata": {},
     "output_type": "execute_result"
    }
   ],
   "source": [
    "arrow_ds = ray.data.from_items(items)\n",
    "arrow_ds"
   ]
  },
  {
   "cell_type": "code",
   "execution_count": 11,
   "id": "e8a52903-b132-4c7a-9920-274d5620a3e4",
   "metadata": {},
   "outputs": [
    {
     "data": {
      "text/plain": [
       "750000"
      ]
     },
     "execution_count": 11,
     "metadata": {},
     "output_type": "execute_result"
    }
   ],
   "source": [
    "arrow_ds.count()"
   ]
  },
  {
   "cell_type": "code",
   "execution_count": 12,
   "id": "82e6d3d5-104d-40c6-be29-92b513d8abd0",
   "metadata": {},
   "outputs": [
    {
     "data": {
      "text/plain": [
       "[ArrowRow({'id': 1,\n",
       "           'ssn': None,\n",
       "           'name': None,\n",
       "           'amount': 1.5,\n",
       "           'interest': 0.4,\n",
       "           'state': 'UT',\n",
       "           'marital_status': 'married',\n",
       "           'property': 'rental',\n",
       "           'dependents': 1,\n",
       "           'defaulted': 0,\n",
       "           'gender': 'U'})]"
      ]
     },
     "execution_count": 12,
     "metadata": {},
     "output_type": "execute_result"
    }
   ],
   "source": [
    "arrow_ds.take(1)"
   ]
  },
  {
   "cell_type": "code",
   "execution_count": 13,
   "id": "169d1e5c-4d22-4ec8-98e7-a98e8c977b10",
   "metadata": {},
   "outputs": [
    {
     "data": {
      "text/plain": [
       "<bound method Dataset.schema of Dataset(num_blocks=200, num_rows=750000, schema={id: int64, ssn: null, name: null, amount: double, interest: double, state: string, marital_status: string, property: string, dependents: int64, defaulted: int64, gender: string})>"
      ]
     },
     "execution_count": 13,
     "metadata": {},
     "output_type": "execute_result"
    }
   ],
   "source": [
    "arrow_ds.schema"
   ]
  },
  {
   "cell_type": "markdown",
   "id": "5bf52fcd-041c-4008-93db-e86cd8f6fd1c",
   "metadata": {},
   "source": [
    "### Saving datasets and reading as a parquet file\n",
    "Ray datasets support myriad data formats and public storage. Let's save this dataset as a parquet file and create `N` partitions"
   ]
  },
  {
   "cell_type": "code",
   "execution_count": 14,
   "id": "a3dbf30b-79dc-41ee-8aae-204b0fa8cd75",
   "metadata": {},
   "outputs": [
    {
     "name": "stderr",
     "output_type": "stream",
     "text": [
      "Repartition: 100%|██████████████████████████████████████████████████████████████████████████████████████████████████████████████████████████████████████████████████████████| 5/5 [00:00<00:00, 34.23it/s]\n",
      "Write Progress: 100%|███████████████████████████████████████████████████████████████████████████████████████████████████████████████████████████████████████████████████████| 5/5 [00:00<00:00, 30.14it/s]\n"
     ]
    }
   ],
   "source": [
    "arrow_ds.repartition(5).write_parquet(\"data/interest.parquet\")"
   ]
  },
  {
   "cell_type": "code",
   "execution_count": 15,
   "id": "77ca6b26-4a08-44a7-8b9b-5a7582945384",
   "metadata": {},
   "outputs": [
    {
     "name": "stdout",
     "output_type": "stream",
     "text": [
      "total 20856\n",
      "-rw-r--r--  1 jules  staff  2139597 Jul  7 19:01 bbe9499de248405582a1016f120336c5_000000.parquet\n",
      "-rw-r--r--  1 jules  staff  2121389 Jul  7 19:01 bbe9499de248405582a1016f120336c5_000001.parquet\n",
      "-rw-r--r--  1 jules  staff  2119633 Jul  7 19:01 bbe9499de248405582a1016f120336c5_000002.parquet\n",
      "-rw-r--r--  1 jules  staff  2119261 Jul  7 19:01 bbe9499de248405582a1016f120336c5_000003.parquet\n",
      "-rw-r--r--  1 jules  staff  2169581 Jul  7 19:01 bbe9499de248405582a1016f120336c5_000004.parquet\n"
     ]
    }
   ],
   "source": [
    "!ls -l data/interest.parquet"
   ]
  },
  {
   "cell_type": "code",
   "execution_count": 16,
   "id": "5a792f3d-9ce7-4c58-be1c-ce16e2db6166",
   "metadata": {},
   "outputs": [],
   "source": [
    "arrow_ds = ray.data.read_parquet(\"data/interest.parquet\")"
   ]
  },
  {
   "cell_type": "code",
   "execution_count": 17,
   "id": "05daad0f-35f4-4246-b4b0-4b31d1bbea31",
   "metadata": {},
   "outputs": [
    {
     "data": {
      "text/plain": [
       "[ArrowRow({'id': 1,\n",
       "           'ssn': None,\n",
       "           'name': None,\n",
       "           'amount': 1.5,\n",
       "           'interest': 0.4,\n",
       "           'state': 'UT',\n",
       "           'marital_status': 'married',\n",
       "           'property': 'rental',\n",
       "           'dependents': 1,\n",
       "           'defaulted': 0,\n",
       "           'gender': 'U'})]"
      ]
     },
     "execution_count": 17,
     "metadata": {},
     "output_type": "execute_result"
    }
   ],
   "source": [
    "arrow_ds.take(1)"
   ]
  },
  {
   "cell_type": "markdown",
   "id": "81ef6213-e44c-4d63-9da7-c6df4a74ada5",
   "metadata": {},
   "source": [
    "### Transforming data with simple methods\n",
    "\n",
    "Ray datasets support transformation in parallel using `map`. It uses Ray tasks to execute eagerly or synchronously. Among others [transformations](https://docs.ray.io/en/latest/data/package-ref.html#dataset-api), it supports`filter`, `flat_map`, `groupBy`etc.\n",
    "\n",
    "Let's try a using `.map()`, `.filter()` and `.groupBy` on our dataset. The `map()` and `filter()` are\n",
    "row-based operations. This can be expensive for large datasets. However you can use `map_batches(...)` with batch_size=4096 as default. This will create a task per block and each batch will be vectorized and executed in parallel. Ray tasks are created per block for a map operation. \n",
    "\n",
    "Let's try first with row-based"
   ]
  },
  {
   "cell_type": "code",
   "execution_count": 18,
   "id": "cc9f6e9f-c100-4b6d-9647-340a42686b14",
   "metadata": {},
   "outputs": [
    {
     "name": "stderr",
     "output_type": "stream",
     "text": [
      "Read->Filter: 100%|█████████████████████████████████████████████████████████████████████████████████████████████████████████████████████████████████████████████████████████| 5/5 [00:04<00:00,  1.24it/s]"
     ]
    },
    {
     "name": "stdout",
     "output_type": "stream",
     "text": [
      "CPU times: user 39.7 ms, sys: 17 ms, total: 56.7 ms\n",
      "Wall time: 4.03 s\n"
     ]
    },
    {
     "name": "stderr",
     "output_type": "stream",
     "text": [
      "\n"
     ]
    },
    {
     "data": {
      "text/plain": [
       "[ArrowRow({'id': 6667,\n",
       "           'ssn': None,\n",
       "           'name': None,\n",
       "           'amount': 10000.5,\n",
       "           'interest': 0.5,\n",
       "           'state': 'AZ',\n",
       "           'marital_status': 'married',\n",
       "           'property': 'rental',\n",
       "           'dependents': 2,\n",
       "           'defaulted': 0,\n",
       "           'gender': 'M'}),\n",
       " ArrowRow({'id': 6668,\n",
       "           'ssn': None,\n",
       "           'name': None,\n",
       "           'amount': 10002.0,\n",
       "           'interest': 0.1,\n",
       "           'state': 'CA',\n",
       "           'marital_status': 'domestic',\n",
       "           'property': 'condo',\n",
       "           'dependents': 3,\n",
       "           'defaulted': 1,\n",
       "           'gender': 'F'}),\n",
       " ArrowRow({'id': 6669,\n",
       "           'ssn': None,\n",
       "           'name': None,\n",
       "           'amount': 10003.5,\n",
       "           'interest': 0.2,\n",
       "           'state': 'OR',\n",
       "           'marital_status': 'divorced',\n",
       "           'property': 'condo',\n",
       "           'dependents': 2,\n",
       "           'defaulted': 0,\n",
       "           'gender': 'F'})]"
      ]
     },
     "execution_count": 18,
     "metadata": {},
     "output_type": "execute_result"
    }
   ],
   "source": [
    "%%time\n",
    "arrow_ds.filter(lambda x: x['amount'] > 10000).take(3)"
   ]
  },
  {
   "cell_type": "markdown",
   "id": "a133d6ab-04e1-4362-85e7-8e48430fc614",
   "metadata": {},
   "source": [
    "Let's try a `.map_batches()`, which is vectorized "
   ]
  },
  {
   "cell_type": "code",
   "execution_count": 19,
   "id": "721d15b1-44bd-47ef-a06e-9c472f1701c2",
   "metadata": {},
   "outputs": [
    {
     "name": "stderr",
     "output_type": "stream",
     "text": [
      "Read->Map_Batches: 100%|████████████████████████████████████████████████████████████████████████████████████████████████████████████████████████████████████████████████████| 5/5 [00:00<00:00, 17.36it/s]"
     ]
    },
    {
     "name": "stdout",
     "output_type": "stream",
     "text": [
      "CPU times: user 29.8 ms, sys: 10.2 ms, total: 40 ms\n",
      "Wall time: 308 ms\n"
     ]
    },
    {
     "name": "stderr",
     "output_type": "stream",
     "text": [
      "\n"
     ]
    },
    {
     "data": {
      "text/plain": [
       "[PandasRow({'id': 6667,\n",
       "            'ssn': None,\n",
       "            'name': None,\n",
       "            'amount': 10000.5,\n",
       "            'interest': 0.5,\n",
       "            'state': 'AZ',\n",
       "            'marital_status': 'married',\n",
       "            'property': 'rental',\n",
       "            'dependents': 2,\n",
       "            'defaulted': 0,\n",
       "            'gender': 'M'}),\n",
       " PandasRow({'id': 6668,\n",
       "            'ssn': None,\n",
       "            'name': None,\n",
       "            'amount': 10002.0,\n",
       "            'interest': 0.1,\n",
       "            'state': 'CA',\n",
       "            'marital_status': 'domestic',\n",
       "            'property': 'condo',\n",
       "            'dependents': 3,\n",
       "            'defaulted': 1,\n",
       "            'gender': 'F'}),\n",
       " PandasRow({'id': 6669,\n",
       "            'ssn': None,\n",
       "            'name': None,\n",
       "            'amount': 10003.5,\n",
       "            'interest': 0.2,\n",
       "            'state': 'OR',\n",
       "            'marital_status': 'divorced',\n",
       "            'property': 'condo',\n",
       "            'dependents': 2,\n",
       "            'defaulted': 0,\n",
       "            'gender': 'F'})]"
      ]
     },
     "execution_count": 19,
     "metadata": {},
     "output_type": "execute_result"
    }
   ],
   "source": [
    "%%time\n",
    "arrow_ds.map_batches(lambda df: df[df[\"amount\"] > 10000]).take(3)"
   ]
  },
  {
   "cell_type": "markdown",
   "id": "c1afa97a-248f-4c60-821b-8ec7bff2d469",
   "metadata": {},
   "source": [
    "You can see that `.map_batches()` is a lot faster than row based. So for large datasets use \n",
    "`.map_batches()`\n",
    "\n",
    "Let's try a filter operation: both per row operation and per block as vectorized"
   ]
  },
  {
   "cell_type": "code",
   "execution_count": 20,
   "id": "dc9b8286-942c-4c9d-af44-44c4b62120d9",
   "metadata": {},
   "outputs": [
    {
     "name": "stderr",
     "output_type": "stream",
     "text": [
      "Read->Filter: 100%|█████████████████████████████████████████████████████████████████████████████████████████████████████████████████████████████████████████████████████████| 5/5 [00:01<00:00,  2.93it/s]"
     ]
    },
    {
     "name": "stdout",
     "output_type": "stream",
     "text": [
      "CPU times: user 23.3 ms, sys: 10.5 ms, total: 33.8 ms\n",
      "Wall time: 1.71 s\n"
     ]
    },
    {
     "name": "stderr",
     "output_type": "stream",
     "text": [
      "\n"
     ]
    },
    {
     "data": {
      "text/plain": [
       "[ArrowRow({'id': 6668,\n",
       "           'ssn': None,\n",
       "           'name': None,\n",
       "           'amount': 10002.0,\n",
       "           'interest': 0.1,\n",
       "           'state': 'CA',\n",
       "           'marital_status': 'domestic',\n",
       "           'property': 'condo',\n",
       "           'dependents': 3,\n",
       "           'defaulted': 1,\n",
       "           'gender': 'F'}),\n",
       " ArrowRow({'id': 6672,\n",
       "           'ssn': None,\n",
       "           'name': None,\n",
       "           'amount': 10008.0,\n",
       "           'interest': 0.4,\n",
       "           'state': 'CA',\n",
       "           'marital_status': 'undeclared',\n",
       "           'property': 'condo',\n",
       "           'dependents': 4,\n",
       "           'defaulted': 1,\n",
       "           'gender': 'U'})]"
      ]
     },
     "execution_count": 20,
     "metadata": {},
     "output_type": "execute_result"
    }
   ],
   "source": [
    "%%time\n",
    "arrow_ds.filter(lambda x: x['amount'] > 10000.00 and x['state'] == 'CA').take(2)"
   ]
  },
  {
   "cell_type": "code",
   "execution_count": 21,
   "id": "e67df2b3-bc69-480a-b125-ae57c0e11ae1",
   "metadata": {},
   "outputs": [
    {
     "name": "stderr",
     "output_type": "stream",
     "text": [
      "Read->Map_Batches: 100%|████████████████████████████████████████████████████████████████████████████████████████████████████████████████████████████████████████████████████| 5/5 [00:00<00:00, 37.00it/s]"
     ]
    },
    {
     "name": "stdout",
     "output_type": "stream",
     "text": [
      "CPU times: user 18.5 ms, sys: 6.2 ms, total: 24.7 ms\n",
      "Wall time: 144 ms\n"
     ]
    },
    {
     "name": "stderr",
     "output_type": "stream",
     "text": [
      "\n"
     ]
    },
    {
     "data": {
      "text/plain": [
       "[PandasRow({'id': 3,\n",
       "            'ssn': None,\n",
       "            'name': None,\n",
       "            'amount': 4.5,\n",
       "            'interest': 0.5,\n",
       "            'state': 'CA',\n",
       "            'marital_status': 'undeclared',\n",
       "            'property': 'condo',\n",
       "            'dependents': 4,\n",
       "            'defaulted': 0,\n",
       "            'gender': 'U'}),\n",
       " PandasRow({'id': 5,\n",
       "            'ssn': None,\n",
       "            'name': None,\n",
       "            'amount': 7.5,\n",
       "            'interest': 0.30000000000000004,\n",
       "            'state': 'CA',\n",
       "            'marital_status': 'married',\n",
       "            'property': 'house',\n",
       "            'dependents': 1,\n",
       "            'defaulted': 0,\n",
       "            'gender': 'U'}),\n",
       " PandasRow({'id': 8,\n",
       "            'ssn': None,\n",
       "            'name': None,\n",
       "            'amount': 12.0,\n",
       "            'interest': 0.2,\n",
       "            'state': 'CA',\n",
       "            'marital_status': 'single',\n",
       "            'property': 'rental',\n",
       "            'dependents': 5,\n",
       "            'defaulted': 0,\n",
       "            'gender': 'U'})]"
      ]
     },
     "execution_count": 21,
     "metadata": {},
     "output_type": "execute_result"
    }
   ],
   "source": [
    "%%time\n",
    "arrow_ds.map_batches(lambda df: df[[df[\"amount\"] > 10000] and df[\"state\"] == \"CA\"]).take(3)"
   ]
  },
  {
   "cell_type": "markdown",
   "id": "8ce01dfc-317b-4e71-bf54-bf07aee2b0d8",
   "metadata": {},
   "source": [
    "Use `groupBy` state and compute the count\n",
    "\n",
    "Under the hood is distributed parallel group and vectorized not using UDFs"
   ]
  },
  {
   "cell_type": "code",
   "execution_count": 22,
   "id": "1cbee373-1488-4385-a9b7-075212e5de8e",
   "metadata": {},
   "outputs": [
    {
     "name": "stderr",
     "output_type": "stream",
     "text": [
      "Read: 100%|████████████████████████████████████████████████████████████████████████████████████████████████████████████████████████████████████████████████████████████████| 5/5 [00:00<00:00, 239.20it/s]\n",
      "Sort Sample: 100%|████████████████████████████████████████████████████████████████████████████████████████████████████████████████████████████████████████████████████████| 5/5 [00:00<00:00, 3508.12it/s]\n",
      "Shuffle Map: 100%|██████████████████████████████████████████████████████████████████████████████████████████████████████████████████████████████████████████████████████████| 5/5 [00:00<00:00,  5.24it/s]\n",
      "Shuffle Reduce: 100%|█████████████████████████████████████████████████████████████████████████████████████████████████████████████████████████████████████████████████████| 5/5 [00:00<00:00, 1000.84it/s]\n"
     ]
    }
   ],
   "source": [
    "results = arrow_ds.groupby(\"state\").count()"
   ]
  },
  {
   "cell_type": "code",
   "execution_count": 23,
   "id": "36af0a8d-c785-42cc-9771-b0597fe2208c",
   "metadata": {},
   "outputs": [
    {
     "name": "stdout",
     "output_type": "stream",
     "text": [
      "{'state': 'AZ', 'count()': 125563}\n",
      "{'state': 'CA', 'count()': 125251}\n",
      "{'state': 'OR', 'count()': 124402}\n",
      "{'state': 'TX', 'count()': 125151}\n",
      "{'state': 'UT', 'count()': 124488}\n",
      "{'state': 'WA', 'count()': 125145}\n"
     ]
    }
   ],
   "source": [
    "results.show()"
   ]
  },
  {
   "cell_type": "markdown",
   "id": "a2696939-7e54-47a1-91fb-e8a30f61257d",
   "metadata": {},
   "source": [
    "Get the max of these columns"
   ]
  },
  {
   "cell_type": "code",
   "execution_count": 24,
   "id": "7c1843ad-74f0-40af-ab06-0e91154b178a",
   "metadata": {},
   "outputs": [
    {
     "name": "stderr",
     "output_type": "stream",
     "text": [
      "Read: 100%|████████████████████████████████████████████████████████████████████████████████████████████████████████████████████████████████████████████████████████████████| 5/5 [00:00<00:00, 239.02it/s]\n",
      "Shuffle Map: 100%|█████████████████████████████████████████████████████████████████████████████████████████████████████████████████████████████████████████████████████████| 5/5 [00:00<00:00, 853.09it/s]\n",
      "Shuffle Reduce: 100%|██████████████████████████████████████████████████████████████████████████████████████████████████████████████████████████████████████████████████████| 1/1 [00:00<00:00, 337.73it/s]\n"
     ]
    },
    {
     "data": {
      "text/plain": [
       "ArrowRow({'max(amount)': 1125000.0,\n",
       "          'max(interest)': 0.5,\n",
       "          'max(dependents)': 5})"
      ]
     },
     "execution_count": 24,
     "metadata": {},
     "output_type": "execute_result"
    }
   ],
   "source": [
    "results=arrow_ds.max([\"amount\", \"interest\", \"dependents\"])\n",
    "results"
   ]
  },
  {
   "cell_type": "markdown",
   "id": "cf2dd6ac-6aa0-44dc-91ef-96382725eef9",
   "metadata": {},
   "source": [
    "### Accessing datasets using batches or iterating by rows\n",
    "\n",
    "Datasets can be passed to Ray tasks or actors and read with `.iter_batches()` or `.iter_rows()`. This does not incur a copy, since the blocks of the Dataset are passed by reference as Ray objects. Splitting data as shards and passing to individual Ray Actors to process shards in a common Ray pattern used in distributed training with Ray actors.\n",
    "\n",
    "Let's examine how we can process a list of shards with a `BatchWorker` Actor  in a distributed fashion\n",
    "\n",
    "<img src=\"images/batch_worker.jpg\" width=\"60%\" height=\"30%\">"
   ]
  },
  {
   "cell_type": "code",
   "execution_count": 25,
   "id": "c83caaaa-6871-4d67-86a3-4c3c6f000c8d",
   "metadata": {},
   "outputs": [],
   "source": [
    "@ray.remote\n",
    "class BatchWorker:\n",
    "    def __init__(self, rank):\n",
    "        self.rank = rank\n",
    "        self.processed= 0\n",
    "    \n",
    "    @ray.method(num_returns=2)\n",
    "    def process_shard_list(self, shard: ray.data.Dataset) -> tuple:\n",
    "        for batch in shard.iter_batches(batch_size=1024):\n",
    "            # here you could do something with the batch such as feature\n",
    "            # processing, transformation, and \n",
    "            # save as a parquet files \n",
    "            self.processed = self.processed + len(batch)\n",
    "        # return items processed, worker id\n",
    "        return (self.processed, self.rank)     "
   ]
  },
  {
   "cell_type": "markdown",
   "id": "a58e4b2d-acf0-4f50-90ea-f0b43f9e66f1",
   "metadata": {},
   "source": [
    "#### Create batch workers as Ray actors\n",
    "Each actor will get a shard, list of rows, to work on. We split\n",
    "our dataset `arrow_ds` into five shards. Each `BatchWorker` gets a shard.\n",
    "`.split`() splits shards across these batch of workers by using the `locality_hints`"
   ]
  },
  {
   "cell_type": "code",
   "execution_count": 26,
   "id": "7371d6f7-b46c-42f3-b820-dfe3278bed66",
   "metadata": {},
   "outputs": [
    {
     "name": "stderr",
     "output_type": "stream",
     "text": [
      "Read progress: 100%|███████████████████████████████████████████████████████████████████████████████████████████████████████████████████████████████████████████████████████| 5/5 [00:00<00:00, 173.60it/s]"
     ]
    },
    {
     "name": "stdout",
     "output_type": "stream",
     "text": [
      "Shard row: Dataset(num_blocks=1, num_rows=150000, schema={id: int64, ssn: null, name: null, amount: double, interest: double, state: string, marital_status: string, property: string, dependents: int64, defaulted: int64, gender: string})\n",
      "Number of shards:5\n",
      "Number of shard workers:5\n"
     ]
    },
    {
     "name": "stderr",
     "output_type": "stream",
     "text": [
      "\n"
     ]
    }
   ],
   "source": [
    "batch_workers = [BatchWorker.remote(i) for i in range(1, 6)]\n",
    "\n",
    "shards = arrow_ds.split(len(batch_workers), locality_hints=batch_workers)\n",
    "\n",
    "print(f\"Shard row: {shards[0]}\")\n",
    "print(f\"Number of shards:{len(shards)}\")\n",
    "print(f\"Number of shard workers:{len(batch_workers)}\")"
   ]
  },
  {
   "cell_type": "markdown",
   "id": "3db79aff-6118-4be7-b642-ba06a5d4c939",
   "metadata": {},
   "source": [
    "### Launch `BatchWorker` actors\n",
    "\n",
    "Process each shard. Each `BatchWorker.process_shard_list()` returns a object RefID with a tuple as its value. What we get from this comprehension is a list objectRefs as tuples."
   ]
  },
  {
   "cell_type": "code",
   "execution_count": 27,
   "id": "a09dcec4-50e3-493c-9a4b-090019d41eed",
   "metadata": {},
   "outputs": [
    {
     "data": {
      "text/plain": [
       "([[ObjectRef(e0513aa905843ccf90efe224a3151b02d4033d980100000001000000),\n",
       "   ObjectRef(e0513aa905843ccf90efe224a3151b02d4033d980100000002000000)],\n",
       "  [ObjectRef(5f70e045687d2f9a6819c5bed0a95472f226c0350100000001000000),\n",
       "   ObjectRef(5f70e045687d2f9a6819c5bed0a95472f226c0350100000002000000)],\n",
       "  [ObjectRef(a4dc031465f905f86104cc17143cb3c7f447ca770100000001000000),\n",
       "   ObjectRef(a4dc031465f905f86104cc17143cb3c7f447ca770100000002000000)],\n",
       "  [ObjectRef(9e7872a82e7456d9f7f10cd3664631ec78035d700100000001000000),\n",
       "   ObjectRef(9e7872a82e7456d9f7f10cd3664631ec78035d700100000002000000)],\n",
       "  [ObjectRef(cd25e647a728676bf7a0da0a6681d4f66a2a0b390100000001000000),\n",
       "   ObjectRef(cd25e647a728676bf7a0da0a6681d4f66a2a0b390100000002000000)]],\n",
       " 5)"
      ]
     },
     "execution_count": 27,
     "metadata": {},
     "output_type": "execute_result"
    }
   ],
   "source": [
    "object_refs = [w.process_shard_list.remote(s) for w, s in zip(batch_workers, shards)]\n",
    "object_refs, len(object_refs)"
   ]
  },
  {
   "cell_type": "markdown",
   "id": "704782b6-ff54-4b99-8fd1-3c51635e0e02",
   "metadata": {},
   "source": [
    "Fetch the values from the returned list of ObjectRefs, which is a tuple of (batch_size, worker_rank)."
   ]
  },
  {
   "cell_type": "code",
   "execution_count": 28,
   "id": "bb23e87b-0b28-43cf-b180-40a3e7fd2974",
   "metadata": {},
   "outputs": [
    {
     "data": {
      "text/plain": [
       "[[150000, 1], [150000, 2], [150000, 3], [150000, 4], [150000, 5]]"
      ]
     },
     "execution_count": 28,
     "metadata": {},
     "output_type": "execute_result"
    }
   ],
   "source": [
    "values = [ray.get(ref) for ref in object_refs]\n",
    "values"
   ]
  },
  {
   "cell_type": "markdown",
   "id": "6da5aae6-029a-4689-8c36-2f1ca59050ee",
   "metadata": {},
   "source": [
    "### Creating and using Ray dataset pipelines\n",
    "\n",
    "What are dataset pipelines and how are they different from Ray datasets? \n",
    "\n",
    "Datasets perform transformation or operations eagerly or synchronously, whereas [DataPipelines](https://docs.ray.io/en/latest/data/package-ref.html#datasetpipeline-api) can execute in an overlaped pipeline executions. For example, if you had operations that require reading from file, transforming data, and then doing some minor feature engineering, these operations can be executed in a normal pipeline fashion. This allows for the overlapped execution of data input (e.g., reading files), computation (e.g. feature preprocessing), and training (e.g., distributed ML training).\n",
    "\n",
    "A `DatasetPipeline` can be constructed in two ways: either by pipelining the execution of an existing Dataset (via `Dataset.window`) or generating repeats of an existing Dataset (via `Dataset.repeat`). \n",
    "\n",
    "Let's have a go at it and see what we can do with our synthetic data from above.\n"
   ]
  },
  {
   "cell_type": "markdown",
   "id": "38965a05-d9ce-449f-9db0-84171c00303a",
   "metadata": {},
   "source": [
    "### Using Dataset.window"
   ]
  },
  {
   "cell_type": "markdown",
   "id": "be35cd62-b5f5-494c-bd56-b005644a5558",
   "metadata": {},
   "source": [
    "Create some functions or operations to be executed in a overlapped manner in the pipeline. These functions\n",
    "are simple to illustrate a point. But they can be complex for a particular use case.\n",
    "\n",
    " _Questions for clarification_:\n",
    " * _how can we send arguments to these pipeline functions?_"
   ]
  },
  {
   "cell_type": "code",
   "execution_count": 29,
   "id": "f2fbec08-e650-4a9c-a360-b724fdc1055f",
   "metadata": {},
   "outputs": [],
   "source": [
    "def divide_row_value(row: ray.data.impl.arrow_block.ArrowRow) -> int:\n",
    "    return round(row / 2)"
   ]
  },
  {
   "cell_type": "code",
   "execution_count": 30,
   "id": "fe4a2303-b340-4205-99d6-03ca14a91e6e",
   "metadata": {},
   "outputs": [],
   "source": [
    "def double_row_value(row: ray.data.impl.arrow_block.ArrowRow) -> int:\n",
    "    return row * 2"
   ]
  },
  {
   "cell_type": "code",
   "execution_count": 31,
   "id": "04dab574-38c0-4900-a36d-c6fe6a774dbc",
   "metadata": {},
   "outputs": [],
   "source": [
    "def modulo_row_value(row: ray.data.impl.arrow_block.ArrowRow) -> int:\n",
    "    return row % random.randint(1, 42)"
   ]
  },
  {
   "cell_type": "markdown",
   "id": "5a426771-8f76-4ab0-ad36-ceef903772b3",
   "metadata": {},
   "source": [
    "#### Create a window based pipeline\n",
    "With a each window of 50 blocks. \n",
    "\n",
    "_Questions for clarification_:\n",
    " * _why the number of stages is 2?_"
   ]
  },
  {
   "cell_type": "code",
   "execution_count": 32,
   "id": "7aebd77d-88e2-459a-ad83-c3e9ed1a7672",
   "metadata": {},
   "outputs": [
    {
     "data": {
      "text/plain": [
       "DatasetPipeline(num_windows=4, num_stages=2)"
      ]
     },
     "execution_count": 32,
     "metadata": {},
     "output_type": "execute_result"
    }
   ],
   "source": [
    "ds_pipe = ds.window(blocks_per_window=50)\n",
    "ds_pipe"
   ]
  },
  {
   "cell_type": "markdown",
   "id": "1757d2fb-f36d-4519-b9de-ab7c02eec0f8",
   "metadata": {},
   "source": [
    "### Applying transforms to pipelines adds more pipeline stages.\n",
    "_Questions for clarification_:\n",
    " * _how can we send arguments to thse pipeline functions?_"
   ]
  },
  {
   "cell_type": "code",
   "execution_count": 33,
   "id": "868c3fc6-e796-4eb7-bbfa-959c41e5c774",
   "metadata": {},
   "outputs": [
    {
     "name": "stdout",
     "output_type": "stream",
     "text": [
      "DatasetPipeline(num_windows=4, num_stages=5)\n"
     ]
    }
   ],
   "source": [
    "ds_pipe = ds_pipe.map(divide_row_value)\n",
    "ds_pipe = ds_pipe.map(double_row_value)\n",
    "ds_pipe = ds_pipe.map(modulo_row_value)\n",
    "print(ds_pipe)"
   ]
  },
  {
   "cell_type": "markdown",
   "id": "08fd6fcb-00f2-44d3-bbaf-55ef50d80c9e",
   "metadata": {},
   "source": [
    "#### Iterate our pipeline\n",
    "\n",
    " * _Questions for clearification_:\n",
    "     * _how is this executed_?\n",
    "     * _why are we iterating over rows_?\n",
    "     * _what is row comprised of? Blocks?_?\n",
    "     * _is the value of the row an already computed value_?\n",
    "     * _if the `num_stages=5`, why am I seeing only stage 0 and 1 in the output of stages?_"
   ]
  },
  {
   "cell_type": "code",
   "execution_count": 34,
   "id": "2cf43855-6977-4192-9c54-479f060b9f7a",
   "metadata": {},
   "outputs": [
    {
     "name": "stderr",
     "output_type": "stream",
     "text": [
      "Stage 0:   0%|                                                                                                                                                                      | 0/4 [00:00<?, ?it/s]\n",
      "  0%|                                                                                                                                                                               | 0/4 [00:00<?, ?it/s]\u001b[A\n",
      "Stage 1:   0%|                                                                                                                                                                      | 0/4 [00:00<?, ?it/s]\u001b[A\n",
      "Stage 0:  50%|███████████████████████████████████████████████████████████████████████████████                                                                               | 2/4 [00:00<00:00,  2.87it/s]\u001b[A\n",
      "Stage 0:  75%|██████████████████████████████████████████████████████████████████████████████████████████████████████████████████████▌                                       | 3/4 [00:00<00:00,  3.83it/s]\u001b[A\n",
      "Stage 1: 100%|██████████████████████████████████████████████████████████████████████████████████████████████████████████████████████████████████████████████████████████████| 4/4 [00:00<00:00,  4.06it/s]\u001b[A\n",
      "Stage 0: 100%|██████████████████████████████████████████████████████████████████████████████████████████████████████████████████████████████████████████████████████████████| 4/4 [00:00<00:00,  4.06it/s]"
     ]
    },
    {
     "name": "stdout",
     "output_type": "stream",
     "text": [
      "Total value: 987333\n"
     ]
    },
    {
     "name": "stderr",
     "output_type": "stream",
     "text": [
      "\n"
     ]
    }
   ],
   "source": [
    "results=[]\n",
    "for row in ds_pipe.iter_rows():\n",
    "    results.append(row)\n",
    "print(f\"Total value: {sum(results)}\")"
   ]
  },
  {
   "cell_type": "markdown",
   "id": "a302cec8-1121-4ba3-adf5-c48389ed18a5",
   "metadata": {},
   "source": [
    "Let's try a Datapipeline with our synthetic data *Homewowners*"
   ]
  },
  {
   "cell_type": "code",
   "execution_count": 35,
   "id": "e210ee27-8f26-4f85-9b17-952136d3f347",
   "metadata": {},
   "outputs": [],
   "source": [
    "# count or return based on the condition\n",
    "def count_ca(row: ray.data.impl.arrow_block.ArrowRow) -> int:\n",
    "    return 1 if row['state'] == \"CA\" and row[\"defaulted\"] else 0"
   ]
  },
  {
   "cell_type": "code",
   "execution_count": 36,
   "id": "35c01edd-aa8c-4ed5-bfb3-e754e7712511",
   "metadata": {},
   "outputs": [
    {
     "data": {
      "text/plain": [
       "DatasetPipeline(num_windows=1, num_stages=2)"
      ]
     },
     "execution_count": 36,
     "metadata": {},
     "output_type": "execute_result"
    }
   ],
   "source": [
    "arrow_ds_pipe = arrow_ds.window(blocks_per_window=50)\n",
    "arrow_ds_pipe"
   ]
  },
  {
   "cell_type": "code",
   "execution_count": 37,
   "id": "e74deb3e-567f-418f-b7b3-a30315bbadec",
   "metadata": {},
   "outputs": [
    {
     "data": {
      "text/plain": [
       "DatasetPipeline(num_windows=1, num_stages=3)"
      ]
     },
     "execution_count": 37,
     "metadata": {},
     "output_type": "execute_result"
    }
   ],
   "source": [
    "arrow_ds_pipe = arrow_ds_pipe.map(count_ca)\n",
    "arrow_ds_pipe"
   ]
  },
  {
   "cell_type": "code",
   "execution_count": 38,
   "id": "4a440f3c-109b-4e5f-aa87-4208302514eb",
   "metadata": {},
   "outputs": [
    {
     "name": "stderr",
     "output_type": "stream",
     "text": [
      "Stage 0:   0%|                                                                                                                                                                      | 0/1 [00:00<?, ?it/s]\n",
      "  0%|                                                                                                                                                                               | 0/1 [00:00<?, ?it/s]\u001b[A\n",
      "Stage 1:   0%|                                                                                                                                                                      | 0/1 [00:00<?, ?it/s]\u001b[A\n",
      "Stage 1: 100%|██████████████████████████████████████████████████████████████████████████████████████████████████████████████████████████████████████████████████████████████| 1/1 [00:02<00:00,  2.24s/it]\u001b[A\n",
      "Stage 0: 100%|██████████████████████████████████████████████████████████████████████████████████████████████████████████████████████████████████████████████████████████████| 1/1 [00:02<00:00,  2.24s/it]"
     ]
    },
    {
     "name": "stdout",
     "output_type": "stream",
     "text": [
      "Total rows for CA state and defaulted loans rows: 62923\n"
     ]
    },
    {
     "name": "stderr",
     "output_type": "stream",
     "text": [
      "\n"
     ]
    }
   ],
   "source": [
    "results=[]\n",
    "for row in arrow_ds_pipe.iter_rows():\n",
    "    results.append(row)\n",
    "print(f\"Total rows for CA state and defaulted loans rows: {sum(results)}\")"
   ]
  },
  {
   "cell_type": "markdown",
   "id": "34ea86c2-0afd-46cf-b8d8-030cab817119",
   "metadata": {},
   "source": [
    "## Ingesting data into Model Trainers\n",
    "Let's define a toy `Trainer` actor that takes our synthetic data and trains the model and returns loss for that trainer. This is common pattern\n",
    "in Ray for distributing data to Trainers in a Ray cluster.\n",
    "\n",
    "<img src=\"images/trainer_worker.jpg\" width=\"60%\" height=\"30%\">"
   ]
  },
  {
   "cell_type": "code",
   "execution_count": 39,
   "id": "fade88c1-b564-465a-af28-8476c6755587",
   "metadata": {},
   "outputs": [],
   "source": [
    "def model(input):\n",
    "    return random.uniform(0, 1)\n",
    "\n",
    "@ray.remote\n",
    "class Trainer:\n",
    "    def __init__(self, rank, model):\n",
    "        self.rank = rank\n",
    "        self.model = model\n",
    "        self.loss = 0.0\n",
    "        \n",
    "    def train(self, shard:ray.data.Dataset) -> float:\n",
    "        for batch in shard.iter_batches(batch_size=1024):\n",
    "            for epoch in range(1,21):\n",
    "                output = self.model(batch)\n",
    "                self.loss = output \n",
    "        if epoch % 5 == 0:\n",
    "            print(f'epoch {epoch}, loss: {self.loss:.3f}')\n",
    "        return self.loss"
   ]
  },
  {
   "cell_type": "markdown",
   "id": "36f7d2fc-7af0-46aa-8581-e1362d46f98f",
   "metadata": {},
   "source": [
    "#### Create five trainers, each with a copy of the model and each training on its respective shard"
   ]
  },
  {
   "cell_type": "code",
   "execution_count": 40,
   "id": "1b69fda5-7f03-432f-9d02-2dcb9072965d",
   "metadata": {},
   "outputs": [
    {
     "data": {
      "text/plain": [
       "[Actor(Trainer, 8634abf03e04bbb537cf99fa01000000),\n",
       " Actor(Trainer, 62f07a9529b9d27918de22ba01000000),\n",
       " Actor(Trainer, 30ea5bd5ca57054b05aa8ca601000000),\n",
       " Actor(Trainer, 026be3b0a08b945637ba1e8601000000),\n",
       " Actor(Trainer, ebc4fccdbcfc9fda1be30bd801000000)]"
      ]
     },
     "execution_count": 40,
     "metadata": {},
     "output_type": "execute_result"
    }
   ],
   "source": [
    "trainers = [Trainer.remote(i, model) for i in range(1, 6)]\n",
    "trainers"
   ]
  },
  {
   "cell_type": "markdown",
   "id": "4bf31eb8-7e15-4d37-8e43-a015887a567a",
   "metadata": {},
   "source": [
    "#### Split the shards across all trainers"
   ]
  },
  {
   "cell_type": "code",
   "execution_count": 41,
   "id": "d69adf1b-7678-484d-ad3e-fb1d7ef804dd",
   "metadata": {},
   "outputs": [
    {
     "name": "stderr",
     "output_type": "stream",
     "text": [
      "Read progress: 100%|███████████████████████████████████████████████████████████████████████████████████████████████████████████████████████████████████████████████████████| 5/5 [00:00<00:00, 159.37it/s]\n"
     ]
    },
    {
     "data": {
      "text/plain": [
       "[Dataset(num_blocks=1, num_rows=150000, schema={id: int64, ssn: null, name: null, amount: double, interest: double, state: string, marital_status: string, property: string, dependents: int64, defaulted: int64, gender: string}),\n",
       " Dataset(num_blocks=1, num_rows=150000, schema={id: int64, ssn: null, name: null, amount: double, interest: double, state: string, marital_status: string, property: string, dependents: int64, defaulted: int64, gender: string}),\n",
       " Dataset(num_blocks=1, num_rows=150000, schema={id: int64, ssn: null, name: null, amount: double, interest: double, state: string, marital_status: string, property: string, dependents: int64, defaulted: int64, gender: string}),\n",
       " Dataset(num_blocks=1, num_rows=150000, schema={id: int64, ssn: null, name: null, amount: double, interest: double, state: string, marital_status: string, property: string, dependents: int64, defaulted: int64, gender: string}),\n",
       " Dataset(num_blocks=1, num_rows=150000, schema={id: int64, ssn: null, name: null, amount: double, interest: double, state: string, marital_status: string, property: string, dependents: int64, defaulted: int64, gender: string})]"
      ]
     },
     "execution_count": 41,
     "metadata": {},
     "output_type": "execute_result"
    }
   ],
   "source": [
    "shards = arrow_ds.split(n=len(trainers), locality_hints=trainers)\n",
    "shards"
   ]
  },
  {
   "cell_type": "markdown",
   "id": "8a351e5f-f3bf-4f2c-bfca-319b60cec768",
   "metadata": {},
   "source": [
    "#### Launch our trainers in a distributed fashion\n",
    "\n",
    "This will run across the cluster. Check the dashbard to see five actors launched. On a cluster, they will on five different nodes, whereas on a single noded \n",
    "five different cores."
   ]
  },
  {
   "cell_type": "code",
   "execution_count": 42,
   "id": "51e6234c-20fb-43f5-ab40-97f8ad1c1cab",
   "metadata": {},
   "outputs": [
    {
     "data": {
      "text/plain": [
       "[0.5254108026432264,\n",
       " 0.17807239737998815,\n",
       " 0.3202728509298227,\n",
       " 0.8720887800326672,\n",
       " 0.21304893574193395]"
      ]
     },
     "execution_count": 42,
     "metadata": {},
     "output_type": "execute_result"
    }
   ],
   "source": [
    "object_refs = [t.train.remote(s) for t, s in zip(trainers, shards)]\n",
    "ray.get(object_refs)"
   ]
  },
  {
   "cell_type": "code",
   "execution_count": 43,
   "id": "df42a9ca-54a9-4b93-8dc0-dcc18b5636a7",
   "metadata": {},
   "outputs": [],
   "source": [
    "ray.shutdown()"
   ]
  },
  {
   "cell_type": "markdown",
   "id": "5751265c-7a31-4d17-87c7-1ca5a163b8b5",
   "metadata": {},
   "source": [
    "### Exercises\n",
    " 1. Write some simple transformers, filters, and aggregators with our synthetic data. For example:\n",
    "  * use [`.add_column()`](https://docs.ray.io/en/master/data/package-ref.html) to add an `age` column\n",
    "  * filter by gender == 'U'\n",
    "  * aggregate (or groupby `property`) and count each. \n",
    " 2. Add additional pipleline stages function `def count_tx(...)` with our synthetic data. For example, count all people in state of `TX`, `married` and `defaulted`."
   ]
  },
  {
   "cell_type": "markdown",
   "id": "7e825ac0-f6d6-47f5-8d1b-413a000ee0bb",
   "metadata": {},
   "source": [
    "### Homework\n",
    "\n",
    "1. Work through the [NYC example tutorial](extra/ray_data_nyc.ipynb). This explores how you use `.map_batches()` for filtering and map operations using vectorized UDFs\n",
    "2. Peruse the user guides for advanced examples in [data transformation](https://docs.ray.io/en/master/data/transforming-datasets.html#transforming-datasets) and [ML preprocessing](https://docs.ray.io/en/master/data/dataset-ml-preprocessing.html#datasets-ml-preprocessing)\n",
    "3. Read how to do large scale [ML ingest](https://docs.ray.io/en/master/data/examples/big_data_ingestion.html)"
   ]
  }
 ],
 "metadata": {
  "kernelspec": {
   "display_name": "Python 3 (ipykernel)",
   "language": "python",
   "name": "python3"
  },
  "language_info": {
   "codemirror_mode": {
    "name": "ipython",
    "version": 3
   },
   "file_extension": ".py",
   "mimetype": "text/x-python",
   "name": "python",
   "nbconvert_exporter": "python",
   "pygments_lexer": "ipython3",
   "version": "3.9.12"
  }
 },
 "nbformat": 4,
 "nbformat_minor": 5
}
