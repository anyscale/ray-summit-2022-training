{
 "cells": [
  {
   "cell_type": "markdown",
   "id": "d893ceac",
   "metadata": {},
   "source": [
    "## A gentle 10-minute primer to Ray AI Runitime (Ray AIR)\n",
    "\n",
    "© 2019-2022, Anyscale. All Rights Reserved\n",
    "\n",
    "📖 [Back to Table of Contents](./ex_00_tutorial_overview.ipynb)<br>\n",
    "⬅️ [Previous notebook](./ex_07_ray_data.ipynb) <br>\n",
    "\n",
    "### Overview\n",
    "\n",
    "As part of Ray 2.0, Ray AI Runtime (AIR) is an open-source and unified toolkit for building end-to-end simple and scalable ML applications. \n",
    "\n",
    "Ray AI Runtime focuses on two functional aspects:\n",
    " * It provides scalability by leveraging Ray’s distributed compute layer for ML workloads.\n",
    " * It is designed to interoperate with other systems for storage and metadata needs.\n",
    "\n",
    "Ray AIR consists of five key components:\n",
    "\n",
    " * Data processing ([Ray Data](https://docs.ray.io/en/latest/data/dataset.html))\n",
    " * Model Training ([Ray Train](https://docs.ray.io/en/latest/train/train.html))\n",
    " * Hyperparameter Tuning ([Ray Tune](https://docs.ray.io/en/latest/tune/index.html))\n",
    " * Model Serving ([Ray Serve](https://docs.ray.io/en/latest/serve/index.html)).\n",
    " * Reinforcement Learning ([Ray RLlib](https://docs.ray.io/en/latest/rllib/index.html))\n",
    " \n",
    " <img src = \"images/ray-air.svg\" width=\"60%\" height=\"30%\">\n",
    " \n",
    "📖 [Back to Table of Contents](./ex_00_tutorial_overview.ipynb)<br>\n",
    "⬅️ [Previous notebook](./ex_07_ray_data.ipynb) <br>\n",
    " \n",
    "### Learning objectives:\n",
    "  * How to use Ray AIR as a unified toolkit to write an end-to-end ML application in a single Python script\n",
    "  * Use out-of-box Preprocessors\n",
    "  * Load model from the best model checkpoint and use for batch inference\n",
    "  * Deploy best checkpoint model and use for online inference"
   ]
  },
  {
   "cell_type": "code",
   "execution_count": 1,
   "id": "6a2f8cb6",
   "metadata": {},
   "outputs": [],
   "source": [
    "import logging, os, random, warnings\n",
    "import ray\n",
    "import pandas as pd"
   ]
  },
  {
   "cell_type": "code",
   "execution_count": 2,
   "id": "e9f07c2a",
   "metadata": {},
   "outputs": [],
   "source": [
    "warnings.filterwarnings(\"ignore\")\n",
    "os.environ[\"PYTHONWARNINGS\"] = \"ignore\""
   ]
  },
  {
   "cell_type": "code",
   "execution_count": 3,
   "id": "9d9a2a19",
   "metadata": {},
   "outputs": [
    {
     "data": {
      "text/html": [
       "<div>\n",
       "    <div style=\"margin-left: 50px;display: flex;flex-direction: row;align-items: center\">\n",
       "        <h3 style=\"color: var(--jp-ui-font-color0)\">Ray</h3>\n",
       "        <svg version=\"1.1\" id=\"ray\" width=\"3em\" viewBox=\"0 0 144.5 144.6\" style=\"margin-left: 3em;margin-right: 3em\">\n",
       "            <g id=\"layer-1\">\n",
       "                <path fill=\"#00a2e9\" class=\"st0\" d=\"M97.3,77.2c-3.8-1.1-6.2,0.9-8.3,5.1c-3.5,6.8-9.9,9.9-17.4,9.6S58,88.1,54.8,81.2c-1.4-3-3-4-6.3-4.1\n",
       "                    c-5.6-0.1-9.9,0.1-13.1,6.4c-3.8,7.6-13.6,10.2-21.8,7.6C5.2,88.4-0.4,80.5,0,71.7c0.1-8.4,5.7-15.8,13.8-18.2\n",
       "                    c8.4-2.6,17.5,0.7,22.3,8c1.3,1.9,1.3,5.2,3.6,5.6c3.9,0.6,8,0.2,12,0.2c1.8,0,1.9-1.6,2.4-2.8c3.5-7.8,9.7-11.8,18-11.9\n",
       "                    c8.2-0.1,14.4,3.9,17.8,11.4c1.3,2.8,2.9,3.6,5.7,3.3c1-0.1,2,0.1,3,0c2.8-0.5,6.4,1.7,8.1-2.7s-2.3-5.5-4.1-7.5\n",
       "                    c-5.1-5.7-10.9-10.8-16.1-16.3C84,38,81.9,37.1,78,38.3C66.7,42,56.2,35.7,53,24.1C50.3,14,57.3,2.8,67.7,0.5\n",
       "                    C78.4-2,89,4.7,91.5,15.3c0.1,0.3,0.1,0.5,0.2,0.8c0.7,3.4,0.7,6.9-0.8,9.8c-1.7,3.2-0.8,5,1.5,7.2c6.7,6.5,13.3,13,19.8,19.7\n",
       "                    c1.8,1.8,3,2.1,5.5,1.2c9.1-3.4,17.9-0.6,23.4,7c4.8,6.9,4.6,16.1-0.4,22.9c-5.4,7.2-14.2,9.9-23.1,6.5c-2.3-0.9-3.5-0.6-5.1,1.1\n",
       "                    c-6.7,6.9-13.6,13.7-20.5,20.4c-1.8,1.8-2.5,3.2-1.4,5.9c3.5,8.7,0.3,18.6-7.7,23.6c-7.9,5-18.2,3.8-24.8-2.9\n",
       "                    c-6.4-6.4-7.4-16.2-2.5-24.3c4.9-7.8,14.5-11,23.1-7.8c3,1.1,4.7,0.5,6.9-1.7C91.7,98.4,98,92.3,104.2,86c1.6-1.6,4.1-2.7,2.6-6.2\n",
       "                    c-1.4-3.3-3.8-2.5-6.2-2.6C99.8,77.2,98.9,77.2,97.3,77.2z M72.1,29.7c5.5,0.1,9.9-4.3,10-9.8c0-0.1,0-0.2,0-0.3\n",
       "                    C81.8,14,77,9.8,71.5,10.2c-5,0.3-9,4.2-9.3,9.2c-0.2,5.5,4,10.1,9.5,10.3C71.8,29.7,72,29.7,72.1,29.7z M72.3,62.3\n",
       "                    c-5.4-0.1-9.9,4.2-10.1,9.7c0,0.2,0,0.3,0,0.5c0.2,5.4,4.5,9.7,9.9,10c5.1,0.1,9.9-4.7,10.1-9.8c0.2-5.5-4-10-9.5-10.3\n",
       "                    C72.6,62.3,72.4,62.3,72.3,62.3z M115,72.5c0.1,5.4,4.5,9.7,9.8,9.9c5.6-0.2,10-4.8,10-10.4c-0.2-5.4-4.6-9.7-10-9.7\n",
       "                    c-5.3-0.1-9.8,4.2-9.9,9.5C115,72.1,115,72.3,115,72.5z M19.5,62.3c-5.4,0.1-9.8,4.4-10,9.8c-0.1,5.1,5.2,10.4,10.2,10.3\n",
       "                    c5.6-0.2,10-4.9,9.8-10.5c-0.1-5.4-4.5-9.7-9.9-9.6C19.6,62.3,19.5,62.3,19.5,62.3z M71.8,134.6c5.9,0.2,10.3-3.9,10.4-9.6\n",
       "                    c0.5-5.5-3.6-10.4-9.1-10.8c-5.5-0.5-10.4,3.6-10.8,9.1c0,0.5,0,0.9,0,1.4c-0.2,5.3,4,9.8,9.3,10\n",
       "                    C71.6,134.6,71.7,134.6,71.8,134.6z\"/>\n",
       "            </g>\n",
       "        </svg>\n",
       "        <table>\n",
       "            <tr>\n",
       "                <td style=\"text-align: left\"><b>Python version:</b></td>\n",
       "                <td style=\"text-align: left\"><b>3.8.13</b></td>\n",
       "            </tr>\n",
       "            <tr>\n",
       "                <td style=\"text-align: left\"><b>Ray version:</b></td>\n",
       "                <td style=\"text-align: left\"><b> 2.0.0rc1</b></td>\n",
       "            </tr>\n",
       "            <tr>\n",
       "    <td style=\"text-align: left\"><b>Dashboard:</b></td>\n",
       "    <td style=\"text-align: left\"><b><a href=\"http://127.0.0.1:8265\" target=\"_blank\">http://127.0.0.1:8265</a></b></td>\n",
       "</tr>\n",
       "\n",
       "        </table>\n",
       "    </div>\n",
       "</div>\n"
      ],
      "text/plain": [
       "RayContext(dashboard_url='127.0.0.1:8265', python_version='3.8.13', ray_version='2.0.0rc1', ray_commit='321d8717f73995153d4f9abe98678160831090e1', address_info={'node_ip_address': '127.0.0.1', 'raylet_ip_address': '127.0.0.1', 'redis_address': None, 'object_store_address': '/tmp/ray/session_2022-08-15_08-29-16_882997_10255/sockets/plasma_store', 'raylet_socket_name': '/tmp/ray/session_2022-08-15_08-29-16_882997_10255/sockets/raylet', 'webui_url': '127.0.0.1:8265', 'session_dir': '/tmp/ray/session_2022-08-15_08-29-16_882997_10255', 'metrics_export_port': 57055, 'gcs_address': '127.0.0.1:50738', 'address': '127.0.0.1:50738', 'dashboard_agent_listen_port': 52365, 'node_id': '1a32092f2f3c58d6d028787fa69e0fe7901b1a4644dc21ea62022c71'})"
      ]
     },
     "execution_count": 3,
     "metadata": {},
     "output_type": "execute_result"
    }
   ],
   "source": [
    "if ray.is_initialized:\n",
    "    ray.shutdown()\n",
    "ray.init(logging_level=logging.ERROR)"
   ]
  },
  {
   "cell_type": "markdown",
   "id": "76f2eb29-e7be-4e84-96fc-76a0021b2a98",
   "metadata": {},
   "source": [
    "### End-to-end ML stages for a Ray AIR ML application\n",
    "\n",
    "<img src=\"images/ray_air_pipeline.png\" width=\"50%\" height=\"25%\">"
   ]
  },
  {
   "cell_type": "markdown",
   "id": "b432675a",
   "metadata": {},
   "source": [
    "### 1. Create Ray data from an S3 CSV datasource"
   ]
  },
  {
   "cell_type": "code",
   "execution_count": 4,
   "id": "8794a93a",
   "metadata": {},
   "outputs": [
    {
     "name": "stderr",
     "output_type": "stream",
     "text": [
      "Map_Batches: 100%|█████████████████████████████████████████████████████████████████████████████████████████████████████████████████| 1/1 [00:00<00:00, 16.24it/s]\n"
     ]
    }
   ],
   "source": [
    "dataset = ray.data.read_csv(\"s3://anonymous@air-example-data/breast_cancer.csv\")\n",
    "\n",
    "# Split data into train and validation.\n",
    "train_dataset, valid_dataset = dataset.train_test_split(test_size=0.3)\n",
    "test_dataset = valid_dataset.drop_columns([\"target\"])"
   ]
  },
  {
   "cell_type": "markdown",
   "id": "8fd637f4",
   "metadata": {},
   "source": [
    "### 2. Use out-of-the-box Preprocessors\n",
    "This preprocessor is automatically used in the training function to `fit` and `tranform` your datasets for training and validation. You don't have to explicitly call the preprocess before training or inference. Ray AIR toolkit automatically does that for you. \n",
    "\n",
    "We are going to scaler a few features like `mean radius` and `mean texture`."
   ]
  },
  {
   "cell_type": "code",
   "execution_count": 5,
   "id": "84948e73",
   "metadata": {},
   "outputs": [],
   "source": [
    "from ray.data.preprocessors import StandardScaler\n",
    "\n",
    "# Create a preprocessor to scale some columns\n",
    "columns_to_scale = [\"mean radius\", \"mean texture\"]\n",
    "preprocessor = StandardScaler(columns=columns_to_scale)"
   ]
  },
  {
   "cell_type": "markdown",
   "id": "5b7f7511",
   "metadata": {},
   "source": [
    "### 3a. Use AIR Trainers for supported ML frameworks\n",
    "Use the Ray AIR trainer `XGBoostTrainer` with simple steps:\n",
    " 1. define the parallelism for Ray compute\n",
    " 2. define the XGBoost parameters for training\n",
    " 3. supply the preprocessor for fitting and transforming dataset during training and validation\n",
    " 4. provide the datasets for training and validation\n",
    " 5. invoke `trainer.fit()` \n",
    " \n",
    " Simple API that does a lot behind the scenes for you!"
   ]
  },
  {
   "cell_type": "code",
   "execution_count": 6,
   "id": "b860b16c",
   "metadata": {},
   "outputs": [],
   "source": [
    "from ray.air.config import ScalingConfig\n",
    "from ray.train.xgboost import XGBoostTrainer\n",
    "\n",
    "trainer = XGBoostTrainer(\n",
    "    scaling_config=ScalingConfig(\n",
    "        # Number of workers to use for data parallelism.\n",
    "        num_workers=2,\n",
    "        # Whether to use GPU acceleration.\n",
    "        use_gpu=False),\n",
    "    label_column=\"target\",\n",
    "    num_boost_round=20,\n",
    "    params={\n",
    "        # XGBoost specific params\n",
    "        \"objective\": \"binary:logistic\",\n",
    "        \"eval_metric\": [\"logloss\", \"error\"],\n",
    "    },\n",
    "    # our train and validation dataset and preprocessor\n",
    "    datasets={\"train\": train_dataset, \"valid\": valid_dataset},\n",
    "    preprocessor=preprocessor,\n",
    ")"
   ]
  },
  {
   "cell_type": "markdown",
   "id": "5859d859-977a-4f1b-bf2a-4ec2098c081c",
   "metadata": {},
   "source": [
    "##### Fit the trainer"
   ]
  },
  {
   "cell_type": "code",
   "execution_count": 7,
   "id": "d5618feb-86b5-46db-b6ab-0391de3ddd3a",
   "metadata": {},
   "outputs": [
    {
     "data": {
      "text/html": [
       "== Status ==<br>Current time: 2022-08-15 08:29:39 (running for 00:00:06.04)<br>Memory usage on this node: 12.8/64.0 GiB<br>Using FIFO scheduling algorithm.<br>Resources requested: 0/10 CPUs, 0/0 GPUs, 0.0/45.55 GiB heap, 0.0/2.0 GiB objects<br>Result logdir: /Users/jules/ray_results/XGBoostTrainer_2022-08-15_08-29-33<br>Number of trials: 1/1 (1 TERMINATED)<br><table>\n",
       "<thead>\n",
       "<tr><th>Trial name                </th><th>status    </th><th>loc            </th><th style=\"text-align: right;\">  iter</th><th style=\"text-align: right;\">  total time (s)</th><th style=\"text-align: right;\">  train-logloss</th><th style=\"text-align: right;\">  train-error</th><th style=\"text-align: right;\">  valid-logloss</th></tr>\n",
       "</thead>\n",
       "<tbody>\n",
       "<tr><td>XGBoostTrainer_0fee7_00000</td><td>TERMINATED</td><td>127.0.0.1:10310</td><td style=\"text-align: right;\">    21</td><td style=\"text-align: right;\">         4.73005</td><td style=\"text-align: right;\">      0.0184957</td><td style=\"text-align: right;\">            0</td><td style=\"text-align: right;\">      0.0893879</td></tr>\n",
       "</tbody>\n",
       "</table><br><br>"
      ],
      "text/plain": [
       "<IPython.core.display.HTML object>"
      ]
     },
     "metadata": {},
     "output_type": "display_data"
    },
    {
     "name": "stderr",
     "output_type": "stream",
     "text": [
      "\u001b[2m\u001b[36m(_RemoteRayXGBoostActor pid=10324)\u001b[0m [08:29:37] task [xgboost.ray]:5646204256 got new rank 0\n",
      "\u001b[2m\u001b[36m(_RemoteRayXGBoostActor pid=10325)\u001b[0m [08:29:37] task [xgboost.ray]:4942888432 got new rank 1\n"
     ]
    },
    {
     "name": "stdout",
     "output_type": "stream",
     "text": [
      "Result for XGBoostTrainer_0fee7_00000:\n",
      "  date: 2022-08-15_08-29-38\n",
      "  done: false\n",
      "  experiment_id: 868e1dcb2c944665a36be725ef74103e\n",
      "  hostname: Juless-MacBook-Pro-16\n",
      "  iterations_since_restore: 1\n",
      "  node_ip: 127.0.0.1\n",
      "  pid: 10310\n",
      "  time_since_restore: 4.098128080368042\n",
      "  time_this_iter_s: 4.098128080368042\n",
      "  time_total_s: 4.098128080368042\n",
      "  timestamp: 1660577378\n",
      "  timesteps_since_restore: 0\n",
      "  train-error: 0.02261306532663317\n",
      "  train-logloss: 0.464117960489575\n",
      "  training_iteration: 1\n",
      "  trial_id: 0fee7_00000\n",
      "  valid-error: 0.11695906432748537\n",
      "  valid-logloss: 0.5025240946234318\n",
      "  warmup_time: 0.002640247344970703\n",
      "  \n",
      "Result for XGBoostTrainer_0fee7_00000:\n",
      "  date: 2022-08-15_08-29-39\n",
      "  done: true\n",
      "  experiment_id: 868e1dcb2c944665a36be725ef74103e\n",
      "  experiment_tag: '0'\n",
      "  hostname: Juless-MacBook-Pro-16\n",
      "  iterations_since_restore: 21\n",
      "  node_ip: 127.0.0.1\n",
      "  pid: 10310\n",
      "  time_since_restore: 4.730054140090942\n",
      "  time_this_iter_s: 0.44510507583618164\n",
      "  time_total_s: 4.730054140090942\n",
      "  timestamp: 1660577379\n",
      "  timesteps_since_restore: 0\n",
      "  train-error: 0.0\n",
      "  train-logloss: 0.01849572773292735\n",
      "  training_iteration: 21\n",
      "  trial_id: 0fee7_00000\n",
      "  valid-error: 0.04093567251461988\n",
      "  valid-logloss: 0.08938791319913073\n",
      "  warmup_time: 0.002640247344970703\n",
      "  \n"
     ]
    }
   ],
   "source": [
    "result = trainer.fit()\n",
    "# print(result.metrics)"
   ]
  },
  {
   "cell_type": "markdown",
   "id": "e78a135f",
   "metadata": {},
   "source": [
    "### 3b. Use AIR Tuner for hyperparameter search\n",
    "\n",
    "What if you want to do hyperparameter optimization during training and use the best config for the model? Well, you can then use Tuner and supply your training function, Trainer, as part of the argument, along \n",
    "with other Tuner configuration. \n",
    "\n",
    "Again, simple steps:\n",
    " 1. define your hyperparameter space\n",
    " 2. define `TuneConfig` for number of trials and parallelism \n",
    " 3. invoke `tuner.fit()`"
   ]
  },
  {
   "cell_type": "code",
   "execution_count": 8,
   "id": "6a59cf93",
   "metadata": {},
   "outputs": [],
   "source": [
    "from ray import tune\n",
    "\n",
    "param_space = {\"params\": {\"max_depth\": tune.randint(1, 9)}}\n",
    "metric = \"train-logloss\"\n",
    "our_mode=\"min\""
   ]
  },
  {
   "cell_type": "code",
   "execution_count": 9,
   "id": "28bd4cba",
   "metadata": {},
   "outputs": [
    {
     "data": {
      "text/html": [
       "== Status ==<br>Current time: 2022-08-15 08:30:04 (running for 00:00:13.68)<br>Memory usage on this node: 12.5/64.0 GiB<br>Using FIFO scheduling algorithm.<br>Resources requested: 0/10 CPUs, 0/0 GPUs, 0.0/45.55 GiB heap, 0.0/2.0 GiB objects<br>Current best trial: 1ab5c_00000 with train-logloss=0.01841634292981527 and parameters={'params': {'max_depth': 5}}<br>Result logdir: /Users/jules/ray_results/XGBoostTrainer_2022-08-15_08-29-51<br>Number of trials: 5/5 (5 TERMINATED)<br><table>\n",
       "<thead>\n",
       "<tr><th>Trial name                </th><th>status    </th><th>loc            </th><th style=\"text-align: right;\">  params/max_depth</th><th style=\"text-align: right;\">  iter</th><th style=\"text-align: right;\">  total time (s)</th><th style=\"text-align: right;\">  train-logloss</th><th style=\"text-align: right;\">  train-error</th><th style=\"text-align: right;\">  valid-logloss</th></tr>\n",
       "</thead>\n",
       "<tbody>\n",
       "<tr><td>XGBoostTrainer_1ab5c_00000</td><td>TERMINATED</td><td>127.0.0.1:10397</td><td style=\"text-align: right;\">                 5</td><td style=\"text-align: right;\">    21</td><td style=\"text-align: right;\">         3.86268</td><td style=\"text-align: right;\">      0.0184163</td><td style=\"text-align: right;\">   0         </td><td style=\"text-align: right;\">      0.105782 </td></tr>\n",
       "<tr><td>XGBoostTrainer_1ab5c_00001</td><td>TERMINATED</td><td>127.0.0.1:10404</td><td style=\"text-align: right;\">                 1</td><td style=\"text-align: right;\">    21</td><td style=\"text-align: right;\">         4.93523</td><td style=\"text-align: right;\">      0.0955215</td><td style=\"text-align: right;\">   0.0175879 </td><td style=\"text-align: right;\">      0.112007 </td></tr>\n",
       "<tr><td>XGBoostTrainer_1ab5c_00002</td><td>TERMINATED</td><td>127.0.0.1:10405</td><td style=\"text-align: right;\">                 5</td><td style=\"text-align: right;\">    21</td><td style=\"text-align: right;\">         4.95963</td><td style=\"text-align: right;\">      0.0184163</td><td style=\"text-align: right;\">   0         </td><td style=\"text-align: right;\">      0.105782 </td></tr>\n",
       "<tr><td>XGBoostTrainer_1ab5c_00003</td><td>TERMINATED</td><td>127.0.0.1:10478</td><td style=\"text-align: right;\">                 2</td><td style=\"text-align: right;\">    21</td><td style=\"text-align: right;\">         4.7909 </td><td style=\"text-align: right;\">      0.0405455</td><td style=\"text-align: right;\">   0.00502513</td><td style=\"text-align: right;\">      0.0916641</td></tr>\n",
       "<tr><td>XGBoostTrainer_1ab5c_00004</td><td>TERMINATED</td><td>127.0.0.1:10489</td><td style=\"text-align: right;\">                 1</td><td style=\"text-align: right;\">    21</td><td style=\"text-align: right;\">         4.09457</td><td style=\"text-align: right;\">      0.0955215</td><td style=\"text-align: right;\">   0.0175879 </td><td style=\"text-align: right;\">      0.112007 </td></tr>\n",
       "</tbody>\n",
       "</table><br><br>"
      ],
      "text/plain": [
       "<IPython.core.display.HTML object>"
      ]
     },
     "metadata": {},
     "output_type": "display_data"
    },
    {
     "name": "stderr",
     "output_type": "stream",
     "text": [
      "\u001b[2m\u001b[36m(_RemoteRayXGBoostActor pid=10411)\u001b[0m [08:29:53] task [xgboost.ray]:5042617888 got new rank 1\n",
      "\u001b[2m\u001b[36m(_RemoteRayXGBoostActor pid=10410)\u001b[0m [08:29:53] task [xgboost.ray]:4959403600 got new rank 0\n"
     ]
    },
    {
     "name": "stdout",
     "output_type": "stream",
     "text": [
      "Result for XGBoostTrainer_1ab5c_00000:\n",
      "  date: 2022-08-15_08-29-55\n",
      "  done: false\n",
      "  experiment_id: 9647be2f364445fd842768848508e290\n",
      "  hostname: Juless-MacBook-Pro-16\n",
      "  iterations_since_restore: 1\n",
      "  node_ip: 127.0.0.1\n",
      "  pid: 10397\n",
      "  time_since_restore: 3.4272069931030273\n",
      "  time_this_iter_s: 3.4272069931030273\n",
      "  time_total_s: 3.4272069931030273\n",
      "  timestamp: 1660577395\n",
      "  timesteps_since_restore: 0\n",
      "  train-error: 0.02261306532663317\n",
      "  train-logloss: 0.465611254524945\n",
      "  training_iteration: 1\n",
      "  trial_id: 1ab5c_00000\n",
      "  valid-error: 0.0935672514619883\n",
      "  valid-logloss: 0.5058815336366843\n",
      "  warmup_time: 0.002613067626953125\n",
      "  \n"
     ]
    },
    {
     "name": "stderr",
     "output_type": "stream",
     "text": [
      "\u001b[2m\u001b[36m(_RemoteRayXGBoostActor pid=10426)\u001b[0m [08:29:56] task [xgboost.ray]:5014191648 got new rank 0\n",
      "\u001b[2m\u001b[36m(_RemoteRayXGBoostActor pid=10427)\u001b[0m [08:29:56] task [xgboost.ray]:5126897328 got new rank 1\n",
      "\u001b[2m\u001b[36m(_RemoteRayXGBoostActor pid=10436)\u001b[0m [08:29:56] task [xgboost.ray]:4831145696 got new rank 0\n",
      "\u001b[2m\u001b[36m(_RemoteRayXGBoostActor pid=10437)\u001b[0m [08:29:56] task [xgboost.ray]:5008211392 got new rank 1\n"
     ]
    },
    {
     "name": "stdout",
     "output_type": "stream",
     "text": [
      "Result for XGBoostTrainer_1ab5c_00000:\n",
      "  date: 2022-08-15_08-29-56\n",
      "  done: true\n",
      "  experiment_id: 9647be2f364445fd842768848508e290\n",
      "  experiment_tag: 0_max_depth=5\n",
      "  hostname: Juless-MacBook-Pro-16\n",
      "  iterations_since_restore: 21\n",
      "  node_ip: 127.0.0.1\n",
      "  pid: 10397\n",
      "  time_since_restore: 3.8626770973205566\n",
      "  time_this_iter_s: 0.37877702713012695\n",
      "  time_total_s: 3.8626770973205566\n",
      "  timestamp: 1660577396\n",
      "  timesteps_since_restore: 0\n",
      "  train-error: 0.0\n",
      "  train-logloss: 0.01841634292981527\n",
      "  training_iteration: 21\n",
      "  trial_id: 1ab5c_00000\n",
      "  valid-error: 0.05263157894736842\n",
      "  valid-logloss: 0.10578184703239703\n",
      "  warmup_time: 0.002613067626953125\n",
      "  \n",
      "Result for XGBoostTrainer_1ab5c_00001:\n",
      "  date: 2022-08-15_08-29-57\n",
      "  done: false\n",
      "  experiment_id: af2616905a9f46ff800c7ddf3a92af48\n",
      "  hostname: Juless-MacBook-Pro-16\n",
      "  iterations_since_restore: 1\n",
      "  node_ip: 127.0.0.1\n",
      "  pid: 10404\n",
      "  time_since_restore: 3.972064971923828\n",
      "  time_this_iter_s: 3.972064971923828\n",
      "  time_total_s: 3.972064971923828\n",
      "  timestamp: 1660577397\n",
      "  timesteps_since_restore: 0\n",
      "  train-error: 0.07537688442211055\n",
      "  train-logloss: 0.5118698591562971\n",
      "  training_iteration: 1\n",
      "  trial_id: 1ab5c_00001\n",
      "  valid-error: 0.0935672514619883\n",
      "  valid-logloss: 0.5195214661241275\n",
      "  warmup_time: 0.0027451515197753906\n",
      "  \n",
      "Result for XGBoostTrainer_1ab5c_00002:\n",
      "  date: 2022-08-15_08-29-57\n",
      "  done: false\n",
      "  experiment_id: 7ebebfc677df40f8bdc4a8056b583942\n",
      "  hostname: Juless-MacBook-Pro-16\n",
      "  iterations_since_restore: 1\n",
      "  node_ip: 127.0.0.1\n",
      "  pid: 10405\n",
      "  time_since_restore: 4.148101091384888\n",
      "  time_this_iter_s: 4.148101091384888\n",
      "  time_total_s: 4.148101091384888\n",
      "  timestamp: 1660577397\n",
      "  timesteps_since_restore: 0\n",
      "  train-error: 0.02261306532663317\n",
      "  train-logloss: 0.465611254524945\n",
      "  training_iteration: 1\n",
      "  trial_id: 1ab5c_00002\n",
      "  valid-error: 0.0935672514619883\n",
      "  valid-logloss: 0.5058815336366843\n",
      "  warmup_time: 0.0024728775024414062\n",
      "  \n",
      "Result for XGBoostTrainer_1ab5c_00002:\n",
      "  date: 2022-08-15_08-29-58\n",
      "  done: true\n",
      "  experiment_id: 7ebebfc677df40f8bdc4a8056b583942\n",
      "  experiment_tag: 2_max_depth=5\n",
      "  hostname: Juless-MacBook-Pro-16\n",
      "  iterations_since_restore: 21\n",
      "  node_ip: 127.0.0.1\n",
      "  pid: 10405\n",
      "  time_since_restore: 4.959627866744995\n",
      "  time_this_iter_s: 0.7493607997894287\n",
      "  time_total_s: 4.959627866744995\n",
      "  timestamp: 1660577398\n",
      "  timesteps_since_restore: 0\n",
      "  train-error: 0.0\n",
      "  train-logloss: 0.01841634292981527\n",
      "  training_iteration: 21\n",
      "  trial_id: 1ab5c_00002\n",
      "  valid-error: 0.05263157894736842\n",
      "  valid-logloss: 0.10578184703239703\n",
      "  warmup_time: 0.0024728775024414062\n",
      "  \n",
      "Result for XGBoostTrainer_1ab5c_00001:\n",
      "  date: 2022-08-15_08-29-58\n",
      "  done: true\n",
      "  experiment_id: af2616905a9f46ff800c7ddf3a92af48\n",
      "  experiment_tag: 1_max_depth=1\n",
      "  hostname: Juless-MacBook-Pro-16\n",
      "  iterations_since_restore: 21\n",
      "  node_ip: 127.0.0.1\n",
      "  pid: 10404\n",
      "  time_since_restore: 4.93522572517395\n",
      "  time_this_iter_s: 0.90572190284729\n",
      "  time_total_s: 4.93522572517395\n",
      "  timestamp: 1660577398\n",
      "  timesteps_since_restore: 0\n",
      "  train-error: 0.01758793969849246\n",
      "  train-logloss: 0.09552153718105551\n",
      "  training_iteration: 21\n",
      "  trial_id: 1ab5c_00001\n",
      "  valid-error: 0.02923976608187134\n",
      "  valid-logloss: 0.11200698223564098\n",
      "  warmup_time: 0.0027451515197753906\n",
      "  \n"
     ]
    },
    {
     "name": "stderr",
     "output_type": "stream",
     "text": [
      "\u001b[2m\u001b[36m(_RemoteRayXGBoostActor pid=10496)\u001b[0m [08:30:00] task [xgboost.ray]:4992777808 got new rank 0\n",
      "\u001b[2m\u001b[36m(_RemoteRayXGBoostActor pid=10497)\u001b[0m [08:30:00] task [xgboost.ray]:4879056368 got new rank 1\n"
     ]
    },
    {
     "name": "stdout",
     "output_type": "stream",
     "text": [
      "Result for XGBoostTrainer_1ab5c_00003:\n",
      "  date: 2022-08-15_08-30-02\n",
      "  done: false\n",
      "  experiment_id: 745cf592f8954b32843a29e2b68703b9\n",
      "  hostname: Juless-MacBook-Pro-16\n",
      "  iterations_since_restore: 1\n",
      "  node_ip: 127.0.0.1\n",
      "  pid: 10478\n",
      "  time_since_restore: 4.089522838592529\n",
      "  time_this_iter_s: 4.089522838592529\n",
      "  time_total_s: 4.089522838592529\n",
      "  timestamp: 1660577402\n",
      "  timesteps_since_restore: 0\n",
      "  train-error: 0.04773869346733668\n",
      "  train-logloss: 0.4862994935794092\n",
      "  training_iteration: 1\n",
      "  trial_id: 1ab5c_00003\n",
      "  valid-error: 0.09941520467836257\n",
      "  valid-logloss: 0.5120853461020174\n",
      "  warmup_time: 0.002424001693725586\n",
      "  \n"
     ]
    },
    {
     "name": "stderr",
     "output_type": "stream",
     "text": [
      "\u001b[2m\u001b[36m(_RemoteRayXGBoostActor pid=10516)\u001b[0m [08:30:02] task [xgboost.ray]:5790416224 got new rank 0\n",
      "\u001b[2m\u001b[36m(_RemoteRayXGBoostActor pid=10517)\u001b[0m [08:30:02] task [xgboost.ray]:4939218464 got new rank 1\n"
     ]
    },
    {
     "name": "stdout",
     "output_type": "stream",
     "text": [
      "Result for XGBoostTrainer_1ab5c_00003:\n",
      "  date: 2022-08-15_08-30-03\n",
      "  done: true\n",
      "  experiment_id: 745cf592f8954b32843a29e2b68703b9\n",
      "  experiment_tag: 3_max_depth=2\n",
      "  hostname: Juless-MacBook-Pro-16\n",
      "  iterations_since_restore: 21\n",
      "  node_ip: 127.0.0.1\n",
      "  pid: 10478\n",
      "  time_since_restore: 4.790897846221924\n",
      "  time_this_iter_s: 0.6244070529937744\n",
      "  time_total_s: 4.790897846221924\n",
      "  timestamp: 1660577403\n",
      "  timesteps_since_restore: 0\n",
      "  train-error: 0.0050251256281407\n",
      "  train-logloss: 0.04054545671047278\n",
      "  training_iteration: 21\n",
      "  trial_id: 1ab5c_00003\n",
      "  valid-error: 0.02923976608187134\n",
      "  valid-logloss: 0.09166410522894901\n",
      "  warmup_time: 0.002424001693725586\n",
      "  \n",
      "Result for XGBoostTrainer_1ab5c_00004:\n",
      "  date: 2022-08-15_08-30-04\n",
      "  done: false\n",
      "  experiment_id: 48ce752284124b9c868fdbdb0fd997a1\n",
      "  hostname: Juless-MacBook-Pro-16\n",
      "  iterations_since_restore: 1\n",
      "  node_ip: 127.0.0.1\n",
      "  pid: 10489\n",
      "  time_since_restore: 3.5095250606536865\n",
      "  time_this_iter_s: 3.5095250606536865\n",
      "  time_total_s: 3.5095250606536865\n",
      "  timestamp: 1660577404\n",
      "  timesteps_since_restore: 0\n",
      "  train-error: 0.07537688442211055\n",
      "  train-logloss: 0.5118698591562971\n",
      "  training_iteration: 1\n",
      "  trial_id: 1ab5c_00004\n",
      "  valid-error: 0.0935672514619883\n",
      "  valid-logloss: 0.5195214661241275\n",
      "  warmup_time: 0.002695798873901367\n",
      "  \n",
      "Result for XGBoostTrainer_1ab5c_00004:\n",
      "  date: 2022-08-15_08-30-04\n",
      "  done: true\n",
      "  experiment_id: 48ce752284124b9c868fdbdb0fd997a1\n",
      "  experiment_tag: 4_max_depth=1\n",
      "  hostname: Juless-MacBook-Pro-16\n",
      "  iterations_since_restore: 21\n",
      "  node_ip: 127.0.0.1\n",
      "  pid: 10489\n",
      "  time_since_restore: 4.094567060470581\n",
      "  time_this_iter_s: 0.5044479370117188\n",
      "  time_total_s: 4.094567060470581\n",
      "  timestamp: 1660577404\n",
      "  timesteps_since_restore: 0\n",
      "  train-error: 0.01758793969849246\n",
      "  train-logloss: 0.09552153718105551\n",
      "  training_iteration: 21\n",
      "  trial_id: 1ab5c_00004\n",
      "  valid-error: 0.02923976608187134\n",
      "  valid-logloss: 0.11200698223564098\n",
      "  warmup_time: 0.002695798873901367\n",
      "  \n"
     ]
    }
   ],
   "source": [
    "from ray.tune.tuner import Tuner, TuneConfig\n",
    "from ray.air.config import RunConfig\n",
    "\n",
    "tuner = Tuner(\n",
    "    trainer,\n",
    "    param_space=param_space,\n",
    "    tune_config=TuneConfig(num_samples=5, metric=metric, mode=our_mode),\n",
    ")\n",
    "# Execute tuning.\n",
    "result_grid = tuner.fit()"
   ]
  },
  {
   "cell_type": "code",
   "execution_count": 10,
   "id": "51a76225-e44b-46f3-845d-d91220ba5fa1",
   "metadata": {},
   "outputs": [
    {
     "name": "stdout",
     "output_type": "stream",
     "text": [
      "Best Result: Result(metrics={'train-logloss': 0.01841634292981527, 'train-error': 0.0, 'valid-logloss': 0.10578184703239703, 'valid-error': 0.05263157894736842, 'done': True, 'trial_id': '1ab5c_00000', 'experiment_tag': '0_max_depth=5'}, error=None, log_dir=PosixPath('/Users/jules/ray_results/XGBoostTrainer_2022-08-15_08-29-51/XGBoostTrainer_1ab5c_00000_0_max_depth=5_2022-08-15_08-29-51'))\n"
     ]
    }
   ],
   "source": [
    "# Fetch the best result with its best hyperparameter config \n",
    "best_result = result_grid.get_best_result()\n",
    "print(\"Best Result:\", best_result)"
   ]
  },
  {
   "cell_type": "markdown",
   "id": "fb15b435-5114-46e9-bed8-2c9b2d823150",
   "metadata": {},
   "source": [
    "### Ray AIR Checkpoints\n",
    "\n",
    "The AIR trainers, tuners, and custom pretrained model generate Checkpoints. An AIR Checkpoint is a format for models that are used across different components of the Ray AI Runtime. This common format allows easy interoperability among AIR components and seamless integration with external supported machine learning frameworks. Read more\n",
    "about [Checkpoints]().\n",
    "\n",
    "<img src=\"images/checkpoints.jpeg\" height=\"25%\" and width=\"50%\"> "
   ]
  },
  {
   "cell_type": "markdown",
   "id": "e0714de2",
   "metadata": {},
   "source": [
    "### 4. Use AIR `BatchPreditor` for batch prediction\n",
    "Once you have trained and tuned your model, create a batch predictor from best model using the `best_result.checkpoint` and do batch inference. "
   ]
  },
  {
   "cell_type": "code",
   "execution_count": 11,
   "id": "72b605fc",
   "metadata": {},
   "outputs": [
    {
     "name": "stderr",
     "output_type": "stream",
     "text": [
      "Map Progress (1 actors 0 pending): 100%|███████████████████████████████████████████████████████████████████████████████████████████| 1/1 [00:00<00:00,  1.33it/s]"
     ]
    },
    {
     "name": "stdout",
     "output_type": "stream",
     "text": [
      "PREDICTED PROBABILITIES\n",
      "{'predictions': 0.9960426092147827}\n",
      "{'predictions': 0.9957077503204346}\n",
      "{'predictions': 0.0034389763604849577}\n",
      "{'predictions': 0.9962536096572876}\n",
      "{'predictions': 0.9968380928039551}\n",
      "{'predictions': 0.9957551956176758}\n",
      "{'predictions': 0.9920042157173157}\n",
      "{'predictions': 0.994161069393158}\n",
      "{'predictions': 0.2891101539134979}\n",
      "{'predictions': 0.974367082118988}\n",
      "{'predictions': 0.0034389763604849577}\n",
      "{'predictions': 0.9959942102432251}\n",
      "{'predictions': 0.9474029541015625}\n",
      "{'predictions': 0.9923243522644043}\n",
      "{'predictions': 0.9941523671150208}\n",
      "{'predictions': 0.1239369809627533}\n",
      "{'predictions': 0.5043733716011047}\n",
      "{'predictions': 0.9935414791107178}\n",
      "{'predictions': 0.9832899570465088}\n",
      "{'predictions': 0.0034389763604849577}\n"
     ]
    },
    {
     "name": "stderr",
     "output_type": "stream",
     "text": [
      "\n"
     ]
    }
   ],
   "source": [
    "from ray.train.batch_predictor import BatchPredictor\n",
    "from ray.train.xgboost import XGBoostPredictor\n",
    "\n",
    "batch_predictor = BatchPredictor.from_checkpoint(best_result.checkpoint, XGBoostPredictor)\n",
    "\n",
    "predicted_probabilities = batch_predictor.predict(test_dataset)\n",
    "print(\"PREDICTED PROBABILITIES\")\n",
    "predicted_probabilities.show()"
   ]
  },
  {
   "cell_type": "markdown",
   "id": "262d4a87",
   "metadata": {},
   "source": [
    "### 5. Use `PredictorDeployment` for online inference\n",
    "\n",
    "Deploy the best model as an inference service by using Ray Serve and the `PredictorDeployment` class."
   ]
  },
  {
   "cell_type": "code",
   "execution_count": 12,
   "id": "f8ab0ec7-2858-4ced-94cd-e055828a7a69",
   "metadata": {},
   "outputs": [
    {
     "name": "stderr",
     "output_type": "stream",
     "text": [
      "\u001b[2m\u001b[36m(ServeController pid=10541)\u001b[0m INFO 2022-08-15 08:30:16,853 controller 10541 http_state.py:129 - Starting HTTP proxy with name 'SERVE_CONTROLLER_ACTOR:SERVE_PROXY_ACTOR-1a32092f2f3c58d6d028787fa69e0fe7901b1a4644dc21ea62022c71' on node '1a32092f2f3c58d6d028787fa69e0fe7901b1a4644dc21ea62022c71' listening on '127.0.0.1:8000'\n",
      "\u001b[2m\u001b[36m(ServeController pid=10541)\u001b[0m INFO 2022-08-15 08:30:17,471 controller 10541 deployment_state.py:1232 - Adding 2 replicas to deployment 'XGBoostService'.\n",
      "\u001b[2m\u001b[36m(HTTPProxyActor pid=10543)\u001b[0m INFO:     Started server process [10543]\n"
     ]
    },
    {
     "data": {
      "text/plain": [
       "RayServeSyncHandle(deployment='XGBoostService')"
      ]
     },
     "execution_count": 12,
     "metadata": {},
     "output_type": "execute_result"
    }
   ],
   "source": [
    "from ray import serve\n",
    "from fastapi import Request\n",
    "from ray.serve import PredictorDeployment\n",
    "from ray.serve.http_adapters import pandas_read_json\n",
    "\n",
    "serve.run(\n",
    "    PredictorDeployment.options(name=\"XGBoostService\", num_replicas=2, route_prefix=\"/rayair\").bind(\n",
    "        XGBoostPredictor, result.checkpoint, http_adapter=pandas_read_json\n",
    "    )\n",
    ")"
   ]
  },
  {
   "cell_type": "markdown",
   "id": "7f463546",
   "metadata": {},
   "source": [
    "After deploying the service, you can send requests to it."
   ]
  },
  {
   "cell_type": "code",
   "execution_count": 13,
   "id": "1ed9ae80",
   "metadata": {},
   "outputs": [
    {
     "name": "stdout",
     "output_type": "stream",
     "text": [
      "[{'predictions': 0.9964648485183716}]\n"
     ]
    },
    {
     "name": "stderr",
     "output_type": "stream",
     "text": [
      "\u001b[2m\u001b[36m(HTTPProxyActor pid=10543)\u001b[0m INFO 2022-08-15 08:30:31,375 http_proxy 127.0.0.1 http_proxy.py:315 - POST /rayair 307 3.8ms\n",
      "\u001b[2m\u001b[36m(ServeReplica:XGBoostService pid=10547)\u001b[0m INFO 2022-08-15 08:30:31,374 XGBoostService XGBoostService#iTcplL replica.py:482 - HANDLE __call__ OK 0.4ms\n",
      "\u001b[2m\u001b[36m(HTTPProxyActor pid=10543)\u001b[0m INFO 2022-08-15 08:30:31,396 http_proxy 127.0.0.1 http_proxy.py:315 - POST /rayair 200 18.4ms\n",
      "\u001b[2m\u001b[36m(ServeReplica:XGBoostService pid=10546)\u001b[0m INFO 2022-08-15 08:30:31,395 XGBoostService XGBoostService#omrqNS replica.py:482 - HANDLE __call__ OK 15.3ms\n"
     ]
    }
   ],
   "source": [
    "import requests\n",
    "\n",
    "sample_input = test_dataset.take(1)\n",
    "sample_input = dict(sample_input[0])\n",
    "\n",
    "output = requests.post(\"http://localhost:8000/rayair\", json=[sample_input]).json()\n",
    "print(output)"
   ]
  },
  {
   "cell_type": "code",
   "execution_count": 14,
   "id": "e61bfda4",
   "metadata": {},
   "outputs": [],
   "source": [
    "ray.shutdown()"
   ]
  },
  {
   "cell_type": "markdown",
   "id": "623f655d",
   "metadata": {},
   "source": [
    "### Homework\n",
    "\n",
    "1. Have a go at Ray AIR examples in the documentation."
   ]
  },
  {
   "cell_type": "markdown",
   "id": "8bbf1bb5-78bb-4d17-a7fe-47e81960a5f3",
   "metadata": {},
   "source": [
    " 📖 [Back to Table of Contents](./ex_00_tutorial_overview.ipynb)<br>\n",
    "⬅️ [Previous notebook](./ex_07_ray_data.ipynb) <br>\n",
    "\n",
    "Done! 🍻\n",
    " "
   ]
  }
 ],
 "metadata": {
  "kernelspec": {
   "display_name": "Python 3 (ipykernel)",
   "language": "python",
   "name": "python3"
  },
  "language_info": {
   "codemirror_mode": {
    "name": "ipython",
    "version": 3
   },
   "file_extension": ".py",
   "mimetype": "text/x-python",
   "name": "python",
   "nbconvert_exporter": "python",
   "pygments_lexer": "ipython3",
   "version": "3.8.13"
  }
 },
 "nbformat": 4,
 "nbformat_minor": 5
}
