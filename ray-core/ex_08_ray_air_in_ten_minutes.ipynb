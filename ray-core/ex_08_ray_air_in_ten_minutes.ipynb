{
 "cells": [
  {
   "cell_type": "markdown",
   "id": "d893ceac",
   "metadata": {},
   "source": [
    "## A gentle 10-minute introduction to Ray AI Runitime (Ray AIR)\n",
    "\n",
    "© 2019-2022, Anyscale. All Rights Reserved\n",
    "\n",
    "📖 [Back to Table of Contents](./ex_00_tutorial_overview.ipynb)<br>\n",
    "⬅️ [Previous notebook](./ex_07_ray_data.ipynb) <br>\n",
    "\n",
    "As part of Ray 2.0, Ray AI Runtime (AIR) is an open-source toolkit for building end-to-end simple and scalable ML applications. By leveraging Ray, its distributed compute capabilities, and its library ecosystem, Ray AIR brings scalability and programmability to ML platforms.\n",
    "\n",
    "Ray AI Runtime focuses on two functional aspects:\n",
    " * It provides scalability by leveraging Ray’s distributed compute layer for ML workloads.\n",
    " * It is designed to interoperate with other systems for storage and metadata needs.\n",
    "\n",
    "Ray AIR consists of five key components:\n",
    "\n",
    " * Data processing ([Ray Data](https://docs.ray.io/en/latest/data/dataset.html))\n",
    " * Model Training ([Ray Train](https://docs.ray.io/en/latest/train/train.html))\n",
    " * Reinforcement Learning ([Ray RLlib](https://docs.ray.io/en/latest/rllib/index.html))\n",
    " * Hyperparameter Tuning ([Ray Tune](https://docs.ray.io/en/latest/tune/index.html))\n",
    " * Model Serving ([Ray Serve](https://docs.ray.io/en/latest/serve/index.html)).\n",
    " \n",
    " <img src = \"images/ray-air.svg\" width=\"60%\" height=\"30%\">\n",
    " \n",
    "📖 [Back to Table of Contents](./ex_00_tutorial_overview.ipynb)<br>\n",
    "⬅️ [Previous notebook](./ex_07_ray_data.ipynb) <br>\n",
    " \n",
    "### Learning objectives:\n",
    "  * Get introduced to Ray AIR as a unified toolkit to write an end-to-end ML application in a single Python script\n",
    "  * Get exposed to Ray data for data ingestion\n",
    "  * Use out-of-box Preprocessors\n",
    "  * Load model from the best model checkpoint and use for batch inference\n",
    "  * Deploy best checkpoint model and use for online inference"
   ]
  },
  {
   "cell_type": "code",
   "execution_count": 14,
   "id": "6a2f8cb6",
   "metadata": {},
   "outputs": [],
   "source": [
    "import logging, os, random, warnings\n",
    "import ray\n",
    "import pandas as pd"
   ]
  },
  {
   "cell_type": "code",
   "execution_count": 15,
   "id": "e9f07c2a",
   "metadata": {},
   "outputs": [],
   "source": [
    "warnings.filterwarnings(\"ignore\")\n",
    "os.environ[\"PYTHONWARNINGS\"] = \"ignore\""
   ]
  },
  {
   "cell_type": "code",
   "execution_count": 16,
   "id": "9d9a2a19",
   "metadata": {},
   "outputs": [
    {
     "data": {
      "text/html": [
       "<div>\n",
       "    <div style=\"margin-left: 50px;display: flex;flex-direction: row;align-items: center\">\n",
       "        <h3 style=\"color: var(--jp-ui-font-color0)\">Ray</h3>\n",
       "        <svg version=\"1.1\" id=\"ray\" width=\"3em\" viewBox=\"0 0 144.5 144.6\" style=\"margin-left: 3em;margin-right: 3em\">\n",
       "            <g id=\"layer-1\">\n",
       "                <path fill=\"#00a2e9\" class=\"st0\" d=\"M97.3,77.2c-3.8-1.1-6.2,0.9-8.3,5.1c-3.5,6.8-9.9,9.9-17.4,9.6S58,88.1,54.8,81.2c-1.4-3-3-4-6.3-4.1\n",
       "                    c-5.6-0.1-9.9,0.1-13.1,6.4c-3.8,7.6-13.6,10.2-21.8,7.6C5.2,88.4-0.4,80.5,0,71.7c0.1-8.4,5.7-15.8,13.8-18.2\n",
       "                    c8.4-2.6,17.5,0.7,22.3,8c1.3,1.9,1.3,5.2,3.6,5.6c3.9,0.6,8,0.2,12,0.2c1.8,0,1.9-1.6,2.4-2.8c3.5-7.8,9.7-11.8,18-11.9\n",
       "                    c8.2-0.1,14.4,3.9,17.8,11.4c1.3,2.8,2.9,3.6,5.7,3.3c1-0.1,2,0.1,3,0c2.8-0.5,6.4,1.7,8.1-2.7s-2.3-5.5-4.1-7.5\n",
       "                    c-5.1-5.7-10.9-10.8-16.1-16.3C84,38,81.9,37.1,78,38.3C66.7,42,56.2,35.7,53,24.1C50.3,14,57.3,2.8,67.7,0.5\n",
       "                    C78.4-2,89,4.7,91.5,15.3c0.1,0.3,0.1,0.5,0.2,0.8c0.7,3.4,0.7,6.9-0.8,9.8c-1.7,3.2-0.8,5,1.5,7.2c6.7,6.5,13.3,13,19.8,19.7\n",
       "                    c1.8,1.8,3,2.1,5.5,1.2c9.1-3.4,17.9-0.6,23.4,7c4.8,6.9,4.6,16.1-0.4,22.9c-5.4,7.2-14.2,9.9-23.1,6.5c-2.3-0.9-3.5-0.6-5.1,1.1\n",
       "                    c-6.7,6.9-13.6,13.7-20.5,20.4c-1.8,1.8-2.5,3.2-1.4,5.9c3.5,8.7,0.3,18.6-7.7,23.6c-7.9,5-18.2,3.8-24.8-2.9\n",
       "                    c-6.4-6.4-7.4-16.2-2.5-24.3c4.9-7.8,14.5-11,23.1-7.8c3,1.1,4.7,0.5,6.9-1.7C91.7,98.4,98,92.3,104.2,86c1.6-1.6,4.1-2.7,2.6-6.2\n",
       "                    c-1.4-3.3-3.8-2.5-6.2-2.6C99.8,77.2,98.9,77.2,97.3,77.2z M72.1,29.7c5.5,0.1,9.9-4.3,10-9.8c0-0.1,0-0.2,0-0.3\n",
       "                    C81.8,14,77,9.8,71.5,10.2c-5,0.3-9,4.2-9.3,9.2c-0.2,5.5,4,10.1,9.5,10.3C71.8,29.7,72,29.7,72.1,29.7z M72.3,62.3\n",
       "                    c-5.4-0.1-9.9,4.2-10.1,9.7c0,0.2,0,0.3,0,0.5c0.2,5.4,4.5,9.7,9.9,10c5.1,0.1,9.9-4.7,10.1-9.8c0.2-5.5-4-10-9.5-10.3\n",
       "                    C72.6,62.3,72.4,62.3,72.3,62.3z M115,72.5c0.1,5.4,4.5,9.7,9.8,9.9c5.6-0.2,10-4.8,10-10.4c-0.2-5.4-4.6-9.7-10-9.7\n",
       "                    c-5.3-0.1-9.8,4.2-9.9,9.5C115,72.1,115,72.3,115,72.5z M19.5,62.3c-5.4,0.1-9.8,4.4-10,9.8c-0.1,5.1,5.2,10.4,10.2,10.3\n",
       "                    c5.6-0.2,10-4.9,9.8-10.5c-0.1-5.4-4.5-9.7-9.9-9.6C19.6,62.3,19.5,62.3,19.5,62.3z M71.8,134.6c5.9,0.2,10.3-3.9,10.4-9.6\n",
       "                    c0.5-5.5-3.6-10.4-9.1-10.8c-5.5-0.5-10.4,3.6-10.8,9.1c0,0.5,0,0.9,0,1.4c-0.2,5.3,4,9.8,9.3,10\n",
       "                    C71.6,134.6,71.7,134.6,71.8,134.6z\"/>\n",
       "            </g>\n",
       "        </svg>\n",
       "        <table>\n",
       "            <tr>\n",
       "                <td style=\"text-align: left\"><b>Python version:</b></td>\n",
       "                <td style=\"text-align: left\"><b>3.8.13</b></td>\n",
       "            </tr>\n",
       "            <tr>\n",
       "                <td style=\"text-align: left\"><b>Ray version:</b></td>\n",
       "                <td style=\"text-align: left\"><b> 2.0.0rc0</b></td>\n",
       "            </tr>\n",
       "            <tr>\n",
       "    <td style=\"text-align: left\"><b>Dashboard:</b></td>\n",
       "    <td style=\"text-align: left\"><b><a href=\"http://127.0.0.1:8266\" target=\"_blank\">http://127.0.0.1:8266</a></b></td>\n",
       "</tr>\n",
       "\n",
       "        </table>\n",
       "    </div>\n",
       "</div>\n"
      ],
      "text/plain": [
       "RayContext(dashboard_url='127.0.0.1:8266', python_version='3.8.13', ray_version='2.0.0rc0', ray_commit='a0588094ec52b45a878f59e98258cd5e90f4ec36', address_info={'node_ip_address': '127.0.0.1', 'raylet_ip_address': '127.0.0.1', 'redis_address': None, 'object_store_address': '/tmp/ray/session_2022-08-05_14-56-53_156295_53031/sockets/plasma_store', 'raylet_socket_name': '/tmp/ray/session_2022-08-05_14-56-53_156295_53031/sockets/raylet', 'webui_url': '127.0.0.1:8266', 'session_dir': '/tmp/ray/session_2022-08-05_14-56-53_156295_53031', 'metrics_export_port': 56587, 'gcs_address': '127.0.0.1:56540', 'address': '127.0.0.1:56540', 'dashboard_agent_listen_port': 52365, 'node_id': '21353736cb291cb29f17a8e57587c30ee640fbe9ae07445c3911f82f'})"
      ]
     },
     "execution_count": 16,
     "metadata": {},
     "output_type": "execute_result"
    }
   ],
   "source": [
    "if ray.is_initialized:\n",
    "    ray.shutdown()\n",
    "ray.init(logging_level=logging.ERROR)"
   ]
  },
  {
   "cell_type": "markdown",
   "id": "b432675a",
   "metadata": {},
   "source": [
    "### Create Ray data from an S3 CSV datasource"
   ]
  },
  {
   "cell_type": "code",
   "execution_count": 17,
   "id": "8794a93a",
   "metadata": {},
   "outputs": [
    {
     "name": "stderr",
     "output_type": "stream",
     "text": [
      "Map_Batches: 100%|█████████████████████████████████████████████████████████████████████████████████████████████████████████████████████████████████████| 1/1 [00:00<00:00, 18.94it/s]\n"
     ]
    }
   ],
   "source": [
    "dataset = ray.data.read_csv(\"s3://anonymous@air-example-data/breast_cancer.csv\")\n",
    "\n",
    "# Split data into train and validation.\n",
    "train_dataset, valid_dataset = dataset.train_test_split(test_size=0.3)\n",
    "test_dataset = valid_dataset.drop_columns([\"target\"])"
   ]
  },
  {
   "cell_type": "markdown",
   "id": "8fd637f4",
   "metadata": {},
   "source": [
    "### Create Preprocessors\n",
    "This preprocessor is automatically used in the training function to `fit` and `tranform` your datasets for training and validation. You don't\n",
    "have to explicitly call the preprocess before training or inference. Ray AIR toolkit automatically does that for you. \n",
    "\n",
    "We are going to scaler a few features like `mean radius` and `mean texture`."
   ]
  },
  {
   "cell_type": "code",
   "execution_count": 18,
   "id": "84948e73",
   "metadata": {},
   "outputs": [],
   "source": [
    "from ray.data.preprocessors import StandardScaler\n",
    "\n",
    "# Create a preprocessor to scale some columns\n",
    "columns_to_scale = [\"mean radius\", \"mean texture\"]\n",
    "preprocessor = StandardScaler(columns=columns_to_scale)"
   ]
  },
  {
   "cell_type": "markdown",
   "id": "5b7f7511",
   "metadata": {},
   "source": [
    "### Create Trainers\n",
    "Use the Ray AIR trainer `XGBoostTrainer` with simple steps:\n",
    " 1. define the parallelism for Ray compute\n",
    " 2. define the XGBoost parameters for training\n",
    " 3. supply the preprocessor for fitting and transforming dataset during training and validation\n",
    " 4. provide the datasets for training and validation\n",
    " 5. invoke `trainer.fit()` \n",
    " \n",
    " Simple API that does a lot behind the scenes for you!"
   ]
  },
  {
   "cell_type": "code",
   "execution_count": 19,
   "id": "b860b16c",
   "metadata": {},
   "outputs": [
    {
     "data": {
      "text/html": [
       "== Status ==<br>Current time: 2022-08-05 14:57:13 (running for 00:00:06.05)<br>Memory usage on this node: 23.2/64.0 GiB<br>Using FIFO scheduling algorithm.<br>Resources requested: 0/10 CPUs, 0/0 GPUs, 0.0/36.73 GiB heap, 0.0/2.0 GiB objects<br>Result logdir: /Users/jules/ray_results/XGBoostTrainer_2022-08-05_14-57-07<br>Number of trials: 1/1 (1 TERMINATED)<br><table>\n",
       "<thead>\n",
       "<tr><th>Trial name                </th><th>status    </th><th>loc            </th><th style=\"text-align: right;\">  iter</th><th style=\"text-align: right;\">  total time (s)</th><th style=\"text-align: right;\">  train-logloss</th><th style=\"text-align: right;\">  train-error</th><th style=\"text-align: right;\">  valid-logloss</th></tr>\n",
       "</thead>\n",
       "<tbody>\n",
       "<tr><td>XGBoostTrainer_8ca3b_00000</td><td>TERMINATED</td><td>127.0.0.1:99676</td><td style=\"text-align: right;\">    21</td><td style=\"text-align: right;\">         4.72426</td><td style=\"text-align: right;\">      0.0184957</td><td style=\"text-align: right;\">            0</td><td style=\"text-align: right;\">      0.0893879</td></tr>\n",
       "</tbody>\n",
       "</table><br><br>"
      ],
      "text/plain": [
       "<IPython.core.display.HTML object>"
      ]
     },
     "metadata": {},
     "output_type": "display_data"
    },
    {
     "name": "stderr",
     "output_type": "stream",
     "text": [
      "\u001b[2m\u001b[36m(XGBoostTrainer pid=99676)\u001b[0m 2022-08-05 14:57:09,900\tINFO main.py:980 -- [RayXGBoost] Created 2 new actors (2 total actors). Waiting until actors are ready for training.\n",
      "\u001b[2m\u001b[36m(_RemoteRayXGBoostActor pid=99692)\u001b[0m 2022-08-05 14:57:11,069\tWARNING __init__.py:192 -- DeprecationWarning: `ray.worker.get_resource_ids` is a private attribute and access will be removed in a future Ray version.\n",
      "\u001b[2m\u001b[36m(_RemoteRayXGBoostActor pid=99692)\u001b[0m   File \"/opt/miniconda3/envs/ray-summit-training/lib/python3.8/site-packages/ray/_private/workers/default_worker.py\", line 237, in <module>\n",
      "\u001b[2m\u001b[36m(_RemoteRayXGBoostActor pid=99692)\u001b[0m     ray._private.worker.global_worker.main_loop()\n",
      "\u001b[2m\u001b[36m(_RemoteRayXGBoostActor pid=99692)\u001b[0m   File \"/opt/miniconda3/envs/ray-summit-training/lib/python3.8/site-packages/ray/_private/worker.py\", line 754, in main_loop\n",
      "\u001b[2m\u001b[36m(_RemoteRayXGBoostActor pid=99692)\u001b[0m     self.core_worker.run_task_loop()\n",
      "\u001b[2m\u001b[36m(_RemoteRayXGBoostActor pid=99692)\u001b[0m   File \"/opt/miniconda3/envs/ray-summit-training/lib/python3.8/site-packages/ray/_private/function_manager.py\", line 674, in actor_method_executor\n",
      "\u001b[2m\u001b[36m(_RemoteRayXGBoostActor pid=99692)\u001b[0m     return method(__ray_actor, *args, **kwargs)\n",
      "\u001b[2m\u001b[36m(_RemoteRayXGBoostActor pid=99692)\u001b[0m   File \"/opt/miniconda3/envs/ray-summit-training/lib/python3.8/site-packages/ray/util/tracing/tracing_helper.py\", line 466, in _resume_span\n",
      "\u001b[2m\u001b[36m(_RemoteRayXGBoostActor pid=99692)\u001b[0m     return method(self, *_args, **_kwargs)\n",
      "\u001b[2m\u001b[36m(_RemoteRayXGBoostActor pid=99692)\u001b[0m   File \"/opt/miniconda3/envs/ray-summit-training/lib/python3.8/site-packages/xgboost_ray/main.py\", line 474, in __init__\n",
      "\u001b[2m\u001b[36m(_RemoteRayXGBoostActor pid=99692)\u001b[0m     _set_omp_num_threads()\n",
      "\u001b[2m\u001b[36m(_RemoteRayXGBoostActor pid=99692)\u001b[0m   File \"/opt/miniconda3/envs/ray-summit-training/lib/python3.8/site-packages/xgboost_ray/main.py\", line 280, in _set_omp_num_threads\n",
      "\u001b[2m\u001b[36m(_RemoteRayXGBoostActor pid=99692)\u001b[0m     ray_cpus = _ray_get_actor_cpus()\n",
      "\u001b[2m\u001b[36m(_RemoteRayXGBoostActor pid=99692)\u001b[0m   File \"/opt/miniconda3/envs/ray-summit-training/lib/python3.8/site-packages/xgboost_ray/main.py\", line 262, in _ray_get_actor_cpus\n",
      "\u001b[2m\u001b[36m(_RemoteRayXGBoostActor pid=99692)\u001b[0m     resource_ids = ray.worker.get_resource_ids()\n",
      "\u001b[2m\u001b[36m(_RemoteRayXGBoostActor pid=99692)\u001b[0m   File \"/opt/miniconda3/envs/ray-summit-training/lib/python3.8/site-packages/ray/__init__.py\", line 196, in __getattr__\n",
      "\u001b[2m\u001b[36m(_RemoteRayXGBoostActor pid=99692)\u001b[0m     traceback.print_stack()\n",
      "\u001b[2m\u001b[36m(_RemoteRayXGBoostActor pid=99693)\u001b[0m 2022-08-05 14:57:11,136\tWARNING __init__.py:192 -- DeprecationWarning: `ray.worker.get_resource_ids` is a private attribute and access will be removed in a future Ray version.\n",
      "\u001b[2m\u001b[36m(_RemoteRayXGBoostActor pid=99693)\u001b[0m   File \"/opt/miniconda3/envs/ray-summit-training/lib/python3.8/site-packages/ray/_private/workers/default_worker.py\", line 237, in <module>\n",
      "\u001b[2m\u001b[36m(_RemoteRayXGBoostActor pid=99693)\u001b[0m     ray._private.worker.global_worker.main_loop()\n",
      "\u001b[2m\u001b[36m(_RemoteRayXGBoostActor pid=99693)\u001b[0m   File \"/opt/miniconda3/envs/ray-summit-training/lib/python3.8/site-packages/ray/_private/worker.py\", line 754, in main_loop\n",
      "\u001b[2m\u001b[36m(_RemoteRayXGBoostActor pid=99693)\u001b[0m     self.core_worker.run_task_loop()\n",
      "\u001b[2m\u001b[36m(_RemoteRayXGBoostActor pid=99693)\u001b[0m   File \"/opt/miniconda3/envs/ray-summit-training/lib/python3.8/site-packages/ray/_private/function_manager.py\", line 674, in actor_method_executor\n",
      "\u001b[2m\u001b[36m(_RemoteRayXGBoostActor pid=99693)\u001b[0m     return method(__ray_actor, *args, **kwargs)\n",
      "\u001b[2m\u001b[36m(_RemoteRayXGBoostActor pid=99693)\u001b[0m   File \"/opt/miniconda3/envs/ray-summit-training/lib/python3.8/site-packages/ray/util/tracing/tracing_helper.py\", line 466, in _resume_span\n",
      "\u001b[2m\u001b[36m(_RemoteRayXGBoostActor pid=99693)\u001b[0m     return method(self, *_args, **_kwargs)\n",
      "\u001b[2m\u001b[36m(_RemoteRayXGBoostActor pid=99693)\u001b[0m   File \"/opt/miniconda3/envs/ray-summit-training/lib/python3.8/site-packages/xgboost_ray/main.py\", line 474, in __init__\n",
      "\u001b[2m\u001b[36m(_RemoteRayXGBoostActor pid=99693)\u001b[0m     _set_omp_num_threads()\n",
      "\u001b[2m\u001b[36m(_RemoteRayXGBoostActor pid=99693)\u001b[0m   File \"/opt/miniconda3/envs/ray-summit-training/lib/python3.8/site-packages/xgboost_ray/main.py\", line 280, in _set_omp_num_threads\n",
      "\u001b[2m\u001b[36m(_RemoteRayXGBoostActor pid=99693)\u001b[0m     ray_cpus = _ray_get_actor_cpus()\n",
      "\u001b[2m\u001b[36m(_RemoteRayXGBoostActor pid=99693)\u001b[0m   File \"/opt/miniconda3/envs/ray-summit-training/lib/python3.8/site-packages/xgboost_ray/main.py\", line 262, in _ray_get_actor_cpus\n",
      "\u001b[2m\u001b[36m(_RemoteRayXGBoostActor pid=99693)\u001b[0m     resource_ids = ray.worker.get_resource_ids()\n",
      "\u001b[2m\u001b[36m(_RemoteRayXGBoostActor pid=99693)\u001b[0m   File \"/opt/miniconda3/envs/ray-summit-training/lib/python3.8/site-packages/ray/__init__.py\", line 196, in __getattr__\n",
      "\u001b[2m\u001b[36m(_RemoteRayXGBoostActor pid=99693)\u001b[0m     traceback.print_stack()\n",
      "\u001b[2m\u001b[36m(XGBoostTrainer pid=99676)\u001b[0m 2022-08-05 14:57:11,442\tINFO main.py:1025 -- [RayXGBoost] Starting XGBoost training.\n",
      "\u001b[2m\u001b[36m(_RemoteRayXGBoostActor pid=99692)\u001b[0m [14:57:11] task [xgboost.ray]:4984783632 got new rank 0\n",
      "\u001b[2m\u001b[36m(_RemoteRayXGBoostActor pid=99693)\u001b[0m [14:57:11] task [xgboost.ray]:5790368528 got new rank 1\n"
     ]
    },
    {
     "name": "stdout",
     "output_type": "stream",
     "text": [
      "Result for XGBoostTrainer_8ca3b_00000:\n",
      "  date: 2022-08-05_14-57-13\n",
      "  done: false\n",
      "  experiment_id: be6a859dfb9741a1ad5cb8cec303898a\n",
      "  hostname: Juless-MacBook-Pro-16\n",
      "  iterations_since_restore: 1\n",
      "  node_ip: 127.0.0.1\n",
      "  pid: 99676\n",
      "  time_since_restore: 4.258946895599365\n",
      "  time_this_iter_s: 4.258946895599365\n",
      "  time_total_s: 4.258946895599365\n",
      "  timestamp: 1659736633\n",
      "  timesteps_since_restore: 0\n",
      "  train-error: 0.02261306532663317\n",
      "  train-logloss: 0.464117960489575\n",
      "  training_iteration: 1\n",
      "  trial_id: 8ca3b_00000\n",
      "  valid-error: 0.11695906432748537\n",
      "  valid-logloss: 0.5025240946234318\n",
      "  warmup_time: 0.002750873565673828\n",
      "  \n"
     ]
    },
    {
     "name": "stderr",
     "output_type": "stream",
     "text": [
      "\u001b[2m\u001b[36m(XGBoostTrainer pid=99676)\u001b[0m 2022-08-05 14:57:13,339\tINFO main.py:1516 -- [RayXGBoost] Finished XGBoost training on training data with total N=398 in 3.45 seconds (1.89 pure XGBoost training time).\n"
     ]
    },
    {
     "name": "stdout",
     "output_type": "stream",
     "text": [
      "Result for XGBoostTrainer_8ca3b_00000:\n",
      "  date: 2022-08-05_14-57-13\n",
      "  done: true\n",
      "  experiment_id: be6a859dfb9741a1ad5cb8cec303898a\n",
      "  experiment_tag: '0'\n",
      "  hostname: Juless-MacBook-Pro-16\n",
      "  iterations_since_restore: 21\n",
      "  node_ip: 127.0.0.1\n",
      "  pid: 99676\n",
      "  time_since_restore: 4.724261045455933\n",
      "  time_this_iter_s: 0.3682382106781006\n",
      "  time_total_s: 4.724261045455933\n",
      "  timestamp: 1659736633\n",
      "  timesteps_since_restore: 0\n",
      "  train-error: 0.0\n",
      "  train-logloss: 0.01849572773292735\n",
      "  training_iteration: 21\n",
      "  trial_id: 8ca3b_00000\n",
      "  valid-error: 0.04093567251461988\n",
      "  valid-logloss: 0.08938791319913073\n",
      "  warmup_time: 0.002750873565673828\n",
      "  \n"
     ]
    }
   ],
   "source": [
    "from ray.air.config import ScalingConfig\n",
    "from ray.train.xgboost import XGBoostTrainer\n",
    "\n",
    "trainer = XGBoostTrainer(\n",
    "    scaling_config=ScalingConfig(\n",
    "        # Number of workers to use for data parallelism.\n",
    "        num_workers=2,\n",
    "        # Whether to use GPU acceleration.\n",
    "        use_gpu=False),\n",
    "    label_column=\"target\",\n",
    "    num_boost_round=20,\n",
    "    params={\n",
    "        # XGBoost specific params\n",
    "        \"objective\": \"binary:logistic\",\n",
    "        \"eval_metric\": [\"logloss\", \"error\"],\n",
    "    },\n",
    "    # our train and validation dataset and preprocessor\n",
    "    datasets={\"train\": train_dataset, \"valid\": valid_dataset},\n",
    "    preprocessor=preprocessor,\n",
    ")\n",
    "result = trainer.fit()\n",
    "# print(result.metrics)"
   ]
  },
  {
   "cell_type": "markdown",
   "id": "e78a135f",
   "metadata": {},
   "source": [
    "### Create Tuner for hyperparameter search\n",
    "\n",
    "What if you want to do hyperparameter optimization during training and use the best config for the model?\n",
    "Well, you can then use Tuner and supply your training function, Trainer, as part of the argument, along \n",
    "with other Tuner configuration. \n",
    "\n",
    "Again, simple steps:\n",
    " 1. define your hyperparameter space\n",
    " 2. define `TuneConfig` for number of trials and parallelism \n",
    " 3. invoke `tuner.fit()`"
   ]
  },
  {
   "cell_type": "code",
   "execution_count": null,
   "id": "6a59cf93",
   "metadata": {},
   "outputs": [],
   "source": [
    "from ray import tune\n",
    "\n",
    "param_space = {\"params\": {\"max_depth\": tune.randint(1, 9)}}\n",
    "metric = \"train-logloss\""
   ]
  },
  {
   "cell_type": "code",
   "execution_count": null,
   "id": "28bd4cba",
   "metadata": {},
   "outputs": [],
   "source": [
    "from ray.tune.tuner import Tuner, TuneConfig\n",
    "from ray.air.config import RunConfig\n",
    "\n",
    "tuner = Tuner(\n",
    "    trainer,\n",
    "    param_space=param_space,\n",
    "    tune_config=TuneConfig(num_samples=5, metric=metric, mode=\"min\"),\n",
    ")\n",
    "# Execute tuning.\n",
    "result_grid = tuner.fit()"
   ]
  },
  {
   "cell_type": "code",
   "execution_count": null,
   "id": "51a76225-e44b-46f3-845d-d91220ba5fa1",
   "metadata": {},
   "outputs": [],
   "source": [
    "# Fetch the best result with its best hyperparameter config \n",
    "best_result = result_grid.get_best_result()\n",
    "print(\"Best Result:\", best_result)"
   ]
  },
  {
   "cell_type": "markdown",
   "id": "fb15b435-5114-46e9-bed8-2c9b2d823150",
   "metadata": {},
   "source": [
    "### Ray AIR Checkpoints\n",
    "\n",
    "The AIR trainers, tuners, and custom pretrained model generate Checkpoints. An AIR Checkpoint is a common format for models that are used across different components of the Ray AI Runtime. This common format allow easy interoperability among AIR components and seamless integration with external supported machine learning frameworks. Read more\n",
    "about [Checkpoints]().\n",
    "\n",
    "<img src=\"images/checkpoints.jpeg\" height=\"25%\" and width=\"50%\"> "
   ]
  },
  {
   "cell_type": "markdown",
   "id": "e0714de2",
   "metadata": {},
   "source": [
    "### Create a `BatchPreditor` for batch prediction\n",
    "Once you have trained and tuned your model, create a batch predictor from best model using the `best_result.checkpoint` and do batch inference. "
   ]
  },
  {
   "cell_type": "code",
   "execution_count": null,
   "id": "72b605fc",
   "metadata": {},
   "outputs": [],
   "source": [
    "from ray.train.batch_predictor import BatchPredictor\n",
    "from ray.train.xgboost import XGBoostPredictor\n",
    "\n",
    "batch_predictor = BatchPredictor.from_checkpoint(best_result.checkpoint, XGBoostPredictor)\n",
    "\n",
    "predicted_probabilities = batch_predictor.predict(test_dataset)\n",
    "print(\"PREDICTED PROBABILITIES\")\n",
    "predicted_probabilities.show()"
   ]
  },
  {
   "cell_type": "markdown",
   "id": "262d4a87",
   "metadata": {},
   "source": [
    "### Create `PredictorDeployment` for Online Inference\n",
    "\n",
    "Deploy the best model as an inference service by using Ray Serve and the `PredictorDeployment` class."
   ]
  },
  {
   "cell_type": "code",
   "execution_count": null,
   "id": "37ff45e6",
   "metadata": {},
   "outputs": [],
   "source": [
    "from ray import serve\n",
    "from fastapi import Request\n",
    "from ray.serve import PredictorDeployment\n",
    "from ray.serve.http_adapters import json_request\n",
    "\n",
    "\n",
    "async def adapter(request: Request):\n",
    "    content = await request.json()\n",
    "    print(content)\n",
    "    return pd.DataFrame.from_dict(content)\n",
    "\n",
    "\n",
    "serve.start(detached=True)\n",
    "deployment = PredictorDeployment.options(name=\"XGBoostService\", num_replicas=2, route_prefix=\"/rayair\")\n",
    "\n",
    "deployment.deploy(\n",
    "    XGBoostPredictor, best_result.checkpoint, batching_params=False, http_adapter=adapter\n",
    ")\n",
    "\n",
    "print(deployment.url)"
   ]
  },
  {
   "cell_type": "markdown",
   "id": "7f463546",
   "metadata": {},
   "source": [
    "After deploying the service, you can send requests to it."
   ]
  },
  {
   "cell_type": "code",
   "execution_count": null,
   "id": "1ed9ae80",
   "metadata": {},
   "outputs": [],
   "source": [
    "import requests\n",
    "\n",
    "sample_input = test_dataset.take(1)\n",
    "sample_input = dict(sample_input[0])\n",
    "\n",
    "output = requests.post(deployment.url, json=[sample_input]).json()\n",
    "print(output)"
   ]
  },
  {
   "cell_type": "code",
   "execution_count": null,
   "id": "e61bfda4",
   "metadata": {},
   "outputs": [],
   "source": [
    "ray.shutdown()"
   ]
  },
  {
   "cell_type": "markdown",
   "id": "623f655d",
   "metadata": {},
   "source": [
    "### Homework\n",
    "\n",
    "1. Have a go at Ray AIR examples in the documentation."
   ]
  },
  {
   "cell_type": "markdown",
   "id": "8bbf1bb5-78bb-4d17-a7fe-47e81960a5f3",
   "metadata": {},
   "source": [
    " 📖 [Back to Table of Contents](./ex_00_tutorial_overview.ipynb)<br>\n",
    "⬅️ [Previous notebook](./ex_07_ray_data.ipynb) <br>\n",
    "\n",
    "Done! 🍻\n",
    " "
   ]
  }
 ],
 "metadata": {
  "kernelspec": {
   "display_name": "Python 3 (ipykernel)",
   "language": "python",
   "name": "python3"
  },
  "language_info": {
   "codemirror_mode": {
    "name": "ipython",
    "version": 3
   },
   "file_extension": ".py",
   "mimetype": "text/x-python",
   "name": "python",
   "nbconvert_exporter": "python",
   "pygments_lexer": "ipython3",
   "version": "3.8.13"
  }
 },
 "nbformat": 4,
 "nbformat_minor": 5
}
