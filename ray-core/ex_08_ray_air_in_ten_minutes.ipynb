{
 "cells": [
  {
   "cell_type": "markdown",
   "id": "d893ceac",
   "metadata": {},
   "source": [
    "## A gentle 10-minute introduction to Ray AI Runitime (Ray AIR)\n",
    "\n",
    "As part of Ray 2.0, Ray AI Runtime (AIR) is an open-source toolkit for building end-to-end simple and scalable ML applications. By leveraging Ray, its distributed compute capabilities, and its library ecosystem, Ray AIR brings scalability and programmability to ML platforms.\n",
    "\n",
    "Ray AI Runtime focuses on two functional aspects:\n",
    " * It provides scalability by leveraging Ray’s distributed compute layer for ML workloads.\n",
    " * It is designed to interoperate with other systems for storage and metadata needs.\n",
    "\n",
    "Ray AIR consists of five key components:\n",
    "\n",
    " * Data processing ([Ray Data](https://docs.ray.io/en/latest/data/dataset.html))\n",
    " * Model Training ([Ray Train](https://docs.ray.io/en/latest/train/train.html))\n",
    " * Reinforcement Learning ([Ray RLlib](https://docs.ray.io/en/latest/rllib/index.html))\n",
    " * Hyperparameter Tuning ([Ray Tune](https://docs.ray.io/en/latest/tune/index.html))\n",
    " * Model Serving ([Ray Serve](https://docs.ray.io/en/latest/serve/index.html)).\n",
    " \n",
    " <img src = \"images/ai_runtime.jpeg\" width=\"60%\" height=\"30%\">\n",
    " \n",
    "📖 [Back to Table of Contents](./ex_00_tutorial_overview.ipynb)<br>\n",
    "⬅️ [Previous notebook](./ex_07_ray_data.ipynb) <br>\n",
    " \n",
    "### Learning objectives:\n",
    "  * Get introduced to Ray AIR as a unified toolkit to write an end-to-end ML application in a single Python script\n",
    "  * Get exposed to Ray data for data ingestion\n",
    "  * Use out-of-box Preprocessors\n",
    "  * Load model from the best model checkpoint and use for batch inference\n",
    "  * Deploy best checkpoint model and use for online inference"
   ]
  },
  {
   "cell_type": "code",
   "execution_count": 8,
   "id": "6a2f8cb6",
   "metadata": {},
   "outputs": [],
   "source": [
    "import logging, os, random, warnings\n",
    "import ray\n",
    "import pandas as pd"
   ]
  },
  {
   "cell_type": "code",
   "execution_count": 9,
   "id": "e9f07c2a",
   "metadata": {},
   "outputs": [],
   "source": [
    "warnings.filterwarnings(\"ignore\")\n",
    "os.environ[\"PYTHONWARNINGS\"] = \"ignore\""
   ]
  },
  {
   "cell_type": "code",
   "execution_count": 10,
   "id": "9d9a2a19",
   "metadata": {},
   "outputs": [
    {
     "data": {
      "text/html": [
       "<div>\n",
       "    <div style=\"margin-left: 50px;display: flex;flex-direction: row;align-items: center\">\n",
       "        <h3 style=\"color: var(--jp-ui-font-color0)\">Ray</h3>\n",
       "        <svg version=\"1.1\" id=\"ray\" width=\"3em\" viewBox=\"0 0 144.5 144.6\" style=\"margin-left: 3em;margin-right: 3em\">\n",
       "            <g id=\"layer-1\">\n",
       "                <path fill=\"#00a2e9\" class=\"st0\" d=\"M97.3,77.2c-3.8-1.1-6.2,0.9-8.3,5.1c-3.5,6.8-9.9,9.9-17.4,9.6S58,88.1,54.8,81.2c-1.4-3-3-4-6.3-4.1\n",
       "                    c-5.6-0.1-9.9,0.1-13.1,6.4c-3.8,7.6-13.6,10.2-21.8,7.6C5.2,88.4-0.4,80.5,0,71.7c0.1-8.4,5.7-15.8,13.8-18.2\n",
       "                    c8.4-2.6,17.5,0.7,22.3,8c1.3,1.9,1.3,5.2,3.6,5.6c3.9,0.6,8,0.2,12,0.2c1.8,0,1.9-1.6,2.4-2.8c3.5-7.8,9.7-11.8,18-11.9\n",
       "                    c8.2-0.1,14.4,3.9,17.8,11.4c1.3,2.8,2.9,3.6,5.7,3.3c1-0.1,2,0.1,3,0c2.8-0.5,6.4,1.7,8.1-2.7s-2.3-5.5-4.1-7.5\n",
       "                    c-5.1-5.7-10.9-10.8-16.1-16.3C84,38,81.9,37.1,78,38.3C66.7,42,56.2,35.7,53,24.1C50.3,14,57.3,2.8,67.7,0.5\n",
       "                    C78.4-2,89,4.7,91.5,15.3c0.1,0.3,0.1,0.5,0.2,0.8c0.7,3.4,0.7,6.9-0.8,9.8c-1.7,3.2-0.8,5,1.5,7.2c6.7,6.5,13.3,13,19.8,19.7\n",
       "                    c1.8,1.8,3,2.1,5.5,1.2c9.1-3.4,17.9-0.6,23.4,7c4.8,6.9,4.6,16.1-0.4,22.9c-5.4,7.2-14.2,9.9-23.1,6.5c-2.3-0.9-3.5-0.6-5.1,1.1\n",
       "                    c-6.7,6.9-13.6,13.7-20.5,20.4c-1.8,1.8-2.5,3.2-1.4,5.9c3.5,8.7,0.3,18.6-7.7,23.6c-7.9,5-18.2,3.8-24.8-2.9\n",
       "                    c-6.4-6.4-7.4-16.2-2.5-24.3c4.9-7.8,14.5-11,23.1-7.8c3,1.1,4.7,0.5,6.9-1.7C91.7,98.4,98,92.3,104.2,86c1.6-1.6,4.1-2.7,2.6-6.2\n",
       "                    c-1.4-3.3-3.8-2.5-6.2-2.6C99.8,77.2,98.9,77.2,97.3,77.2z M72.1,29.7c5.5,0.1,9.9-4.3,10-9.8c0-0.1,0-0.2,0-0.3\n",
       "                    C81.8,14,77,9.8,71.5,10.2c-5,0.3-9,4.2-9.3,9.2c-0.2,5.5,4,10.1,9.5,10.3C71.8,29.7,72,29.7,72.1,29.7z M72.3,62.3\n",
       "                    c-5.4-0.1-9.9,4.2-10.1,9.7c0,0.2,0,0.3,0,0.5c0.2,5.4,4.5,9.7,9.9,10c5.1,0.1,9.9-4.7,10.1-9.8c0.2-5.5-4-10-9.5-10.3\n",
       "                    C72.6,62.3,72.4,62.3,72.3,62.3z M115,72.5c0.1,5.4,4.5,9.7,9.8,9.9c5.6-0.2,10-4.8,10-10.4c-0.2-5.4-4.6-9.7-10-9.7\n",
       "                    c-5.3-0.1-9.8,4.2-9.9,9.5C115,72.1,115,72.3,115,72.5z M19.5,62.3c-5.4,0.1-9.8,4.4-10,9.8c-0.1,5.1,5.2,10.4,10.2,10.3\n",
       "                    c5.6-0.2,10-4.9,9.8-10.5c-0.1-5.4-4.5-9.7-9.9-9.6C19.6,62.3,19.5,62.3,19.5,62.3z M71.8,134.6c5.9,0.2,10.3-3.9,10.4-9.6\n",
       "                    c0.5-5.5-3.6-10.4-9.1-10.8c-5.5-0.5-10.4,3.6-10.8,9.1c0,0.5,0,0.9,0,1.4c-0.2,5.3,4,9.8,9.3,10\n",
       "                    C71.6,134.6,71.7,134.6,71.8,134.6z\"/>\n",
       "            </g>\n",
       "        </svg>\n",
       "        <table>\n",
       "            <tr>\n",
       "                <td style=\"text-align: left\"><b>Python version:</b></td>\n",
       "                <td style=\"text-align: left\"><b>3.8.13</b></td>\n",
       "            </tr>\n",
       "            <tr>\n",
       "                <td style=\"text-align: left\"><b>Ray version:</b></td>\n",
       "                <td style=\"text-align: left\"><b> 3.0.0.dev0</b></td>\n",
       "            </tr>\n",
       "            <tr>\n",
       "    <td style=\"text-align: left\"><b>Dashboard:</b></td>\n",
       "    <td style=\"text-align: left\"><b><a href=\"http://127.0.0.1:8265\" target=\"_blank\">http://127.0.0.1:8265</a></b></td>\n",
       "</tr>\n",
       "\n",
       "        </table>\n",
       "    </div>\n",
       "</div>\n"
      ],
      "text/plain": [
       "RayContext(dashboard_url='127.0.0.1:8265', python_version='3.8.13', ray_version='3.0.0.dev0', ray_commit='{{RAY_COMMIT_SHA}}', address_info={'node_ip_address': '127.0.0.1', 'raylet_ip_address': '127.0.0.1', 'redis_address': None, 'object_store_address': '/tmp/ray/session_2022-07-29_15-36-04_976222_22813/sockets/plasma_store', 'raylet_socket_name': '/tmp/ray/session_2022-07-29_15-36-04_976222_22813/sockets/raylet', 'webui_url': '127.0.0.1:8265', 'session_dir': '/tmp/ray/session_2022-07-29_15-36-04_976222_22813', 'metrics_export_port': 64010, 'gcs_address': '127.0.0.1:65183', 'address': '127.0.0.1:65183', 'dashboard_agent_listen_port': 52365, 'node_id': '481b755be040c9668cce01b2f08b923c1702e16649bdbc5db0a1d6e9'})"
      ]
     },
     "execution_count": 10,
     "metadata": {},
     "output_type": "execute_result"
    }
   ],
   "source": [
    "if ray.is_initialized:\n",
    "    ray.shutdown()\n",
    "ray.init(logging_level=logging.ERROR)"
   ]
  },
  {
   "cell_type": "markdown",
   "id": "b432675a",
   "metadata": {},
   "source": [
    "### Create Ray data from an S3 CSV datasource"
   ]
  },
  {
   "cell_type": "code",
   "execution_count": 11,
   "id": "8794a93a",
   "metadata": {},
   "outputs": [
    {
     "name": "stderr",
     "output_type": "stream",
     "text": [
      "Map_Batches: 100%|████████████████████████████████████████████████████████████████████████████████████████████████████████████████████████████████████| 1/1 [00:00<00:00, 20.61it/s]\n"
     ]
    }
   ],
   "source": [
    "dataset = ray.data.read_csv(\"s3://anonymous@air-example-data/breast_cancer.csv\")\n",
    "\n",
    "# Split data into train and validation.\n",
    "train_dataset, valid_dataset = dataset.train_test_split(test_size=0.3)\n",
    "test_dataset = valid_dataset.drop_columns([\"target\"])"
   ]
  },
  {
   "cell_type": "markdown",
   "id": "8fd637f4",
   "metadata": {},
   "source": [
    "### Create Preprocessors\n",
    "This preprocessor is automatically used in the training function to `fit` and `tranform` your datasets for training and validation. You don't\n",
    "have to explicitly call the preprocess before training or inference. Ray AIR toolkit automatically does that for you. \n",
    "\n",
    "We are going to scaler a few features like `mean radius` and `mean texture`."
   ]
  },
  {
   "cell_type": "code",
   "execution_count": 12,
   "id": "84948e73",
   "metadata": {},
   "outputs": [],
   "source": [
    "from ray.data.preprocessors import StandardScaler\n",
    "\n",
    "# Create a preprocessor to scale some columns\n",
    "columns_to_scale = [\"mean radius\", \"mean texture\"]\n",
    "preprocessor = StandardScaler(columns=columns_to_scale)"
   ]
  },
  {
   "cell_type": "markdown",
   "id": "5b7f7511",
   "metadata": {},
   "source": [
    "### Create Trainers\n",
    "Use the Ray AIR trainer `XGBoostTrainer` with simple steps:\n",
    " 1. define the parallelism for Ray compute\n",
    " 2. define the XGBoost parameters for training\n",
    " 3. supply the preprocessor for fitting and transforming dataset during training and validation\n",
    " 4. provide the datasets for training and validation\n",
    " 5. invoke `trainer.fit()` \n",
    " \n",
    " Simple API that does a lot behind the scenes for you!"
   ]
  },
  {
   "cell_type": "code",
   "execution_count": 13,
   "id": "b860b16c",
   "metadata": {},
   "outputs": [
    {
     "data": {
      "text/html": [
       "== Status ==<br>Current time: 2022-07-29 15:37:26 (running for 00:00:06.42)<br>Memory usage on this node: 13.3/64.0 GiB<br>Using FIFO scheduling algorithm.<br>Resources requested: 0/10 CPUs, 0/0 GPUs, 0.0/45.77 GiB heap, 0.0/2.0 GiB objects<br>Result logdir: /Users/jules/ray_results/XGBoostTrainer_2022-07-29_15-37-20<br>Number of trials: 1/1 (1 TERMINATED)<br><table>\n",
       "<thead>\n",
       "<tr><th>Trial name                </th><th>status    </th><th>loc            </th><th style=\"text-align: right;\">  iter</th><th style=\"text-align: right;\">  total time (s)</th><th style=\"text-align: right;\">  train-logloss</th><th style=\"text-align: right;\">  train-error</th><th style=\"text-align: right;\">  valid-logloss</th></tr>\n",
       "</thead>\n",
       "<tbody>\n",
       "<tr><td>XGBoostTrainer_01b02_00000</td><td>TERMINATED</td><td>127.0.0.1:24646</td><td style=\"text-align: right;\">    21</td><td style=\"text-align: right;\">         5.20223</td><td style=\"text-align: right;\">      0.0184957</td><td style=\"text-align: right;\">            0</td><td style=\"text-align: right;\">      0.0893879</td></tr>\n",
       "</tbody>\n",
       "</table><br><br>"
      ],
      "text/plain": [
       "<IPython.core.display.HTML object>"
      ]
     },
     "metadata": {},
     "output_type": "display_data"
    },
    {
     "name": "stderr",
     "output_type": "stream",
     "text": [
      "\u001b[2m\u001b[36m(XGBoostTrainer pid=24646)\u001b[0m 2022-07-29 15:37:22,915\tINFO main.py:980 -- [RayXGBoost] Created 2 new actors (2 total actors). Waiting until actors are ready for training.\n",
      "\u001b[2m\u001b[36m(_RemoteRayXGBoostActor pid=24663)\u001b[0m 2022-07-29 15:37:23,918\tWARNING __init__.py:192 -- DeprecationWarning: `ray.worker.get_resource_ids` is a private attribute and access will be removed in a future Ray version.\n",
      "\u001b[2m\u001b[36m(_RemoteRayXGBoostActor pid=24663)\u001b[0m   File \"/Users/jules/git-repos/ray/python/ray/_private/workers/default_worker.py\", line 237, in <module>\n",
      "\u001b[2m\u001b[36m(_RemoteRayXGBoostActor pid=24663)\u001b[0m     ray._private.worker.global_worker.main_loop()\n",
      "\u001b[2m\u001b[36m(_RemoteRayXGBoostActor pid=24663)\u001b[0m   File \"/Users/jules/git-repos/ray/python/ray/_private/worker.py\", line 754, in main_loop\n",
      "\u001b[2m\u001b[36m(_RemoteRayXGBoostActor pid=24663)\u001b[0m     self.core_worker.run_task_loop()\n",
      "\u001b[2m\u001b[36m(_RemoteRayXGBoostActor pid=24663)\u001b[0m   File \"/Users/jules/git-repos/ray/python/ray/_private/function_manager.py\", line 674, in actor_method_executor\n",
      "\u001b[2m\u001b[36m(_RemoteRayXGBoostActor pid=24663)\u001b[0m     return method(__ray_actor, *args, **kwargs)\n",
      "\u001b[2m\u001b[36m(_RemoteRayXGBoostActor pid=24663)\u001b[0m   File \"/Users/jules/git-repos/ray/python/ray/util/tracing/tracing_helper.py\", line 466, in _resume_span\n",
      "\u001b[2m\u001b[36m(_RemoteRayXGBoostActor pid=24663)\u001b[0m     return method(self, *_args, **_kwargs)\n",
      "\u001b[2m\u001b[36m(_RemoteRayXGBoostActor pid=24663)\u001b[0m   File \"/opt/miniconda3/envs/ray-build/lib/python3.8/site-packages/xgboost_ray/main.py\", line 474, in __init__\n",
      "\u001b[2m\u001b[36m(_RemoteRayXGBoostActor pid=24663)\u001b[0m     _set_omp_num_threads()\n",
      "\u001b[2m\u001b[36m(_RemoteRayXGBoostActor pid=24663)\u001b[0m   File \"/opt/miniconda3/envs/ray-build/lib/python3.8/site-packages/xgboost_ray/main.py\", line 280, in _set_omp_num_threads\n",
      "\u001b[2m\u001b[36m(_RemoteRayXGBoostActor pid=24663)\u001b[0m     ray_cpus = _ray_get_actor_cpus()\n",
      "\u001b[2m\u001b[36m(_RemoteRayXGBoostActor pid=24663)\u001b[0m   File \"/opt/miniconda3/envs/ray-build/lib/python3.8/site-packages/xgboost_ray/main.py\", line 262, in _ray_get_actor_cpus\n",
      "\u001b[2m\u001b[36m(_RemoteRayXGBoostActor pid=24663)\u001b[0m     resource_ids = ray.worker.get_resource_ids()\n",
      "\u001b[2m\u001b[36m(_RemoteRayXGBoostActor pid=24663)\u001b[0m   File \"/Users/jules/git-repos/ray/python/ray/__init__.py\", line 196, in __getattr__\n",
      "\u001b[2m\u001b[36m(_RemoteRayXGBoostActor pid=24663)\u001b[0m     traceback.print_stack()\n",
      "\u001b[2m\u001b[36m(_RemoteRayXGBoostActor pid=24662)\u001b[0m 2022-07-29 15:37:23,918\tWARNING __init__.py:192 -- DeprecationWarning: `ray.worker.get_resource_ids` is a private attribute and access will be removed in a future Ray version.\n",
      "\u001b[2m\u001b[36m(_RemoteRayXGBoostActor pid=24662)\u001b[0m   File \"/Users/jules/git-repos/ray/python/ray/_private/workers/default_worker.py\", line 237, in <module>\n",
      "\u001b[2m\u001b[36m(_RemoteRayXGBoostActor pid=24662)\u001b[0m     ray._private.worker.global_worker.main_loop()\n",
      "\u001b[2m\u001b[36m(_RemoteRayXGBoostActor pid=24662)\u001b[0m   File \"/Users/jules/git-repos/ray/python/ray/_private/worker.py\", line 754, in main_loop\n",
      "\u001b[2m\u001b[36m(_RemoteRayXGBoostActor pid=24662)\u001b[0m     self.core_worker.run_task_loop()\n",
      "\u001b[2m\u001b[36m(_RemoteRayXGBoostActor pid=24662)\u001b[0m   File \"/Users/jules/git-repos/ray/python/ray/_private/function_manager.py\", line 674, in actor_method_executor\n",
      "\u001b[2m\u001b[36m(_RemoteRayXGBoostActor pid=24662)\u001b[0m     return method(__ray_actor, *args, **kwargs)\n",
      "\u001b[2m\u001b[36m(_RemoteRayXGBoostActor pid=24662)\u001b[0m   File \"/Users/jules/git-repos/ray/python/ray/util/tracing/tracing_helper.py\", line 466, in _resume_span\n",
      "\u001b[2m\u001b[36m(_RemoteRayXGBoostActor pid=24662)\u001b[0m     return method(self, *_args, **_kwargs)\n",
      "\u001b[2m\u001b[36m(_RemoteRayXGBoostActor pid=24662)\u001b[0m   File \"/opt/miniconda3/envs/ray-build/lib/python3.8/site-packages/xgboost_ray/main.py\", line 474, in __init__\n",
      "\u001b[2m\u001b[36m(_RemoteRayXGBoostActor pid=24662)\u001b[0m     _set_omp_num_threads()\n",
      "\u001b[2m\u001b[36m(_RemoteRayXGBoostActor pid=24662)\u001b[0m   File \"/opt/miniconda3/envs/ray-build/lib/python3.8/site-packages/xgboost_ray/main.py\", line 280, in _set_omp_num_threads\n",
      "\u001b[2m\u001b[36m(_RemoteRayXGBoostActor pid=24662)\u001b[0m     ray_cpus = _ray_get_actor_cpus()\n",
      "\u001b[2m\u001b[36m(_RemoteRayXGBoostActor pid=24662)\u001b[0m   File \"/opt/miniconda3/envs/ray-build/lib/python3.8/site-packages/xgboost_ray/main.py\", line 262, in _ray_get_actor_cpus\n",
      "\u001b[2m\u001b[36m(_RemoteRayXGBoostActor pid=24662)\u001b[0m     resource_ids = ray.worker.get_resource_ids()\n",
      "\u001b[2m\u001b[36m(_RemoteRayXGBoostActor pid=24662)\u001b[0m   File \"/Users/jules/git-repos/ray/python/ray/__init__.py\", line 196, in __getattr__\n",
      "\u001b[2m\u001b[36m(_RemoteRayXGBoostActor pid=24662)\u001b[0m     traceback.print_stack()\n",
      "\u001b[2m\u001b[36m(XGBoostTrainer pid=24646)\u001b[0m 2022-07-29 15:37:24,034\tINFO main.py:1025 -- [RayXGBoost] Starting XGBoost training.\n",
      "\u001b[2m\u001b[36m(_RemoteRayXGBoostActor pid=24663)\u001b[0m [15:37:24] task [xgboost.ray]:5006238000 got new rank 1\n",
      "\u001b[2m\u001b[36m(_RemoteRayXGBoostActor pid=24662)\u001b[0m [15:37:24] task [xgboost.ray]:5192180208 got new rank 0\n"
     ]
    },
    {
     "name": "stdout",
     "output_type": "stream",
     "text": [
      "Result for XGBoostTrainer_01b02_00000:\n",
      "  date: 2022-07-29_15-37-25\n",
      "  done: false\n",
      "  experiment_id: ef7af65595214d21a294633db8b27cb9\n",
      "  hostname: Juless-MacBook-Pro-16\n",
      "  iterations_since_restore: 1\n",
      "  node_ip: 127.0.0.1\n",
      "  pid: 24646\n",
      "  time_since_restore: 4.369057893753052\n",
      "  time_this_iter_s: 4.369057893753052\n",
      "  time_total_s: 4.369057893753052\n",
      "  timestamp: 1659134245\n",
      "  timesteps_since_restore: 0\n",
      "  train-error: 0.02261306532663317\n",
      "  train-logloss: 0.464117960489575\n",
      "  training_iteration: 1\n",
      "  trial_id: 01b02_00000\n",
      "  valid-error: 0.11695906432748537\n",
      "  valid-logloss: 0.5025240946234318\n",
      "  warmup_time: 0.0025720596313476562\n",
      "  \n"
     ]
    },
    {
     "name": "stderr",
     "output_type": "stream",
     "text": [
      "\u001b[2m\u001b[36m(XGBoostTrainer pid=24646)\u001b[0m 2022-07-29 15:37:25,809\tINFO main.py:1516 -- [RayXGBoost] Finished XGBoost training on training data with total N=398 in 2.91 seconds (1.77 pure XGBoost training time).\n"
     ]
    },
    {
     "name": "stdout",
     "output_type": "stream",
     "text": [
      "Result for XGBoostTrainer_01b02_00000:\n",
      "  date: 2022-07-29_15-37-26\n",
      "  done: true\n",
      "  experiment_id: ef7af65595214d21a294633db8b27cb9\n",
      "  experiment_tag: '0'\n",
      "  hostname: Juless-MacBook-Pro-16\n",
      "  iterations_since_restore: 21\n",
      "  node_ip: 127.0.0.1\n",
      "  pid: 24646\n",
      "  time_since_restore: 5.202230930328369\n",
      "  time_this_iter_s: 0.7396941184997559\n",
      "  time_total_s: 5.202230930328369\n",
      "  timestamp: 1659134246\n",
      "  timesteps_since_restore: 0\n",
      "  train-error: 0.0\n",
      "  train-logloss: 0.01849572773292735\n",
      "  training_iteration: 21\n",
      "  trial_id: 01b02_00000\n",
      "  valid-error: 0.04093567251461988\n",
      "  valid-logloss: 0.08938791319913073\n",
      "  warmup_time: 0.0025720596313476562\n",
      "  \n"
     ]
    }
   ],
   "source": [
    "from ray.air.config import ScalingConfig\n",
    "from ray.train.xgboost import XGBoostTrainer\n",
    "\n",
    "trainer = XGBoostTrainer(\n",
    "    scaling_config=ScalingConfig(\n",
    "        # Number of workers to use for data parallelism.\n",
    "        num_workers=2,\n",
    "        # Whether to use GPU acceleration.\n",
    "        use_gpu=False),\n",
    "    label_column=\"target\",\n",
    "    num_boost_round=20,\n",
    "    params={\n",
    "        # XGBoost specific params\n",
    "        \"objective\": \"binary:logistic\",\n",
    "        \"eval_metric\": [\"logloss\", \"error\"],\n",
    "    },\n",
    "    # our train and validation dataset and preprocessor\n",
    "    datasets={\"train\": train_dataset, \"valid\": valid_dataset},\n",
    "    preprocessor=preprocessor,\n",
    ")\n",
    "result = trainer.fit()\n",
    "# print(result.metrics)"
   ]
  },
  {
   "cell_type": "markdown",
   "id": "e78a135f",
   "metadata": {},
   "source": [
    "### Create Tuner for hyperparameter search\n",
    "\n",
    "What if you want to do hyperparameter optimization during training and use the best config for the model?\n",
    "Well, you can then use Tuner and supply your training function, Trainer, as part of the argument, along \n",
    "with other Tuner configuration. \n",
    "\n",
    "Again, simple steps:\n",
    " 1. define your hyperparameter space\n",
    " 2. define `TuneConfig` for number of trials and parallelism \n",
    " 3. invoke `tuner.fit()`"
   ]
  },
  {
   "cell_type": "code",
   "execution_count": 14,
   "id": "6a59cf93",
   "metadata": {},
   "outputs": [],
   "source": [
    "from ray import tune\n",
    "\n",
    "param_space = {\"params\": {\"max_depth\": tune.randint(1, 9)}}\n",
    "metric = \"train-logloss\""
   ]
  },
  {
   "cell_type": "code",
   "execution_count": 15,
   "id": "28bd4cba",
   "metadata": {},
   "outputs": [
    {
     "data": {
      "text/html": [
       "== Status ==<br>Current time: 2022-07-29 15:39:42 (running for 00:00:12.17)<br>Memory usage on this node: 12.8/64.0 GiB<br>Using FIFO scheduling algorithm.<br>Resources requested: 0/10 CPUs, 0/0 GPUs, 0.0/45.77 GiB heap, 0.0/2.0 GiB objects<br>Current best trial: 4efed_00002 with train-logloss=0.01841634292981527 and parameters={'params': {'max_depth': 5}}<br>Result logdir: /Users/jules/ray_results/XGBoostTrainer_2022-07-29_15-39-29<br>Number of trials: 5/5 (5 TERMINATED)<br><table>\n",
       "<thead>\n",
       "<tr><th>Trial name                </th><th>status    </th><th>loc            </th><th style=\"text-align: right;\">  params/max_depth</th><th style=\"text-align: right;\">  iter</th><th style=\"text-align: right;\">  total time (s)</th><th style=\"text-align: right;\">  train-logloss</th><th style=\"text-align: right;\">  train-error</th><th style=\"text-align: right;\">  valid-logloss</th></tr>\n",
       "</thead>\n",
       "<tbody>\n",
       "<tr><td>XGBoostTrainer_4efed_00000</td><td>TERMINATED</td><td>127.0.0.1:24839</td><td style=\"text-align: right;\">                 7</td><td style=\"text-align: right;\">    21</td><td style=\"text-align: right;\">         3.67231</td><td style=\"text-align: right;\">      0.0184957</td><td style=\"text-align: right;\">            0</td><td style=\"text-align: right;\">      0.0893879</td></tr>\n",
       "<tr><td>XGBoostTrainer_4efed_00001</td><td>TERMINATED</td><td>127.0.0.1:24847</td><td style=\"text-align: right;\">                 7</td><td style=\"text-align: right;\">    21</td><td style=\"text-align: right;\">         4.73495</td><td style=\"text-align: right;\">      0.0184957</td><td style=\"text-align: right;\">            0</td><td style=\"text-align: right;\">      0.0893879</td></tr>\n",
       "<tr><td>XGBoostTrainer_4efed_00002</td><td>TERMINATED</td><td>127.0.0.1:24848</td><td style=\"text-align: right;\">                 5</td><td style=\"text-align: right;\">    21</td><td style=\"text-align: right;\">         4.76684</td><td style=\"text-align: right;\">      0.0184163</td><td style=\"text-align: right;\">            0</td><td style=\"text-align: right;\">      0.105782 </td></tr>\n",
       "<tr><td>XGBoostTrainer_4efed_00003</td><td>TERMINATED</td><td>127.0.0.1:24892</td><td style=\"text-align: right;\">                 3</td><td style=\"text-align: right;\">    21</td><td style=\"text-align: right;\">         5.31764</td><td style=\"text-align: right;\">      0.0215151</td><td style=\"text-align: right;\">            0</td><td style=\"text-align: right;\">      0.0765915</td></tr>\n",
       "<tr><td>XGBoostTrainer_4efed_00004</td><td>TERMINATED</td><td>127.0.0.1:24901</td><td style=\"text-align: right;\">                 7</td><td style=\"text-align: right;\">    21</td><td style=\"text-align: right;\">         3.693  </td><td style=\"text-align: right;\">      0.0184957</td><td style=\"text-align: right;\">            0</td><td style=\"text-align: right;\">      0.0893879</td></tr>\n",
       "</tbody>\n",
       "</table><br><br>"
      ],
      "text/plain": [
       "<IPython.core.display.HTML object>"
      ]
     },
     "metadata": {},
     "output_type": "display_data"
    },
    {
     "name": "stderr",
     "output_type": "stream",
     "text": [
      "\u001b[2m\u001b[36m(XGBoostTrainer pid=24839)\u001b[0m 2022-07-29 15:39:31,104\tINFO main.py:980 -- [RayXGBoost] Created 2 new actors (2 total actors). Waiting until actors are ready for training.\n",
      "\u001b[2m\u001b[36m(_RemoteRayXGBoostActor pid=24853)\u001b[0m 2022-07-29 15:39:32,123\tWARNING __init__.py:192 -- DeprecationWarning: `ray.worker.get_resource_ids` is a private attribute and access will be removed in a future Ray version.\n",
      "\u001b[2m\u001b[36m(_RemoteRayXGBoostActor pid=24853)\u001b[0m   File \"/Users/jules/git-repos/ray/python/ray/_private/workers/default_worker.py\", line 237, in <module>\n",
      "\u001b[2m\u001b[36m(_RemoteRayXGBoostActor pid=24853)\u001b[0m     ray._private.worker.global_worker.main_loop()\n",
      "\u001b[2m\u001b[36m(_RemoteRayXGBoostActor pid=24853)\u001b[0m   File \"/Users/jules/git-repos/ray/python/ray/_private/worker.py\", line 754, in main_loop\n",
      "\u001b[2m\u001b[36m(_RemoteRayXGBoostActor pid=24853)\u001b[0m     self.core_worker.run_task_loop()\n",
      "\u001b[2m\u001b[36m(_RemoteRayXGBoostActor pid=24853)\u001b[0m   File \"/Users/jules/git-repos/ray/python/ray/_private/function_manager.py\", line 674, in actor_method_executor\n",
      "\u001b[2m\u001b[36m(_RemoteRayXGBoostActor pid=24853)\u001b[0m     return method(__ray_actor, *args, **kwargs)\n",
      "\u001b[2m\u001b[36m(_RemoteRayXGBoostActor pid=24853)\u001b[0m   File \"/Users/jules/git-repos/ray/python/ray/util/tracing/tracing_helper.py\", line 466, in _resume_span\n",
      "\u001b[2m\u001b[36m(_RemoteRayXGBoostActor pid=24853)\u001b[0m     return method(self, *_args, **_kwargs)\n",
      "\u001b[2m\u001b[36m(_RemoteRayXGBoostActor pid=24853)\u001b[0m   File \"/opt/miniconda3/envs/ray-build/lib/python3.8/site-packages/xgboost_ray/main.py\", line 474, in __init__\n",
      "\u001b[2m\u001b[36m(_RemoteRayXGBoostActor pid=24853)\u001b[0m     _set_omp_num_threads()\n",
      "\u001b[2m\u001b[36m(_RemoteRayXGBoostActor pid=24853)\u001b[0m   File \"/opt/miniconda3/envs/ray-build/lib/python3.8/site-packages/xgboost_ray/main.py\", line 280, in _set_omp_num_threads\n",
      "\u001b[2m\u001b[36m(_RemoteRayXGBoostActor pid=24853)\u001b[0m     ray_cpus = _ray_get_actor_cpus()\n",
      "\u001b[2m\u001b[36m(_RemoteRayXGBoostActor pid=24853)\u001b[0m   File \"/opt/miniconda3/envs/ray-build/lib/python3.8/site-packages/xgboost_ray/main.py\", line 262, in _ray_get_actor_cpus\n",
      "\u001b[2m\u001b[36m(_RemoteRayXGBoostActor pid=24853)\u001b[0m     resource_ids = ray.worker.get_resource_ids()\n",
      "\u001b[2m\u001b[36m(_RemoteRayXGBoostActor pid=24853)\u001b[0m   File \"/Users/jules/git-repos/ray/python/ray/__init__.py\", line 196, in __getattr__\n",
      "\u001b[2m\u001b[36m(_RemoteRayXGBoostActor pid=24853)\u001b[0m     traceback.print_stack()\n",
      "\u001b[2m\u001b[36m(_RemoteRayXGBoostActor pid=24854)\u001b[0m 2022-07-29 15:39:32,125\tWARNING __init__.py:192 -- DeprecationWarning: `ray.worker.get_resource_ids` is a private attribute and access will be removed in a future Ray version.\n",
      "\u001b[2m\u001b[36m(_RemoteRayXGBoostActor pid=24854)\u001b[0m   File \"/Users/jules/git-repos/ray/python/ray/_private/workers/default_worker.py\", line 237, in <module>\n",
      "\u001b[2m\u001b[36m(_RemoteRayXGBoostActor pid=24854)\u001b[0m     ray._private.worker.global_worker.main_loop()\n",
      "\u001b[2m\u001b[36m(_RemoteRayXGBoostActor pid=24854)\u001b[0m   File \"/Users/jules/git-repos/ray/python/ray/_private/worker.py\", line 754, in main_loop\n",
      "\u001b[2m\u001b[36m(_RemoteRayXGBoostActor pid=24854)\u001b[0m     self.core_worker.run_task_loop()\n",
      "\u001b[2m\u001b[36m(_RemoteRayXGBoostActor pid=24854)\u001b[0m   File \"/Users/jules/git-repos/ray/python/ray/_private/function_manager.py\", line 674, in actor_method_executor\n",
      "\u001b[2m\u001b[36m(_RemoteRayXGBoostActor pid=24854)\u001b[0m     return method(__ray_actor, *args, **kwargs)\n",
      "\u001b[2m\u001b[36m(_RemoteRayXGBoostActor pid=24854)\u001b[0m   File \"/Users/jules/git-repos/ray/python/ray/util/tracing/tracing_helper.py\", line 466, in _resume_span\n",
      "\u001b[2m\u001b[36m(_RemoteRayXGBoostActor pid=24854)\u001b[0m     return method(self, *_args, **_kwargs)\n",
      "\u001b[2m\u001b[36m(_RemoteRayXGBoostActor pid=24854)\u001b[0m   File \"/opt/miniconda3/envs/ray-build/lib/python3.8/site-packages/xgboost_ray/main.py\", line 474, in __init__\n",
      "\u001b[2m\u001b[36m(_RemoteRayXGBoostActor pid=24854)\u001b[0m     _set_omp_num_threads()\n",
      "\u001b[2m\u001b[36m(_RemoteRayXGBoostActor pid=24854)\u001b[0m   File \"/opt/miniconda3/envs/ray-build/lib/python3.8/site-packages/xgboost_ray/main.py\", line 280, in _set_omp_num_threads\n",
      "\u001b[2m\u001b[36m(_RemoteRayXGBoostActor pid=24854)\u001b[0m     ray_cpus = _ray_get_actor_cpus()\n",
      "\u001b[2m\u001b[36m(_RemoteRayXGBoostActor pid=24854)\u001b[0m   File \"/opt/miniconda3/envs/ray-build/lib/python3.8/site-packages/xgboost_ray/main.py\", line 262, in _ray_get_actor_cpus\n",
      "\u001b[2m\u001b[36m(_RemoteRayXGBoostActor pid=24854)\u001b[0m     resource_ids = ray.worker.get_resource_ids()\n",
      "\u001b[2m\u001b[36m(_RemoteRayXGBoostActor pid=24854)\u001b[0m   File \"/Users/jules/git-repos/ray/python/ray/__init__.py\", line 196, in __getattr__\n",
      "\u001b[2m\u001b[36m(_RemoteRayXGBoostActor pid=24854)\u001b[0m     traceback.print_stack()\n",
      "\u001b[2m\u001b[36m(XGBoostTrainer pid=24839)\u001b[0m 2022-07-29 15:39:32,240\tINFO main.py:1025 -- [RayXGBoost] Starting XGBoost training.\n",
      "\u001b[2m\u001b[36m(_RemoteRayXGBoostActor pid=24853)\u001b[0m [15:39:32] task [xgboost.ray]:4983513392 got new rank 0\n",
      "\u001b[2m\u001b[36m(_RemoteRayXGBoostActor pid=24854)\u001b[0m [15:39:32] task [xgboost.ray]:5037924656 got new rank 1\n",
      "\u001b[2m\u001b[36m(XGBoostTrainer pid=24847)\u001b[0m 2022-07-29 15:39:32,266\tINFO main.py:980 -- [RayXGBoost] Created 2 new actors (2 total actors). Waiting until actors are ready for training.\n",
      "\u001b[2m\u001b[36m(XGBoostTrainer pid=24848)\u001b[0m 2022-07-29 15:39:32,327\tINFO main.py:980 -- [RayXGBoost] Created 2 new actors (2 total actors). Waiting until actors are ready for training.\n",
      "\u001b[2m\u001b[36m(_RemoteRayXGBoostActor pid=24868)\u001b[0m 2022-07-29 15:39:33,348\tWARNING __init__.py:192 -- DeprecationWarning: `ray.worker.get_resource_ids` is a private attribute and access will be removed in a future Ray version.\n",
      "\u001b[2m\u001b[36m(_RemoteRayXGBoostActor pid=24868)\u001b[0m   File \"/Users/jules/git-repos/ray/python/ray/_private/workers/default_worker.py\", line 237, in <module>\n",
      "\u001b[2m\u001b[36m(_RemoteRayXGBoostActor pid=24868)\u001b[0m     ray._private.worker.global_worker.main_loop()\n",
      "\u001b[2m\u001b[36m(_RemoteRayXGBoostActor pid=24868)\u001b[0m   File \"/Users/jules/git-repos/ray/python/ray/_private/worker.py\", line 754, in main_loop\n",
      "\u001b[2m\u001b[36m(_RemoteRayXGBoostActor pid=24868)\u001b[0m     self.core_worker.run_task_loop()\n",
      "\u001b[2m\u001b[36m(_RemoteRayXGBoostActor pid=24868)\u001b[0m   File \"/Users/jules/git-repos/ray/python/ray/_private/function_manager.py\", line 674, in actor_method_executor\n",
      "\u001b[2m\u001b[36m(_RemoteRayXGBoostActor pid=24868)\u001b[0m     return method(__ray_actor, *args, **kwargs)\n",
      "\u001b[2m\u001b[36m(_RemoteRayXGBoostActor pid=24868)\u001b[0m   File \"/Users/jules/git-repos/ray/python/ray/util/tracing/tracing_helper.py\", line 466, in _resume_span\n",
      "\u001b[2m\u001b[36m(_RemoteRayXGBoostActor pid=24868)\u001b[0m     return method(self, *_args, **_kwargs)\n",
      "\u001b[2m\u001b[36m(_RemoteRayXGBoostActor pid=24868)\u001b[0m   File \"/opt/miniconda3/envs/ray-build/lib/python3.8/site-packages/xgboost_ray/main.py\", line 474, in __init__\n",
      "\u001b[2m\u001b[36m(_RemoteRayXGBoostActor pid=24868)\u001b[0m     _set_omp_num_threads()\n",
      "\u001b[2m\u001b[36m(_RemoteRayXGBoostActor pid=24868)\u001b[0m   File \"/opt/miniconda3/envs/ray-build/lib/python3.8/site-packages/xgboost_ray/main.py\", line 280, in _set_omp_num_threads\n",
      "\u001b[2m\u001b[36m(_RemoteRayXGBoostActor pid=24868)\u001b[0m     ray_cpus = _ray_get_actor_cpus()\n",
      "\u001b[2m\u001b[36m(_RemoteRayXGBoostActor pid=24868)\u001b[0m   File \"/opt/miniconda3/envs/ray-build/lib/python3.8/site-packages/xgboost_ray/main.py\", line 262, in _ray_get_actor_cpus\n",
      "\u001b[2m\u001b[36m(_RemoteRayXGBoostActor pid=24868)\u001b[0m     resource_ids = ray.worker.get_resource_ids()\n",
      "\u001b[2m\u001b[36m(_RemoteRayXGBoostActor pid=24868)\u001b[0m   File \"/Users/jules/git-repos/ray/python/ray/__init__.py\", line 196, in __getattr__\n",
      "\u001b[2m\u001b[36m(_RemoteRayXGBoostActor pid=24868)\u001b[0m     traceback.print_stack()\n",
      "\u001b[2m\u001b[36m(_RemoteRayXGBoostActor pid=24869)\u001b[0m 2022-07-29 15:39:33,350\tWARNING __init__.py:192 -- DeprecationWarning: `ray.worker.get_resource_ids` is a private attribute and access will be removed in a future Ray version.\n",
      "\u001b[2m\u001b[36m(_RemoteRayXGBoostActor pid=24869)\u001b[0m   File \"/Users/jules/git-repos/ray/python/ray/_private/workers/default_worker.py\", line 237, in <module>\n",
      "\u001b[2m\u001b[36m(_RemoteRayXGBoostActor pid=24869)\u001b[0m     ray._private.worker.global_worker.main_loop()\n",
      "\u001b[2m\u001b[36m(_RemoteRayXGBoostActor pid=24869)\u001b[0m   File \"/Users/jules/git-repos/ray/python/ray/_private/worker.py\", line 754, in main_loop\n",
      "\u001b[2m\u001b[36m(_RemoteRayXGBoostActor pid=24869)\u001b[0m     self.core_worker.run_task_loop()\n",
      "\u001b[2m\u001b[36m(_RemoteRayXGBoostActor pid=24869)\u001b[0m   File \"/Users/jules/git-repos/ray/python/ray/_private/function_manager.py\", line 674, in actor_method_executor\n",
      "\u001b[2m\u001b[36m(_RemoteRayXGBoostActor pid=24869)\u001b[0m     return method(__ray_actor, *args, **kwargs)\n",
      "\u001b[2m\u001b[36m(_RemoteRayXGBoostActor pid=24869)\u001b[0m   File \"/Users/jules/git-repos/ray/python/ray/util/tracing/tracing_helper.py\", line 466, in _resume_span\n",
      "\u001b[2m\u001b[36m(_RemoteRayXGBoostActor pid=24869)\u001b[0m     return method(self, *_args, **_kwargs)\n",
      "\u001b[2m\u001b[36m(_RemoteRayXGBoostActor pid=24869)\u001b[0m   File \"/opt/miniconda3/envs/ray-build/lib/python3.8/site-packages/xgboost_ray/main.py\", line 474, in __init__\n",
      "\u001b[2m\u001b[36m(_RemoteRayXGBoostActor pid=24869)\u001b[0m     _set_omp_num_threads()\n",
      "\u001b[2m\u001b[36m(_RemoteRayXGBoostActor pid=24869)\u001b[0m   File \"/opt/miniconda3/envs/ray-build/lib/python3.8/site-packages/xgboost_ray/main.py\", line 280, in _set_omp_num_threads\n",
      "\u001b[2m\u001b[36m(_RemoteRayXGBoostActor pid=24869)\u001b[0m     ray_cpus = _ray_get_actor_cpus()\n",
      "\u001b[2m\u001b[36m(_RemoteRayXGBoostActor pid=24869)\u001b[0m   File \"/opt/miniconda3/envs/ray-build/lib/python3.8/site-packages/xgboost_ray/main.py\", line 262, in _ray_get_actor_cpus\n",
      "\u001b[2m\u001b[36m(_RemoteRayXGBoostActor pid=24869)\u001b[0m     resource_ids = ray.worker.get_resource_ids()\n",
      "\u001b[2m\u001b[36m(_RemoteRayXGBoostActor pid=24869)\u001b[0m   File \"/Users/jules/git-repos/ray/python/ray/__init__.py\", line 196, in __getattr__\n",
      "\u001b[2m\u001b[36m(_RemoteRayXGBoostActor pid=24869)\u001b[0m     traceback.print_stack()\n",
      "\u001b[2m\u001b[36m(XGBoostTrainer pid=24847)\u001b[0m 2022-07-29 15:39:33,464\tINFO main.py:1025 -- [RayXGBoost] Starting XGBoost training.\n",
      "\u001b[2m\u001b[36m(_RemoteRayXGBoostActor pid=24876)\u001b[0m 2022-07-29 15:39:33,418\tWARNING __init__.py:192 -- DeprecationWarning: `ray.worker.get_resource_ids` is a private attribute and access will be removed in a future Ray version.\n",
      "\u001b[2m\u001b[36m(_RemoteRayXGBoostActor pid=24876)\u001b[0m   File \"/Users/jules/git-repos/ray/python/ray/_private/workers/default_worker.py\", line 237, in <module>\n",
      "\u001b[2m\u001b[36m(_RemoteRayXGBoostActor pid=24876)\u001b[0m     ray._private.worker.global_worker.main_loop()\n",
      "\u001b[2m\u001b[36m(_RemoteRayXGBoostActor pid=24876)\u001b[0m   File \"/Users/jules/git-repos/ray/python/ray/_private/worker.py\", line 754, in main_loop\n",
      "\u001b[2m\u001b[36m(_RemoteRayXGBoostActor pid=24876)\u001b[0m     self.core_worker.run_task_loop()\n",
      "\u001b[2m\u001b[36m(_RemoteRayXGBoostActor pid=24876)\u001b[0m   File \"/Users/jules/git-repos/ray/python/ray/_private/function_manager.py\", line 674, in actor_method_executor\n",
      "\u001b[2m\u001b[36m(_RemoteRayXGBoostActor pid=24876)\u001b[0m     return method(__ray_actor, *args, **kwargs)\n",
      "\u001b[2m\u001b[36m(_RemoteRayXGBoostActor pid=24876)\u001b[0m   File \"/Users/jules/git-repos/ray/python/ray/util/tracing/tracing_helper.py\", line 466, in _resume_span\n",
      "\u001b[2m\u001b[36m(_RemoteRayXGBoostActor pid=24876)\u001b[0m     return method(self, *_args, **_kwargs)\n",
      "\u001b[2m\u001b[36m(_RemoteRayXGBoostActor pid=24876)\u001b[0m   File \"/opt/miniconda3/envs/ray-build/lib/python3.8/site-packages/xgboost_ray/main.py\", line 474, in __init__\n",
      "\u001b[2m\u001b[36m(_RemoteRayXGBoostActor pid=24876)\u001b[0m     _set_omp_num_threads()\n",
      "\u001b[2m\u001b[36m(_RemoteRayXGBoostActor pid=24876)\u001b[0m   File \"/opt/miniconda3/envs/ray-build/lib/python3.8/site-packages/xgboost_ray/main.py\", line 280, in _set_omp_num_threads\n",
      "\u001b[2m\u001b[36m(_RemoteRayXGBoostActor pid=24876)\u001b[0m     ray_cpus = _ray_get_actor_cpus()\n",
      "\u001b[2m\u001b[36m(_RemoteRayXGBoostActor pid=24876)\u001b[0m   File \"/opt/miniconda3/envs/ray-build/lib/python3.8/site-packages/xgboost_ray/main.py\", line 262, in _ray_get_actor_cpus\n",
      "\u001b[2m\u001b[36m(_RemoteRayXGBoostActor pid=24876)\u001b[0m     resource_ids = ray.worker.get_resource_ids()\n",
      "\u001b[2m\u001b[36m(_RemoteRayXGBoostActor pid=24876)\u001b[0m   File \"/Users/jules/git-repos/ray/python/ray/__init__.py\", line 196, in __getattr__\n",
      "\u001b[2m\u001b[36m(_RemoteRayXGBoostActor pid=24876)\u001b[0m     traceback.print_stack()\n",
      "\u001b[2m\u001b[36m(_RemoteRayXGBoostActor pid=24877)\u001b[0m 2022-07-29 15:39:33,462\tWARNING __init__.py:192 -- DeprecationWarning: `ray.worker.get_resource_ids` is a private attribute and access will be removed in a future Ray version.\n",
      "\u001b[2m\u001b[36m(_RemoteRayXGBoostActor pid=24877)\u001b[0m   File \"/Users/jules/git-repos/ray/python/ray/_private/workers/default_worker.py\", line 237, in <module>\n",
      "\u001b[2m\u001b[36m(_RemoteRayXGBoostActor pid=24877)\u001b[0m     ray._private.worker.global_worker.main_loop()\n",
      "\u001b[2m\u001b[36m(_RemoteRayXGBoostActor pid=24877)\u001b[0m   File \"/Users/jules/git-repos/ray/python/ray/_private/worker.py\", line 754, in main_loop\n",
      "\u001b[2m\u001b[36m(_RemoteRayXGBoostActor pid=24877)\u001b[0m     self.core_worker.run_task_loop()\n",
      "\u001b[2m\u001b[36m(_RemoteRayXGBoostActor pid=24877)\u001b[0m   File \"/Users/jules/git-repos/ray/python/ray/_private/function_manager.py\", line 674, in actor_method_executor\n",
      "\u001b[2m\u001b[36m(_RemoteRayXGBoostActor pid=24877)\u001b[0m     return method(__ray_actor, *args, **kwargs)\n",
      "\u001b[2m\u001b[36m(_RemoteRayXGBoostActor pid=24877)\u001b[0m   File \"/Users/jules/git-repos/ray/python/ray/util/tracing/tracing_helper.py\", line 466, in _resume_span\n",
      "\u001b[2m\u001b[36m(_RemoteRayXGBoostActor pid=24877)\u001b[0m     return method(self, *_args, **_kwargs)\n",
      "\u001b[2m\u001b[36m(_RemoteRayXGBoostActor pid=24877)\u001b[0m   File \"/opt/miniconda3/envs/ray-build/lib/python3.8/site-packages/xgboost_ray/main.py\", line 474, in __init__\n",
      "\u001b[2m\u001b[36m(_RemoteRayXGBoostActor pid=24877)\u001b[0m     _set_omp_num_threads()\n",
      "\u001b[2m\u001b[36m(_RemoteRayXGBoostActor pid=24877)\u001b[0m   File \"/opt/miniconda3/envs/ray-build/lib/python3.8/site-packages/xgboost_ray/main.py\", line 280, in _set_omp_num_threads\n",
      "\u001b[2m\u001b[36m(_RemoteRayXGBoostActor pid=24877)\u001b[0m     ray_cpus = _ray_get_actor_cpus()\n",
      "\u001b[2m\u001b[36m(_RemoteRayXGBoostActor pid=24877)\u001b[0m   File \"/opt/miniconda3/envs/ray-build/lib/python3.8/site-packages/xgboost_ray/main.py\", line 262, in _ray_get_actor_cpus\n",
      "\u001b[2m\u001b[36m(_RemoteRayXGBoostActor pid=24877)\u001b[0m     resource_ids = ray.worker.get_resource_ids()\n",
      "\u001b[2m\u001b[36m(_RemoteRayXGBoostActor pid=24877)\u001b[0m   File \"/Users/jules/git-repos/ray/python/ray/__init__.py\", line 196, in __getattr__\n",
      "\u001b[2m\u001b[36m(_RemoteRayXGBoostActor pid=24877)\u001b[0m     traceback.print_stack()\n",
      "\u001b[2m\u001b[36m(XGBoostTrainer pid=24848)\u001b[0m 2022-07-29 15:39:33,577\tINFO main.py:1025 -- [RayXGBoost] Starting XGBoost training.\n",
      "\u001b[2m\u001b[36m(_RemoteRayXGBoostActor pid=24868)\u001b[0m [15:39:33] task [xgboost.ray]:5932232912 got new rank 0\n",
      "\u001b[2m\u001b[36m(_RemoteRayXGBoostActor pid=24869)\u001b[0m [15:39:33] task [xgboost.ray]:4969144816 got new rank 1\n",
      "\u001b[2m\u001b[36m(_RemoteRayXGBoostActor pid=24876)\u001b[0m [15:39:33] task [xgboost.ray]:5137936592 got new rank 0\n",
      "\u001b[2m\u001b[36m(_RemoteRayXGBoostActor pid=24877)\u001b[0m [15:39:33] task [xgboost.ray]:5985186000 got new rank 1\n"
     ]
    },
    {
     "name": "stdout",
     "output_type": "stream",
     "text": [
      "Result for XGBoostTrainer_4efed_00000:\n",
      "  date: 2022-07-29_15-39-34\n",
      "  done: false\n",
      "  experiment_id: 430e241315c44b33b220517e70d236d8\n",
      "  hostname: Juless-MacBook-Pro-16\n",
      "  iterations_since_restore: 1\n",
      "  node_ip: 127.0.0.1\n",
      "  pid: 24839\n",
      "  time_since_restore: 3.078613042831421\n",
      "  time_this_iter_s: 3.078613042831421\n",
      "  time_total_s: 3.078613042831421\n",
      "  timestamp: 1659134374\n",
      "  timesteps_since_restore: 0\n",
      "  train-error: 0.02261306532663317\n",
      "  train-logloss: 0.464117960489575\n",
      "  training_iteration: 1\n",
      "  trial_id: 4efed_00000\n",
      "  valid-error: 0.11695906432748537\n",
      "  valid-logloss: 0.5025240946234318\n",
      "  warmup_time: 0.0026171207427978516\n",
      "  \n"
     ]
    },
    {
     "name": "stderr",
     "output_type": "stream",
     "text": [
      "\u001b[2m\u001b[36m(XGBoostTrainer pid=24839)\u001b[0m 2022-07-29 15:39:34,184\tINFO main.py:1516 -- [RayXGBoost] Finished XGBoost training on training data with total N=398 in 3.09 seconds (1.94 pure XGBoost training time).\n"
     ]
    },
    {
     "name": "stdout",
     "output_type": "stream",
     "text": [
      "Result for XGBoostTrainer_4efed_00000:\n",
      "  date: 2022-07-29_15-39-34\n",
      "  done: true\n",
      "  experiment_id: 430e241315c44b33b220517e70d236d8\n",
      "  experiment_tag: 0_max_depth=7\n",
      "  hostname: Juless-MacBook-Pro-16\n",
      "  iterations_since_restore: 21\n",
      "  node_ip: 127.0.0.1\n",
      "  pid: 24839\n",
      "  time_since_restore: 3.6723129749298096\n",
      "  time_this_iter_s: 0.5321929454803467\n",
      "  time_total_s: 3.6723129749298096\n",
      "  timestamp: 1659134374\n",
      "  timesteps_since_restore: 0\n",
      "  train-error: 0.0\n",
      "  train-logloss: 0.01849572773292735\n",
      "  training_iteration: 21\n",
      "  trial_id: 4efed_00000\n",
      "  valid-error: 0.04093567251461988\n",
      "  valid-logloss: 0.08938791319913073\n",
      "  warmup_time: 0.0026171207427978516\n",
      "  \n",
      "Result for XGBoostTrainer_4efed_00002:\n",
      "  date: 2022-07-29_15-39-35\n",
      "  done: false\n",
      "  experiment_id: f9c3675940df41e9924690d60e770365\n",
      "  hostname: Juless-MacBook-Pro-16\n",
      "  iterations_since_restore: 1\n",
      "  node_ip: 127.0.0.1\n",
      "  pid: 24848\n",
      "  time_since_restore: 3.1937267780303955\n",
      "  time_this_iter_s: 3.1937267780303955\n",
      "  time_total_s: 3.1937267780303955\n",
      "  timestamp: 1659134375\n",
      "  timesteps_since_restore: 0\n",
      "  train-error: 0.02261306532663317\n",
      "  train-logloss: 0.465611254524945\n",
      "  training_iteration: 1\n",
      "  trial_id: 4efed_00002\n",
      "  valid-error: 0.0935672514619883\n",
      "  valid-logloss: 0.5058815336366843\n",
      "  warmup_time: 0.002507925033569336\n",
      "  \n",
      "Result for XGBoostTrainer_4efed_00001:\n",
      "  date: 2022-07-29_15-39-35\n",
      "  done: false\n",
      "  experiment_id: 5931079299c64cf797f08a4c14a7e2b6\n",
      "  hostname: Juless-MacBook-Pro-16\n",
      "  iterations_since_restore: 1\n",
      "  node_ip: 127.0.0.1\n",
      "  pid: 24847\n",
      "  time_since_restore: 3.0377368927001953\n",
      "  time_this_iter_s: 3.0377368927001953\n",
      "  time_total_s: 3.0377368927001953\n",
      "  timestamp: 1659134375\n",
      "  timesteps_since_restore: 0\n",
      "  train-error: 0.02261306532663317\n",
      "  train-logloss: 0.464117960489575\n",
      "  training_iteration: 1\n",
      "  trial_id: 4efed_00001\n",
      "  valid-error: 0.11695906432748537\n",
      "  valid-logloss: 0.5025240946234318\n",
      "  warmup_time: 0.0030601024627685547\n",
      "  \n"
     ]
    },
    {
     "name": "stderr",
     "output_type": "stream",
     "text": [
      "\u001b[2m\u001b[36m(XGBoostTrainer pid=24847)\u001b[0m 2022-07-29 15:39:36,375\tINFO main.py:1516 -- [RayXGBoost] Finished XGBoost training on training data with total N=398 in 4.12 seconds (2.91 pure XGBoost training time).\n",
      "\u001b[2m\u001b[36m(XGBoostTrainer pid=24848)\u001b[0m 2022-07-29 15:39:36,373\tINFO main.py:1516 -- [RayXGBoost] Finished XGBoost training on training data with total N=398 in 4.07 seconds (2.79 pure XGBoost training time).\n"
     ]
    },
    {
     "name": "stdout",
     "output_type": "stream",
     "text": [
      "Result for XGBoostTrainer_4efed_00001:\n",
      "  date: 2022-07-29_15-39-36\n",
      "  done: true\n",
      "  experiment_id: 5931079299c64cf797f08a4c14a7e2b6\n",
      "  experiment_tag: 1_max_depth=7\n",
      "  hostname: Juless-MacBook-Pro-16\n",
      "  iterations_since_restore: 21\n",
      "  node_ip: 127.0.0.1\n",
      "  pid: 24847\n",
      "  time_since_restore: 4.734950304031372\n",
      "  time_this_iter_s: 0.5636541843414307\n",
      "  time_total_s: 4.734950304031372\n",
      "  timestamp: 1659134376\n",
      "  timesteps_since_restore: 0\n",
      "  train-error: 0.0\n",
      "  train-logloss: 0.01849572773292735\n",
      "  training_iteration: 21\n",
      "  trial_id: 4efed_00001\n",
      "  valid-error: 0.04093567251461988\n",
      "  valid-logloss: 0.08938791319913073\n",
      "  warmup_time: 0.0030601024627685547\n",
      "  \n",
      "Result for XGBoostTrainer_4efed_00002:\n",
      "  date: 2022-07-29_15-39-37\n",
      "  done: true\n",
      "  experiment_id: f9c3675940df41e9924690d60e770365\n",
      "  experiment_tag: 2_max_depth=5\n",
      "  hostname: Juless-MacBook-Pro-16\n",
      "  iterations_since_restore: 21\n",
      "  node_ip: 127.0.0.1\n",
      "  pid: 24848\n",
      "  time_since_restore: 4.766835927963257\n",
      "  time_this_iter_s: 0.649569034576416\n",
      "  time_total_s: 4.766835927963257\n",
      "  timestamp: 1659134377\n",
      "  timesteps_since_restore: 0\n",
      "  train-error: 0.0\n",
      "  train-logloss: 0.01841634292981527\n",
      "  training_iteration: 21\n",
      "  trial_id: 4efed_00002\n",
      "  valid-error: 0.05263157894736842\n",
      "  valid-logloss: 0.10578184703239703\n",
      "  warmup_time: 0.002507925033569336\n",
      "  \n"
     ]
    },
    {
     "name": "stderr",
     "output_type": "stream",
     "text": [
      "\u001b[2m\u001b[36m(XGBoostTrainer pid=24892)\u001b[0m 2022-07-29 15:39:37,915\tINFO main.py:980 -- [RayXGBoost] Created 2 new actors (2 total actors). Waiting until actors are ready for training.\n",
      "\u001b[2m\u001b[36m(XGBoostTrainer pid=24901)\u001b[0m 2022-07-29 15:39:38,374\tINFO main.py:980 -- [RayXGBoost] Created 2 new actors (2 total actors). Waiting until actors are ready for training.\n",
      "\u001b[2m\u001b[36m(_RemoteRayXGBoostActor pid=24908)\u001b[0m 2022-07-29 15:39:38,957\tWARNING __init__.py:192 -- DeprecationWarning: `ray.worker.get_resource_ids` is a private attribute and access will be removed in a future Ray version.\n",
      "\u001b[2m\u001b[36m(_RemoteRayXGBoostActor pid=24908)\u001b[0m   File \"/Users/jules/git-repos/ray/python/ray/_private/workers/default_worker.py\", line 237, in <module>\n",
      "\u001b[2m\u001b[36m(_RemoteRayXGBoostActor pid=24908)\u001b[0m     ray._private.worker.global_worker.main_loop()\n",
      "\u001b[2m\u001b[36m(_RemoteRayXGBoostActor pid=24908)\u001b[0m   File \"/Users/jules/git-repos/ray/python/ray/_private/worker.py\", line 754, in main_loop\n",
      "\u001b[2m\u001b[36m(_RemoteRayXGBoostActor pid=24908)\u001b[0m     self.core_worker.run_task_loop()\n",
      "\u001b[2m\u001b[36m(_RemoteRayXGBoostActor pid=24908)\u001b[0m   File \"/Users/jules/git-repos/ray/python/ray/_private/function_manager.py\", line 674, in actor_method_executor\n",
      "\u001b[2m\u001b[36m(_RemoteRayXGBoostActor pid=24908)\u001b[0m     return method(__ray_actor, *args, **kwargs)\n",
      "\u001b[2m\u001b[36m(_RemoteRayXGBoostActor pid=24908)\u001b[0m   File \"/Users/jules/git-repos/ray/python/ray/util/tracing/tracing_helper.py\", line 466, in _resume_span\n",
      "\u001b[2m\u001b[36m(_RemoteRayXGBoostActor pid=24908)\u001b[0m     return method(self, *_args, **_kwargs)\n",
      "\u001b[2m\u001b[36m(_RemoteRayXGBoostActor pid=24908)\u001b[0m   File \"/opt/miniconda3/envs/ray-build/lib/python3.8/site-packages/xgboost_ray/main.py\", line 474, in __init__\n",
      "\u001b[2m\u001b[36m(_RemoteRayXGBoostActor pid=24908)\u001b[0m     _set_omp_num_threads()\n",
      "\u001b[2m\u001b[36m(_RemoteRayXGBoostActor pid=24908)\u001b[0m   File \"/opt/miniconda3/envs/ray-build/lib/python3.8/site-packages/xgboost_ray/main.py\", line 280, in _set_omp_num_threads\n",
      "\u001b[2m\u001b[36m(_RemoteRayXGBoostActor pid=24908)\u001b[0m     ray_cpus = _ray_get_actor_cpus()\n",
      "\u001b[2m\u001b[36m(_RemoteRayXGBoostActor pid=24908)\u001b[0m   File \"/opt/miniconda3/envs/ray-build/lib/python3.8/site-packages/xgboost_ray/main.py\", line 262, in _ray_get_actor_cpus\n",
      "\u001b[2m\u001b[36m(_RemoteRayXGBoostActor pid=24908)\u001b[0m     resource_ids = ray.worker.get_resource_ids()\n",
      "\u001b[2m\u001b[36m(_RemoteRayXGBoostActor pid=24908)\u001b[0m   File \"/Users/jules/git-repos/ray/python/ray/__init__.py\", line 196, in __getattr__\n",
      "\u001b[2m\u001b[36m(_RemoteRayXGBoostActor pid=24908)\u001b[0m     traceback.print_stack()\n",
      "\u001b[2m\u001b[36m(_RemoteRayXGBoostActor pid=24907)\u001b[0m 2022-07-29 15:39:38,959\tWARNING __init__.py:192 -- DeprecationWarning: `ray.worker.get_resource_ids` is a private attribute and access will be removed in a future Ray version.\n",
      "\u001b[2m\u001b[36m(_RemoteRayXGBoostActor pid=24907)\u001b[0m   File \"/Users/jules/git-repos/ray/python/ray/_private/workers/default_worker.py\", line 237, in <module>\n",
      "\u001b[2m\u001b[36m(_RemoteRayXGBoostActor pid=24907)\u001b[0m     ray._private.worker.global_worker.main_loop()\n",
      "\u001b[2m\u001b[36m(_RemoteRayXGBoostActor pid=24907)\u001b[0m   File \"/Users/jules/git-repos/ray/python/ray/_private/worker.py\", line 754, in main_loop\n",
      "\u001b[2m\u001b[36m(_RemoteRayXGBoostActor pid=24907)\u001b[0m     self.core_worker.run_task_loop()\n",
      "\u001b[2m\u001b[36m(_RemoteRayXGBoostActor pid=24907)\u001b[0m   File \"/Users/jules/git-repos/ray/python/ray/_private/function_manager.py\", line 674, in actor_method_executor\n",
      "\u001b[2m\u001b[36m(_RemoteRayXGBoostActor pid=24907)\u001b[0m     return method(__ray_actor, *args, **kwargs)\n",
      "\u001b[2m\u001b[36m(_RemoteRayXGBoostActor pid=24907)\u001b[0m   File \"/Users/jules/git-repos/ray/python/ray/util/tracing/tracing_helper.py\", line 466, in _resume_span\n",
      "\u001b[2m\u001b[36m(_RemoteRayXGBoostActor pid=24907)\u001b[0m     return method(self, *_args, **_kwargs)\n",
      "\u001b[2m\u001b[36m(_RemoteRayXGBoostActor pid=24907)\u001b[0m   File \"/opt/miniconda3/envs/ray-build/lib/python3.8/site-packages/xgboost_ray/main.py\", line 474, in __init__\n",
      "\u001b[2m\u001b[36m(_RemoteRayXGBoostActor pid=24907)\u001b[0m     _set_omp_num_threads()\n",
      "\u001b[2m\u001b[36m(_RemoteRayXGBoostActor pid=24907)\u001b[0m   File \"/opt/miniconda3/envs/ray-build/lib/python3.8/site-packages/xgboost_ray/main.py\", line 280, in _set_omp_num_threads\n",
      "\u001b[2m\u001b[36m(_RemoteRayXGBoostActor pid=24907)\u001b[0m     ray_cpus = _ray_get_actor_cpus()\n",
      "\u001b[2m\u001b[36m(_RemoteRayXGBoostActor pid=24907)\u001b[0m   File \"/opt/miniconda3/envs/ray-build/lib/python3.8/site-packages/xgboost_ray/main.py\", line 262, in _ray_get_actor_cpus\n",
      "\u001b[2m\u001b[36m(_RemoteRayXGBoostActor pid=24907)\u001b[0m     resource_ids = ray.worker.get_resource_ids()\n",
      "\u001b[2m\u001b[36m(_RemoteRayXGBoostActor pid=24907)\u001b[0m   File \"/Users/jules/git-repos/ray/python/ray/__init__.py\", line 196, in __getattr__\n",
      "\u001b[2m\u001b[36m(_RemoteRayXGBoostActor pid=24907)\u001b[0m     traceback.print_stack()\n",
      "\u001b[2m\u001b[36m(XGBoostTrainer pid=24892)\u001b[0m 2022-07-29 15:39:39,075\tINFO main.py:1025 -- [RayXGBoost] Starting XGBoost training.\n",
      "\u001b[2m\u001b[36m(_RemoteRayXGBoostActor pid=24908)\u001b[0m [15:39:39] task [xgboost.ray]:5690536144 got new rank 1\n",
      "\u001b[2m\u001b[36m(_RemoteRayXGBoostActor pid=24907)\u001b[0m [15:39:39] task [xgboost.ray]:5101236480 got new rank 0\n",
      "\u001b[2m\u001b[36m(_RemoteRayXGBoostActor pid=24921)\u001b[0m 2022-07-29 15:39:39,416\tWARNING __init__.py:192 -- DeprecationWarning: `ray.worker.get_resource_ids` is a private attribute and access will be removed in a future Ray version.\n",
      "\u001b[2m\u001b[36m(_RemoteRayXGBoostActor pid=24921)\u001b[0m   File \"/Users/jules/git-repos/ray/python/ray/_private/workers/default_worker.py\", line 237, in <module>\n",
      "\u001b[2m\u001b[36m(_RemoteRayXGBoostActor pid=24921)\u001b[0m     ray._private.worker.global_worker.main_loop()\n",
      "\u001b[2m\u001b[36m(_RemoteRayXGBoostActor pid=24921)\u001b[0m   File \"/Users/jules/git-repos/ray/python/ray/_private/worker.py\", line 754, in main_loop\n",
      "\u001b[2m\u001b[36m(_RemoteRayXGBoostActor pid=24921)\u001b[0m     self.core_worker.run_task_loop()\n",
      "\u001b[2m\u001b[36m(_RemoteRayXGBoostActor pid=24921)\u001b[0m   File \"/Users/jules/git-repos/ray/python/ray/_private/function_manager.py\", line 674, in actor_method_executor\n",
      "\u001b[2m\u001b[36m(_RemoteRayXGBoostActor pid=24921)\u001b[0m     return method(__ray_actor, *args, **kwargs)\n",
      "\u001b[2m\u001b[36m(_RemoteRayXGBoostActor pid=24921)\u001b[0m   File \"/Users/jules/git-repos/ray/python/ray/util/tracing/tracing_helper.py\", line 466, in _resume_span\n",
      "\u001b[2m\u001b[36m(_RemoteRayXGBoostActor pid=24921)\u001b[0m     return method(self, *_args, **_kwargs)\n",
      "\u001b[2m\u001b[36m(_RemoteRayXGBoostActor pid=24921)\u001b[0m   File \"/opt/miniconda3/envs/ray-build/lib/python3.8/site-packages/xgboost_ray/main.py\", line 474, in __init__\n",
      "\u001b[2m\u001b[36m(_RemoteRayXGBoostActor pid=24921)\u001b[0m     _set_omp_num_threads()\n",
      "\u001b[2m\u001b[36m(_RemoteRayXGBoostActor pid=24921)\u001b[0m   File \"/opt/miniconda3/envs/ray-build/lib/python3.8/site-packages/xgboost_ray/main.py\", line 280, in _set_omp_num_threads\n",
      "\u001b[2m\u001b[36m(_RemoteRayXGBoostActor pid=24921)\u001b[0m     ray_cpus = _ray_get_actor_cpus()\n",
      "\u001b[2m\u001b[36m(_RemoteRayXGBoostActor pid=24921)\u001b[0m   File \"/opt/miniconda3/envs/ray-build/lib/python3.8/site-packages/xgboost_ray/main.py\", line 262, in _ray_get_actor_cpus\n",
      "\u001b[2m\u001b[36m(_RemoteRayXGBoostActor pid=24921)\u001b[0m     resource_ids = ray.worker.get_resource_ids()\n",
      "\u001b[2m\u001b[36m(_RemoteRayXGBoostActor pid=24921)\u001b[0m   File \"/Users/jules/git-repos/ray/python/ray/__init__.py\", line 196, in __getattr__\n",
      "\u001b[2m\u001b[36m(_RemoteRayXGBoostActor pid=24921)\u001b[0m     traceback.print_stack()\n",
      "\u001b[2m\u001b[36m(_RemoteRayXGBoostActor pid=24920)\u001b[0m 2022-07-29 15:39:39,416\tWARNING __init__.py:192 -- DeprecationWarning: `ray.worker.get_resource_ids` is a private attribute and access will be removed in a future Ray version.\n",
      "\u001b[2m\u001b[36m(_RemoteRayXGBoostActor pid=24920)\u001b[0m   File \"/Users/jules/git-repos/ray/python/ray/_private/workers/default_worker.py\", line 237, in <module>\n",
      "\u001b[2m\u001b[36m(_RemoteRayXGBoostActor pid=24920)\u001b[0m     ray._private.worker.global_worker.main_loop()\n",
      "\u001b[2m\u001b[36m(_RemoteRayXGBoostActor pid=24920)\u001b[0m   File \"/Users/jules/git-repos/ray/python/ray/_private/worker.py\", line 754, in main_loop\n",
      "\u001b[2m\u001b[36m(_RemoteRayXGBoostActor pid=24920)\u001b[0m     self.core_worker.run_task_loop()\n",
      "\u001b[2m\u001b[36m(_RemoteRayXGBoostActor pid=24920)\u001b[0m   File \"/Users/jules/git-repos/ray/python/ray/_private/function_manager.py\", line 674, in actor_method_executor\n",
      "\u001b[2m\u001b[36m(_RemoteRayXGBoostActor pid=24920)\u001b[0m     return method(__ray_actor, *args, **kwargs)\n",
      "\u001b[2m\u001b[36m(_RemoteRayXGBoostActor pid=24920)\u001b[0m   File \"/Users/jules/git-repos/ray/python/ray/util/tracing/tracing_helper.py\", line 466, in _resume_span\n",
      "\u001b[2m\u001b[36m(_RemoteRayXGBoostActor pid=24920)\u001b[0m     return method(self, *_args, **_kwargs)\n",
      "\u001b[2m\u001b[36m(_RemoteRayXGBoostActor pid=24920)\u001b[0m   File \"/opt/miniconda3/envs/ray-build/lib/python3.8/site-packages/xgboost_ray/main.py\", line 474, in __init__\n",
      "\u001b[2m\u001b[36m(_RemoteRayXGBoostActor pid=24920)\u001b[0m     _set_omp_num_threads()\n",
      "\u001b[2m\u001b[36m(_RemoteRayXGBoostActor pid=24920)\u001b[0m   File \"/opt/miniconda3/envs/ray-build/lib/python3.8/site-packages/xgboost_ray/main.py\", line 280, in _set_omp_num_threads\n",
      "\u001b[2m\u001b[36m(_RemoteRayXGBoostActor pid=24920)\u001b[0m     ray_cpus = _ray_get_actor_cpus()\n",
      "\u001b[2m\u001b[36m(_RemoteRayXGBoostActor pid=24920)\u001b[0m   File \"/opt/miniconda3/envs/ray-build/lib/python3.8/site-packages/xgboost_ray/main.py\", line 262, in _ray_get_actor_cpus\n",
      "\u001b[2m\u001b[36m(_RemoteRayXGBoostActor pid=24920)\u001b[0m     resource_ids = ray.worker.get_resource_ids()\n",
      "\u001b[2m\u001b[36m(_RemoteRayXGBoostActor pid=24920)\u001b[0m   File \"/Users/jules/git-repos/ray/python/ray/__init__.py\", line 196, in __getattr__\n",
      "\u001b[2m\u001b[36m(_RemoteRayXGBoostActor pid=24920)\u001b[0m     traceback.print_stack()\n",
      "\u001b[2m\u001b[36m(XGBoostTrainer pid=24901)\u001b[0m 2022-07-29 15:39:39,530\tINFO main.py:1025 -- [RayXGBoost] Starting XGBoost training.\n",
      "\u001b[2m\u001b[36m(_RemoteRayXGBoostActor pid=24921)\u001b[0m [15:39:39] task [xgboost.ray]:4914904992 got new rank 1\n",
      "\u001b[2m\u001b[36m(_RemoteRayXGBoostActor pid=24920)\u001b[0m [15:39:39] task [xgboost.ray]:4791116080 got new rank 0\n"
     ]
    },
    {
     "name": "stdout",
     "output_type": "stream",
     "text": [
      "Result for XGBoostTrainer_4efed_00003:\n",
      "  date: 2022-07-29_15-39-40\n",
      "  done: false\n",
      "  experiment_id: 88f7b4fbde954578b49fabf04e61d42a\n",
      "  hostname: Juless-MacBook-Pro-16\n",
      "  iterations_since_restore: 1\n",
      "  node_ip: 127.0.0.1\n",
      "  pid: 24892\n",
      "  time_since_restore: 4.609990119934082\n",
      "  time_this_iter_s: 4.609990119934082\n",
      "  time_total_s: 4.609990119934082\n",
      "  timestamp: 1659134380\n",
      "  timesteps_since_restore: 0\n",
      "  train-error: 0.03517587939698492\n",
      "  train-logloss: 0.47431553248784053\n",
      "  training_iteration: 1\n",
      "  trial_id: 4efed_00003\n",
      "  valid-error: 0.09941520467836257\n",
      "  valid-logloss: 0.5004687657830311\n",
      "  warmup_time: 0.002665996551513672\n",
      "  \n"
     ]
    },
    {
     "name": "stderr",
     "output_type": "stream",
     "text": [
      "\u001b[2m\u001b[36m(XGBoostTrainer pid=24892)\u001b[0m 2022-07-29 15:39:40,941\tINFO main.py:1516 -- [RayXGBoost] Finished XGBoost training on training data with total N=398 in 3.04 seconds (1.86 pure XGBoost training time).\n"
     ]
    },
    {
     "name": "stdout",
     "output_type": "stream",
     "text": [
      "Result for XGBoostTrainer_4efed_00004:\n",
      "  date: 2022-07-29_15-39-41\n",
      "  done: false\n",
      "  experiment_id: 7b28c52716604b88b28553c85d739166\n",
      "  hostname: Juless-MacBook-Pro-16\n",
      "  iterations_since_restore: 1\n",
      "  node_ip: 127.0.0.1\n",
      "  pid: 24901\n",
      "  time_since_restore: 2.888662099838257\n",
      "  time_this_iter_s: 2.888662099838257\n",
      "  time_total_s: 2.888662099838257\n",
      "  timestamp: 1659134381\n",
      "  timesteps_since_restore: 0\n",
      "  train-error: 0.02261306532663317\n",
      "  train-logloss: 0.464117960489575\n",
      "  training_iteration: 1\n",
      "  trial_id: 4efed_00004\n",
      "  valid-error: 0.11695906432748537\n",
      "  valid-logloss: 0.5025240946234318\n",
      "  warmup_time: 0.004069089889526367\n",
      "  \n"
     ]
    },
    {
     "name": "stderr",
     "output_type": "stream",
     "text": [
      "\u001b[2m\u001b[36m(XGBoostTrainer pid=24901)\u001b[0m 2022-07-29 15:39:41,274\tINFO main.py:1516 -- [RayXGBoost] Finished XGBoost training on training data with total N=398 in 2.91 seconds (1.74 pure XGBoost training time).\n"
     ]
    },
    {
     "name": "stdout",
     "output_type": "stream",
     "text": [
      "Result for XGBoostTrainer_4efed_00003:\n",
      "  date: 2022-07-29_15-39-41\n",
      "  done: true\n",
      "  experiment_id: 88f7b4fbde954578b49fabf04e61d42a\n",
      "  experiment_tag: 3_max_depth=3\n",
      "  hostname: Juless-MacBook-Pro-16\n",
      "  iterations_since_restore: 21\n",
      "  node_ip: 127.0.0.1\n",
      "  pid: 24892\n",
      "  time_since_restore: 5.317641973495483\n",
      "  time_this_iter_s: 0.6196691989898682\n",
      "  time_total_s: 5.317641973495483\n",
      "  timestamp: 1659134381\n",
      "  timesteps_since_restore: 0\n",
      "  train-error: 0.0\n",
      "  train-logloss: 0.02151511543566108\n",
      "  training_iteration: 21\n",
      "  trial_id: 4efed_00003\n",
      "  valid-error: 0.03508771929824561\n",
      "  valid-logloss: 0.07659151291540056\n",
      "  warmup_time: 0.002665996551513672\n",
      "  \n",
      "Result for XGBoostTrainer_4efed_00004:\n",
      "  date: 2022-07-29_15-39-42\n",
      "  done: true\n",
      "  experiment_id: 7b28c52716604b88b28553c85d739166\n",
      "  experiment_tag: 4_max_depth=7\n",
      "  hostname: Juless-MacBook-Pro-16\n",
      "  iterations_since_restore: 21\n",
      "  node_ip: 127.0.0.1\n",
      "  pid: 24901\n",
      "  time_since_restore: 3.693004846572876\n",
      "  time_this_iter_s: 0.7313690185546875\n",
      "  time_total_s: 3.693004846572876\n",
      "  timestamp: 1659134382\n",
      "  timesteps_since_restore: 0\n",
      "  train-error: 0.0\n",
      "  train-logloss: 0.01849572773292735\n",
      "  training_iteration: 21\n",
      "  trial_id: 4efed_00004\n",
      "  valid-error: 0.04093567251461988\n",
      "  valid-logloss: 0.08938791319913073\n",
      "  warmup_time: 0.004069089889526367\n",
      "  \n"
     ]
    }
   ],
   "source": [
    "from ray.tune.tuner import Tuner, TuneConfig\n",
    "from ray.air.config import RunConfig\n",
    "\n",
    "tuner = Tuner(\n",
    "    trainer,\n",
    "    param_space=param_space,\n",
    "    tune_config=TuneConfig(num_samples=5, metric=metric, mode=\"min\"),\n",
    ")\n",
    "# Execute tuning.\n",
    "result_grid = tuner.fit()"
   ]
  },
  {
   "cell_type": "code",
   "execution_count": 16,
   "id": "51a76225-e44b-46f3-845d-d91220ba5fa1",
   "metadata": {},
   "outputs": [
    {
     "name": "stdout",
     "output_type": "stream",
     "text": [
      "Best Result: Result(metrics={'train-logloss': 0.01841634292981527, 'train-error': 0.0, 'valid-logloss': 0.10578184703239703, 'valid-error': 0.05263157894736842, 'done': True, 'trial_id': '4efed_00002', 'experiment_tag': '2_max_depth=5'}, error=None, log_dir=PosixPath('/Users/jules/ray_results/XGBoostTrainer_2022-07-29_15-39-29/XGBoostTrainer_4efed_00002_2_max_depth=5_2022-07-29_15-39-31'))\n"
     ]
    }
   ],
   "source": [
    "# Fetch the best result with its best hyperparameter config \n",
    "best_result = result_grid.get_best_result()\n",
    "print(\"Best Result:\", best_result)"
   ]
  },
  {
   "cell_type": "markdown",
   "id": "fb15b435-5114-46e9-bed8-2c9b2d823150",
   "metadata": {},
   "source": [
    "### Ray AIR Checkpoints\n",
    "\n",
    "The AIR trainers, tuners, and custom pretrained model generate Checkpoints. An AIR Checkpoint is a common format for models that are used across different components of the Ray AI Runtime. This common format allow easy interoperability among AIR components and seamless integration with external supported machine learning frameworks. Read more\n",
    "about [Checkpoints]().\n",
    "\n",
    "<img src=\"images/checkpoints.jpeg\" height=\"25%\" and width=\"50%\"> "
   ]
  },
  {
   "cell_type": "markdown",
   "id": "e0714de2",
   "metadata": {},
   "source": [
    "### Create a `BatchPreditor` for batch prediction\n",
    "Once you have trained and tuned your model, create a batch predictor from best model using the `best_result.checkpoint` and do batch inference. "
   ]
  },
  {
   "cell_type": "code",
   "execution_count": 17,
   "id": "72b605fc",
   "metadata": {},
   "outputs": [
    {
     "name": "stderr",
     "output_type": "stream",
     "text": [
      "Map Progress (1 actors 1 pending): 100%|██████████████████████████████████████████████████████████████████████████████████████████████████████████████| 1/1 [00:00<00:00,  1.39it/s]"
     ]
    },
    {
     "name": "stdout",
     "output_type": "stream",
     "text": [
      "PREDICTED PROBABILITIES\n",
      "{'predictions': 0.9960426092147827}\n",
      "{'predictions': 0.9957077503204346}\n",
      "{'predictions': 0.0034389763604849577}\n",
      "{'predictions': 0.9962536096572876}\n",
      "{'predictions': 0.9968380928039551}\n",
      "{'predictions': 0.9957551956176758}\n",
      "{'predictions': 0.9920042157173157}\n",
      "{'predictions': 0.994161069393158}\n",
      "{'predictions': 0.2891101539134979}\n",
      "{'predictions': 0.974367082118988}\n",
      "{'predictions': 0.0034389763604849577}\n",
      "{'predictions': 0.9959942102432251}\n",
      "{'predictions': 0.9474029541015625}\n",
      "{'predictions': 0.9923243522644043}\n",
      "{'predictions': 0.9941523671150208}\n",
      "{'predictions': 0.1239369809627533}\n",
      "{'predictions': 0.5043733716011047}\n",
      "{'predictions': 0.9935414791107178}\n",
      "{'predictions': 0.9832899570465088}\n",
      "{'predictions': 0.0034389763604849577}\n"
     ]
    },
    {
     "name": "stderr",
     "output_type": "stream",
     "text": [
      "\n"
     ]
    }
   ],
   "source": [
    "from ray.train.batch_predictor import BatchPredictor\n",
    "from ray.train.xgboost import XGBoostPredictor\n",
    "\n",
    "batch_predictor = BatchPredictor.from_checkpoint(best_result.checkpoint, XGBoostPredictor)\n",
    "\n",
    "predicted_probabilities = batch_predictor.predict(test_dataset)\n",
    "print(\"PREDICTED PROBABILITIES\")\n",
    "predicted_probabilities.show()"
   ]
  },
  {
   "cell_type": "markdown",
   "id": "262d4a87",
   "metadata": {},
   "source": [
    "### Create `PredictorDeployment` for Online Inference\n",
    "\n",
    "Deploy the best model as an inference service by using Ray Serve and the `PredictorDeployment` class."
   ]
  },
  {
   "cell_type": "code",
   "execution_count": null,
   "id": "37ff45e6",
   "metadata": {},
   "outputs": [
    {
     "name": "stderr",
     "output_type": "stream",
     "text": [
      "Started a local Ray instance. View the dashboard at \u001b[1m\u001b[32mhttp://127.0.0.1:8265\u001b[39m\u001b[22m.\n"
     ]
    }
   ],
   "source": [
    "from ray import serve\n",
    "from fastapi import Request\n",
    "from ray.serve import PredictorDeployment\n",
    "from ray.serve.http_adapters import json_request\n",
    "\n",
    "\n",
    "async def adapter(request: Request):\n",
    "    content = await request.json()\n",
    "    print(content)\n",
    "    return pd.DataFrame.from_dict(content)\n",
    "\n",
    "\n",
    "serve.start(detached=True)\n",
    "deployment = PredictorDeployment.options(name=\"XGBoostService\", num_replicas=2, route_prefix=\"/rayair\")\n",
    "\n",
    "deployment.deploy(\n",
    "    XGBoostPredictor, best_result.checkpoint, batching_params=False, http_adapter=adapter\n",
    ")\n",
    "\n",
    "print(deployment.url)"
   ]
  },
  {
   "cell_type": "markdown",
   "id": "7f463546",
   "metadata": {},
   "source": [
    "After deploying the service, you can send requests to it."
   ]
  },
  {
   "cell_type": "code",
   "execution_count": 19,
   "id": "1ed9ae80",
   "metadata": {},
   "outputs": [
    {
     "name": "stdout",
     "output_type": "stream",
     "text": [
      "[{'predictions': 0.9960426092147827}]\n",
      "\u001b[2m\u001b[36m(ServeReplica:XGBoostService pid=26204)\u001b[0m [{'mean radius': 11.06, 'mean texture': 14.83, 'mean perimeter': 70.31, 'mean area': 378.2, 'mean smoothness': 0.07741, 'mean compactness': 0.04768, 'mean concavity': 0.02712, 'mean concave points': 0.007246, 'mean symmetry': 0.1535, 'mean fractal dimension': 0.06214, 'radius error': 0.1855, 'texture error': 0.6881, 'perimeter error': 1.263, 'area error': 12.98, 'smoothness error': 0.004259, 'compactness error': 0.01469, 'concavity error': 0.0194, 'concave points error': 0.004168, 'symmetry error': 0.01191, 'fractal dimension error': 0.003537, 'worst radius': 12.68, 'worst texture': 20.35, 'worst perimeter': 80.79, 'worst area': 496.7, 'worst smoothness': 0.112, 'worst compactness': 0.1879, 'worst concavity': 0.2079, 'worst concave points': 0.05556, 'worst symmetry': 0.259, 'worst fractal dimension': 0.09158}]\n"
     ]
    },
    {
     "name": "stderr",
     "output_type": "stream",
     "text": [
      "\u001b[2m\u001b[36m(HTTPProxyActor pid=26202)\u001b[0m INFO 2022-07-29 15:53:28,335 http_proxy 127.0.0.1 http_proxy.py:315 - POST /rayair 307 3.3ms\n",
      "\u001b[2m\u001b[36m(HTTPProxyActor pid=26202)\u001b[0m INFO 2022-07-29 15:53:28,344 http_proxy 127.0.0.1 http_proxy.py:315 - POST /rayair 200 7.3ms\n",
      "\u001b[2m\u001b[36m(ServeReplica:XGBoostService pid=26204)\u001b[0m INFO 2022-07-29 15:53:28,343 XGBoostService XGBoostService#rUMqHy replica.py:482 - HANDLE __call__ OK 4.4ms\n",
      "\u001b[2m\u001b[36m(ServeReplica:XGBoostService pid=26205)\u001b[0m INFO 2022-07-29 15:53:28,334 XGBoostService XGBoostService#BWlSpu replica.py:482 - HANDLE __call__ OK 0.2ms\n"
     ]
    }
   ],
   "source": [
    "import requests\n",
    "\n",
    "sample_input = test_dataset.take(1)\n",
    "sample_input = dict(sample_input[0])\n",
    "\n",
    "output = requests.post(deployment.url, json=[sample_input]).json()\n",
    "print(output)"
   ]
  },
  {
   "cell_type": "code",
   "execution_count": 20,
   "id": "e61bfda4",
   "metadata": {},
   "outputs": [],
   "source": [
    "ray.shutdown()"
   ]
  },
  {
   "cell_type": "markdown",
   "id": "623f655d",
   "metadata": {},
   "source": [
    "### Homework\n",
    "\n",
    "1. Have a go at Ray AIR examples in the documentation."
   ]
  },
  {
   "cell_type": "markdown",
   "id": "8bbf1bb5-78bb-4d17-a7fe-47e81960a5f3",
   "metadata": {},
   "source": [
    " 📖 [Back to Table of Contents](./ex_00_tutorial_overview.ipynb)<br>\n",
    "⬅️ [Previous notebook](./ex_07_ray_data.ipynb) <br>\n",
    "\n",
    "Done! 🍻\n",
    " "
   ]
  }
 ],
 "metadata": {
  "kernelspec": {
   "display_name": "Python 3 (ipykernel)",
   "language": "python",
   "name": "python3"
  },
  "language_info": {
   "codemirror_mode": {
    "name": "ipython",
    "version": 3
   },
   "file_extension": ".py",
   "mimetype": "text/x-python",
   "name": "python",
   "nbconvert_exporter": "python",
   "pygments_lexer": "ipython3",
   "version": "3.8.13"
  }
 },
 "nbformat": 4,
 "nbformat_minor": 5
}
