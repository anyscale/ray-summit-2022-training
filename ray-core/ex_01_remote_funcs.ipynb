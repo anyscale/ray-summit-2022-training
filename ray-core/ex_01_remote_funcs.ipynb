{
 "cells": [
  {
   "cell_type": "markdown",
   "id": "15a16c45-b3a5-4c4f-81d4-8bec7c83892d",
   "metadata": {},
   "source": [
    "# A Guided Tour of Ray Core: Remote Tasks\n",
    "\n",
    "© 2019-2022, Anyscale. All Rights Reserved\n",
    "\n",
    "<img src=\"images/ray_basic_patterns.png\" height=\"35%\" width=\"60%\">"
   ]
  },
  {
   "cell_type": "code",
   "execution_count": 1,
   "id": "42b0bdbc-3bcf-4975-9590-f8ae9cb5bfd7",
   "metadata": {},
   "outputs": [],
   "source": [
    "import os\n",
    "import time\n",
    "import logging\n",
    "from pprint import pprint\n",
    "\n",
    "import numpy as np\n",
    "from numpy import loadtxt\n",
    "import ray"
   ]
  },
  {
   "cell_type": "markdown",
   "id": "ea926840-ada3-4566-98eb-e594585374e6",
   "metadata": {
    "tags": []
   },
   "source": [
    "## 1. Tasks Parallel Pattern\n",
    "\n",
    "Ray converts decorated functions into stateless tasks, scheduled anywhere on a ray worker in the cluster by simply adding the `@ray.remote` decorator. \n",
    "All these functions are converted into Ray stateless tasks that will be executed on some worker process on a Ray cluster.\n",
    "\n",
    "Where they will be executed (and by whom), you don't have to worry about its details. All that is taken care for you. Nor do \n",
    "you have to reason about it — all that burden is Ray's job. You simply take your existing Python functions and \n",
    "covert them into distributed stateless *Ray Tasks*: as simple as that!"
   ]
  },
  {
   "cell_type": "markdown",
   "id": "1ed92720-2083-4dfd-9894-45bbf56f984f",
   "metadata": {},
   "source": [
    "### Example 1: Serial vs Parallelism\n",
    "\n",
    "Let's look at simple tasks running serially and then in parallel. For illustration, we'll use a simple task, but this could be a compute-intensive task as part of your workload.\n"
   ]
  },
  {
   "cell_type": "code",
   "execution_count": 2,
   "id": "a7f1368a-b796-4f48-a296-a2d106e01e35",
   "metadata": {},
   "outputs": [],
   "source": [
    "# A regular Python function.\n",
    "def regular_function():\n",
    "    return 1"
   ]
  },
  {
   "cell_type": "code",
   "execution_count": 3,
   "id": "5cdd2e3b-bb52-4e16-ac8a-0fa40cabab49",
   "metadata": {},
   "outputs": [],
   "source": [
    "# A Ray remote function.\n",
    "@ray.remote\n",
    "def remote_function():\n",
    "    return 1"
   ]
  },
  {
   "cell_type": "markdown",
   "id": "cf2bdf39-b488-4d64-8900-ce9d46408e67",
   "metadata": {},
   "source": [
    "There are a few key differences between the original function and the decorated one:\n",
    "\n",
    "**Invocation**: The regular version is called with `regular_function()`, whereas the remote version is called with `remote_function.remote()`. Keep this pattern in mind for all Ray remote execution methods.\n",
    "\n",
    "**Return values**: `regular_function` executes synchronously and returns the result of the function as thevalue `1'`, whereas `remote_function` immediately returns an `ObjectID` (a future) and then executes the task in the background on a separate worker process. The result of the future can be obtained by calling `ray.get` on the `ObjectID`. This is a blocking function."
   ]
  },
  {
   "cell_type": "code",
   "execution_count": 4,
   "id": "6d093793-d7d8-4558-b0c0-341333eeeaa0",
   "metadata": {},
   "outputs": [
    {
     "data": {
      "text/plain": [
       "1"
      ]
     },
     "execution_count": 4,
     "metadata": {},
     "output_type": "execute_result"
    }
   ],
   "source": [
    "# Let's invoke the regular function\n",
    "regular_function()"
   ]
  },
  {
   "cell_type": "markdown",
   "id": "c89fb1f7-8153-4f3f-9523-1b054accb600",
   "metadata": {},
   "source": [
    "Let's launch a Ray cluster on our local machine. This will run a headnode."
   ]
  },
  {
   "cell_type": "code",
   "execution_count": 5,
   "id": "4c0984c8-08f2-4106-bd64-e387420bf34b",
   "metadata": {},
   "outputs": [
    {
     "name": "stdout",
     "output_type": "stream",
     "text": [
      "RayContext(dashboard_url='127.0.0.1:8265', python_version='3.8.12', ray_version='2.0.0.dev0', ray_commit='{{RAY_COMMIT_SHA}}', address_info={'node_ip_address': '127.0.0.1', 'raylet_ip_address': '127.0.0.1', 'redis_address': None, 'object_store_address': '/tmp/ray/session_2022-04-06_10-05-21_955763_75805/sockets/plasma_store', 'raylet_socket_name': '/tmp/ray/session_2022-04-06_10-05-21_955763_75805/sockets/raylet', 'webui_url': '127.0.0.1:8265', 'session_dir': '/tmp/ray/session_2022-04-06_10-05-21_955763_75805', 'metrics_export_port': 65003, 'gcs_address': '127.0.0.1:57125', 'address': '127.0.0.1:57125', 'node_id': 'f4b3291fec268074a1d6ab685f37db40e463148ca2c81f4e112522cb'})\n"
     ]
    }
   ],
   "source": [
    "if ray.is_initialized:\n",
    "    ray.shutdown()\n",
    "context = ray.init(logging_level=logging.ERROR)\n",
    "pprint(context)"
   ]
  },
  {
   "cell_type": "code",
   "execution_count": 6,
   "id": "62fc3d03-91bf-430b-b15e-0d26de0da482",
   "metadata": {},
   "outputs": [
    {
     "name": "stdout",
     "output_type": "stream",
     "text": [
      "Dashboard url: http://127.0.0.1:8265\n"
     ]
    }
   ],
   "source": [
    "print(f\"Dashboard url: http://{context.address_info['webui_url']}\")"
   ]
  },
  {
   "cell_type": "code",
   "execution_count": 7,
   "id": "0842a5c9-b47f-4377-b1c6-8562ca8dbe9d",
   "metadata": {},
   "outputs": [
    {
     "data": {
      "text/plain": [
       "ObjectRef(c8ef45ccd0112571ffffffffffffffffffffffff0100000001000000)"
      ]
     },
     "execution_count": 7,
     "metadata": {},
     "output_type": "execute_result"
    }
   ],
   "source": [
    "# Let's invoke the remote regular function.\n",
    "remote_function.remote()"
   ]
  },
  {
   "cell_type": "code",
   "execution_count": 8,
   "id": "1648deeb-3272-46d6-abf9-e83cfca0d10e",
   "metadata": {},
   "outputs": [
    {
     "data": {
      "text/plain": [
       "1"
      ]
     },
     "execution_count": 8,
     "metadata": {},
     "output_type": "execute_result"
    }
   ],
   "source": [
    "ray.get(remote_function.remote())"
   ]
  },
  {
   "cell_type": "markdown",
   "id": "18624b7a-b77b-4db3-8ee4-070a1fd1eb1c",
   "metadata": {},
   "source": [
    "**No Parallelism**: Invocations of `regular_function` in a loop happen `serially`:"
   ]
  },
  {
   "cell_type": "code",
   "execution_count": 9,
   "id": "252445c7-a53a-4d84-9c67-686fb2ce2ace",
   "metadata": {},
   "outputs": [],
   "source": [
    "# These are executed one at a time, back-to-back, in a list comprehension\n",
    "results = [regular_function() for _ in range(10)]\n",
    "assert sum(results)"
   ]
  },
  {
   "cell_type": "markdown",
   "id": "88681bcc-ba49-4d68-b9c7-147907549a73",
   "metadata": {},
   "source": [
    "**Parallelism**: Invocations of `remote_function` in a loop happen `asynchronously` and in parallel:"
   ]
  },
  {
   "cell_type": "code",
   "execution_count": 10,
   "id": "54c40bf2-ca0e-4a71-a570-3853db84d40a",
   "metadata": {},
   "outputs": [],
   "source": [
    "# Executing these functions, in comprehension list, happens at the same time in the background, \n",
    "# and we get the results using ray.get.\n",
    "results = [remote_function.remote() for _ in range(10)]\n",
    "assert sum(ray.get(results)) == 10"
   ]
  },
  {
   "cell_type": "markdown",
   "id": "e789e133-9b12-4518-831a-b78fa0430705",
   "metadata": {},
   "source": [
    "### Example 2: Adding two np arrays\n",
    "\n",
    "<img src=\"images/task_api_add_array.png\" width=\"60%\" height=\"40%\">"
   ]
  },
  {
   "cell_type": "markdown",
   "id": "3e076e93-3ed7-4acc-88ad-8a4115b568b3",
   "metadata": {},
   "source": [
    "Define a function as a Ray task to read an array"
   ]
  },
  {
   "cell_type": "code",
   "execution_count": 11,
   "id": "54f1ed66-7169-42f0-b952-6298dd01ab42",
   "metadata": {},
   "outputs": [],
   "source": [
    "@ray.remote\n",
    "def read_array(fn: str) -> np.array:\n",
    "    arr = loadtxt(fn, comments=\"#\", delimiter=\",\", unpack=False)\n",
    "    return arr.astype('int')"
   ]
  },
  {
   "cell_type": "markdown",
   "id": "51619a9a-1f41-4678-a9ae-d2831713d247",
   "metadata": {},
   "source": [
    "Define a function as a Ray task to add two np arrays return the sum"
   ]
  },
  {
   "cell_type": "code",
   "execution_count": 12,
   "id": "c5e543c9-7b67-4776-b8d8-2a4bbbded604",
   "metadata": {},
   "outputs": [],
   "source": [
    "@ray.remote\n",
    "def add_array(arr1: np.array, arr2: np.array) -> np.array:\n",
    "    return np.add(arr1, arr1)"
   ]
  },
  {
   "cell_type": "markdown",
   "id": "7f7b4888-7116-4141-a170-744f9e31ae33",
   "metadata": {},
   "source": [
    "Define a function as a Ray task to sum the contents of an np array"
   ]
  },
  {
   "cell_type": "code",
   "execution_count": 13,
   "id": "2c1aee3b-9b15-4653-a46a-b0e0e3ee8a3a",
   "metadata": {},
   "outputs": [],
   "source": [
    "@ray.remote\n",
    "def sum_array(arr1: np.array) -> int:\n",
    "    return np.sum(arr1)"
   ]
  },
  {
   "cell_type": "markdown",
   "id": "b6d982e4-0f9b-4255-a416-e157a6943870",
   "metadata": {},
   "source": [
    "Now let's execute our tasks. For now we will run Ray locally on our laptop, with a single node, and use all the cores available.\n",
    "\n",
    "Ray executes immediately and returns an object reference `ObjectRef` as a future. This enables Ray to parallelize tasks and execute them asynchronously."
   ]
  },
  {
   "cell_type": "markdown",
   "id": "647c56ed-ff55-481e-8445-290159232d61",
   "metadata": {},
   "source": [
    "### Read both arrays. \n",
    "\n",
    "Use the `func_name.remote(args)` extention to invoke a remote Ray Task"
   ]
  },
  {
   "cell_type": "code",
   "execution_count": 14,
   "id": "16389983-334b-4b1b-9982-5343d512e8c2",
   "metadata": {},
   "outputs": [
    {
     "name": "stdout",
     "output_type": "stream",
     "text": [
      "array 1: ObjectRef(85748392bcd969ccffffffffffffffffffffffff0100000001000000)\n"
     ]
    }
   ],
   "source": [
    "obj_ref_arr1 = read_array.remote(\"data/file_1.txt\")\n",
    "print(f\"array 1: {obj_ref_arr1}\")"
   ]
  },
  {
   "cell_type": "code",
   "execution_count": 15,
   "id": "866e4bdc-04e2-4629-b13c-a55a1be08621",
   "metadata": {},
   "outputs": [
    {
     "name": "stdout",
     "output_type": "stream",
     "text": [
      "array 2: ObjectRef(d695f922effe6d99ffffffffffffffffffffffff0100000001000000)\n"
     ]
    }
   ],
   "source": [
    "obj_ref_arr2 = read_array.remote(\"data/file_2.txt\")\n",
    "print(f\"array 2: {obj_ref_arr2}\")"
   ]
  },
  {
   "cell_type": "markdown",
   "id": "e7cc20ed-4f1e-4ec3-a8d3-1959b398175a",
   "metadata": {},
   "source": [
    "### Add both arrays\n",
    "\n",
    "Let's add our two arrays by calling the remote method. *Note*: We are sending Ray `ObjectRef` references as arguments.Those will be resolved inline and fetched from owner. Note that node that creates the ref owns them and stores it in its object store. \n",
    "\n",
    "Ray scheduler is aware of where these object references reside or who owns them, so it will schedule this remote task on node on the worker process for data locality."
   ]
  },
  {
   "cell_type": "code",
   "execution_count": 16,
   "id": "c8195bf8-9f4e-421d-8955-0c0e8c851134",
   "metadata": {},
   "outputs": [
    {
     "data": {
      "text/plain": [
       "ObjectRef(2751d69548dba956ffffffffffffffffffffffff0100000001000000)"
      ]
     },
     "execution_count": 16,
     "metadata": {},
     "output_type": "execute_result"
    }
   ],
   "source": [
    "result_obj_ref = add_array.remote(obj_ref_arr1, obj_ref_arr2)\n",
    "result_obj_ref"
   ]
  },
  {
   "cell_type": "markdown",
   "id": "d346857a-d91b-4b5c-8f31-db907179beb5",
   "metadata": {},
   "source": [
    "### Fetch the result \n",
    "\n",
    "This will block if not finished"
   ]
  },
  {
   "cell_type": "code",
   "execution_count": 17,
   "id": "e642440b-e29c-4fb7-9c51-2390720d9146",
   "metadata": {},
   "outputs": [
    {
     "name": "stdout",
     "output_type": "stream",
     "text": [
      "Result: add arr1 + arr2: \n",
      " [[  0  96 144 150 108 178 168 136  18  76]\n",
      " [  6  80 146 116  20  70 192  12 130  66]\n",
      " [110 134  24 194 104 146  14 152  78 100]\n",
      " [118  68  40  80 184 110  22  78 186  76]\n",
      " [178 178  74 104  96 172  98   6  38 100]\n",
      " [168  74 136  22  40  72  92 122 104 154]\n",
      " [140 180 112 110  98 152 188  56  64  46]\n",
      " [ 10  88 184  30 106 126 174 150 122  50]\n",
      " [102 116  58  60 186 188 104 144 160  54]\n",
      " [  2  56 164  70 178  72  20 168 170 130]]\n"
     ]
    }
   ],
   "source": [
    "result = ray.get(result_obj_ref)\n",
    "print(f\"Result: add arr1 + arr2: \\n {result}\")"
   ]
  },
  {
   "cell_type": "markdown",
   "id": "3a5a5322-649a-473f-bb29-103f992f53dc",
   "metadata": {},
   "source": [
    "Add the array elements and get the sum\n",
    "Note we are sending objRefs as arguments to the function\n",
    "Ray will resolve or fetch the value of these arrays. "
   ]
  },
  {
   "cell_type": "code",
   "execution_count": 18,
   "id": "387ce8d5-fc95-4417-8c8f-756ac4ea2c5f",
   "metadata": {},
   "outputs": [],
   "source": [
    "sum_1 = ray.get(sum_array.remote(obj_ref_arr1))\n",
    "sum_2 = ray.get(sum_array.remote(obj_ref_arr2))"
   ]
  },
  {
   "cell_type": "code",
   "execution_count": 19,
   "id": "62dc9863-8766-49bd-948e-d7270a83a82a",
   "metadata": {},
   "outputs": [
    {
     "name": "stdout",
     "output_type": "stream",
     "text": [
      "Sum of arr1: 5173\n",
      "Sum of arr2: 7719\n"
     ]
    }
   ],
   "source": [
    "print(f'Sum of arr1: {sum_1}')\n",
    "print(f'Sum of arr2: {sum_2}')"
   ]
  },
  {
   "cell_type": "markdown",
   "id": "c30303db-5f78-4d84-b1ef-ef61f8dbb978",
   "metadata": {},
   "source": [
    "### Example 3: Generating Fibonnaci series\n",
    "\n",
    "Let's define two functions: one runs locally or serially, the other runs on a Ray cluster (local or remote). This example is borrowed and refactored from our blog: [Writing your First Distributed Python Application with Ray](https://www.anyscale.com/blog/writing-your-first-distributed-python-application-with-ray). (This is an excellent tutorial to get started with the concept of why and when to use Ray tasks and Ray Actors. Highly recommended read!)\n",
    "\n",
    "Another similar blog of interest is how to compute the value of **pi**: [How to scale Python multiprocessing to a cluster with one line of code](https://medium.com/distributed-computing-with-ray/how-to-scale-python-multiprocessing-to-a-cluster-with-one-line-of-code-d19f242f60ff)."
   ]
  },
  {
   "cell_type": "code",
   "execution_count": 20,
   "id": "1cf54530-e125-45d4-92b3-9c6bc02f083a",
   "metadata": {},
   "outputs": [],
   "source": [
    "# Local execution \n",
    "def generate_fibonacci(sequence_size):\n",
    "    fibonacci = []\n",
    "    for i in range(0, sequence_size):\n",
    "        if i < 2:\n",
    "            fibonacci.append(i)\n",
    "            continue\n",
    "        fibonacci.append(fibonacci[i-1]+fibonacci[i-2])\n",
    "    return len(fibonacci)"
   ]
  },
  {
   "cell_type": "code",
   "execution_count": 21,
   "id": "22788e88-5bd4-41da-91f8-51bc4ed76a41",
   "metadata": {},
   "outputs": [],
   "source": [
    "# Remote Task with just a wrapper\n",
    "@ray.remote\n",
    "def generate_fibonacci_distributed(sequence_size):\n",
    "    return generate_fibonacci(sequence_size)"
   ]
  },
  {
   "cell_type": "code",
   "execution_count": 22,
   "id": "389b4b81-3627-4592-b92e-cc3d5c3601ee",
   "metadata": {},
   "outputs": [
    {
     "data": {
      "text/plain": [
       "12"
      ]
     },
     "execution_count": 22,
     "metadata": {},
     "output_type": "execute_result"
    }
   ],
   "source": [
    "# Get the number of cores \n",
    "os.cpu_count()"
   ]
  },
  {
   "cell_type": "code",
   "execution_count": 23,
   "id": "546138b1-0ec3-4f7d-b7eb-c032294fa4df",
   "metadata": {},
   "outputs": [],
   "source": [
    "# Normal Python in a single process \n",
    "def run_local(sequence_size):\n",
    "    results = [generate_fibonacci(sequence_size) for _ in range(os.cpu_count())]\n",
    "    return results"
   ]
  },
  {
   "cell_type": "code",
   "execution_count": 24,
   "id": "520c97ec-d6ff-4e85-a09d-3873054d1558",
   "metadata": {},
   "outputs": [
    {
     "name": "stdout",
     "output_type": "stream",
     "text": [
      "CPU times: user 2.63 s, sys: 1.51 s, total: 4.14 s\n",
      "Wall time: 4.12 s\n"
     ]
    },
    {
     "data": {
      "text/plain": [
       "[100000,\n",
       " 100000,\n",
       " 100000,\n",
       " 100000,\n",
       " 100000,\n",
       " 100000,\n",
       " 100000,\n",
       " 100000,\n",
       " 100000,\n",
       " 100000,\n",
       " 100000,\n",
       " 100000]"
      ]
     },
     "execution_count": 24,
     "metadata": {},
     "output_type": "execute_result"
    }
   ],
   "source": [
    "%%time\n",
    "run_local(100000)"
   ]
  },
  {
   "cell_type": "code",
   "execution_count": 25,
   "id": "9f8317bb-18b2-4389-836d-1e05399148de",
   "metadata": {},
   "outputs": [],
   "source": [
    "# Distributed on a Ray cluster\n",
    "def run_remote(sequence_size):\n",
    "    results = ray.get([generate_fibonacci_distributed.remote(sequence_size) for _ in range(os.cpu_count())])\n",
    "    return results"
   ]
  },
  {
   "cell_type": "code",
   "execution_count": 26,
   "id": "2ca042c5-9d0d-4bcc-9522-69c7d1e95500",
   "metadata": {},
   "outputs": [
    {
     "name": "stdout",
     "output_type": "stream",
     "text": [
      "CPU times: user 16.8 ms, sys: 11.5 ms, total: 28.3 ms\n",
      "Wall time: 972 ms\n"
     ]
    },
    {
     "data": {
      "text/plain": [
       "[100000,\n",
       " 100000,\n",
       " 100000,\n",
       " 100000,\n",
       " 100000,\n",
       " 100000,\n",
       " 100000,\n",
       " 100000,\n",
       " 100000,\n",
       " 100000,\n",
       " 100000,\n",
       " 100000]"
      ]
     },
     "execution_count": 26,
     "metadata": {},
     "output_type": "execute_result"
    }
   ],
   "source": [
    "%%time\n",
    "run_remote(100000)"
   ]
  },
  {
   "cell_type": "markdown",
   "id": "da0e7c3f-6ba5-4e1b-9350-880b1d301f20",
   "metadata": {
    "jp-MarkdownHeadingCollapsed": true,
    "tags": []
   },
   "source": [
    "### Concept of Task Dependencies\n",
    "\n",
    "Consider the following basic remote function that returns the argument passed to it. If we pass in some normal Python objects, the results \n",
    "returned by `ray.get` should be the same objects."
   ]
  },
  {
   "cell_type": "code",
   "execution_count": 27,
   "id": "350c442c-54a8-4ca7-8940-a94e77164a33",
   "metadata": {},
   "outputs": [
    {
     "data": {
      "text/plain": [
       "1"
      ]
     },
     "execution_count": 27,
     "metadata": {},
     "output_type": "execute_result"
    }
   ],
   "source": [
    "@ray.remote\n",
    "def f(x):\n",
    "    return x\n",
    "\n",
    "x1_id = f.remote(1)\n",
    "ray.get(x1_id)"
   ]
  },
  {
   "cell_type": "code",
   "execution_count": 28,
   "id": "9671b6f1-c820-4de5-8122-b4acb4e39de9",
   "metadata": {},
   "outputs": [
    {
     "data": {
      "text/plain": [
       "[1, 2, 3]"
      ]
     },
     "execution_count": 28,
     "metadata": {},
     "output_type": "execute_result"
    }
   ],
   "source": [
    "x2_id = f.remote([1, 2, 3])\n",
    "ray.get(x2_id)"
   ]
  },
  {
   "cell_type": "markdown",
   "id": "9b57bb5b-371e-42f4-ac0e-c657ba32e419",
   "metadata": {},
   "source": [
    "However, `object IDs` can also be passed into remote functions. When the function is executed, Ray will automatically substitute the underlying Python object that the object ID refers to. In a sense, it's the same as calling `ray.get` on each argument that's passed in as an argument."
   ]
  },
  {
   "cell_type": "code",
   "execution_count": 29,
   "id": "e3836b9c-64f1-4603-b299-166c36afb8b9",
   "metadata": {},
   "outputs": [
    {
     "data": {
      "text/plain": [
       "1"
      ]
     },
     "execution_count": 29,
     "metadata": {},
     "output_type": "execute_result"
    }
   ],
   "source": [
    "y1_id = f.remote(x1_id)\n",
    "ray.get(y1_id)"
   ]
  },
  {
   "cell_type": "code",
   "execution_count": 30,
   "id": "8a2e4a57-ed3a-46d4-b646-582a644e1e4d",
   "metadata": {},
   "outputs": [
    {
     "data": {
      "text/plain": [
       "[1, 2, 3]"
      ]
     },
     "execution_count": 30,
     "metadata": {},
     "output_type": "execute_result"
    }
   ],
   "source": [
    "y2_id = f.remote(x2_id)\n",
    "ray.get(y2_id)"
   ]
  },
  {
   "cell_type": "markdown",
   "id": "92038803-c413-4bc1-b9ba-cf10801b08bc",
   "metadata": {},
   "source": [
    "**NOTE**: When implementing a remote function, the function should expect a regular Python object regardless of whether the caller passes in a regular Python object or an object ID.\n",
    "\n",
    "**These task dependencies affect scheduling**. In the example above, the task that creates `y1_id` depends on the task that creates `x1_id`. This means that:\n",
    "\n",
    " * The second task will not be executed until the first task has finished executing.\n",
    " * If the two tasks are scheduled on different machines, the output of the first task (the value corresponding to x1_id) will be copied over the network to the machine where the second task is scheduled."
   ]
  },
  {
   "cell_type": "markdown",
   "id": "eaafdcd0-4dd2-4828-8879-a5c651da7ab1",
   "metadata": {},
   "source": [
    "### Example 4: Task Dependencies: Aggregating Values Efficiently\n",
    "\n",
    "Task dependencies can be used in much more sophisticated ways. For example, suppose we wish to aggregate 8 values together. This example uses naive integer addition, but in many applications, aggregating large vectors across multiple machines can be a bottleneck. In this case, changing a single line of code can change the aggregation’s running time from linear to logarithmic in the number of values being aggregated.\n",
    "\n",
    "<img src=\"images/task_dependencies_graphs.png\" height=\"50%\" width=\"70%\">"
   ]
  },
  {
   "cell_type": "code",
   "execution_count": 35,
   "id": "c09265ff-7d31-46ba-96a4-2f847759f413",
   "metadata": {},
   "outputs": [],
   "source": [
    "# define a task to add two intergers\n",
    "@ray.remote\n",
    "def add(x, y):\n",
    "    time.sleep(1)\n",
    "    return x + y"
   ]
  },
  {
   "cell_type": "markdown",
   "id": "fd505139-8558-471a-a18c-fd466503a5b0",
   "metadata": {},
   "source": [
    "#### Add values the slow approach"
   ]
  },
  {
   "cell_type": "code",
   "execution_count": 36,
   "id": "44003521-a111-4729-935f-33f6868d748e",
   "metadata": {},
   "outputs": [
    {
     "data": {
      "text/plain": [
       "[1, 2, 3, 4, 5, 6, 7, 8]"
      ]
     },
     "execution_count": 36,
     "metadata": {},
     "output_type": "execute_result"
    }
   ],
   "source": [
    "values = [i for i in range(1, 9)]\n",
    "values"
   ]
  },
  {
   "cell_type": "code",
   "execution_count": 37,
   "id": "d8213699-6778-4fcf-9834-3b54ccc02b64",
   "metadata": {},
   "outputs": [
    {
     "name": "stdout",
     "output_type": "stream",
     "text": [
      "[ObjectRef(89af82725933373effffffffffffffffffffffff0100000001000000), 3, 4, 5, 6, 7, 8]\n",
      "[ObjectRef(5168ff79929289e3ffffffffffffffffffffffff0100000001000000), 4, 5, 6, 7, 8]\n",
      "[ObjectRef(3e43f22e6ab31cdcffffffffffffffffffffffff0100000001000000), 5, 6, 7, 8]\n",
      "[ObjectRef(594c3bb38e594811ffffffffffffffffffffffff0100000001000000), 6, 7, 8]\n",
      "[ObjectRef(64ac0404a8f0916fffffffffffffffffffffffff0100000001000000), 7, 8]\n",
      "[ObjectRef(cf9aed5eec5a308bffffffffffffffffffffffff0100000001000000), 8]\n",
      "[ObjectRef(4f4ef6205ce35f90ffffffffffffffffffffffff0100000001000000)]\n",
      "36\n",
      "CPU times: user 50.7 ms, sys: 43.5 ms, total: 94.2 ms\n",
      "Wall time: 7.04 s\n"
     ]
    }
   ],
   "source": [
    "%%time\n",
    "\n",
    "while len(values) > 1:\n",
    "    values = [add.remote(values[0], values[1])] + values[2:]\n",
    "    print(values)\n",
    "result = ray.get(values[0])\n",
    "print(result)"
   ]
  },
  {
   "cell_type": "markdown",
   "id": "1a595a40-65bb-4c11-84de-f4c313a08dcd",
   "metadata": {},
   "source": [
    "#### Add values the faster approach"
   ]
  },
  {
   "cell_type": "code",
   "execution_count": 40,
   "id": "d2fabe38-8484-47e4-b2c8-a385f3201c81",
   "metadata": {},
   "outputs": [
    {
     "name": "stdout",
     "output_type": "stream",
     "text": [
      "36\n",
      "CPU times: user 536 µs, sys: 282 µs, total: 818 µs\n",
      "Wall time: 689 µs\n"
     ]
    }
   ],
   "source": [
    "%%time\n",
    "\n",
    "while len(values) > 1:\n",
    "    values = values[2:] + [add.remote(values[0], values[1])]\n",
    "result = ray.get(values[0])\n",
    "print(result)"
   ]
  },
  {
   "cell_type": "code",
   "execution_count": 41,
   "id": "97e6982f-5978-48b6-a8b7-64600e10ad5d",
   "metadata": {},
   "outputs": [],
   "source": [
    "@ray.remote\n",
    "def f():\n",
    "    return 1\n",
    "\n",
    "@ray.remote\n",
    "def g():\n",
    "    # Call f() 4 times and return the resulting object IDs.\n",
    "    results = []\n",
    "    for _ in range(4):\n",
    "      results.append(f.remote())\n",
    "    return results\n",
    "\n",
    "@ray.remote\n",
    "def h():\n",
    "    # Call f() 4 times, block until those 4 tasks finish,\n",
    "    # retrieve the results, and return the values.\n",
    "    results = []\n",
    "    for _ in range(4):\n",
    "      results.append(f.remote())\n",
    "    return ray.get(results)"
   ]
  },
  {
   "cell_type": "markdown",
   "id": "b6af2c34-3d00-4a3c-978c-b3d88258c98c",
   "metadata": {},
   "source": [
    "Then calling `g` and `h` produces the following behavior."
   ]
  },
  {
   "cell_type": "code",
   "execution_count": 42,
   "id": "f96a366f-ddbe-45b6-8880-735190a4f5a9",
   "metadata": {},
   "outputs": [
    {
     "data": {
      "text/plain": [
       "[ObjectRef(3747422454d6e3c3ffffffffffffffffffffffff0100000001000000),\n",
       " ObjectRef(f89232946911ffa3ffffffffffffffffffffffff0100000001000000),\n",
       " ObjectRef(0f3b51d123bcf084ffffffffffffffffffffffff0100000001000000),\n",
       " ObjectRef(b1c178fa7653e451ffffffffffffffffffffffff0100000001000000)]"
      ]
     },
     "execution_count": 42,
     "metadata": {},
     "output_type": "execute_result"
    }
   ],
   "source": [
    "ray.get(g.remote())"
   ]
  },
  {
   "cell_type": "code",
   "execution_count": 43,
   "id": "32745779-dbfb-4327-afe3-94ba50b12010",
   "metadata": {},
   "outputs": [
    {
     "data": {
      "text/plain": [
       "[1, 1, 1, 1]"
      ]
     },
     "execution_count": 43,
     "metadata": {},
     "output_type": "execute_result"
    }
   ],
   "source": [
    "ray.get(h.remote())"
   ]
  },
  {
   "cell_type": "code",
   "execution_count": 44,
   "id": "8f0256a2-ca5a-4c17-af32-022449fe3c6e",
   "metadata": {},
   "outputs": [],
   "source": [
    "# Normally will want to shutdown\n",
    "ray.shutdown()"
   ]
  },
  {
   "cell_type": "markdown",
   "id": "736292de-21cd-45cc-a103-5c7732f628ab",
   "metadata": {},
   "source": [
    "---"
   ]
  },
  {
   "cell_type": "markdown",
   "id": "446ef32f-c8e2-4d57-a2ff-ad87fa3c7af4",
   "metadata": {},
   "source": [
    "### Exercises\n",
    "\n",
    "1. Increase the fibonacci with 200K, 300K\n",
    "2. Add a compute intensive function; pick some function from your repo"
   ]
  },
  {
   "cell_type": "markdown",
   "id": "c47befc1-3766-448f-963c-aaeaece5fe01",
   "metadata": {},
   "source": [
    "### Homework\n",
    "1. Try adding local [bubble sort](https://www.geeksforgeeks.org/python-program-for-bubble-sort/) and remote bubble sort\n",
    "2. Do you see the difference for small and large numbers?\n",
    "3. Read this [blog](https://www.anyscale.com/blog/parallelizing-python-code) and try some examples."
   ]
  },
  {
   "cell_type": "markdown",
   "id": "ba2b7cec-65e3-4544-ab02-2fed100c1b38",
   "metadata": {},
   "source": [
    "### References\n",
    "\n",
    "1. [Modern Parallel and Distributed Python: A Quick Tutorial on Ray](https://towardsdatascience.com/modern-parallel-and-distributed-python-a-quick-tutorial-on-ray-99f8d70369b8) by Robert Nishihara, co-creator of Ray and co-founder Anyscale\n",
    "2. [Ray Core Introduction](https://www.anyscale.com/events/2022/02/03/introduction-to-ray-core-and-its-ecosystem) by Jules S. Damji"
   ]
  }
 ],
 "metadata": {
  "kernelspec": {
   "display_name": "Python 3 (ipykernel)",
   "language": "python",
   "name": "python3"
  },
  "language_info": {
   "codemirror_mode": {
    "name": "ipython",
    "version": 3
   },
   "file_extension": ".py",
   "mimetype": "text/x-python",
   "name": "python",
   "nbconvert_exporter": "python",
   "pygments_lexer": "ipython3",
   "version": "3.8.12"
  }
 },
 "nbformat": 4,
 "nbformat_minor": 5
}
