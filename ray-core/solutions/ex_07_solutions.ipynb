{
 "cells": [
  {
   "cell_type": "markdown",
   "id": "86278823-aee6-4cab-b9bd-ccde1a926182",
   "metadata": {},
   "source": [
    "### Adding a new column"
   ]
  },
  {
   "cell_type": "code",
   "execution_count": null,
   "id": "8ae90694-0926-44a8-8b70-2d4b8e986aa2",
   "metadata": {},
   "outputs": [],
   "source": [
    "new_ds = arrow_ds.add_colum(\"age\", lambda df: random.randint(21,65))\n",
    "new_ds.schema()"
   ]
  },
  {
   "cell_type": "code",
   "execution_count": null,
   "id": "44a8009f-f6b7-47c8-be47-1036cc086215",
   "metadata": {},
   "outputs": [],
   "source": [
    "new_ds.take(1)"
   ]
  },
  {
   "cell_type": "markdown",
   "id": "5f5e9b47-77f2-4518-a741-9cf344cd557b",
   "metadata": {},
   "source": [
    "### Filter by gender (U)"
   ]
  },
  {
   "cell_type": "code",
   "execution_count": null,
   "id": "a35fd359-480d-4695-9807-45087dd96803",
   "metadata": {},
   "outputs": [],
   "source": [
    "arrow_ds.map_batches(lambda df: df[df[\"gender\"] == \"U\"]).take(3)"
   ]
  },
  {
   "cell_type": "markdown",
   "id": "72e8ca22-348b-4bbf-8971-819d7e3fcd55",
   "metadata": {},
   "source": [
    "### Groupby property"
   ]
  },
  {
   "cell_type": "code",
   "execution_count": null,
   "id": "fab8ff59-7560-4751-9ebe-4bff3ee4cf3e",
   "metadata": {},
   "outputs": [],
   "source": [
    "results = arrow_ds.groupby(\"property\").count()\n",
    "results.show()"
   ]
  },
  {
   "cell_type": "markdown",
   "id": "13851d83-bfec-4b01-8da6-2450229e78de",
   "metadata": {},
   "source": [
    "### Modify pipeline function"
   ]
  },
  {
   "cell_type": "code",
   "execution_count": null,
   "id": "1cfcff5f-ddb5-493c-bf25-bf478f167bd5",
   "metadata": {},
   "outputs": [],
   "source": [
    "def count_tx(row: ray.data.impl.arrow_block.ArrowRow) -> int:\n",
    "    return 1 if row['state'] == \"TX\" and row[\"defaulted\"] and row['marital_status' == 'married'] and else 0"
   ]
  }
 ],
 "metadata": {
  "kernelspec": {
   "display_name": "Python 3 (ipykernel)",
   "language": "python",
   "name": "python3"
  },
  "language_info": {
   "codemirror_mode": {
    "name": "ipython",
    "version": 3
   },
   "file_extension": ".py",
   "mimetype": "text/x-python",
   "name": "python",
   "nbconvert_exporter": "python",
   "pygments_lexer": "ipython3",
   "version": "3.8.13"
  }
 },
 "nbformat": 4,
 "nbformat_minor": 5
}
