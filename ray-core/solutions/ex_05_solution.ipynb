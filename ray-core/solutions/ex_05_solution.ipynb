{
 "cells": [
  {
   "cell_type": "code",
   "execution_count": 1,
   "id": "de7fdaf6-ab3a-4bb1-9c86-880e7b70ca01",
   "metadata": {},
   "outputs": [],
   "source": [
    "def task(n):\n",
    "    # Simulate a long intensive task\n",
    "    time.sleep(0.5 * n)\n",
    "    \n",
    "    # do some matrix computation and return results\n",
    "    array_1 = np.random.randint(n*50, size=n) * 0.05\n",
    "    array_2 = np.random.randint(n * 50, size=n) * 0.03\n",
    "    \n",
    "    return np.sum(array_1) + np.sum(array_2)"
   ]
  }
 ],
 "metadata": {
  "kernelspec": {
   "display_name": "Python 3 (ipykernel)",
   "language": "python",
   "name": "python3"
  },
  "language_info": {
   "codemirror_mode": {
    "name": "ipython",
    "version": 3
   },
   "file_extension": ".py",
   "mimetype": "text/x-python",
   "name": "python",
   "nbconvert_exporter": "python",
   "pygments_lexer": "ipython3",
   "version": "3.8.12"
  }
 },
 "nbformat": 4,
 "nbformat_minor": 5
}
