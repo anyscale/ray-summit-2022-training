{
 "cells": [
  {
   "cell_type": "code",
   "execution_count": 1,
   "id": "b456a148-3f34-468f-a889-3f319489444b",
   "metadata": {},
   "outputs": [],
   "source": [
    "import logging\n",
    "import time\n",
    "import ray\n",
    "import random\n",
    "from random import randint\n",
    "import numpy as np"
   ]
  },
  {
   "cell_type": "code",
   "execution_count": 2,
   "id": "834f3f49-5ce3-4942-a8d2-7aa490fdb73b",
   "metadata": {},
   "outputs": [
    {
     "data": {
      "text/html": [
       "<div>\n",
       "    <div style=\"margin-left: 50px;display: flex;flex-direction: row;align-items: center\">\n",
       "        <h3 style=\"color: var(--jp-ui-font-color0)\">Ray</h3>\n",
       "        <svg version=\"1.1\" id=\"ray\" width=\"3em\" viewBox=\"0 0 144.5 144.6\" style=\"margin-left: 3em;margin-right: 3em\">\n",
       "            <g id=\"layer-1\">\n",
       "                <path fill=\"#00a2e9\" class=\"st0\" d=\"M97.3,77.2c-3.8-1.1-6.2,0.9-8.3,5.1c-3.5,6.8-9.9,9.9-17.4,9.6S58,88.1,54.8,81.2c-1.4-3-3-4-6.3-4.1\n",
       "                    c-5.6-0.1-9.9,0.1-13.1,6.4c-3.8,7.6-13.6,10.2-21.8,7.6C5.2,88.4-0.4,80.5,0,71.7c0.1-8.4,5.7-15.8,13.8-18.2\n",
       "                    c8.4-2.6,17.5,0.7,22.3,8c1.3,1.9,1.3,5.2,3.6,5.6c3.9,0.6,8,0.2,12,0.2c1.8,0,1.9-1.6,2.4-2.8c3.5-7.8,9.7-11.8,18-11.9\n",
       "                    c8.2-0.1,14.4,3.9,17.8,11.4c1.3,2.8,2.9,3.6,5.7,3.3c1-0.1,2,0.1,3,0c2.8-0.5,6.4,1.7,8.1-2.7s-2.3-5.5-4.1-7.5\n",
       "                    c-5.1-5.7-10.9-10.8-16.1-16.3C84,38,81.9,37.1,78,38.3C66.7,42,56.2,35.7,53,24.1C50.3,14,57.3,2.8,67.7,0.5\n",
       "                    C78.4-2,89,4.7,91.5,15.3c0.1,0.3,0.1,0.5,0.2,0.8c0.7,3.4,0.7,6.9-0.8,9.8c-1.7,3.2-0.8,5,1.5,7.2c6.7,6.5,13.3,13,19.8,19.7\n",
       "                    c1.8,1.8,3,2.1,5.5,1.2c9.1-3.4,17.9-0.6,23.4,7c4.8,6.9,4.6,16.1-0.4,22.9c-5.4,7.2-14.2,9.9-23.1,6.5c-2.3-0.9-3.5-0.6-5.1,1.1\n",
       "                    c-6.7,6.9-13.6,13.7-20.5,20.4c-1.8,1.8-2.5,3.2-1.4,5.9c3.5,8.7,0.3,18.6-7.7,23.6c-7.9,5-18.2,3.8-24.8-2.9\n",
       "                    c-6.4-6.4-7.4-16.2-2.5-24.3c4.9-7.8,14.5-11,23.1-7.8c3,1.1,4.7,0.5,6.9-1.7C91.7,98.4,98,92.3,104.2,86c1.6-1.6,4.1-2.7,2.6-6.2\n",
       "                    c-1.4-3.3-3.8-2.5-6.2-2.6C99.8,77.2,98.9,77.2,97.3,77.2z M72.1,29.7c5.5,0.1,9.9-4.3,10-9.8c0-0.1,0-0.2,0-0.3\n",
       "                    C81.8,14,77,9.8,71.5,10.2c-5,0.3-9,4.2-9.3,9.2c-0.2,5.5,4,10.1,9.5,10.3C71.8,29.7,72,29.7,72.1,29.7z M72.3,62.3\n",
       "                    c-5.4-0.1-9.9,4.2-10.1,9.7c0,0.2,0,0.3,0,0.5c0.2,5.4,4.5,9.7,9.9,10c5.1,0.1,9.9-4.7,10.1-9.8c0.2-5.5-4-10-9.5-10.3\n",
       "                    C72.6,62.3,72.4,62.3,72.3,62.3z M115,72.5c0.1,5.4,4.5,9.7,9.8,9.9c5.6-0.2,10-4.8,10-10.4c-0.2-5.4-4.6-9.7-10-9.7\n",
       "                    c-5.3-0.1-9.8,4.2-9.9,9.5C115,72.1,115,72.3,115,72.5z M19.5,62.3c-5.4,0.1-9.8,4.4-10,9.8c-0.1,5.1,5.2,10.4,10.2,10.3\n",
       "                    c5.6-0.2,10-4.9,9.8-10.5c-0.1-5.4-4.5-9.7-9.9-9.6C19.6,62.3,19.5,62.3,19.5,62.3z M71.8,134.6c5.9,0.2,10.3-3.9,10.4-9.6\n",
       "                    c0.5-5.5-3.6-10.4-9.1-10.8c-5.5-0.5-10.4,3.6-10.8,9.1c0,0.5,0,0.9,0,1.4c-0.2,5.3,4,9.8,9.3,10\n",
       "                    C71.6,134.6,71.7,134.6,71.8,134.6z\"/>\n",
       "            </g>\n",
       "        </svg>\n",
       "        <table>\n",
       "            <tr>\n",
       "                <td style=\"text-align: left\"><b>Python version:</b></td>\n",
       "                <td style=\"text-align: left\"><b>3.8.13</b></td>\n",
       "            </tr>\n",
       "            <tr>\n",
       "                <td style=\"text-align: left\"><b>Ray version:</b></td>\n",
       "                <td style=\"text-align: left\"><b> 2.0.0rc0</b></td>\n",
       "            </tr>\n",
       "            <tr>\n",
       "    <td style=\"text-align: left\"><b>Dashboard:</b></td>\n",
       "    <td style=\"text-align: left\"><b><a href=\"http://127.0.0.1:8265\" target=\"_blank\">http://127.0.0.1:8265</a></b></td>\n",
       "</tr>\n",
       "\n",
       "        </table>\n",
       "    </div>\n",
       "</div>\n"
      ],
      "text/plain": [
       "RayContext(dashboard_url='127.0.0.1:8265', python_version='3.8.13', ray_version='2.0.0rc0', ray_commit='a0588094ec52b45a878f59e98258cd5e90f4ec36', address_info={'node_ip_address': '127.0.0.1', 'raylet_ip_address': '127.0.0.1', 'redis_address': None, 'object_store_address': '/tmp/ray/session_2022-08-11_08-21-05_287406_99146/sockets/plasma_store', 'raylet_socket_name': '/tmp/ray/session_2022-08-11_08-21-05_287406_99146/sockets/raylet', 'webui_url': '127.0.0.1:8265', 'session_dir': '/tmp/ray/session_2022-08-11_08-21-05_287406_99146', 'metrics_export_port': 62410, 'gcs_address': '127.0.0.1:64156', 'address': '127.0.0.1:64156', 'dashboard_agent_listen_port': 52365, 'node_id': '2feed46fbb732dd7526bb2acc8403479a0d3f43b03289f7aa15963c7'})"
      ]
     },
     "execution_count": 2,
     "metadata": {},
     "output_type": "execute_result"
    }
   ],
   "source": [
    "if ray.is_initialized:\n",
    "    ray.shutdown()\n",
    "ray.init(logging_level=logging.ERROR)"
   ]
  },
  {
   "cell_type": "code",
   "execution_count": 3,
   "id": "b393f9c9-ed19-4003-a8d3-7c097c4ec20d",
   "metadata": {},
   "outputs": [],
   "source": [
    "CALLERS = [\"A\", \"B\", \"C\"]\n",
    "\n",
    "@ray.remote\n",
    "class MethodStateCounter:\n",
    "    def __init__(self):\n",
    "        self.invokers = {\"A\": [0], \"B\": [0], \"C\": [0]}\n",
    "    \n",
    "    def invoke(self, name):\n",
    "        # pretend to do some work\n",
    "        time.sleep(0.5)\n",
    "        \n",
    "        # compute a random result and update the result\n",
    "        result = random.randint(5, 25)\n",
    "        self.invokers[name].append(result)\n",
    "        return result\n",
    "        \n",
    "    def get_invoker_state(self, name):\n",
    "        return self.invokers[name]\n",
    "    \n",
    "    def get_number_of_calls(self, name):\n",
    "        return len(self.invokers[name])\n",
    "    \n",
    "    def get_all_invoker_state(self):\n",
    "        return self.invokers"
   ]
  },
  {
   "cell_type": "code",
   "execution_count": 4,
   "id": "a959652e-9e6a-42b1-9d3b-8f732ade4f68",
   "metadata": {},
   "outputs": [],
   "source": [
    "actor_instance = MethodStateCounter.remote()"
   ]
  },
  {
   "cell_type": "code",
   "execution_count": 5,
   "id": "10b92598-3573-4dca-aa2e-f34fd0622ffd",
   "metadata": {},
   "outputs": [],
   "source": [
    "for _ in range(10):\n",
    "    name = random.choice(CALLERS)\n",
    "    actor_instance.invoke.remote(name)"
   ]
  },
  {
   "cell_type": "markdown",
   "id": "12563785-77fd-401c-a856-39c46586263d",
   "metadata": {},
   "source": [
    "#### 1. Get number of times an invoker name was called"
   ]
  },
  {
   "cell_type": "code",
   "execution_count": 6,
   "id": "0b3a9ddb-e30f-4593-b111-b636e5bdb461",
   "metadata": {},
   "outputs": [
    {
     "name": "stdout",
     "output_type": "stream",
     "text": [
      "Number of times: A was called: 5\n"
     ]
    }
   ],
   "source": [
    "name = random.choice(CALLERS)\n",
    "count = ray.get(actor_instance.get_number_of_calls.remote(name))\n",
    "print(f\"Number of times: {name} was called: {count}\")"
   ]
  },
  {
   "cell_type": "markdown",
   "id": "c4c32938-47fe-4079-a88b-1569471aa40a",
   "metadata": {},
   "source": [
    "#### 2. Get computed values by invoker name"
   ]
  },
  {
   "cell_type": "code",
   "execution_count": 7,
   "id": "94374e33-bbfb-4148-b67f-2141fc018b17",
   "metadata": {},
   "outputs": [
    {
     "name": "stdout",
     "output_type": "stream",
     "text": [
      "All values computed by: A is: [0, 5, 13, 17, 24]\n"
     ]
    }
   ],
   "source": [
    "name = random.choice(CALLERS)\n",
    "count = ray.get(actor_instance.get_invoker_state.remote(name))\n",
    "print(f\"All values computed by: {name} is: {count}\")"
   ]
  },
  {
   "cell_type": "markdown",
   "id": "32cb4c2f-7b24-4344-a423-f1b165f3ddb6",
   "metadata": {},
   "source": [
    "#### 3. Get state of all invokers"
   ]
  },
  {
   "cell_type": "code",
   "execution_count": 8,
   "id": "b33882fe-c760-43af-ad90-8160c5968da5",
   "metadata": {},
   "outputs": [
    {
     "name": "stdout",
     "output_type": "stream",
     "text": [
      "State of all computed values for invokers: {'A': [0, 5, 13, 17, 24], 'B': [0, 19, 25, 15, 6, 19], 'C': [0, 25]}\n"
     ]
    }
   ],
   "source": [
    "print(f\"State of all computed values for invokers: {ray.get(actor_instance.get_all_invoker_state.remote())}\")"
   ]
  },
  {
   "cell_type": "code",
   "execution_count": 9,
   "id": "0865cf35-0a30-47d2-aef7-4aa9b5963b1d",
   "metadata": {},
   "outputs": [],
   "source": [
    "ray.shutdown()"
   ]
  }
 ],
 "metadata": {
  "kernelspec": {
   "display_name": "Python 3 (ipykernel)",
   "language": "python",
   "name": "python3"
  },
  "language_info": {
   "codemirror_mode": {
    "name": "ipython",
    "version": 3
   },
   "file_extension": ".py",
   "mimetype": "text/x-python",
   "name": "python",
   "nbconvert_exporter": "python",
   "pygments_lexer": "ipython3",
   "version": "3.8.13"
  }
 },
 "nbformat": 4,
 "nbformat_minor": 5
}
