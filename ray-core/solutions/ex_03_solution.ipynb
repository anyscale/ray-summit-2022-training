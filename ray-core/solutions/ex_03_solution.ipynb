{
 "cells": [
  {
   "cell_type": "code",
   "execution_count": 1,
   "id": "b456a148-3f34-468f-a889-3f319489444b",
   "metadata": {},
   "outputs": [],
   "source": [
    "import logging\n",
    "import time\n",
    "from pprint import pprint\n",
    "import ray\n",
    "import random\n",
    "from random import randint\n",
    "import numpy as np"
   ]
  },
  {
   "cell_type": "code",
   "execution_count": 2,
   "id": "834f3f49-5ce3-4942-a8d2-7aa490fdb73b",
   "metadata": {},
   "outputs": [
    {
     "name": "stdout",
     "output_type": "stream",
     "text": [
      "RayContext(dashboard_url='127.0.0.1:8266', python_version='3.8.13', ray_version='1.13.0', ray_commit='e4ce38d001dbbe09cd21c497fedd03d692b2be3e', address_info={'node_ip_address': '127.0.0.1', 'raylet_ip_address': '127.0.0.1', 'redis_address': None, 'object_store_address': '/tmp/ray/session_2022-07-19_16-52-03_723693_15404/sockets/plasma_store', 'raylet_socket_name': '/tmp/ray/session_2022-07-19_16-52-03_723693_15404/sockets/raylet', 'webui_url': '127.0.0.1:8266', 'session_dir': '/tmp/ray/session_2022-07-19_16-52-03_723693_15404', 'metrics_export_port': 64649, 'gcs_address': '127.0.0.1:63875', 'address': '127.0.0.1:63875', 'node_id': '8ec1346f1e0e07d04020651af4ae01774435a389d0fc02e80db9b4ef'})\n"
     ]
    }
   ],
   "source": [
    "if ray.is_initialized:\n",
    "    ray.shutdown()\n",
    "context = ray.init(logging_level=logging.ERROR)\n",
    "pprint(context)"
   ]
  },
  {
   "cell_type": "code",
   "execution_count": 3,
   "id": "b2d1abe8-95dd-4043-bb13-07622aad91f1",
   "metadata": {},
   "outputs": [
    {
     "name": "stdout",
     "output_type": "stream",
     "text": [
      "Dashboard url: http://127.0.0.1:8266\n"
     ]
    }
   ],
   "source": [
    "print(f\"Dashboard url: http://{context.address_info['webui_url']}\")"
   ]
  },
  {
   "cell_type": "code",
   "execution_count": 4,
   "id": "b393f9c9-ed19-4003-a8d3-7c097c4ec20d",
   "metadata": {},
   "outputs": [],
   "source": [
    "CALLERS = [\"A\", \"B\", \"C\"]\n",
    "\n",
    "@ray.remote\n",
    "class MethodStateCounter:\n",
    "    def __init__(self):\n",
    "        self.invokers = {\"A\": [0], \"B\": [0], \"C\": [0]}\n",
    "    \n",
    "    def invoke(self, name):\n",
    "        # pretend to do some work\n",
    "        time.sleep(0.5)\n",
    "        \n",
    "        # compute a random result and update the result\n",
    "        result = random.randint(5, 25)\n",
    "        self.invokers[name].append(result)\n",
    "        return result\n",
    "        \n",
    "    def get_invoker_state(self, name):\n",
    "        return self.invokers[name]\n",
    "    \n",
    "    def get_number_of_calls(self, name):\n",
    "        return len(self.invokers[name])\n",
    "    \n",
    "    def get_all_invoker_state(self):\n",
    "        return self.invokers"
   ]
  },
  {
   "cell_type": "code",
   "execution_count": 5,
   "id": "a959652e-9e6a-42b1-9d3b-8f732ade4f68",
   "metadata": {},
   "outputs": [],
   "source": [
    "actor_instance = MethodStateCounter.remote()"
   ]
  },
  {
   "cell_type": "code",
   "execution_count": 6,
   "id": "10b92598-3573-4dca-aa2e-f34fd0622ffd",
   "metadata": {},
   "outputs": [],
   "source": [
    "for _ in range(10):\n",
    "    name = random.choice(CALLERS)\n",
    "    actor_instance.invoke.remote(name)"
   ]
  },
  {
   "cell_type": "markdown",
   "id": "12563785-77fd-401c-a856-39c46586263d",
   "metadata": {},
   "source": [
    "#### 1. Get number of times an invoker name was called"
   ]
  },
  {
   "cell_type": "code",
   "execution_count": 7,
   "id": "0b3a9ddb-e30f-4593-b111-b636e5bdb461",
   "metadata": {},
   "outputs": [
    {
     "name": "stdout",
     "output_type": "stream",
     "text": [
      "Number of times: C was called: 6\n"
     ]
    }
   ],
   "source": [
    "name = random.choice(CALLERS)\n",
    "count = ray.get(actor_instance.get_number_of_calls.remote(name))\n",
    "print(f\"Number of times: {name} was called: {count}\")"
   ]
  },
  {
   "cell_type": "markdown",
   "id": "c4c32938-47fe-4079-a88b-1569471aa40a",
   "metadata": {},
   "source": [
    "#### 2. Get computed values by invoker name"
   ]
  },
  {
   "cell_type": "code",
   "execution_count": 8,
   "id": "94374e33-bbfb-4148-b67f-2141fc018b17",
   "metadata": {},
   "outputs": [
    {
     "name": "stdout",
     "output_type": "stream",
     "text": [
      "All values computed by: A is: [0, 8, 5, 23]\n"
     ]
    }
   ],
   "source": [
    "name = random.choice(CALLERS)\n",
    "count = ray.get(actor_instance.get_invoker_state.remote(name))\n",
    "print(f\"All values computed by: {name} is: {count}\")"
   ]
  },
  {
   "cell_type": "markdown",
   "id": "32cb4c2f-7b24-4344-a423-f1b165f3ddb6",
   "metadata": {},
   "source": [
    "#### 3. Get state of all invokers"
   ]
  },
  {
   "cell_type": "code",
   "execution_count": 9,
   "id": "b33882fe-c760-43af-ad90-8160c5968da5",
   "metadata": {},
   "outputs": [
    {
     "name": "stdout",
     "output_type": "stream",
     "text": [
      "State of all computed values for invokers: {'A': [0, 8, 5, 23], 'B': [0, 11, 9], 'C': [0, 19, 24, 5, 24, 22]}\n"
     ]
    }
   ],
   "source": [
    "print(f\"State of all computed values for invokers: {ray.get(actor_instance.get_all_invoker_state.remote())}\")"
   ]
  },
  {
   "cell_type": "code",
   "execution_count": 10,
   "id": "0865cf35-0a30-47d2-aef7-4aa9b5963b1d",
   "metadata": {},
   "outputs": [],
   "source": [
    "ray.shutdown()"
   ]
  }
 ],
 "metadata": {
  "kernelspec": {
   "display_name": "Python 3 (ipykernel)",
   "language": "python",
   "name": "python3"
  },
  "language_info": {
   "codemirror_mode": {
    "name": "ipython",
    "version": 3
   },
   "file_extension": ".py",
   "mimetype": "text/x-python",
   "name": "python",
   "nbconvert_exporter": "python",
   "pygments_lexer": "ipython3",
   "version": "3.8.13"
  }
 },
 "nbformat": 4,
 "nbformat_minor": 5
}
