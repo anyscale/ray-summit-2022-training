{
 "cells": [
  {
   "cell_type": "markdown",
   "id": "ab04d025-aae1-443a-97c0-3b4198beed69",
   "metadata": {},
   "source": [
    "# Ray Serve - Integration with FastAPI\n",
    "\n",
    "© 2019-2022, Anyscale. All Rights Reserved\n",
    "\n",
    "\n",
    "📖 [Back to Table of Contents](./ex_00_tutorial_overview.ipynb)<br>\n",
    "➡ [Next notebook](./ex_03_model_composition.ipynb) <br>\n",
    "⬅️ [Previous notebook](./ex_01_model_serving_challenges.ipynb) <br>\n",
    "\n",
    "Ray Serve integrates well with other common [web serving frameworks](https://docs.ray.io/en/latest/serve/tutorials/web-server-integration.html). \n",
    "\n",
    "In this tutorial, we’ll cover how to deploy [XGBoost](https://xgboost.readthedocs.io/en/stable/) with [FastAPI](https://fastapi.tiangolo.com/) and Ray Serve. We'll use a simple XGBboost classifcation model to train, deploy it on Ray Serve , and access it via HTTP request on a FastAPI endpoint. \n",
    "\n",
    "FastAPI is a modern, fast (high-performance), web framework for building APIs with Python 3.6+ based on standard Python type hints.\n",
    "\n",
    "<img src=\"https://fastapi.tiangolo.com/img/logo-margin/logo-teal.png\" width=\"40%\" height=\"20%\"> \n",
    "\n",
    "This XGBoost model will be trained to predict the onset of diabetes using the pima-indians-diabetes dataset from the [UCI Machine Learning Repository website](https://raw.githubusercontent.com/jbrownlee/Datasets/master/pima-indians-diabetes.data.csv). This small dataset contains several numerical medical variables of eight different features related to diabetes, in addition to one target variable — Outcome. So, we’ll use XGBoost to model and solve a simple prediction problem. This tutorial is derived from our [blog](https://www.anyscale.com/blog/deploying-xgboost-models-with-ray-serve).\n",
    "\n",
    "Let's see how easy it is!\n",
    "\n"
   ]
  },
  {
   "cell_type": "code",
   "execution_count": 1,
   "id": "4b850357-e4e8-4342-850a-80cac4a5a64d",
   "metadata": {},
   "outputs": [],
   "source": [
    "import numpy as np\n",
    "from xgboost import XGBClassifier\n",
    "from sklearn.model_selection import train_test_split\n",
    "from sklearn.metrics import accuracy_score\n",
    "import pickle\n",
    "\n",
    "import ray\n",
    "from fastapi import FastAPI, Request\n",
    "from ray import serve"
   ]
  },
  {
   "cell_type": "markdown",
   "id": "e00a563d-2000-44eb-aaf8-0eee63a7d979",
   "metadata": {},
   "source": [
    "### Load the data"
   ]
  },
  {
   "cell_type": "code",
   "execution_count": 2,
   "id": "204cf3e4-cc8b-4a35-9266-22a9125a94c1",
   "metadata": {},
   "outputs": [],
   "source": [
    "# Load the data\n",
    "dataset = np.loadtxt('data/pima-indians-diabetes.data.csv', delimiter=\",\")\n",
    "# split data into X and y\n",
    "X = dataset[:, 0:8]\n",
    "y = dataset[:, 8]\n",
    "X_train, X_test, y_train, y_test = train_test_split(X, y, test_size=0.33, random_state=7)"
   ]
  },
  {
   "cell_type": "markdown",
   "id": "c546a405-2a79-4e33-9513-c29fc0255ab4",
   "metadata": {},
   "source": [
    "### Define a utility function:\n",
    " * Creates XGBoost classifier\n",
    " * trains, fits, and saves the model\n",
    " * returns a model"
   ]
  },
  {
   "cell_type": "code",
   "execution_count": 3,
   "id": "e355f7d4-684d-4e7e-8779-fa5d9dc4607e",
   "metadata": {},
   "outputs": [],
   "source": [
    "def create_and_save_model():\n",
    "    # Instantiate a model, fit and train\n",
    "    xgb_model = XGBClassifier(use_label_encoder=False)\n",
    "    xgb_model.fit(X_train, y_train)\n",
    "\n",
    "    # saving the model\n",
    "    with open('xgb_model.pkl', 'wb') as f:\n",
    "        pickle.dump(xgb_model, f)\n",
    "\n",
    "    return xgb_model"
   ]
  },
  {
   "cell_type": "markdown",
   "id": "1abde4cf-e014-49d6-bc8b-744060b389c5",
   "metadata": {},
   "source": [
    "### Create, fit and predict XGBoost model"
   ]
  },
  {
   "cell_type": "code",
   "execution_count": 4,
   "id": "634f510e-707f-48cf-b0c2-8cb2bb022f0e",
   "metadata": {},
   "outputs": [
    {
     "name": "stdout",
     "output_type": "stream",
     "text": [
      "Accuracy: 74.02%\n"
     ]
    }
   ],
   "source": [
    "model = create_and_save_model()\n",
    "y_pred = model.predict(X_test)\n",
    "predictions = [round(value) for value in y_pred]\n",
    "accuracy = accuracy_score(y_test, predictions)\n",
    "print(\"Accuracy: %.2f%%\" % (accuracy * 100.0))"
   ]
  },
  {
   "cell_type": "markdown",
   "id": "369eeafb-b971-4d9b-95dd-13e0d1c9d643",
   "metadata": {},
   "source": [
    "### Create a Ray Serve Deployment with FastAPI"
   ]
  },
  {
   "cell_type": "code",
   "execution_count": 6,
   "id": "fb2710b9-3e39-4e0d-878b-2b367d67708f",
   "metadata": {},
   "outputs": [
    {
     "ename": "NameError",
     "evalue": "name 'logging' is not defined",
     "output_type": "error",
     "traceback": [
      "\u001b[0;31m---------------------------------------------------------------------------\u001b[0m",
      "\u001b[0;31mNameError\u001b[0m                                 Traceback (most recent call last)",
      "Input \u001b[0;32mIn [6]\u001b[0m, in \u001b[0;36m<cell line: 4>\u001b[0;34m()\u001b[0m\n\u001b[1;32m      2\u001b[0m \u001b[38;5;28;01mif\u001b[39;00m ray\u001b[38;5;241m.\u001b[39mis_initialized:\n\u001b[1;32m      3\u001b[0m     ray\u001b[38;5;241m.\u001b[39mshutdown()\n\u001b[0;32m----> 4\u001b[0m ray\u001b[38;5;241m.\u001b[39minit(namespace\u001b[38;5;241m=\u001b[39m\u001b[38;5;124m\"\u001b[39m\u001b[38;5;124mxgbregressor\u001b[39m\u001b[38;5;124m\"\u001b[39m, logging_level\u001b[38;5;241m=\u001b[39m\u001b[43mlogging\u001b[49m\u001b[38;5;241m.\u001b[39mERROR)\n",
      "\u001b[0;31mNameError\u001b[0m: name 'logging' is not defined"
     ]
    }
   ],
   "source": [
    "app = FastAPI()\n",
    "if ray.is_initialized:\n",
    "    ray.shutdown()\n",
    "ray.init(namespace=\"xgbregressor\", logging_level=logging.ERROR)"
   ]
  },
  {
   "cell_type": "code",
   "execution_count": null,
   "id": "02bc8890-e586-4000-aa2c-a32d8f7f3dff",
   "metadata": {},
   "outputs": [],
   "source": [
    "@serve.deployment(num_replicas=2, route_prefix=\"/regressor\")\n",
    "@serve.ingress(app)\n",
    "class XGBModel:\n",
    "    def __init__(self):\n",
    "        # loading the model\n",
    "        with open(\"xgb_model.pkl\", \"rb\") as f:\n",
    "            self.model = pickle.load(f)\n",
    "        print(\"Pickled XGBoost model loaded\")\n",
    "\n",
    "    @app.post(\"/\")\n",
    "    async def predict(self, starlette_request: Request):\n",
    "        payload = await starlette_request.json()\n",
    "        print(\"Worker: received starlette request with data\", payload)\n",
    "\n",
    "        prediction = round(self.model.predict([np.array(list(payload.values()))])[0])\n",
    "        \n",
    "        return {\"result\": prediction}"
   ]
  },
  {
   "cell_type": "code",
   "execution_count": null,
   "id": "d844cd86-2b57-4ea4-bb59-187baa6d4af8",
   "metadata": {},
   "outputs": [],
   "source": [
    "xgboost_handle = XGBModel.bind()\n",
    "serve.run(xgboost_handle)"
   ]
  },
  {
   "cell_type": "markdown",
   "id": "25789e1a-877d-41fc-9a96-ef2ad7357302",
   "metadata": {},
   "source": [
    "### List current deployments"
   ]
  },
  {
   "cell_type": "code",
   "execution_count": null,
   "id": "d0e23c9e-144e-4d86-b7d2-80702baf661c",
   "metadata": {},
   "outputs": [],
   "source": [
    "print(serve.list_deployments())"
   ]
  },
  {
   "cell_type": "markdown",
   "id": "24f65b47-e0db-432d-85a1-04de50016f16",
   "metadata": {},
   "source": [
    "### Send request to the FastAPI endpoint"
   ]
  },
  {
   "cell_type": "code",
   "execution_count": null,
   "id": "e3464640-e2ea-4c41-a08b-08ab395ddedf",
   "metadata": {},
   "outputs": [],
   "source": [
    "import requests\n",
    "\n",
    "sample_request_inputs = [\n",
    "    {\"Pregnancies\": 6,\n",
    "     \"Glucose\": 148,\n",
    "     \"BloodPressure\": 72,\n",
    "     \"SkinThickness\": 35,\n",
    "     \"Insulin\": 0,\n",
    "     \"BMI\": 33.6,\n",
    "     \"DiabetesPedigree\": 0.625,\n",
    "     \"Age\": 50,\n",
    "    },\n",
    "    {\"Pregnancies\": 10,\n",
    "      \"Glucose\": 168,\n",
    "      \"BloodPressure\": 74,\n",
    "      \"SkinThickness\": 0,\n",
    "      \"Insulin\": 0,\n",
    "      \"BMI\": 38.0,\n",
    "      \"DiabetesPedigree\": 0.537,\n",
    "      \"Age\": 34,\n",
    "    },\n",
    "    {\"Pregnancies\": 10,\n",
    "     \"Glucose\": 39,\n",
    "     \"BloodPressure\": 80,\n",
    "     \"SkinThickness\": 0,\n",
    "     \"Insulin\": 0,\n",
    "     \"BMI\": 27.1,\n",
    "     \"DiabetesPedigree\": 1.441,\n",
    "     \"Age\": 57,\n",
    "     },\n",
    "     {\"Pregnancies\": 1,\n",
    "      \"Glucose\": 103,\n",
    "      \"BloodPressure\": 30,\n",
    "      \"SkinThickness\": 38,\n",
    "      \"Insulin\": 83,\n",
    "      \"BMI\": 43.3,\n",
    "      \"DiabetesPedigree\": 0.183,\n",
    "      \"Age\": 33,\n",
    "     }\n",
    "    ]"
   ]
  },
  {
   "cell_type": "code",
   "execution_count": null,
   "id": "39e68807-0b36-4241-87ea-3603dba91b36",
   "metadata": {},
   "outputs": [],
   "source": [
    "# Iterate our requests\n",
    "for sri in sample_request_inputs:\n",
    "    response = requests.post(\"http://localhost:8000/regressor/\", json=sri)\n",
    "    print(response.text)"
   ]
  },
  {
   "cell_type": "code",
   "execution_count": null,
   "id": "8ae60bcd-1a52-4348-97b1-64a29f62b666",
   "metadata": {},
   "outputs": [],
   "source": [
    "ray.shutdown()"
   ]
  },
  {
   "cell_type": "markdown",
   "id": "4bbd4cb0-bbcd-4ba7-be91-ef2a6eab525c",
   "metadata": {},
   "source": [
    "📖 [Back to Table of Contents](./ex_00_tutorial_overview.ipynb)<br>\n",
    "➡ [Next notebook](./ex_04_inference_graphs.ipynb) <br>\n",
    "⬅️ [Previous notebook](./ex_01_model_serving_challenges.ipynb) <br>"
   ]
  }
 ],
 "metadata": {
  "kernelspec": {
   "display_name": "Python 3 (ipykernel)",
   "language": "python",
   "name": "python3"
  },
  "language_info": {
   "codemirror_mode": {
    "name": "ipython",
    "version": 3
   },
   "file_extension": ".py",
   "mimetype": "text/x-python",
   "name": "python",
   "nbconvert_exporter": "python",
   "pygments_lexer": "ipython3",
   "version": "3.8.13"
  }
 },
 "nbformat": 4,
 "nbformat_minor": 5
}
