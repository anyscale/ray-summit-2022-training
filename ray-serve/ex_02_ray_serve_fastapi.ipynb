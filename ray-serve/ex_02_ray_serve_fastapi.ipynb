{
 "cells": [
  {
   "cell_type": "markdown",
   "id": "ab04d025-aae1-443a-97c0-3b4198beed69",
   "metadata": {},
   "source": [
    "# Ray Serve - Integration with FastAPI\n",
    "\n",
    "© 2019-2022, Anyscale. All Rights Reserved\n",
    "\n",
    "\n",
    "📖 [Back to Table of Contents](./ex_00_tutorial_overview.ipynb)<br>\n",
    "➡ [Next notebook](./ex_03_model_composition.ipynb) <br>\n",
    "⬅️ [Previous notebook](./ex_01_model_serving_challenges.ipynb) <br>\n",
    "\n",
    "Ray Serve integrates well with other common [web serving frameworks](https://docs.ray.io/en/latest/serve/tutorials/web-server-integration.html). \n",
    "\n",
    "In this tutorial, we’ll cover how to deploy [XGBoost](https://xgboost.readthedocs.io/en/stable/) with [FastAPI](https://fastapi.tiangolo.com/) and Ray Serve. We'll use a simple XGBboost classifcation model to train, deploy it on Ray Serve , and access it via HTTP request on a FastAPI endpoint. \n",
    "\n",
    "FastAPI is a modern, fast (high-performance), web framework for building APIs with Python 3.6+ based on standard Python type hints.\n",
    "\n",
    "<img src=\"https://fastapi.tiangolo.com/img/logo-margin/logo-teal.png\" width=\"40%\" height=\"20%\"> \n",
    "\n",
    "This XGBoost model will be trained to predict the onset of diabetes using the pima-indians-diabetes dataset from the [UCI Machine Learning Repository website](https://raw.githubusercontent.com/jbrownlee/Datasets/master/pima-indians-diabetes.data.csv). This small dataset contains several numerical medical variables of eight different features related to diabetes, in addition to one target variable — Outcome. So, we’ll use XGBoost to model and solve a simple prediction problem. This tutorial is derived from our [blog](https://www.anyscale.com/blog/deploying-xgboost-models-with-ray-serve).\n",
    "\n",
    "Let's see how easy it is!\n",
    "\n"
   ]
  },
  {
   "cell_type": "code",
   "execution_count": 1,
   "id": "4b850357-e4e8-4342-850a-80cac4a5a64d",
   "metadata": {},
   "outputs": [],
   "source": [
    "import numpy as np\n",
    "from xgboost import XGBClassifier\n",
    "from sklearn.model_selection import train_test_split\n",
    "from sklearn.metrics import accuracy_score\n",
    "import pickle\n",
    "\n",
    "import ray\n",
    "from fastapi import FastAPI, Request\n",
    "from ray import serve"
   ]
  },
  {
   "cell_type": "markdown",
   "id": "e00a563d-2000-44eb-aaf8-0eee63a7d979",
   "metadata": {},
   "source": [
    "### Load the data"
   ]
  },
  {
   "cell_type": "code",
   "execution_count": 2,
   "id": "204cf3e4-cc8b-4a35-9266-22a9125a94c1",
   "metadata": {},
   "outputs": [],
   "source": [
    "# Load the data\n",
    "dataset = np.loadtxt('data/pima-indians-diabetes.data.csv', delimiter=\",\")\n",
    "# split data into X and y\n",
    "X = dataset[:, 0:8]\n",
    "y = dataset[:, 8]\n",
    "X_train, X_test, y_train, y_test = train_test_split(X, y, test_size=0.33, random_state=7)"
   ]
  },
  {
   "cell_type": "markdown",
   "id": "c546a405-2a79-4e33-9513-c29fc0255ab4",
   "metadata": {},
   "source": [
    "### Define a utility function:\n",
    " * Creates XGBoost classifier\n",
    " * trains, fits, and saves the model\n",
    " * returns a model"
   ]
  },
  {
   "cell_type": "code",
   "execution_count": 3,
   "id": "e355f7d4-684d-4e7e-8779-fa5d9dc4607e",
   "metadata": {},
   "outputs": [],
   "source": [
    "def create_and_save_model():\n",
    "    # Instantiate a model, fit and train\n",
    "    xgb_model = XGBClassifier(use_label_encoder=False)\n",
    "    xgb_model.fit(X_train, y_train)\n",
    "\n",
    "    # saving the model\n",
    "    with open('xgb_model.pkl', 'wb') as f:\n",
    "        pickle.dump(xgb_model, f)\n",
    "\n",
    "    return xgb_model"
   ]
  },
  {
   "cell_type": "markdown",
   "id": "1abde4cf-e014-49d6-bc8b-744060b389c5",
   "metadata": {},
   "source": [
    "### Create, fit and predict XGBoost model"
   ]
  },
  {
   "cell_type": "code",
   "execution_count": 4,
   "id": "634f510e-707f-48cf-b0c2-8cb2bb022f0e",
   "metadata": {},
   "outputs": [
    {
     "name": "stdout",
     "output_type": "stream",
     "text": [
      "Accuracy: 74.02%\n"
     ]
    }
   ],
   "source": [
    "model = create_and_save_model()\n",
    "y_pred = model.predict(X_test)\n",
    "predictions = [round(value) for value in y_pred]\n",
    "accuracy = accuracy_score(y_test, predictions)\n",
    "print(\"Accuracy: %.2f%%\" % (accuracy * 100.0))"
   ]
  },
  {
   "cell_type": "markdown",
   "id": "369eeafb-b971-4d9b-95dd-13e0d1c9d643",
   "metadata": {},
   "source": [
    "### Create a Ray Serve Deployment with FastAPI"
   ]
  },
  {
   "cell_type": "code",
   "execution_count": 5,
   "id": "fb2710b9-3e39-4e0d-878b-2b367d67708f",
   "metadata": {},
   "outputs": [
    {
     "name": "stderr",
     "output_type": "stream",
     "text": [
      "2022-08-07 10:50:15,539\tINFO worker.py:1481 -- Started a local Ray instance. View the dashboard at \u001b[1m\u001b[32mhttp://127.0.0.1:8266\u001b[39m\u001b[22m.\n",
      "/var/folders/zc/tmtrbwyn321fxfv_4xh_s0qm0000gn/T/ipykernel_66110/220762853.py:3: UserWarning: From /var/folders/zc/tmtrbwyn321fxfv_4xh_s0qm0000gn/T/ipykernel_66110/220762853.py:3: start (from ray.serve.api) is deprecated and will be removed in a future version Please see https://docs.ray.io/en/latest/serve/index.html\n",
      "  serve.start()\n",
      "\u001b[2m\u001b[36m(ServeController pid=67589)\u001b[0m INFO 2022-08-07 10:50:16,826 controller 67589 http_state.py:123 - Starting HTTP proxy with name 'SERVE_CONTROLLER_ACTOR:wmMboJ:SERVE_PROXY_ACTOR-a101de482015ef4171bb596d109b80506e3bac84a915d4dc548f4a17' on node 'a101de482015ef4171bb596d109b80506e3bac84a915d4dc548f4a17' listening on '127.0.0.1:8000'\n"
     ]
    },
    {
     "data": {
      "text/plain": [
       "<ray.serve._private.client.ServeControllerClient at 0x1746ece20>"
      ]
     },
     "execution_count": 5,
     "metadata": {},
     "output_type": "execute_result"
    }
   ],
   "source": [
    "app = FastAPI()\n",
    "ray.init(namespace=\"xgbregressor\")\n",
    "serve.start()"
   ]
  },
  {
   "cell_type": "code",
   "execution_count": 6,
   "id": "02bc8890-e586-4000-aa2c-a32d8f7f3dff",
   "metadata": {},
   "outputs": [],
   "source": [
    "@serve.deployment(num_replicas=2, route_prefix=\"/regressor\")\n",
    "@serve.ingress(app)\n",
    "class XGBModel:\n",
    "    def __init__(self):\n",
    "        # loading the model\n",
    "        with open(\"xgb_model.pkl\", \"rb\") as f:\n",
    "            self.model = pickle.load(f)\n",
    "        print(\"Pickled XGBoost model loaded\")\n",
    "\n",
    "    @app.post(\"/\")\n",
    "    async def predict(self, starlette_request: Request):\n",
    "        payload = await starlette_request.json()\n",
    "        print(\"Worker: received starlette request with data\", payload)\n",
    "\n",
    "        prediction = round(self.model.predict([np.array(list(payload.values()))])[0])\n",
    "        \n",
    "        return {\"result\": prediction}"
   ]
  },
  {
   "cell_type": "code",
   "execution_count": 7,
   "id": "d844cd86-2b57-4ea4-bb59-187baa6d4af8",
   "metadata": {},
   "outputs": [
    {
     "name": "stderr",
     "output_type": "stream",
     "text": [
      "/var/folders/zc/tmtrbwyn321fxfv_4xh_s0qm0000gn/T/ipykernel_66110/3984095868.py:1: UserWarning: From /var/folders/zc/tmtrbwyn321fxfv_4xh_s0qm0000gn/T/ipykernel_66110/3984095868.py:1: deploy (from ray.serve.deployment) is deprecated and will be removed in a future version Please see https://docs.ray.io/en/latest/serve/index.html\n",
      "  XGBModel.deploy()\n",
      "\u001b[2m\u001b[36m(HTTPProxyActor pid=67591)\u001b[0m INFO:     Started server process [67591]\n",
      "\u001b[2m\u001b[36m(ServeController pid=67589)\u001b[0m INFO 2022-08-07 10:50:17,444 controller 67589 deployment_state.py:1232 - Adding 2 replicas to deployment 'XGBModel'.\n"
     ]
    },
    {
     "name": "stdout",
     "output_type": "stream",
     "text": [
      "\u001b[2m\u001b[36m(ServeReplica:XGBModel pid=67593)\u001b[0m Pickled XGBoost model loaded\n",
      "\u001b[2m\u001b[36m(ServeReplica:XGBModel pid=67594)\u001b[0m Pickled XGBoost model loaded\n"
     ]
    }
   ],
   "source": [
    "XGBModel.deploy()"
   ]
  },
  {
   "cell_type": "markdown",
   "id": "25789e1a-877d-41fc-9a96-ef2ad7357302",
   "metadata": {},
   "source": [
    "### List current deployments"
   ]
  },
  {
   "cell_type": "code",
   "execution_count": 8,
   "id": "d0e23c9e-144e-4d86-b7d2-80702baf661c",
   "metadata": {},
   "outputs": [
    {
     "name": "stdout",
     "output_type": "stream",
     "text": [
      "{'XGBModel': Deployment(name=XGBModel,version=None,route_prefix=/regressor)}\n"
     ]
    },
    {
     "name": "stderr",
     "output_type": "stream",
     "text": [
      "/var/folders/zc/tmtrbwyn321fxfv_4xh_s0qm0000gn/T/ipykernel_66110/4235817252.py:1: UserWarning: From /var/folders/zc/tmtrbwyn321fxfv_4xh_s0qm0000gn/T/ipykernel_66110/4235817252.py:1: list_deployments (from ray.serve.api) is deprecated and will be removed in a future version Please see https://docs.ray.io/en/latest/serve/index.html\n",
      "  print(serve.list_deployments())\n"
     ]
    }
   ],
   "source": [
    "print(serve.list_deployments())"
   ]
  },
  {
   "cell_type": "markdown",
   "id": "24f65b47-e0db-432d-85a1-04de50016f16",
   "metadata": {},
   "source": [
    "### Send request to the FastAPI endpoint"
   ]
  },
  {
   "cell_type": "code",
   "execution_count": 9,
   "id": "e3464640-e2ea-4c41-a08b-08ab395ddedf",
   "metadata": {},
   "outputs": [],
   "source": [
    "import requests\n",
    "\n",
    "sample_request_inputs = [\n",
    "    {\"Pregnancies\": 6,\n",
    "     \"Glucose\": 148,\n",
    "     \"BloodPressure\": 72,\n",
    "     \"SkinThickness\": 35,\n",
    "     \"Insulin\": 0,\n",
    "     \"BMI\": 33.6,\n",
    "     \"DiabetesPedigree\": 0.625,\n",
    "     \"Age\": 50,\n",
    "    },\n",
    "    {\"Pregnancies\": 10,\n",
    "      \"Glucose\": 168,\n",
    "      \"BloodPressure\": 74,\n",
    "      \"SkinThickness\": 0,\n",
    "      \"Insulin\": 0,\n",
    "      \"BMI\": 38.0,\n",
    "      \"DiabetesPedigree\": 0.537,\n",
    "      \"Age\": 34,\n",
    "    },\n",
    "    {\"Pregnancies\": 10,\n",
    "     \"Glucose\": 39,\n",
    "     \"BloodPressure\": 80,\n",
    "     \"SkinThickness\": 0,\n",
    "     \"Insulin\": 0,\n",
    "     \"BMI\": 27.1,\n",
    "     \"DiabetesPedigree\": 1.441,\n",
    "     \"Age\": 57,\n",
    "     },\n",
    "     {\"Pregnancies\": 1,\n",
    "      \"Glucose\": 103,\n",
    "      \"BloodPressure\": 30,\n",
    "      \"SkinThickness\": 38,\n",
    "      \"Insulin\": 83,\n",
    "      \"BMI\": 43.3,\n",
    "      \"DiabetesPedigree\": 0.183,\n",
    "      \"Age\": 33,\n",
    "     }\n",
    "    ]"
   ]
  },
  {
   "cell_type": "code",
   "execution_count": 10,
   "id": "39e68807-0b36-4241-87ea-3603dba91b36",
   "metadata": {},
   "outputs": [
    {
     "name": "stdout",
     "output_type": "stream",
     "text": [
      "{\"result\":1}\n",
      "{\"result\":1}\n",
      "{\"result\":0}\n",
      "\u001b[2m\u001b[36m(ServeReplica:XGBModel pid=67593)\u001b[0m Worker: received starlette request with data {'Pregnancies': 10, 'Glucose': 168, 'BloodPressure': 74, 'SkinThickness': 0, 'Insulin': 0, 'BMI': 38.0, 'DiabetesPedigree': 0.537, 'Age': 34}\n",
      "\u001b[2m\u001b[36m(ServeReplica:XGBModel pid=67593)\u001b[0m Worker: received starlette request with data {'Pregnancies': 1, 'Glucose': 103, 'BloodPressure': 30, 'SkinThickness': 38, 'Insulin': 83, 'BMI': 43.3, 'DiabetesPedigree': 0.183, 'Age': 33}\n",
      "{\"result\":0}\n"
     ]
    },
    {
     "name": "stderr",
     "output_type": "stream",
     "text": [
      "\u001b[2m\u001b[36m(HTTPProxyActor pid=67591)\u001b[0m INFO 2022-08-07 10:50:18,428 http_proxy 127.0.0.1 http_proxy.py:315 - POST /regressor 200 7.2ms\n",
      "\u001b[2m\u001b[36m(HTTPProxyActor pid=67591)\u001b[0m INFO 2022-08-07 10:50:18,437 http_proxy 127.0.0.1 http_proxy.py:315 - POST /regressor 200 6.4ms\n",
      "\u001b[2m\u001b[36m(HTTPProxyActor pid=67591)\u001b[0m INFO 2022-08-07 10:50:18,442 http_proxy 127.0.0.1 http_proxy.py:315 - POST /regressor 200 2.5ms\n",
      "\u001b[2m\u001b[36m(ServeReplica:XGBModel pid=67593)\u001b[0m INFO 2022-08-07 10:50:18,436 XGBModel XGBModel#JGEbhn replica.py:482 - HANDLE __call__ OK 4.0ms\n",
      "\u001b[2m\u001b[36m(ServeReplica:XGBModel pid=67593)\u001b[0m INFO 2022-08-07 10:50:18,446 XGBModel XGBModel#JGEbhn replica.py:482 - HANDLE __call__ OK 1.2ms\n",
      "\u001b[2m\u001b[36m(ServeReplica:XGBModel pid=67594)\u001b[0m INFO 2022-08-07 10:50:18,427 XGBModel XGBModel#FUJGwj replica.py:482 - HANDLE __call__ OK 4.0ms\n",
      "\u001b[2m\u001b[36m(ServeReplica:XGBModel pid=67594)\u001b[0m INFO 2022-08-07 10:50:18,441 XGBModel XGBModel#FUJGwj replica.py:482 - HANDLE __call__ OK 1.1ms\n"
     ]
    },
    {
     "name": "stdout",
     "output_type": "stream",
     "text": [
      "\u001b[2m\u001b[36m(ServeReplica:XGBModel pid=67594)\u001b[0m Worker: received starlette request with data {'Pregnancies': 6, 'Glucose': 148, 'BloodPressure': 72, 'SkinThickness': 35, 'Insulin': 0, 'BMI': 33.6, 'DiabetesPedigree': 0.625, 'Age': 50}\n",
      "\u001b[2m\u001b[36m(ServeReplica:XGBModel pid=67594)\u001b[0m Worker: received starlette request with data {'Pregnancies': 10, 'Glucose': 39, 'BloodPressure': 80, 'SkinThickness': 0, 'Insulin': 0, 'BMI': 27.1, 'DiabetesPedigree': 1.441, 'Age': 57}\n"
     ]
    },
    {
     "name": "stderr",
     "output_type": "stream",
     "text": [
      "\u001b[2m\u001b[36m(HTTPProxyActor pid=67591)\u001b[0m INFO 2022-08-07 10:50:18,447 http_proxy 127.0.0.1 http_proxy.py:315 - POST /regressor 200 2.8ms\n"
     ]
    }
   ],
   "source": [
    "# Iterate our requests\n",
    "for sri in sample_request_inputs:\n",
    "    response = requests.post(\"http://localhost:8000/regressor/\", json=sri)\n",
    "    print(response.text)"
   ]
  },
  {
   "cell_type": "code",
   "execution_count": 11,
   "id": "8ae60bcd-1a52-4348-97b1-64a29f62b666",
   "metadata": {},
   "outputs": [],
   "source": [
    "ray.shutdown()"
   ]
  },
  {
   "cell_type": "markdown",
   "id": "4bbd4cb0-bbcd-4ba7-be91-ef2a6eab525c",
   "metadata": {},
   "source": [
    "📖 [Back to Table of Contents](./ex_00_tutorial_overview.ipynb)<br>\n",
    "➡ [Next notebook](./ex_04_inference_graphs.ipynb) <br>\n",
    "⬅️ [Previous notebook](./ex_01_model_serving_challenges.ipynb) <br>"
   ]
  }
 ],
 "metadata": {
  "kernelspec": {
   "display_name": "Python 3 (ipykernel)",
   "language": "python",
   "name": "python3"
  },
  "language_info": {
   "codemirror_mode": {
    "name": "ipython",
    "version": 3
   },
   "file_extension": ".py",
   "mimetype": "text/x-python",
   "name": "python",
   "nbconvert_exporter": "python",
   "pygments_lexer": "ipython3",
   "version": "3.8.13"
  }
 },
 "nbformat": 4,
 "nbformat_minor": 5
}
