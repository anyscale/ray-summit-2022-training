{
 "cells": [
  {
   "cell_type": "markdown",
   "id": "80b6895b-7e75-414a-ba2a-ef1f87736fb9",
   "metadata": {},
   "source": [
    "### Deploy class "
   ]
  },
  {
   "cell_type": "code",
   "execution_count": null,
   "id": "5fbbbb41-00ba-4882-b9ec-b545da7c7076",
   "metadata": {},
   "outputs": [],
   "source": [
    "@serve.deployment\n",
    "class MyDeployment:\n",
    "    def __init__(self, weight, bias):\n",
    "        self.weight = weight\n",
    "        self.bias = bias\n",
    "        self.prediction = 0.0\n",
    "\n",
    "    def __call__(self, starlette_request):\n",
    "        data = starlette_request.query_params['data']\n",
    "        self.prediction = float(data) * self.weight * random() + self.bias\n",
    "        return {\"prediction\": self.prediction}"
   ]
  },
  {
   "cell_type": "code",
   "execution_count": null,
   "id": "55b34a18-2105-44bc-b269-67bd7eef841c",
   "metadata": {},
   "outputs": [],
   "source": [
    "for _ in range(10):\n",
    "    for d_name in [\"rep-1\", \"rep-2\"]:\n",
    "        # Send HTTP request along with data payload\n",
    "        url = f\"http://127.0.0.1:8000/{d_name}\"\n",
    "        print(f\"handle name : {d_name}\")\n",
    "        print(f\"prediction  : {requests.get(url, params={'data': random()}).text}\")"
   ]
  },
  {
   "cell_type": "code",
   "execution_count": null,
   "id": "5d066cd3-55eb-4838-b7f4-c6c58b2316b8",
   "metadata": {},
   "outputs": [],
   "source": []
  }
 ],
 "metadata": {
  "kernelspec": {
   "display_name": "Python 3 (ipykernel)",
   "language": "python",
   "name": "python3"
  },
  "language_info": {
   "codemirror_mode": {
    "name": "ipython",
    "version": 3
   },
   "file_extension": ".py",
   "mimetype": "text/x-python",
   "name": "python",
   "nbconvert_exporter": "python",
   "pygments_lexer": "ipython3",
   "version": "3.8.13"
  }
 },
 "nbformat": 4,
 "nbformat_minor": 5
}
