{
 "cells": [
  {
   "cell_type": "markdown",
   "id": "80b6895b-7e75-414a-ba2a-ef1f87736fb9",
   "metadata": {},
   "source": [
    "### Solution 1 class "
   ]
  },
  {
   "cell_type": "code",
   "execution_count": 2,
   "id": "5fbbbb41-00ba-4882-b9ec-b545da7c7076",
   "metadata": {},
   "outputs": [],
   "source": [
    "import ray\n",
    "from ray import serve\n",
    "import requests  # for making web requests\n",
    "\n",
    "@serve.deployment\n",
    "class FruitStand:\n",
    "    def __init__(self, fruit):\n",
    "        self.fruit = fruit\n",
    "        self.prices  = {\"mango\": 2.56, \"pear\": 1.75, \"apples\": 1.35}\n",
    "    \n",
    "    def compute_price(self, data):\n",
    "        return self.prices[self.fruit] * data\n",
    "\n",
    "    def __call__(self, starlette_request):\n",
    "        data = float(starlette_request.query_params['data'])\n",
    "        price = self.compute_price(data)\n",
    "        return {\"prices\": price}"
   ]
  },
  {
   "cell_type": "code",
   "execution_count": 3,
   "id": "a0385e06-32f9-4979-9346-af5da0592ba1",
   "metadata": {},
   "outputs": [
    {
     "name": "stderr",
     "output_type": "stream",
     "text": [
      "2022-08-09 18:59:25,041\tINFO worker.py:1481 -- Started a local Ray instance. View the dashboard at \u001b[1m\u001b[32mhttp://127.0.0.1:8265\u001b[39m\u001b[22m.\n",
      "\u001b[2m\u001b[36m(ServeController pid=88014)\u001b[0m INFO 2022-08-09 18:59:26,212 controller 88014 http_state.py:123 - Starting HTTP proxy with name 'SERVE_CONTROLLER_ACTOR:SERVE_PROXY_ACTOR-9d080018d970d4e5d5f28fd366301c0a180d47987e411871e96ecac9' on node '9d080018d970d4e5d5f28fd366301c0a180d47987e411871e96ecac9' listening on '127.0.0.1:8000'\n",
      "\u001b[2m\u001b[36m(HTTPProxyActor pid=88016)\u001b[0m INFO:     Started server process [88016]\n",
      "\u001b[2m\u001b[36m(ServeController pid=88014)\u001b[0m INFO 2022-08-09 18:59:26,830 controller 88014 deployment_state.py:1232 - Adding 1 replicas to deployment 'FruitStand'.\n",
      "You are retrieving a sync handle inside an asyncio loop. Try getting Deployment.get_handle(.., sync=False) to get better performance. Learn more at https://docs.ray.io/en/latest/serve/handle-guide.html#sync-and-async-handles\n"
     ]
    },
    {
     "data": {
      "text/plain": [
       "RayServeSyncHandle(deployment='FruitStand')"
      ]
     },
     "execution_count": 3,
     "metadata": {},
     "output_type": "execute_result"
    }
   ],
   "source": [
    "simple_model = FruitStand.bind(\"mango\")\n",
    "serve.run(simple_model)"
   ]
  },
  {
   "cell_type": "code",
   "execution_count": 6,
   "id": "1107ae2a-7a25-45fb-b697-f7271ec65d3d",
   "metadata": {},
   "outputs": [
    {
     "name": "stdout",
     "output_type": "stream",
     "text": [
      " 1 mango prices  : {\"prices\": 2.56}\n",
      " 2 mango prices  : {\"prices\": 5.12}\n",
      " 3 mango prices  : {\"prices\": 7.68}\n",
      " 4 mango prices  : {\"prices\": 10.24}\n",
      " 5 mango prices  : {\"prices\": 12.8}\n"
     ]
    },
    {
     "name": "stderr",
     "output_type": "stream",
     "text": [
      "\u001b[2m\u001b[36m(HTTPProxyActor pid=88016)\u001b[0m INFO 2022-08-09 19:01:40,712 http_proxy 127.0.0.1 http_proxy.py:315 - GET / 200 5.1ms\n",
      "\u001b[2m\u001b[36m(HTTPProxyActor pid=88016)\u001b[0m INFO 2022-08-09 19:01:40,718 http_proxy 127.0.0.1 http_proxy.py:315 - GET / 200 1.7ms\n",
      "\u001b[2m\u001b[36m(HTTPProxyActor pid=88016)\u001b[0m INFO 2022-08-09 19:01:40,722 http_proxy 127.0.0.1 http_proxy.py:315 - GET / 200 1.5ms\n",
      "\u001b[2m\u001b[36m(HTTPProxyActor pid=88016)\u001b[0m INFO 2022-08-09 19:01:40,726 http_proxy 127.0.0.1 http_proxy.py:315 - GET / 200 1.8ms\n",
      "\u001b[2m\u001b[36m(HTTPProxyActor pid=88016)\u001b[0m INFO 2022-08-09 19:01:40,729 http_proxy 127.0.0.1 http_proxy.py:315 - GET / 200 1.6ms\n",
      "\u001b[2m\u001b[36m(ServeReplica:FruitStand pid=88019)\u001b[0m INFO 2022-08-09 19:01:40,710 FruitStand FruitStand#qFQzCu replica.py:482 - HANDLE __call__ OK 0.5ms\n",
      "\u001b[2m\u001b[36m(ServeReplica:FruitStand pid=88019)\u001b[0m INFO 2022-08-09 19:01:40,718 FruitStand FruitStand#qFQzCu replica.py:482 - HANDLE __call__ OK 0.1ms\n",
      "\u001b[2m\u001b[36m(ServeReplica:FruitStand pid=88019)\u001b[0m INFO 2022-08-09 19:01:40,721 FruitStand FruitStand#qFQzCu replica.py:482 - HANDLE __call__ OK 0.1ms\n",
      "\u001b[2m\u001b[36m(ServeReplica:FruitStand pid=88019)\u001b[0m INFO 2022-08-09 19:01:40,725 FruitStand FruitStand#qFQzCu replica.py:482 - HANDLE __call__ OK 0.1ms\n",
      "\u001b[2m\u001b[36m(ServeReplica:FruitStand pid=88019)\u001b[0m INFO 2022-08-09 19:01:40,729 FruitStand FruitStand#qFQzCu replica.py:482 - HANDLE __call__ OK 0.1ms\n"
     ]
    }
   ],
   "source": [
    "url = f\"http://127.0.0.1:8000/FruitStand\"\n",
    "for i in range(5):\n",
    "    print(f\" {i+1} mango prices  : {requests.get(url, params={'data': i+1}).text}\")"
   ]
  },
  {
   "cell_type": "code",
   "execution_count": 8,
   "id": "c4902f3f-a197-420e-b11e-9ac22f3e22fd",
   "metadata": {},
   "outputs": [
    {
     "name": "stderr",
     "output_type": "stream",
     "text": [
      "\u001b[2m\u001b[36m(ServeController pid=88014)\u001b[0m INFO 2022-08-09 19:02:20,983 controller 88014 deployment_state.py:1257 - Removing 1 replicas from deployment 'FruitStand'.\n"
     ]
    }
   ],
   "source": [
    "serve.shutdown()"
   ]
  }
 ],
 "metadata": {
  "kernelspec": {
   "display_name": "Python 3 (ipykernel)",
   "language": "python",
   "name": "python3"
  },
  "language_info": {
   "codemirror_mode": {
    "name": "ipython",
    "version": 3
   },
   "file_extension": ".py",
   "mimetype": "text/x-python",
   "name": "python",
   "nbconvert_exporter": "python",
   "pygments_lexer": "ipython3",
   "version": "3.8.13"
  }
 },
 "nbformat": 4,
 "nbformat_minor": 5
}
