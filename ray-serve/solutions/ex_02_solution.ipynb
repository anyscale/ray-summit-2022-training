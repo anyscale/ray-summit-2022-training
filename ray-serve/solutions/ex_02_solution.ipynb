{
 "cells": [
  {
   "cell_type": "markdown",
   "id": "bc91df62-3a58-42c6-b059-78c1453be10f",
   "metadata": {},
   "source": [
    "Two ways to speciy number of replicas\n",
    "\n",
    "1. As part of the `@serve.deployment` argument to the decorator\n",
    "2. As part of `.options()` when deploying"
   ]
  },
  {
   "cell_type": "code",
   "execution_count": null,
   "id": "ef44352a-2be7-431c-be8c-5fc909569655",
   "metadata": {},
   "outputs": [],
   "source": [
    "# Method 1\n",
    "@serve.deployment(route_prefix=\"/regressor\". num_replicas=2)"
   ]
  },
  {
   "cell_type": "code",
   "execution_count": null,
   "id": "ba2a382b-611c-4c4b-b544-dbeb650bcab4",
   "metadata": {},
   "outputs": [],
   "source": [
    "# Method 2\n",
    "# Deploy our mod\n",
    "uri= ...\n",
    "BoostingModel.options(num_replicas=2).deploy(uri)"
   ]
  },
  {
   "cell_type": "code",
   "execution_count": null,
   "id": "7340a301-a6ee-4908-882b-80751db45ab0",
   "metadata": {},
   "outputs": [],
   "source": [
    "# add more samples from test data here\n",
    "sample_request_inputs = [\n",
    "    {\n",
    "    \"sepal length\": 5.1,\n",
    "    \"sepal width\": 3.5,\n",
    "    \"petal length\": 1.4,\n",
    "    \"petal width\": 0.2\n",
    "    },\n",
    "    {\n",
    "    \"sepal length\": 6.4,\n",
    "    \"sepal width\": 3.2,\n",
    "    \"petal length\": 4.5,\n",
    "    \"petal width\": 1.5},\n",
    "]"
   ]
  }
 ],
 "metadata": {
  "kernelspec": {
   "display_name": "Python 3 (ipykernel)",
   "language": "python",
   "name": "python3"
  },
  "language_info": {
   "codemirror_mode": {
    "name": "ipython",
    "version": 3
   },
   "file_extension": ".py",
   "mimetype": "text/x-python",
   "name": "python",
   "nbconvert_exporter": "python",
   "pygments_lexer": "ipython3",
   "version": "3.8.13"
  }
 },
 "nbformat": 4,
 "nbformat_minor": 5
}
