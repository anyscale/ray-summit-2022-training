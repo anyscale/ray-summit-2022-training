{
 "cells": [
  {
   "cell_type": "markdown",
   "id": "60aecca5-66a4-44e7-a803-51451017578a",
   "metadata": {
    "tags": []
   },
   "source": [
    "# Development to Production Workflow in Ray Serve\n",
    "\n",
    "© 2019-2022, Anyscale. All Rights Reserved\n",
    "\n",
    "\n",
    "📖 [Back to Table of Contents](./ex_00_tutorial_overview.ipynb)<br>\n",
    "⬅️ [Previous notebook](./ex_03_deployment_graph.ipynb) <br>\n",
    "\n",
    "### Learning Objective:\n",
    "In this tutorial, you will learn how to:\n",
    "\n",
    " * operationalize your model into production\n",
    " * run Serve interactively from a terminal\n",
    " * use the `serve` command-line interface (CLI) to update deployment configs \n",
    " * use the `serve` CLI to query and monitor model deployment status\n",
    "\n",
    "Now that you have learned about the fundamentals of Ray Serve and its deployment graph feature, let's take a look at how can you operate it in production. So far, the only API you've learned is calling `serve.run(node)` in Python to interactively deploy a deployment graph to a local Ray cluster.\n",
    "\n",
    "The main environment you will be working with will be the terminal instead of a notebook. The terminal will be the primary environment to perform operations in the production workflow.\n",
    "\n",
    "You can use the terminal in few ways:\n",
    "- Click the \"+\" button in the file browser and select \"Terminal\" in the launcher tab. This will create a terminal within the [Jupyter environment](https://jupyterlab.readthedocs.io/en/stable/user/terminal.html). \n",
    "- Switch back to your Anyscale cluster page and use the embedded terminal.\n",
    "- For a one-off command, you can prefix it with `!` and run it in a Python code cell in this notebook. This is not suitable for long-running commands that require `Ctrl+C` to exit, because it will block the execution of subsequent cells."
   ]
  },
  {
   "cell_type": "markdown",
   "id": "b25fa70a-4336-4560-aa52-eba16576c6e9",
   "metadata": {},
   "source": [
    "Once you have a environment, try running `serve --help` to list all available commands."
   ]
  },
  {
   "cell_type": "code",
   "execution_count": 4,
   "id": "28a223da-d09b-49d9-8780-d8a586500899",
   "metadata": {},
   "outputs": [
    {
     "name": "stdout",
     "output_type": "stream",
     "text": [
      "Usage: serve [OPTIONS] COMMAND [ARGS]...\n",
      "\n",
      "  CLI for managing Serve instances on a Ray cluster.\n",
      "\n",
      "Options:\n",
      "  --help  Show this message and exit.\n",
      "\n",
      "Commands:\n",
      "  build     Writes a Serve Deployment Graph's config file.\n",
      "  config    Get the current config of the running Serve app.\n",
      "  deploy    Deploy a Serve app from a YAML config file.\n",
      "  run       Run a Serve app.\n",
      "  shutdown  Deletes the Serve app.\n",
      "  start     Start a detached Serve instance on the Ray cluster.\n",
      "  status    Get the current status of the running Serve app.\n",
      "\u001b[0m"
     ]
    }
   ],
   "source": [
    "!serve --help"
   ]
  },
  {
   "cell_type": "markdown",
   "id": "29e938d7-7f29-4107-bd16-70f0470d80d8",
   "metadata": {},
   "source": [
    "Let's go over a typical development to production workflow. In particular, we will show:\n",
    "- How to use `serve run` to interactively develop and test your program.\n",
    "- How to use `serve build` to generate a YAML configuration file for production.\n",
    "- How to use `serve deploy` to deploy your application to remote Ray cluster, and use the same command to perform idempotent updates.\n",
    "- How to use `serve status` and `serve config` to inspect the current state and target state of your Serve application, respectively. \n",
    "\n",
    "These cover a typical production workflow from running to monitoring your application. In more detail:\n",
    "\n",
    "|Command|Effect|Stage|Called When|\n",
    "|---|---|---|---|\n",
    "|`run`|Interactively run a Serve app|Development|Each time you update the code|\n",
    "| `build`|Generate YAML configuration file|Development|One or few times before moving to production|\n",
    "| `deploy`|Deploy the Serve app to remote cluster|Production|One for every production update|\n",
    "| `status`|Inspect current state of the running Serve app|Both|Periodically or on demand|\n",
    "| `config`|Retrieve the desired config for the running Serve app|Both|Periodically or on demand|"
   ]
  },
  {
   "cell_type": "markdown",
   "id": "e3234c92-228e-4518-bfc5-932f293cb7db",
   "metadata": {},
   "source": [
    "## `serve run`: Interactively run a Serve app\n",
    "\n",
    "The first command is a equivalent CLI command that just calls the Python API `serve.run(node)` under the hood. This command is very useful when you develop as you can start the server in a terminal and query it side-by-side. "
   ]
  },
  {
   "cell_type": "code",
   "execution_count": 11,
   "id": "cb040b7b-8be3-4fa1-80e5-9abe2d13db44",
   "metadata": {},
   "outputs": [
    {
     "name": "stdout",
     "output_type": "stream",
     "text": [
      "Usage: serve run [OPTIONS] CONFIG_OR_IMPORT_PATH\n",
      "\n",
      "  Runs the Serve app from the specified import path or YAML config. Any import\n",
      "  path must lead to a FunctionNode or ClassNode object. By default, this will\n",
      "  block and periodically log status. If you Ctrl-C the command, it will tear\n",
      "  down the app.\n",
      "\n",
      "Options:\n",
      "  --runtime-env TEXT           Path to a local YAML file containing a\n",
      "                               runtime_env definition. This will be passed to\n",
      "                               ray.init() as the default for deployments.\n",
      "  --runtime-env-json TEXT      JSON-serialized runtime_env dictionary. This\n",
      "                               will be passed to ray.init() as the default for\n",
      "                               deployments.\n",
      "  --working-dir TEXT           Directory containing files that your job will\n",
      "                               run in. Can be a local directory or a remote\n",
      "                               URI to a .zip file (S3, GS, HTTP). This\n",
      "                               overrides the working_dir in --runtime-env if\n",
      "                               both are specified. This will be passed to\n",
      "                               ray.init() as the default for deployments.\n",
      "  -d, --app-dir TEXT           Local directory to look for the IMPORT_PATH\n",
      "                               (will be inserted into PYTHONPATH). Defaults to\n",
      "                               '.', meaning that an object in ./main.py can be\n",
      "                               imported as 'main.object'. Not relevant if\n",
      "                               you're importing from an installed module.\n",
      "  -a, --address TEXT           Address to use for ray.init(). Can also be\n",
      "                               specified using the RAY_ADDRESS environment\n",
      "                               variable.\n",
      "  -h, --host TEXT              Host for HTTP server to listen on. Defaults to\n",
      "                               127.0.0.1.\n",
      "  -p, --port INTEGER           Port for HTTP servers to listen on. Defaults to\n",
      "                               8000.\n",
      "  --blocking / --non-blocking  Whether or not this command should be blocking.\n",
      "                               If blocking, it will loop and log status until\n",
      "                               Ctrl-C'd, then clean up the app.\n",
      "  --help                       Show this message and exit.\n",
      "\u001b[0m"
     ]
    }
   ],
   "source": [
    "!serve run --help"
   ]
  },
  {
   "cell_type": "markdown",
   "id": "fe6b5b69-2848-4fff-9cf5-fff55722019b",
   "metadata": {},
   "source": [
    "Let's write our \"Hello, world!\" application."
   ]
  },
  {
   "cell_type": "code",
   "execution_count": 15,
   "id": "a20ee16e-82c7-4376-84e0-7e1d54f32cd4",
   "metadata": {},
   "outputs": [
    {
     "name": "stdout",
     "output_type": "stream",
     "text": [
      "Overwriting prod_examples/hello_world.py\n"
     ]
    }
   ],
   "source": [
    "%%writefile prod_examples/hello_world.py\n",
    "from ray import serve\n",
    "import starlette\n",
    "\n",
    "@serve.deployment\n",
    "def hello_world(request: starlette.requests.Request):\n",
    "    return f\"Hello, {request.query_params.get('name', 'Ray')}!\"\n",
    "\n",
    "app = hello_world.bind()"
   ]
  },
  {
   "cell_type": "markdown",
   "id": "ad2bcb06-577a-4d6f-8bad-2eaf002f2c98",
   "metadata": {},
   "source": [
    "Next, go to a terminal and run `serve run prod_examples.hello_world:app`. You should see output similar to the following:\n",
    "\n",
    "```console\n",
    "2022-08-15 23:36:18,605\tINFO scripts.py:294 -- Deploying from import path: \"prod_examples.hello_world:app\".\n",
    "2022-08-15 23:36:20,327\tINFO worker.py:1481 -- Started a local Ray instance. View the dashboard at http://127.0.0.1:8265.\n",
    "(ServeController pid=17067) INFO 2022-08-15 23:36:21,258 controller 17067 http_state.py:129 - Starting HTTP proxy with name 'SERVE_CONTROLLER_ACTOR:SERVE_PROXY_ACTOR-ad023f4d960fb94ad83734830acf137ece63aaa0d889d5d3f490160d' on node 'ad023f4d960fb94ad83734830acf137ece63aaa0d889d5d3f490160d' listening on '127.0.0.1:8000'\n",
    "(ServeController pid=17067) INFO 2022-08-15 23:36:21,672 controller 17067 deployment_state.py:1232 - Adding 1 replicas to deployment 'hello_world'.\n",
    "(HTTPProxyActor pid=17069) INFO:     Started server process [17069]\n",
    "2022-08-15 23:36:22,691\tSUCC scripts.py:307 -- Deployed successfully.\n",
    "```\n",
    "\n",
    "If we call the application using `curl http://localhost:8000\\?name\\=Summit`, logs will start to show up:\n",
    "```console\n",
    "(HTTPProxyActor pid=17323) INFO 2022-08-15 23:37:39,506 http_proxy 127.0.0.1 http_proxy.py:315 - POST / 200 4.2ms\n",
    "(ServeReplica:hello_world pid=17327) INFO 2022-08-15 23:37:39,505 hello_world hello_world#BncTya replica.py:482 - HANDLE __call__ OK 0.3ms\n",
    "(HTTPProxyActor pid=17323) INFO 2022-08-15 23:37:42,670 http_proxy 127.0.0.1 http_proxy.py:315 - POST / 200 2.0ms\n",
    "(ServeReplica:hello_world pid=17327) INFO 2022-08-15 23:37:42,669 hello_world hello_world#BncTya replica.py:482 - HANDLE __call__ OK 0.1ms\n",
    "```"
   ]
  },
  {
   "cell_type": "markdown",
   "id": "9ea00226-604e-4e26-a5c9-d7671e7fba9d",
   "metadata": {},
   "source": [
    "`serve run` is a convenient, oftentimes preferred, tool for interactively developing your application."
   ]
  },
  {
   "cell_type": "markdown",
   "id": "38ba8315-2682-4670-8692-1abdcbb2ee56",
   "metadata": {},
   "source": [
    "## `serve build`: generate a config file for a Serve application.\n",
    "\n",
    "For the rest of this tutorial, we will use the following Serve application as a working example.\n",
    "\n",
    "The application takes in requests containing a list of two values, a fruit name and an amount, and returns the total price for the batch of fruits.\n",
    "\n",
    "The file is saved in `prod_examples/fruit.py` and rendered here."
   ]
  },
  {
   "cell_type": "code",
   "execution_count": 22,
   "id": "a5df8ff2-ae42-4cf7-b3a1-10364bbf0b5a",
   "metadata": {},
   "outputs": [
    {
     "name": "stdout",
     "output_type": "stream",
     "text": [
      "Object `prod_examples/fruit.py` not found.\n"
     ]
    },
    {
     "data": {
      "text/plain": [
       "\u001b[0;32mimport\u001b[0m \u001b[0mray\u001b[0m\u001b[0;34m\u001b[0m\n",
       "\u001b[0;34m\u001b[0m\u001b[0;32mfrom\u001b[0m \u001b[0mray\u001b[0m \u001b[0;32mimport\u001b[0m \u001b[0mserve\u001b[0m\u001b[0;34m\u001b[0m\n",
       "\u001b[0;34m\u001b[0m\u001b[0;32mfrom\u001b[0m \u001b[0mray\u001b[0m\u001b[0;34m.\u001b[0m\u001b[0mserve\u001b[0m\u001b[0;34m.\u001b[0m\u001b[0mdrivers\u001b[0m \u001b[0;32mimport\u001b[0m \u001b[0mDAGDriver\u001b[0m\u001b[0;34m\u001b[0m\n",
       "\u001b[0;34m\u001b[0m\u001b[0;32mfrom\u001b[0m \u001b[0mray\u001b[0m\u001b[0;34m.\u001b[0m\u001b[0mserve\u001b[0m\u001b[0;34m.\u001b[0m\u001b[0mdeployment_graph\u001b[0m \u001b[0;32mimport\u001b[0m \u001b[0mInputNode\u001b[0m\u001b[0;34m\u001b[0m\n",
       "\u001b[0;34m\u001b[0m\u001b[0;32mfrom\u001b[0m \u001b[0mray\u001b[0m\u001b[0;34m.\u001b[0m\u001b[0mserve\u001b[0m\u001b[0;34m.\u001b[0m\u001b[0mhandle\u001b[0m \u001b[0;32mimport\u001b[0m \u001b[0mRayServeDeploymentHandle\u001b[0m\u001b[0;34m\u001b[0m\n",
       "\u001b[0;34m\u001b[0m\u001b[0;32mfrom\u001b[0m \u001b[0mray\u001b[0m\u001b[0;34m.\u001b[0m\u001b[0mserve\u001b[0m\u001b[0;34m.\u001b[0m\u001b[0mhttp_adapters\u001b[0m \u001b[0;32mimport\u001b[0m \u001b[0mjson_request\u001b[0m\u001b[0;34m\u001b[0m\n",
       "\u001b[0;34m\u001b[0m\u001b[0;34m\u001b[0m\n",
       "\u001b[0;34m\u001b[0m\u001b[0;31m# These imports are used only for type hints:\u001b[0m\u001b[0;34m\u001b[0m\n",
       "\u001b[0;34m\u001b[0m\u001b[0;32mfrom\u001b[0m \u001b[0mtyping\u001b[0m \u001b[0;32mimport\u001b[0m \u001b[0mDict\u001b[0m\u001b[0;34m,\u001b[0m \u001b[0mList\u001b[0m\u001b[0;34m\u001b[0m\n",
       "\u001b[0;34m\u001b[0m\u001b[0;32mfrom\u001b[0m \u001b[0mstarlette\u001b[0m\u001b[0;34m.\u001b[0m\u001b[0mrequests\u001b[0m \u001b[0;32mimport\u001b[0m \u001b[0mRequest\u001b[0m\u001b[0;34m\u001b[0m\n",
       "\u001b[0;34m\u001b[0m\u001b[0;34m\u001b[0m\n",
       "\u001b[0;34m\u001b[0m\u001b[0;34m\u001b[0m\n",
       "\u001b[0;34m\u001b[0m\u001b[0;34m@\u001b[0m\u001b[0mserve\u001b[0m\u001b[0;34m.\u001b[0m\u001b[0mdeployment\u001b[0m\u001b[0;34m(\u001b[0m\u001b[0mnum_replicas\u001b[0m\u001b[0;34m=\u001b[0m\u001b[0;36m2\u001b[0m\u001b[0;34m)\u001b[0m\u001b[0;34m\u001b[0m\n",
       "\u001b[0;34m\u001b[0m\u001b[0;32mclass\u001b[0m \u001b[0mFruitMarket\u001b[0m\u001b[0;34m:\u001b[0m\u001b[0;34m\u001b[0m\n",
       "\u001b[0;34m\u001b[0m    \u001b[0;32mdef\u001b[0m \u001b[0m__init__\u001b[0m\u001b[0;34m(\u001b[0m\u001b[0;34m\u001b[0m\n",
       "\u001b[0;34m\u001b[0m        \u001b[0mself\u001b[0m\u001b[0;34m,\u001b[0m\u001b[0;34m\u001b[0m\n",
       "\u001b[0;34m\u001b[0m        \u001b[0mmango_stand\u001b[0m\u001b[0;34m:\u001b[0m \u001b[0mRayServeDeploymentHandle\u001b[0m\u001b[0;34m,\u001b[0m\u001b[0;34m\u001b[0m\n",
       "\u001b[0;34m\u001b[0m        \u001b[0morange_stand\u001b[0m\u001b[0;34m:\u001b[0m \u001b[0mRayServeDeploymentHandle\u001b[0m\u001b[0;34m,\u001b[0m\u001b[0;34m\u001b[0m\n",
       "\u001b[0;34m\u001b[0m        \u001b[0mpear_stand\u001b[0m\u001b[0;34m:\u001b[0m \u001b[0mRayServeDeploymentHandle\u001b[0m\u001b[0;34m,\u001b[0m\u001b[0;34m\u001b[0m\n",
       "\u001b[0;34m\u001b[0m    \u001b[0;34m)\u001b[0m\u001b[0;34m:\u001b[0m\u001b[0;34m\u001b[0m\n",
       "\u001b[0;34m\u001b[0m        \u001b[0mself\u001b[0m\u001b[0;34m.\u001b[0m\u001b[0mdirectory\u001b[0m \u001b[0;34m=\u001b[0m \u001b[0;34m{\u001b[0m\u001b[0;34m\u001b[0m\n",
       "\u001b[0;34m\u001b[0m            \u001b[0;34m\"MANGO\"\u001b[0m\u001b[0;34m:\u001b[0m \u001b[0mmango_stand\u001b[0m\u001b[0;34m,\u001b[0m\u001b[0;34m\u001b[0m\n",
       "\u001b[0;34m\u001b[0m            \u001b[0;34m\"ORANGE\"\u001b[0m\u001b[0;34m:\u001b[0m \u001b[0morange_stand\u001b[0m\u001b[0;34m,\u001b[0m\u001b[0;34m\u001b[0m\n",
       "\u001b[0;34m\u001b[0m            \u001b[0;34m\"PEAR\"\u001b[0m\u001b[0;34m:\u001b[0m \u001b[0mpear_stand\u001b[0m\u001b[0;34m,\u001b[0m\u001b[0;34m\u001b[0m\n",
       "\u001b[0;34m\u001b[0m        \u001b[0;34m}\u001b[0m\u001b[0;34m\u001b[0m\n",
       "\u001b[0;34m\u001b[0m\u001b[0;34m\u001b[0m\n",
       "\u001b[0;34m\u001b[0m    \u001b[0;32masync\u001b[0m \u001b[0;32mdef\u001b[0m \u001b[0mcheck_price\u001b[0m\u001b[0;34m(\u001b[0m\u001b[0mself\u001b[0m\u001b[0;34m,\u001b[0m \u001b[0mfruit\u001b[0m\u001b[0;34m:\u001b[0m \u001b[0mstr\u001b[0m\u001b[0;34m,\u001b[0m \u001b[0mamount\u001b[0m\u001b[0;34m:\u001b[0m \u001b[0mfloat\u001b[0m\u001b[0;34m)\u001b[0m \u001b[0;34m->\u001b[0m \u001b[0mfloat\u001b[0m\u001b[0;34m:\u001b[0m\u001b[0;34m\u001b[0m\n",
       "\u001b[0;34m\u001b[0m        \u001b[0;32mif\u001b[0m \u001b[0mfruit\u001b[0m \u001b[0;32mnot\u001b[0m \u001b[0;32min\u001b[0m \u001b[0mself\u001b[0m\u001b[0;34m.\u001b[0m\u001b[0mdirectory\u001b[0m\u001b[0;34m:\u001b[0m\u001b[0;34m\u001b[0m\n",
       "\u001b[0;34m\u001b[0m            \u001b[0;32mreturn\u001b[0m \u001b[0;34m-\u001b[0m\u001b[0;36m1\u001b[0m\u001b[0;34m\u001b[0m\n",
       "\u001b[0;34m\u001b[0m        \u001b[0;32melse\u001b[0m\u001b[0;34m:\u001b[0m\u001b[0;34m\u001b[0m\n",
       "\u001b[0;34m\u001b[0m            \u001b[0mfruit_stand\u001b[0m \u001b[0;34m=\u001b[0m \u001b[0mself\u001b[0m\u001b[0;34m.\u001b[0m\u001b[0mdirectory\u001b[0m\u001b[0;34m[\u001b[0m\u001b[0mfruit\u001b[0m\u001b[0;34m]\u001b[0m\u001b[0;34m\u001b[0m\n",
       "\u001b[0;34m\u001b[0m            \u001b[0mref\u001b[0m\u001b[0;34m:\u001b[0m \u001b[0mray\u001b[0m\u001b[0;34m.\u001b[0m\u001b[0mObjectRef\u001b[0m \u001b[0;34m=\u001b[0m \u001b[0;32mawait\u001b[0m \u001b[0mfruit_stand\u001b[0m\u001b[0;34m.\u001b[0m\u001b[0mcheck_price\u001b[0m\u001b[0;34m.\u001b[0m\u001b[0mremote\u001b[0m\u001b[0;34m(\u001b[0m\u001b[0mamount\u001b[0m\u001b[0;34m)\u001b[0m\u001b[0;34m\u001b[0m\n",
       "\u001b[0;34m\u001b[0m            \u001b[0mresult\u001b[0m \u001b[0;34m=\u001b[0m \u001b[0;32mawait\u001b[0m \u001b[0mref\u001b[0m\u001b[0;34m\u001b[0m\n",
       "\u001b[0;34m\u001b[0m            \u001b[0;32mreturn\u001b[0m \u001b[0mresult\u001b[0m\u001b[0;34m\u001b[0m\n",
       "\u001b[0;34m\u001b[0m\u001b[0;34m\u001b[0m\n",
       "\u001b[0;34m\u001b[0m\u001b[0;34m\u001b[0m\n",
       "\u001b[0;34m\u001b[0m\u001b[0;34m@\u001b[0m\u001b[0mserve\u001b[0m\u001b[0;34m.\u001b[0m\u001b[0mdeployment\u001b[0m\u001b[0;34m(\u001b[0m\u001b[0muser_config\u001b[0m\u001b[0;34m=\u001b[0m\u001b[0;34m{\u001b[0m\u001b[0;34m\"price\"\u001b[0m\u001b[0;34m:\u001b[0m \u001b[0;36m3\u001b[0m\u001b[0;34m}\u001b[0m\u001b[0;34m)\u001b[0m\u001b[0;34m\u001b[0m\n",
       "\u001b[0;34m\u001b[0m\u001b[0;32mclass\u001b[0m \u001b[0mMangoStand\u001b[0m\u001b[0;34m:\u001b[0m\u001b[0;34m\u001b[0m\n",
       "\u001b[0;34m\u001b[0m\u001b[0;34m\u001b[0m\n",
       "\u001b[0;34m\u001b[0m    \u001b[0mDEFAULT_PRICE\u001b[0m \u001b[0;34m=\u001b[0m \u001b[0;36m1\u001b[0m\u001b[0;34m\u001b[0m\n",
       "\u001b[0;34m\u001b[0m\u001b[0;34m\u001b[0m\n",
       "\u001b[0;34m\u001b[0m    \u001b[0;32mdef\u001b[0m \u001b[0m__init__\u001b[0m\u001b[0;34m(\u001b[0m\u001b[0mself\u001b[0m\u001b[0;34m)\u001b[0m\u001b[0;34m:\u001b[0m\u001b[0;34m\u001b[0m\n",
       "\u001b[0;34m\u001b[0m        \u001b[0;31m# This default price is overwritten by the one specified in the\u001b[0m\u001b[0;34m\u001b[0m\n",
       "\u001b[0;34m\u001b[0m        \u001b[0;31m# user_config through the reconfigure() method.\u001b[0m\u001b[0;34m\u001b[0m\n",
       "\u001b[0;34m\u001b[0m        \u001b[0mself\u001b[0m\u001b[0;34m.\u001b[0m\u001b[0mprice\u001b[0m \u001b[0;34m=\u001b[0m \u001b[0mself\u001b[0m\u001b[0;34m.\u001b[0m\u001b[0mDEFAULT_PRICE\u001b[0m\u001b[0;34m\u001b[0m\n",
       "\u001b[0;34m\u001b[0m\u001b[0;34m\u001b[0m\n",
       "\u001b[0;34m\u001b[0m    \u001b[0;32mdef\u001b[0m \u001b[0mreconfigure\u001b[0m\u001b[0;34m(\u001b[0m\u001b[0mself\u001b[0m\u001b[0;34m,\u001b[0m \u001b[0mconfig\u001b[0m\u001b[0;34m:\u001b[0m \u001b[0mDict\u001b[0m\u001b[0;34m)\u001b[0m\u001b[0;34m:\u001b[0m\u001b[0;34m\u001b[0m\n",
       "\u001b[0;34m\u001b[0m        \u001b[0mself\u001b[0m\u001b[0;34m.\u001b[0m\u001b[0mprice\u001b[0m \u001b[0;34m=\u001b[0m \u001b[0mconfig\u001b[0m\u001b[0;34m.\u001b[0m\u001b[0mget\u001b[0m\u001b[0;34m(\u001b[0m\u001b[0;34m\"price\"\u001b[0m\u001b[0;34m,\u001b[0m \u001b[0mself\u001b[0m\u001b[0;34m.\u001b[0m\u001b[0mDEFAULT_PRICE\u001b[0m\u001b[0;34m)\u001b[0m\u001b[0;34m\u001b[0m\n",
       "\u001b[0;34m\u001b[0m\u001b[0;34m\u001b[0m\n",
       "\u001b[0;34m\u001b[0m    \u001b[0;32mdef\u001b[0m \u001b[0mcheck_price\u001b[0m\u001b[0;34m(\u001b[0m\u001b[0mself\u001b[0m\u001b[0;34m,\u001b[0m \u001b[0mamount\u001b[0m\u001b[0;34m:\u001b[0m \u001b[0mfloat\u001b[0m\u001b[0;34m)\u001b[0m \u001b[0;34m->\u001b[0m \u001b[0mfloat\u001b[0m\u001b[0;34m:\u001b[0m\u001b[0;34m\u001b[0m\n",
       "\u001b[0;34m\u001b[0m        \u001b[0;32mreturn\u001b[0m \u001b[0mself\u001b[0m\u001b[0;34m.\u001b[0m\u001b[0mprice\u001b[0m \u001b[0;34m*\u001b[0m \u001b[0mamount\u001b[0m\u001b[0;34m\u001b[0m\n",
       "\u001b[0;34m\u001b[0m\u001b[0;34m\u001b[0m\n",
       "\u001b[0;34m\u001b[0m\u001b[0;34m\u001b[0m\n",
       "\u001b[0;34m\u001b[0m\u001b[0;34m@\u001b[0m\u001b[0mserve\u001b[0m\u001b[0;34m.\u001b[0m\u001b[0mdeployment\u001b[0m\u001b[0;34m(\u001b[0m\u001b[0muser_config\u001b[0m\u001b[0;34m=\u001b[0m\u001b[0;34m{\u001b[0m\u001b[0;34m\"price\"\u001b[0m\u001b[0;34m:\u001b[0m \u001b[0;36m2\u001b[0m\u001b[0;34m}\u001b[0m\u001b[0;34m)\u001b[0m\u001b[0;34m\u001b[0m\n",
       "\u001b[0;34m\u001b[0m\u001b[0;32mclass\u001b[0m \u001b[0mOrangeStand\u001b[0m\u001b[0;34m:\u001b[0m\u001b[0;34m\u001b[0m\n",
       "\u001b[0;34m\u001b[0m\u001b[0;34m\u001b[0m\n",
       "\u001b[0;34m\u001b[0m    \u001b[0mDEFAULT_PRICE\u001b[0m \u001b[0;34m=\u001b[0m \u001b[0;36m0.5\u001b[0m\u001b[0;34m\u001b[0m\n",
       "\u001b[0;34m\u001b[0m\u001b[0;34m\u001b[0m\n",
       "\u001b[0;34m\u001b[0m    \u001b[0;32mdef\u001b[0m \u001b[0m__init__\u001b[0m\u001b[0;34m(\u001b[0m\u001b[0mself\u001b[0m\u001b[0;34m)\u001b[0m\u001b[0;34m:\u001b[0m\u001b[0;34m\u001b[0m\n",
       "\u001b[0;34m\u001b[0m        \u001b[0;31m# This default price is overwritten by the one specified in the\u001b[0m\u001b[0;34m\u001b[0m\n",
       "\u001b[0;34m\u001b[0m        \u001b[0;31m# user_config through the reconfigure() method.\u001b[0m\u001b[0;34m\u001b[0m\n",
       "\u001b[0;34m\u001b[0m        \u001b[0mself\u001b[0m\u001b[0;34m.\u001b[0m\u001b[0mprice\u001b[0m \u001b[0;34m=\u001b[0m \u001b[0mself\u001b[0m\u001b[0;34m.\u001b[0m\u001b[0mDEFAULT_PRICE\u001b[0m\u001b[0;34m\u001b[0m\n",
       "\u001b[0;34m\u001b[0m\u001b[0;34m\u001b[0m\n",
       "\u001b[0;34m\u001b[0m    \u001b[0;32mdef\u001b[0m \u001b[0mreconfigure\u001b[0m\u001b[0;34m(\u001b[0m\u001b[0mself\u001b[0m\u001b[0;34m,\u001b[0m \u001b[0mconfig\u001b[0m\u001b[0;34m:\u001b[0m \u001b[0mDict\u001b[0m\u001b[0;34m)\u001b[0m\u001b[0;34m:\u001b[0m\u001b[0;34m\u001b[0m\n",
       "\u001b[0;34m\u001b[0m        \u001b[0mself\u001b[0m\u001b[0;34m.\u001b[0m\u001b[0mprice\u001b[0m \u001b[0;34m=\u001b[0m \u001b[0mconfig\u001b[0m\u001b[0;34m.\u001b[0m\u001b[0mget\u001b[0m\u001b[0;34m(\u001b[0m\u001b[0;34m\"price\"\u001b[0m\u001b[0;34m,\u001b[0m \u001b[0mself\u001b[0m\u001b[0;34m.\u001b[0m\u001b[0mDEFAULT_PRICE\u001b[0m\u001b[0;34m)\u001b[0m\u001b[0;34m\u001b[0m\n",
       "\u001b[0;34m\u001b[0m\u001b[0;34m\u001b[0m\n",
       "\u001b[0;34m\u001b[0m    \u001b[0;32mdef\u001b[0m \u001b[0mcheck_price\u001b[0m\u001b[0;34m(\u001b[0m\u001b[0mself\u001b[0m\u001b[0;34m,\u001b[0m \u001b[0mamount\u001b[0m\u001b[0;34m:\u001b[0m \u001b[0mfloat\u001b[0m\u001b[0;34m)\u001b[0m \u001b[0;34m->\u001b[0m \u001b[0mfloat\u001b[0m\u001b[0;34m:\u001b[0m\u001b[0;34m\u001b[0m\n",
       "\u001b[0;34m\u001b[0m        \u001b[0;32mreturn\u001b[0m \u001b[0mself\u001b[0m\u001b[0;34m.\u001b[0m\u001b[0mprice\u001b[0m \u001b[0;34m*\u001b[0m \u001b[0mamount\u001b[0m\u001b[0;34m\u001b[0m\n",
       "\u001b[0;34m\u001b[0m\u001b[0;34m\u001b[0m\n",
       "\u001b[0;34m\u001b[0m\u001b[0;34m\u001b[0m\n",
       "\u001b[0;34m\u001b[0m\u001b[0;34m@\u001b[0m\u001b[0mserve\u001b[0m\u001b[0;34m.\u001b[0m\u001b[0mdeployment\u001b[0m\u001b[0;34m(\u001b[0m\u001b[0muser_config\u001b[0m\u001b[0;34m=\u001b[0m\u001b[0;34m{\u001b[0m\u001b[0;34m\"price\"\u001b[0m\u001b[0;34m:\u001b[0m \u001b[0;36m4\u001b[0m\u001b[0;34m}\u001b[0m\u001b[0;34m)\u001b[0m\u001b[0;34m\u001b[0m\n",
       "\u001b[0;34m\u001b[0m\u001b[0;32mclass\u001b[0m \u001b[0mPearStand\u001b[0m\u001b[0;34m:\u001b[0m\u001b[0;34m\u001b[0m\n",
       "\u001b[0;34m\u001b[0m\u001b[0;34m\u001b[0m\n",
       "\u001b[0;34m\u001b[0m    \u001b[0mDEFAULT_PRICE\u001b[0m \u001b[0;34m=\u001b[0m \u001b[0;36m0.75\u001b[0m\u001b[0;34m\u001b[0m\n",
       "\u001b[0;34m\u001b[0m\u001b[0;34m\u001b[0m\n",
       "\u001b[0;34m\u001b[0m    \u001b[0;32mdef\u001b[0m \u001b[0m__init__\u001b[0m\u001b[0;34m(\u001b[0m\u001b[0mself\u001b[0m\u001b[0;34m)\u001b[0m\u001b[0;34m:\u001b[0m\u001b[0;34m\u001b[0m\n",
       "\u001b[0;34m\u001b[0m        \u001b[0;31m# This default price is overwritten by the one specified in the\u001b[0m\u001b[0;34m\u001b[0m\n",
       "\u001b[0;34m\u001b[0m        \u001b[0;31m# user_config through the reconfigure() method.\u001b[0m\u001b[0;34m\u001b[0m\n",
       "\u001b[0;34m\u001b[0m        \u001b[0mself\u001b[0m\u001b[0;34m.\u001b[0m\u001b[0mprice\u001b[0m \u001b[0;34m=\u001b[0m \u001b[0mself\u001b[0m\u001b[0;34m.\u001b[0m\u001b[0mDEFAULT_PRICE\u001b[0m\u001b[0;34m\u001b[0m\n",
       "\u001b[0;34m\u001b[0m\u001b[0;34m\u001b[0m\n",
       "\u001b[0;34m\u001b[0m    \u001b[0;32mdef\u001b[0m \u001b[0mreconfigure\u001b[0m\u001b[0;34m(\u001b[0m\u001b[0mself\u001b[0m\u001b[0;34m,\u001b[0m \u001b[0mconfig\u001b[0m\u001b[0;34m:\u001b[0m \u001b[0mDict\u001b[0m\u001b[0;34m)\u001b[0m\u001b[0;34m:\u001b[0m\u001b[0;34m\u001b[0m\n",
       "\u001b[0;34m\u001b[0m        \u001b[0mself\u001b[0m\u001b[0;34m.\u001b[0m\u001b[0mprice\u001b[0m \u001b[0;34m=\u001b[0m \u001b[0mconfig\u001b[0m\u001b[0;34m.\u001b[0m\u001b[0mget\u001b[0m\u001b[0;34m(\u001b[0m\u001b[0;34m\"price\"\u001b[0m\u001b[0;34m,\u001b[0m \u001b[0mself\u001b[0m\u001b[0;34m.\u001b[0m\u001b[0mDEFAULT_PRICE\u001b[0m\u001b[0;34m)\u001b[0m\u001b[0;34m\u001b[0m\n",
       "\u001b[0;34m\u001b[0m\u001b[0;34m\u001b[0m\n",
       "\u001b[0;34m\u001b[0m    \u001b[0;32mdef\u001b[0m \u001b[0mcheck_price\u001b[0m\u001b[0;34m(\u001b[0m\u001b[0mself\u001b[0m\u001b[0;34m,\u001b[0m \u001b[0mamount\u001b[0m\u001b[0;34m:\u001b[0m \u001b[0mfloat\u001b[0m\u001b[0;34m)\u001b[0m \u001b[0;34m->\u001b[0m \u001b[0mfloat\u001b[0m\u001b[0;34m:\u001b[0m\u001b[0;34m\u001b[0m\n",
       "\u001b[0;34m\u001b[0m        \u001b[0;32mreturn\u001b[0m \u001b[0mself\u001b[0m\u001b[0;34m.\u001b[0m\u001b[0mprice\u001b[0m \u001b[0;34m*\u001b[0m \u001b[0mamount\u001b[0m\u001b[0;34m\u001b[0m\n",
       "\u001b[0;34m\u001b[0m\u001b[0;34m\u001b[0m\n",
       "\u001b[0;34m\u001b[0m\u001b[0;34m\u001b[0m\n",
       "\u001b[0;34m\u001b[0m\u001b[0;32masync\u001b[0m \u001b[0;32mdef\u001b[0m \u001b[0mjson_resolver\u001b[0m\u001b[0;34m(\u001b[0m\u001b[0mrequest\u001b[0m\u001b[0;34m:\u001b[0m \u001b[0mRequest\u001b[0m\u001b[0;34m)\u001b[0m \u001b[0;34m->\u001b[0m \u001b[0mList\u001b[0m\u001b[0;34m:\u001b[0m\u001b[0;34m\u001b[0m\n",
       "\u001b[0;34m\u001b[0m    \u001b[0;32mreturn\u001b[0m \u001b[0;32mawait\u001b[0m \u001b[0mrequest\u001b[0m\u001b[0;34m.\u001b[0m\u001b[0mjson\u001b[0m\u001b[0;34m(\u001b[0m\u001b[0;34m)\u001b[0m\u001b[0;34m\u001b[0m\n",
       "\u001b[0;34m\u001b[0m\u001b[0;34m\u001b[0m\n",
       "\u001b[0;34m\u001b[0m\u001b[0;34m\u001b[0m\n",
       "\u001b[0;34m\u001b[0m\u001b[0;32mwith\u001b[0m \u001b[0mInputNode\u001b[0m\u001b[0;34m(\u001b[0m\u001b[0;34m)\u001b[0m \u001b[0;32mas\u001b[0m \u001b[0mquery\u001b[0m\u001b[0;34m:\u001b[0m\u001b[0;34m\u001b[0m\n",
       "\u001b[0;34m\u001b[0m    \u001b[0mfruit\u001b[0m\u001b[0;34m,\u001b[0m \u001b[0mamount\u001b[0m \u001b[0;34m=\u001b[0m \u001b[0mquery\u001b[0m\u001b[0;34m[\u001b[0m\u001b[0;36m0\u001b[0m\u001b[0;34m]\u001b[0m\u001b[0;34m,\u001b[0m \u001b[0mquery\u001b[0m\u001b[0;34m[\u001b[0m\u001b[0;36m1\u001b[0m\u001b[0;34m]\u001b[0m\u001b[0;34m\u001b[0m\n",
       "\u001b[0;34m\u001b[0m\u001b[0;34m\u001b[0m\n",
       "\u001b[0;34m\u001b[0m    \u001b[0mmango_stand\u001b[0m \u001b[0;34m=\u001b[0m \u001b[0mMangoStand\u001b[0m\u001b[0;34m.\u001b[0m\u001b[0mbind\u001b[0m\u001b[0;34m(\u001b[0m\u001b[0;34m)\u001b[0m\u001b[0;34m\u001b[0m\n",
       "\u001b[0;34m\u001b[0m    \u001b[0morange_stand\u001b[0m \u001b[0;34m=\u001b[0m \u001b[0mOrangeStand\u001b[0m\u001b[0;34m.\u001b[0m\u001b[0mbind\u001b[0m\u001b[0;34m(\u001b[0m\u001b[0;34m)\u001b[0m\u001b[0;34m\u001b[0m\n",
       "\u001b[0;34m\u001b[0m    \u001b[0mpear_stand\u001b[0m \u001b[0;34m=\u001b[0m \u001b[0mPearStand\u001b[0m\u001b[0;34m.\u001b[0m\u001b[0mbind\u001b[0m\u001b[0;34m(\u001b[0m\u001b[0;34m)\u001b[0m\u001b[0;34m\u001b[0m\n",
       "\u001b[0;34m\u001b[0m\u001b[0;34m\u001b[0m\n",
       "\u001b[0;34m\u001b[0m    \u001b[0mfruit_market\u001b[0m \u001b[0;34m=\u001b[0m \u001b[0mFruitMarket\u001b[0m\u001b[0;34m.\u001b[0m\u001b[0mbind\u001b[0m\u001b[0;34m(\u001b[0m\u001b[0mmango_stand\u001b[0m\u001b[0;34m,\u001b[0m \u001b[0morange_stand\u001b[0m\u001b[0;34m,\u001b[0m \u001b[0mpear_stand\u001b[0m\u001b[0;34m)\u001b[0m\u001b[0;34m\u001b[0m\n",
       "\u001b[0;34m\u001b[0m\u001b[0;34m\u001b[0m\n",
       "\u001b[0;34m\u001b[0m    \u001b[0mnet_price\u001b[0m \u001b[0;34m=\u001b[0m \u001b[0mfruit_market\u001b[0m\u001b[0;34m.\u001b[0m\u001b[0mcheck_price\u001b[0m\u001b[0;34m.\u001b[0m\u001b[0mbind\u001b[0m\u001b[0;34m(\u001b[0m\u001b[0mfruit\u001b[0m\u001b[0;34m,\u001b[0m \u001b[0mamount\u001b[0m\u001b[0;34m)\u001b[0m\u001b[0;34m\u001b[0m\n",
       "\u001b[0;34m\u001b[0m\u001b[0;34m\u001b[0m\n",
       "\u001b[0;34m\u001b[0m\u001b[0mdeployment_graph\u001b[0m \u001b[0;34m=\u001b[0m \u001b[0mDAGDriver\u001b[0m\u001b[0;34m.\u001b[0m\u001b[0mbind\u001b[0m\u001b[0;34m(\u001b[0m\u001b[0mnet_price\u001b[0m\u001b[0;34m,\u001b[0m \u001b[0mhttp_adapter\u001b[0m\u001b[0;34m=\u001b[0m\u001b[0mjson_request\u001b[0m\u001b[0;34m)\u001b[0m\u001b[0;34m\u001b[0m\u001b[0;34m\u001b[0m\u001b[0m\n"
      ]
     },
     "metadata": {},
     "output_type": "display_data"
    }
   ],
   "source": [
    "%pfile prod_examples/fruit.py"
   ]
  },
  {
   "cell_type": "markdown",
   "id": "76f29d86-51db-467d-97cc-bd7014424eea",
   "metadata": {},
   "source": [
    "Serve supports configuring your application through a YAML file. It is important to know that *your code* is still the ground truth and describes the end to end dataflow. However, the YAML configuration allows you to apply updates to the desired state of the application. \n",
    "\n",
    "Let's take a look at the YAML file built by the `serve build` command."
   ]
  },
  {
   "cell_type": "code",
   "execution_count": 25,
   "id": "ddd04099-5372-4d1e-b013-5136556bcf3b",
   "metadata": {},
   "outputs": [
    {
     "name": "stdout",
     "output_type": "stream",
     "text": [
      "Usage: serve build [OPTIONS] IMPORT_PATH\n",
      "\n",
      "  Imports the ClassNode or FunctionNode at IMPORT_PATH and generates a\n",
      "  structured config for it that can be used by `serve deploy` or the REST API.\n",
      "\n",
      "Options:\n",
      "  -d, --app-dir TEXT      Local directory to look for the IMPORT_PATH (will be\n",
      "                          inserted into PYTHONPATH). Defaults to '.', meaning\n",
      "                          that an object in ./main.py can be imported as\n",
      "                          'main.object'. Not relevant if you're importing from\n",
      "                          an installed module.\n",
      "  -o, --output-path TEXT  Local path where the output config will be written\n",
      "                          in YAML format. If not provided, the config will be\n",
      "                          printed to STDOUT.\n",
      "  --help                  Show this message and exit.\n",
      "\u001b[0m"
     ]
    }
   ],
   "source": [
    "!serve build --help"
   ]
  },
  {
   "cell_type": "code",
   "execution_count": 24,
   "id": "09589925-9ba2-478a-bdf9-25d5d107bd3b",
   "metadata": {},
   "outputs": [
    {
     "name": "stdout",
     "output_type": "stream",
     "text": [
      "# This file was generated using the `serve build` command on Ray v2.0.0rc1.\n",
      "\n",
      "import_path: prod_examples.fruit:deployment_graph\n",
      "\n",
      "runtime_env: {}\n",
      "\n",
      "deployments:\n",
      "\n",
      "- name: MangoStand\n",
      "  num_replicas: 1\n",
      "  route_prefix: null\n",
      "  max_concurrent_queries: 100\n",
      "  user_config:\n",
      "    price: 3\n",
      "  autoscaling_config: null\n",
      "  graceful_shutdown_wait_loop_s: 2.0\n",
      "  graceful_shutdown_timeout_s: 20.0\n",
      "  health_check_period_s: 10.0\n",
      "  health_check_timeout_s: 30.0\n",
      "  ray_actor_options: null\n"
     ]
    }
   ],
   "source": [
    "!serve build prod_examples.fruit:deployment_graph | head -n 20"
   ]
  },
  {
   "cell_type": "markdown",
   "id": "040ddd15-f374-498a-832d-4caef222365a",
   "metadata": {},
   "source": [
    "Taking a closer look at the YAML file, you might have noticed a simple structure:\n",
    "\n",
    "```yaml\n",
    "import_path: ...\n",
    "runtime_env: ...\n",
    "deployments:\n",
    "    - name: ...\n",
    "      num_replicas: ...\n",
    "      ...\n",
    "    - name:\n",
    "      ...\n",
    "    ...\n",
    "```\n",
    "\n",
    "The file contains the following fields:\n",
    "\n",
    "- An `import_path`, which is the path to your top-level bound Serve deployment (or the same path passed to `serve run`). The most minimal config file consists of only an `import_path`.\n",
    "- A `runtime_env` that defines the environment that the application will run in. Note that the file specified by `import_path` must be available _within_ the `working_dir` directory of the `runtime_env` if it's specified.\n",
    "- A list of `deployments`. This is optional and allows you to override the `@serve.deployment` settings specified in the deployment graph code. Each entry in this list must include the deployment `name`, which must match the one in the code. If this section is omitted, Serve launches all deployments in the graph with the settings specified in the code.\n",
    "\n",
    "\n",
    "The file uses the same `fruit:deployment_graph` import path that was used with `serve run` and it has five entries in the `deployments` list—one for each deployment. All the entries contain a `name` setting and some other configuration options such as `num_replicas` or `user_config`.\n",
    "\n",
    "Each individual entry in the `deployments` list is optional. In the example config file above, we could omit the `PearStand`, including its `name` and `user_config`, and the file would still be valid. When we deploy the file, the `PearStand` deployment will still be deployed, using the configurations set in the `@serve.deployment` decorator from the deployment graph's code.\n",
    "\n",
    "Settings from `@serve.deployment` can be overridden with this Serve config YAML file. The order of priority is (from highest to lowest):\n",
    "\n",
    "1. Config File\n",
    "2. Deployment graph code (either through the `@serve.deployment` decorator or a `.set_options()` call)\n",
    "3. Serve defaults\n",
    "\n",
    "For example, if a deployment's `num_replicas` is specified in the config file and their graph code, Serve will use the config file's value. If it's only specified in the code, Serve will use the code value. If the user doesn't specify it anywhere, Serve will use a default (which is `num_replicas=1`)."
   ]
  },
  {
   "cell_type": "markdown",
   "id": "a6b869a7-8e74-4cc7-8b1e-e968896e6dc7",
   "metadata": {},
   "source": [
    "## `serve deploy`: Deploy the Serve app to a Ray cluster\n",
    "\n",
    "With the configuration file at hand, we can deploy the application to the Ray cluster. This command allows you to create, update, or configure the Serve application on any cluster."
   ]
  },
  {
   "cell_type": "code",
   "execution_count": 28,
   "id": "0dc857df-ffae-4589-a6f4-4e412e942cdc",
   "metadata": {},
   "outputs": [
    {
     "name": "stdout",
     "output_type": "stream",
     "text": [
      "Usage: serve deploy [OPTIONS] CONFIG_FILE_NAME\n",
      "\n",
      "  Deploys deployment(s) from a YAML config file.\n",
      "\n",
      "  This call is async; a successful response only indicates that the request\n",
      "  was sent to the Ray cluster successfully. It does not mean the the\n",
      "  deployments have been deployed/updated.\n",
      "\n",
      "  Use `serve config` to fetch the current config and `serve status` to check\n",
      "  the status of the deployments after deploying.\n",
      "\n",
      "Options:\n",
      "  -a, --address TEXT  Address to use to query the Ray dashboard agent\n",
      "                      (defaults to http://localhost:52365). Can also be\n",
      "                      specified using the RAY_AGENT_ADDRESS environment\n",
      "                      variable.\n",
      "  --help              Show this message and exit.\n",
      "\u001b[0m"
     ]
    }
   ],
   "source": [
    "!serve deploy --help"
   ]
  },
  {
   "cell_type": "markdown",
   "id": "096824fd-9270-48e0-9774-7f8266e5fa5c",
   "metadata": {},
   "source": [
    "Let's try to deploy the application specified in the configuration YAML generated by `serve build`.\n",
    "\n",
    "Note that in the YAML, the import path (e.g., `fruit:deployment_graph`) must be importable by Serve at runtime. When running locally, this might be in your current working directory.\n",
    "However, when running on a cluster, you also need to make sure the path is importable.\n",
    "\n",
    "You can achieve this either by building the code into the cluster's container image (see [Cluster Configuration](https://docs.ray.io/en/master/cluster/kubernetes/user-guides/config.html#kuberay-config) for more details) or by using a `runtime_env` with a [remote URI](https://docs.ray.io/en/master/ray-core/handling-dependencies.html#remote-uris) that hosts the code in remote storage.\n",
    "\n",
    "As an example, we have [pushed a copy of the FruitStand deployment graph to GitHub](https://github.com/ray-project/test_dag/blob/40d61c141b9c37853a7014b8659fc7f23c1d04f6/fruit.py). We will be using that as the working directory to host the application."
   ]
  },
  {
   "cell_type": "code",
   "execution_count": 30,
   "id": "fbbd974e-28d2-4fab-8652-3352e4c0d1da",
   "metadata": {},
   "outputs": [
    {
     "name": "stdout",
     "output_type": "stream",
     "text": [
      "# This file was generated using the `serve build` command on Ray v2.0.0rc1.\n",
      "\n",
      "import_path: fruit:deployment_graph\n",
      "\n",
      "runtime_env:\n",
      "    working_dir: \"https://github.com/ray-project/serve_config_examples/archive/HEAD.zip\"\n",
      "\n",
      "deployments:\n",
      "\n",
      "- name: MangoStand\n"
     ]
    }
   ],
   "source": [
    "!head prod_examples/config.yaml"
   ]
  },
  {
   "cell_type": "markdown",
   "id": "a2ebe625-9972-4582-b0f0-c46b84652874",
   "metadata": {},
   "source": [
    "Let's call the command to deploy the application!"
   ]
  },
  {
   "cell_type": "code",
   "execution_count": 32,
   "id": "35f4b5de-84e7-485f-b9a8-da91b8aa384a",
   "metadata": {},
   "outputs": [
    {
     "name": "stdout",
     "output_type": "stream",
     "text": [
      "2022-08-16 00:34:33,990\tSUCC scripts.py:180 -- \u001b[32m\n",
      "Sent deploy request successfully!\n",
      " * Use `serve status` to check deployments' statuses.\n",
      " * Use `serve config` to see the running app's config.\n",
      "\u001b[39m\n",
      "\u001b[0m"
     ]
    }
   ],
   "source": [
    "!serve deploy prod_examples/config.yaml"
   ]
  },
  {
   "cell_type": "code",
   "execution_count": 35,
   "id": "30bce2e9-7cc9-4658-9986-d36bd00e682f",
   "metadata": {},
   "outputs": [
    {
     "name": "stdout",
     "output_type": "stream",
     "text": [
      "8"
     ]
    }
   ],
   "source": [
    "!curl http://localhost:8000/ -d '[\"PEAR\", 2]' "
   ]
  },
  {
   "cell_type": "markdown",
   "id": "090e3dea-3c43-4f49-9d5f-59ec5cf3df75",
   "metadata": {},
   "source": [
    "It works! \n",
    "\n",
    "However, let's maybe adjust the price of pear. This workflow is similar to how you would update configurations during production such as reloading models, adjusting weighted percentages, or changing hyperparameters.\n",
    "\n",
    "You can update your Serve applications once they’re in production by updating the settings in your config file and redeploying it using the `serve deploy` command. In the redeployed config file, you can add new deployment settings or remove old deployment settings. This is because serve deploy is *idempotent*, meaning your Serve application’s config always matches (or honors) the latest config you deployed successfully—regardless of what config files you deployed before that.\n",
    "\n",
    "Lightweight config updates modify running deployment replicas without tearing them down and restarting them, so there’s less downtime as the deployments update. For each deployment, modifying `num_replicas`, `autoscaling_config`, and/or `user_config` is considered a lightweight config update, and won’t tear down the replicas for that deployment."
   ]
  },
  {
   "cell_type": "markdown",
   "id": "13b88e15-fa5b-44cb-baa6-75022dc714ce",
   "metadata": {},
   "source": [
    "**Let's change the price of pear from 4 to 2 in `prod_examples/config.yaml`**."
   ]
  },
  {
   "cell_type": "code",
   "execution_count": 42,
   "id": "00b1b2b6-6181-44c2-9ec5-c6cce8af6665",
   "metadata": {},
   "outputs": [],
   "source": [
    "# Check the price has been updated.\n",
    "import yaml\n",
    "\n",
    "with open(\"prod_examples/config.yaml\") as f:\n",
    "    assert (\n",
    "        yaml.safe_load(f)[\"deployments\"][2][\"user_config\"][\"price\"] == 2\n",
    "    ), \"Make sure to update the user_config field of PearStand deployment\""
   ]
  },
  {
   "cell_type": "markdown",
   "id": "94503fc6-00bb-4970-b9c5-0a65e4fa33e9",
   "metadata": {},
   "source": [
    "Now let's call `serve deploy` again to update the configuration live in production. You can also observe the state via the Ray Dashboard."
   ]
  },
  {
   "cell_type": "code",
   "execution_count": 43,
   "id": "33ec4e4b-9aa4-4ce5-8222-7bd1c1481589",
   "metadata": {},
   "outputs": [
    {
     "name": "stdout",
     "output_type": "stream",
     "text": [
      "2022-08-16 00:42:58,707\tSUCC scripts.py:180 -- \u001b[32m\n",
      "Sent deploy request successfully!\n",
      " * Use `serve status` to check deployments' statuses.\n",
      " * Use `serve config` to see the running app's config.\n",
      "\u001b[39m\n",
      "\u001b[0m"
     ]
    }
   ],
   "source": [
    "!serve deploy prod_examples/config.yaml"
   ]
  },
  {
   "cell_type": "code",
   "execution_count": 44,
   "id": "3c474ad7-0549-44f4-a44e-e79709df758e",
   "metadata": {},
   "outputs": [
    {
     "name": "stdout",
     "output_type": "stream",
     "text": [
      "4"
     ]
    }
   ],
   "source": [
    "!curl http://localhost:8000/ -d '[\"PEAR\", 2]' "
   ]
  },
  {
   "cell_type": "markdown",
   "id": "a0f25352-f2e5-4a21-8f6c-0caf58b3a1e5",
   "metadata": {},
   "source": [
    "Our new configuration is in effect! "
   ]
  },
  {
   "cell_type": "markdown",
   "id": "d471532b-1ed9-4e65-8c6d-cbe6c0973cd0",
   "metadata": {},
   "source": [
    "## `serve status` and `serve config`: inspect current state and target state."
   ]
  },
  {
   "cell_type": "markdown",
   "id": "6bad4a35-3a40-4755-9fbf-5a2182f529b9",
   "metadata": {},
   "source": [
    "The Serve CLI also offers two commands to help you inspect your Serve application in production: `serve config` and `serve status`.\n",
    "\n",
    "`serve config` gets the latest config file the Ray cluster received. This config file represents the Serve application's goal (or golden) state. The Ray cluster will constantly attempt to reach and maintain this state by deploying deployments, recovering failed replicas, and more.\n",
    "\n",
    "Using the `config.yaml` example:\n",
    "\n",
    "```console\n",
    "$ serve deploy fruit_config.yaml\n",
    "...\n",
    "\n",
    "$ serve config\n",
    "import_path: fruit:deployment_graph\n",
    "\n",
    "runtime_env: {}\n",
    "\n",
    "deployments:\n",
    "\n",
    "- name: MangoStand\n",
    "  num_replicas: 2\n",
    "  route_prefix: null\n",
    "...\n",
    "```\n",
    "\n",
    "`serve status` gets your Serve application's current status. It's divided into two parts: the `app_status` and the `deployment_statuses`.\n",
    "\n",
    "The `app_status` contains three fields:\n",
    "* `status`: a Serve application has four possible statuses:\n",
    "    * `\"NOT_STARTED\"`: no application has been deployed on this cluster.\n",
    "    * `\"DEPLOYING\"`: the application is currently carrying out a `serve deploy` request. It is deploying new deployments or updating existing ones.\n",
    "    * `\"RUNNING\"`: the application is at steady-state. It has finished executing any previous `serve deploy` requests, and it is attempting to maintain the goal state set by the latest `serve deploy` request.\n",
    "    * `\"DEPLOY_FAILED\"`: the latest `serve deploy` request has failed.\n",
    "* `message`: provides context on the current status.\n",
    "* `deployment_timestamp`: a Unix timestamp of when Serve received the last `serve deploy` request. This is calculated using the `ServeController`'s local clock.\n",
    "\n",
    "The `deployment_statuses` contains a list of dictionaries representing each deployment's status. Each dictionary has three fields:\n",
    "* `name`: the deployment's name.\n",
    "* `status`: a Serve deployment has three possible statuses:\n",
    "    * `\"UPDATING\"`: the deployment is updating to meet the goal state set by a previous `deploy` request.\n",
    "    * `\"HEALTHY\"`: the deployment is at the latest requests goal state.\n",
    "    * `\"UNHEALTHY\"`: the deployment has either failed to update, or it has updated and has become unhealthy afterwards. This may be due to an error in the deployment's constructor, a crashed replica, or a general system or machine error.\n",
    "* `message`: provides context on the current status.\n",
    "\n",
    "You can use the `serve status` command to inspect your deployments after they are deployed and throughout their lifetime."
   ]
  },
  {
   "cell_type": "code",
   "execution_count": 46,
   "id": "dda1d638-6125-4469-bfc2-27e9eb641825",
   "metadata": {},
   "outputs": [
    {
     "name": "stdout",
     "output_type": "stream",
     "text": [
      "Usage: serve status [OPTIONS]\n",
      "\n",
      "  Prints status information about all deployments in the Serve app.\n",
      "\n",
      "  Deployments may be:\n",
      "\n",
      "  - HEALTHY: all replicas are acting normally and passing their health checks.\n",
      "\n",
      "  - UNHEALTHY: at least one replica is not acting normally and may not be\n",
      "  passing its health check.\n",
      "\n",
      "  - UPDATING: the deployment is updating.\n",
      "\n",
      "Options:\n",
      "  -a, --address TEXT  Address to use to query the Ray dashboard agent\n",
      "                      (defaults to http://localhost:52365). Can also be\n",
      "                      specified using the RAY_AGENT_ADDRESS environment\n",
      "                      variable.\n",
      "  --help              Show this message and exit.\n",
      "\u001b[0m"
     ]
    }
   ],
   "source": [
    "!serve status --help"
   ]
  },
  {
   "cell_type": "code",
   "execution_count": 45,
   "id": "484de7ad-b1b5-4943-bf00-53f9950cd89f",
   "metadata": {},
   "outputs": [
    {
     "name": "stdout",
     "output_type": "stream",
     "text": [
      "app_status:\n",
      "  status: RUNNING\n",
      "  message: ''\n",
      "  deployment_timestamp: 1660635778.705992\n",
      "deployment_statuses:\n",
      "- name: MangoStand\n",
      "  status: HEALTHY\n",
      "  message: ''\n",
      "- name: OrangeStand\n",
      "  status: HEALTHY\n",
      "  message: ''\n",
      "- name: PearStand\n",
      "  status: HEALTHY\n",
      "  message: ''\n",
      "- name: FruitMarket\n",
      "  status: HEALTHY\n",
      "  message: ''\n",
      "- name: DAGDriver\n",
      "  status: HEALTHY\n",
      "  message: ''\n",
      "\n",
      "\u001b[0m"
     ]
    }
   ],
   "source": [
    "!serve status"
   ]
  },
  {
   "cell_type": "markdown",
   "id": "8cacb13c-a642-43ab-933f-7cc941327206",
   "metadata": {},
   "source": [
    "You can try to introduce an error in user configuration or other places to see how the error message propagates here for you to observe.\n",
    "\n",
    "`serve status` shows the *current* state of the application. You can use `serve config` to observe the desired configuration for the application, as undestood by Serve."
   ]
  },
  {
   "cell_type": "code",
   "execution_count": 47,
   "id": "df7615ec-889c-4c95-907c-7c0ac425ad76",
   "metadata": {},
   "outputs": [
    {
     "name": "stdout",
     "output_type": "stream",
     "text": [
      "Usage: serve config [OPTIONS]\n",
      "\n",
      "  Get the current config of the running Serve app.\n",
      "\n",
      "Options:\n",
      "  -a, --address TEXT  Address to use to query the Ray dashboard agent\n",
      "                      (defaults to http://localhost:52365). Can also be\n",
      "                      specified using the RAY_AGENT_ADDRESS environment\n",
      "                      variable.\n",
      "  --help              Show this message and exit.\n",
      "\u001b[0m"
     ]
    }
   ],
   "source": [
    "!serve config --help"
   ]
  },
  {
   "cell_type": "code",
   "execution_count": 48,
   "id": "fea1aa2b-55e9-40ab-8e6c-5d0ecb943379",
   "metadata": {},
   "outputs": [
    {
     "name": "stdout",
     "output_type": "stream",
     "text": [
      "import_path: fruit:deployment_graph\n",
      "runtime_env:\n",
      "  working_dir: https://github.com/ray-project/serve_config_examples/archive/HEAD.zip\n",
      "deployments:\n",
      "- name: MangoStand\n",
      "  num_replicas: 1\n",
      "  user_config:\n",
      "    price: 3\n",
      "- name: OrangeStand\n",
      "  num_replicas: 1\n",
      "  user_config:\n",
      "    price: 2\n",
      "- name: PearStand\n",
      "  num_replicas: 1\n",
      "  user_config:\n",
      "    price: 2\n",
      "- name: FruitMarket\n",
      "  num_replicas: 2\n",
      "- name: DAGDriver\n",
      "  num_replicas: 1\n",
      "  route_prefix: /\n",
      "\n",
      "\u001b[0m"
     ]
    }
   ],
   "source": [
    "!serve config"
   ]
  },
  {
   "cell_type": "markdown",
   "id": "d94fc59c-90b6-4331-93ad-93b1e9743888",
   "metadata": {},
   "source": [
    "## Summary of CLI Commands\n",
    "\n",
    "This tutorial demonstrated how to use Serve's CLI to take your application from development to production. In short:\n",
    "* Use `serve run` to manually test and improve your deployment graph locally.\n",
    "* Use `serve build` to create a Serve config file for your deployment graph.\n",
    "    * Put your deployment graph's code in a remote repository and manually configure the `working_dir` or `py_modules` fields in your Serve config file's `runtime_env` to point to that repository.\n",
    "* Use `serve deploy` to deploy your graph and its deployments to your Ray cluster. After the deployment is finished, you can start serving traffic from your cluster.\n",
    "* Use `serve status` to track your Serve application's health and deployment progress.\n",
    "* Use `serve config` to check the latest config that your Serve application received. This is its goal state.\n",
    "* Make lightweight configuration updates (e.g. `num_replicas` or `user_config` changes) by modifying your Serve config file and redeploying it with `serve deploy`."
   ]
  },
  {
   "cell_type": "markdown",
   "id": "dec678dd-9c8b-41b1-ad9d-429ab21b99e5",
   "metadata": {},
   "source": [
    "## Bonus: Monitoring with Prometheus Metrics and Grafana\n",
    "\n",
    "You can leverage built-in Ray Serve metrics to get a closer look at your application's performance. This is particulary useful for production to help you observe, inspect, and debug your application.\n",
    "\n",
    "Ray Serve exposes important system metrics like the number of successful and\n",
    "failed requests through the [Ray metrics monitoring infrastructure](https://docs.ray.io/en/master/ray-observability/ray-metrics.html#ray-metrics). By default, the metrics are exposed in Prometheus format on each node.\n",
    "\n",
    "\n",
    "Different metrics are collected when Deployments are called via Python `ServeHandle` and when they are called via HTTP.\n",
    "\n",
    "See the list of metrics below marked for each.\n",
    "\n",
    "\n",
    "The following metrics are exposed by Ray Serve:\n",
    "\n",
    "\n",
    "   - ``serve_deployment_request_counter`` [**]\n",
    "     - The number of queries that have been processed in this replica.\n",
    "   - ``serve_deployment_error_counter`` [**]\n",
    "     - The number of exceptions that have occurred in the deployment.\n",
    "   - ``serve_deployment_replica_starts`` [**]\n",
    "     - The number of times this replica has been restarted due to failure.\n",
    "   - ``serve_deployment_processing_latency_ms`` [**]\n",
    "     - The latency for queries to be processed.\n",
    "   - ``serve_replica_processing_queries`` [**]\n",
    "     - The current number of queries being processed.\n",
    "   - ``serve_num_http_requests`` [*]\n",
    "     - The number of HTTP requests processed.\n",
    "   - ``serve_num_http_error_requests`` [*]\n",
    "     - The number of non-200 HTTP responses.\n",
    "   - ``serve_num_router_requests`` [*]\n",
    "     - The number of requests processed by the router.\n",
    "   - ``serve_handle_request_counter`` [**]\n",
    "     - The number of requests processed by this ServeHandle.\n",
    "   - ``serve_deployment_queued_queries`` [*]\n",
    "     - The number of queries for this deployment waiting to be assigned to a replica.\n",
    "   - ``serve_num_deployment_http_error_requests`` [*]\n",
    "     - The number of non-200 HTTP responses returned by each deployment.\n",
    "\n",
    "    [*] - only available when using HTTP calls  \n",
    "    [**] - only available when using Python `ServeHandle` calls\n",
    "\n",
    "\n",
    "Let's interact with the system metrics exposed by Serve. You can do that by going to your Anyscale cluster page and clicking \"Grafana\". \n",
    "\n",
    "![metrics-cluster-page](./images/metrics-cluster-page.png)\n",
    "\n",
    "Once you are in Grafana, you can see the pre-build system metrics dashboard in Anyscale. \n",
    "\n",
    "![metrics-preset-0](./images/metrics-preset-0.png)\n",
    "\n",
    "![metrics-preset-1](./images/metrics-preset-0.png)\n",
    "\n",
    "These metrics cover machine utilizations across all Ray nodes in your cluster.\n",
    "\n",
    "Let's see some Serve metrics!\n",
    "\n",
    "Click the the \"Explore\" icon on the left side, you should be able to select a data source to interact with, choose \"Cortex\" which is the metrics aggregation service we used. \n",
    "\n",
    "Let's define a query to plot the queries per second of each deployments:\n",
    "\n",
    "![metrics-custom-explore](./images/metrics-custom-explore.png)\n",
    "\n",
    "You can see the Fibonacci deployment was getting some traffic from our previous load tests! "
   ]
  },
  {
   "cell_type": "markdown",
   "id": "1c235592-07ef-4f5e-b4b3-5252aaa8692f",
   "metadata": {},
   "source": [
    "## Exercises\n",
    "\n",
    "The CLI is built on top of [Serve's REST API](https://docs.ray.io/en/master/serve/rest_api.html). Can you try implementing your own `serve status` and `serve deploy` using this API?\n"
   ]
  },
  {
   "cell_type": "markdown",
   "id": "a8f1701a-0446-49d5-a156-c6917ff0394b",
   "metadata": {},
   "source": [
    "📖 [Back to Table of Contents](./ex_00_tutorial_overview.ipynb)<br>\n",
    "⬅️ [Previous notebook](./ex_03_deployment_graph.ipynb) <br>\n",
    "\n",
    "Cheers, we are done! "
   ]
  }
 ],
 "metadata": {
  "kernelspec": {
   "display_name": "Python 3.8.11 ('ray-py38')",
   "language": "python",
   "name": "python3"
  },
  "language_info": {
   "codemirror_mode": {
    "name": "ipython",
    "version": 3
   },
   "file_extension": ".py",
   "mimetype": "text/x-python",
   "name": "python",
   "nbconvert_exporter": "python",
   "pygments_lexer": "ipython3",
   "version": "3.8.11"
  },
  "vscode": {
   "interpreter": {
    "hash": "250a0c8ad49f9e0ab80d6ffa587b8bd67c2b62f7c5238d34c3fd259cc7d4f5bf"
   }
  }
 },
 "nbformat": 4,
 "nbformat_minor": 5
}
