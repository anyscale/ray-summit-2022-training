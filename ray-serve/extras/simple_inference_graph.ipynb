{
 "cells": [
  {
   "cell_type": "code",
   "execution_count": 37,
   "id": "ffd6aa71-5ebc-4c33-a250-cd3d0bfe6bec",
   "metadata": {},
   "outputs": [],
   "source": [
    "import time\n",
    "import asyncio\n",
    "import requests\n",
    "import starlette\n",
    "\n",
    "import ray\n",
    "from ray import serve\n",
    "from ray.experimental.dag.input_node import InputNode\n",
    "from ray.serve.drivers import DAGDriver\n",
    "from ray.serve.http_adapters import json_request"
   ]
  },
  {
   "cell_type": "code",
   "execution_count": 38,
   "id": "a0c20f40-9a3d-4299-ab8d-03410ebfba0f",
   "metadata": {},
   "outputs": [],
   "source": [
    "@serve.deployment\n",
    "async def avg_preprocessor(input_data):\n",
    "    \"\"\"Simple feature processing that returns average of input list as float.\"\"\"\n",
    "    await asyncio.sleep(0.15) # Manual delay for blocking computation\n",
    "    return sum(input_data) / len(input_data)"
   ]
  },
  {
   "cell_type": "code",
   "execution_count": 39,
   "id": "074fa881-dffd-43a1-9ed4-59a1aef79d8e",
   "metadata": {},
   "outputs": [],
   "source": [
    "@serve.deployment\n",
    "class Model:\n",
    "    def __init__(self, weight: int):\n",
    "        self.weight = weight\n",
    "\n",
    "    async def forward(self, input: int):\n",
    "        await asyncio.sleep(0.3) # Manual delay for blocking computation\n",
    "        return f\"({self.weight} * {input})\""
   ]
  },
  {
   "cell_type": "code",
   "execution_count": 40,
   "id": "5ca0a092-90e7-4f4e-b774-1d8ec6d7046c",
   "metadata": {},
   "outputs": [],
   "source": [
    "@serve.deployment\n",
    "class Combiner:\n",
    "    def __init__(self, m: Model):\n",
    "        self.m = m\n",
    "\n",
    "    async def run(self, req_part, operation):\n",
    "        # Merge model input from two preprocessors\n",
    "        req = f\"({req_part}\"\n",
    "\n",
    "        # Submit to model for inference\n",
    "        r1_ref = self.m.forward.remote(req)\n",
    "\n",
    "        # Async gathering of model forward results for same request data\n",
    "        rst = await asyncio.gather(r1_ref)\n",
    "\n",
    "        # Control flow that determines runtime behavior based on user input\n",
    "        if operation == \"sum\":\n",
    "            return f\"sum({rst})\"\n",
    "        else:\n",
    "            return f\"max({rst})\""
   ]
  },
  {
   "cell_type": "code",
   "execution_count": 41,
   "id": "99ee114c-22a3-41a3-a408-195fec67f4c6",
   "metadata": {},
   "outputs": [],
   "source": [
    "# DAG building\n",
    "with InputNode() as dag_input:\n",
    "    # Partial access of user input by index\n",
    "    preprocessed_2 = avg_preprocessor.bind(dag_input[0])\n",
    "    \n",
    "    # Create a model Node \n",
    "    m1 = Model.bind(1)\n",
    "    \n",
    "    # Use other DeploymentNode in bind()\n",
    "    combiner = Combiner.bind(m1)\n",
    "    \n",
    "    # Use output of function DeploymentNode in bind()\n",
    "    dag = combiner.run.bind(preprocessed_2, dag_input[1])\n",
    "    \n",
    "    # Each serve dag has a driver deployment as ingress that can be user provided.\n",
    "    serve_dag = DAGDriver.options(route_prefix=\"/my-dag\", num_replicas=2).bind(\n",
    "        dag, http_adapter=json_request\n",
    "    )"
   ]
  },
  {
   "cell_type": "code",
   "execution_count": 42,
   "id": "ba6e579e-a207-4a76-8ce5-5254f3f58192",
   "metadata": {},
   "outputs": [
    {
     "name": "stderr",
     "output_type": "stream",
     "text": [
      "\u001b[2m\u001b[36m(ServeController pid=57869)\u001b[0m INFO 2022-07-05 17:18:41,859 controller 57869 checkpoint_path.py:17 - Using RayInternalKVStore for controller checkpoint and recovery.\n",
      "\u001b[2m\u001b[36m(ServeController pid=57869)\u001b[0m INFO 2022-07-05 17:18:41,964 controller 57869 http_state.py:112 - Starting HTTP proxy with name 'SERVE_CONTROLLER_ACTOR:SERVE_PROXY_ACTOR-node:127.0.0.1-0' on node 'node:127.0.0.1-0' listening on '127.0.0.1:8000'\n",
      "\u001b[2m\u001b[36m(ServeController pid=57869)\u001b[0m INFO 2022-07-05 17:18:42,488 controller 57869 deployment_state.py:1216 - Adding 1 replicas to deployment 'avg_preprocessor'.\n",
      "\u001b[2m\u001b[36m(ServeController pid=57869)\u001b[0m INFO 2022-07-05 17:18:42,494 controller 57869 deployment_state.py:1216 - Adding 1 replicas to deployment 'Model'.\n",
      "\u001b[2m\u001b[36m(ServeController pid=57869)\u001b[0m INFO 2022-07-05 17:18:42,500 controller 57869 deployment_state.py:1216 - Adding 1 replicas to deployment 'Combiner'.\n",
      "\u001b[2m\u001b[36m(ServeController pid=57869)\u001b[0m INFO 2022-07-05 17:18:42,505 controller 57869 deployment_state.py:1216 - Adding 2 replicas to deployment 'DAGDriver'.\n",
      "\u001b[2m\u001b[36m(HTTPProxyActor pid=57871)\u001b[0m INFO:     Started server process [57871]\n",
      "You are retrieving a sync handle inside an asyncio loop. Try getting client.get_handle(.., sync=False) to get better performance. Learn more at https://docs.ray.io/en/master/serve/http-servehandle.html#sync-and-async-handles\n"
     ]
    }
   ],
   "source": [
    "dag_handle = serve.run(serve_dag)"
   ]
  },
  {
   "cell_type": "code",
   "execution_count": 43,
   "id": "69892ba7-6a72-446c-8ca5-4b2f65aad62f",
   "metadata": {},
   "outputs": [
    {
     "name": "stderr",
     "output_type": "stream",
     "text": [
      "\u001b[2m\u001b[36m(DAGDriver pid=57877)\u001b[0m You are retrieving a sync handle inside an asyncio loop. Try getting client.get_handle(.., sync=False) to get better performance. Learn more at https://docs.ray.io/en/master/serve/http-servehandle.html#sync-and-async-handles\n",
      "\u001b[2m\u001b[36m(DAGDriver pid=57877)\u001b[0m You are retrieving a sync handle inside an asyncio loop. Try getting client.get_handle(.., sync=False) to get better performance. Learn more at https://docs.ray.io/en/master/serve/http-servehandle.html#sync-and-async-handles\n",
      "\u001b[2m\u001b[36m(avg_preprocessor pid=57873)\u001b[0m INFO 2022-07-05 17:18:45,170 avg_preprocessor avg_preprocessor#LigqIN replica.py:478 - HANDLE __call__ OK 151.3ms\n",
      "\u001b[2m\u001b[36m(Combiner pid=57875)\u001b[0m You are retrieving a sync handle inside an asyncio loop. Try getting client.get_handle(.., sync=False) to get better performance. Learn more at https://docs.ray.io/en/master/serve/http-servehandle.html#sync-and-async-handles\n"
     ]
    },
    {
     "data": {
      "text/plain": [
       "\"sum(['(1 * (1.5)'])\""
      ]
     },
     "execution_count": 43,
     "metadata": {},
     "output_type": "execute_result"
    },
    {
     "name": "stderr",
     "output_type": "stream",
     "text": [
      "\u001b[2m\u001b[36m(Model pid=57874)\u001b[0m INFO 2022-07-05 17:18:45,488 Model Model#uQCfEK replica.py:478 - HANDLE forward OK 302.0ms\n",
      "\u001b[2m\u001b[36m(Combiner pid=57875)\u001b[0m INFO 2022-07-05 17:18:45,493 Combiner Combiner#EGMgfR replica.py:478 - HANDLE run OK 318.6ms\n",
      "\u001b[2m\u001b[36m(DAGDriver pid=57877)\u001b[0m INFO 2022-07-05 17:18:45,496 DAGDriver DAGDriver#xewkyl replica.py:478 - HANDLE predict OK 492.4ms\n"
     ]
    }
   ],
   "source": [
    "# Warm up\n",
    "ray.get(dag_handle.predict.remote([[1, 2], \"sum\"]))"
   ]
  },
  {
   "cell_type": "code",
   "execution_count": 44,
   "id": "fe036451-3fc3-4d31-824e-c760c8d15c8e",
   "metadata": {},
   "outputs": [
    {
     "name": "stderr",
     "output_type": "stream",
     "text": [
      "\u001b[2m\u001b[36m(ServeController pid=57869)\u001b[0m INFO 2022-07-05 17:19:12,885 controller 57869 deployment_state.py:1240 - Removing 1 replicas from deployment 'avg_preprocessor'.\n",
      "\u001b[2m\u001b[36m(ServeController pid=57869)\u001b[0m INFO 2022-07-05 17:19:12,893 controller 57869 deployment_state.py:1240 - Removing 1 replicas from deployment 'Model'.\n",
      "\u001b[2m\u001b[36m(ServeController pid=57869)\u001b[0m INFO 2022-07-05 17:19:12,897 controller 57869 deployment_state.py:1240 - Removing 1 replicas from deployment 'Combiner'.\n",
      "\u001b[2m\u001b[36m(ServeController pid=57869)\u001b[0m INFO 2022-07-05 17:19:12,899 controller 57869 deployment_state.py:1240 - Removing 2 replicas from deployment 'DAGDriver'.\n"
     ]
    }
   ],
   "source": [
    "serve.shutdown()"
   ]
  }
 ],
 "metadata": {
  "kernelspec": {
   "display_name": "Python 3 (ipykernel)",
   "language": "python",
   "name": "python3"
  },
  "language_info": {
   "codemirror_mode": {
    "name": "ipython",
    "version": 3
   },
   "file_extension": ".py",
   "mimetype": "text/x-python",
   "name": "python",
   "nbconvert_exporter": "python",
   "pygments_lexer": "ipython3",
   "version": "3.8.13"
  }
 },
 "nbformat": 4,
 "nbformat_minor": 5
}
