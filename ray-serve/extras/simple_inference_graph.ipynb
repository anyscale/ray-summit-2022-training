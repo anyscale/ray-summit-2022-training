{
 "cells": [
  {
   "cell_type": "markdown",
   "id": "731e2771-724d-41bb-b1a0-389ebca34ef3",
   "metadata": {},
   "source": [
    "# Ray Serve - Inference Graphs APIs\n",
    "\n",
    "© 2019-2022, Anyscale. All Rights Reserved\n",
    "\n",
    "### Learning Objective:\n",
    "In this introductory tutorial, you will:\n",
    "\n",
    "* construct a simple inference graph pipeline\n",
    "* utilize inference graph APIs to create a single deployment\n",
    "* and score an inference graph end-to-end\n",
    "\n",
    "<img src=\"../images/simple_inference_graph.png\" width=\"50%\" height=\"25%\">"
   ]
  },
  {
   "cell_type": "code",
   "execution_count": 25,
   "id": "ffd6aa71-5ebc-4c33-a250-cd3d0bfe6bec",
   "metadata": {},
   "outputs": [],
   "source": [
    "import time\n",
    "import asyncio\n",
    "import requests\n",
    "import starlette\n",
    "\n",
    "import ray\n",
    "from ray import serve\n",
    "from ray.experimental.dag.input_node import InputNode\n",
    "from ray.serve.drivers import DAGDriver\n",
    "from ray.serve.http_adapters import json_request"
   ]
  },
  {
   "cell_type": "markdown",
   "id": "f977d001-1cdf-4bf0-88c8-46a1f84b3d64",
   "metadata": {},
   "source": [
    "### Step 1: Build processor nodes."
   ]
  },
  {
   "cell_type": "code",
   "execution_count": 26,
   "id": "a0c20f40-9a3d-4299-ab8d-03410ebfba0f",
   "metadata": {},
   "outputs": [],
   "source": [
    "@serve.deployment\n",
    "async def avg_preprocessor(input_data):\n",
    "    \"\"\"Simple feature processing that returns average of input list as float.\"\"\"\n",
    "    await asyncio.sleep(0.15) # Manual delay for blocking computation\n",
    "    return sum(input_data) / len(input_data)"
   ]
  },
  {
   "cell_type": "markdown",
   "id": "92957851-2908-4e58-b0e1-b7718ba508f3",
   "metadata": {},
   "source": [
    "### Step 2: Model nodes"
   ]
  },
  {
   "cell_type": "code",
   "execution_count": 27,
   "id": "074fa881-dffd-43a1-9ed4-59a1aef79d8e",
   "metadata": {},
   "outputs": [],
   "source": [
    "@serve.deployment\n",
    "class Model:\n",
    "    def __init__(self, weight: int):\n",
    "        self.weight = weight\n",
    "\n",
    "    async def forward(self, input: int):\n",
    "        await asyncio.sleep(0.3) # Manual delay for blocking computation\n",
    "        return f\"({self.weight} * {input})\""
   ]
  },
  {
   "cell_type": "markdown",
   "id": "5cbffd9b-c63f-499e-8e13-572109f24e86",
   "metadata": {},
   "source": [
    "### Step 3: Build over Combiner aggregation based on user input and operation"
   ]
  },
  {
   "cell_type": "code",
   "execution_count": 28,
   "id": "5ca0a092-90e7-4f4e-b774-1d8ec6d7046c",
   "metadata": {},
   "outputs": [],
   "source": [
    "@serve.deployment\n",
    "class Combiner:\n",
    "    def __init__(self, m: Model):\n",
    "        self.m = m\n",
    "\n",
    "    async def run(self, req_part, operation):\n",
    "        # Merge model input from the preprocessor\n",
    "        req = f\"({req_part}\"\n",
    "\n",
    "        # Submit to model for inference\n",
    "        r1_ref = self.m.forward.remote(req)\n",
    "\n",
    "        # Async gathering of model forward results for same request data\n",
    "        rst = await asyncio.gather(r1_ref)\n",
    "\n",
    "        # Control flow that determines runtime behavior based on user input\n",
    "        if operation == \"sum\":\n",
    "            return f\"sum({rst})\"\n",
    "        else:\n",
    "            return f\"max({rst})\""
   ]
  },
  {
   "cell_type": "markdown",
   "id": "f92ba24c-7571-40a8-862e-94ff5538d62d",
   "metadata": {},
   "source": [
    "### Step 4: Build our InputNode and driver deployment to handle http ingress¶"
   ]
  },
  {
   "cell_type": "code",
   "execution_count": 29,
   "id": "99ee114c-22a3-41a3-a408-195fec67f4c6",
   "metadata": {},
   "outputs": [],
   "source": [
    "# DAG building\n",
    "with InputNode() as dag_input:\n",
    "    # Partial access of user input by index\n",
    "    preprocessed_2 = avg_preprocessor.bind(dag_input[0])\n",
    "    \n",
    "    # Create a model Node \n",
    "    m1 = Model.bind(1)\n",
    "    \n",
    "    # Use other DeploymentNode in bind()\n",
    "    combiner = Combiner.bind(m1)\n",
    "    \n",
    "    # Use output of function DeploymentNode in bind()\n",
    "    dag = combiner.run.bind(preprocessed_2, dag_input[1])\n",
    "    \n",
    "    # Each serve dag has a driver deployment as ingress that can be user provided.\n",
    "    serve_dag = DAGDriver.options(route_prefix=\"/my-dag\", num_replicas=2).bind(\n",
    "        dag, http_adapter=json_request\n",
    "    )"
   ]
  },
  {
   "cell_type": "markdown",
   "id": "6757f8cd-77cd-45f5-86e2-c1539d87f0a5",
   "metadata": {},
   "source": [
    "### Step 5: Test the full DAG in both python and http"
   ]
  },
  {
   "cell_type": "code",
   "execution_count": 30,
   "id": "ba6e579e-a207-4a76-8ce5-5254f3f58192",
   "metadata": {},
   "outputs": [
    {
     "name": "stderr",
     "output_type": "stream",
     "text": [
      "\u001b[2m\u001b[36m(ServeController pid=99734)\u001b[0m INFO 2022-07-06 14:31:44,653 controller 99734 checkpoint_path.py:17 - Using RayInternalKVStore for controller checkpoint and recovery.\n",
      "\u001b[2m\u001b[36m(ServeController pid=99734)\u001b[0m INFO 2022-07-06 14:31:44,758 controller 99734 http_state.py:112 - Starting HTTP proxy with name 'SERVE_CONTROLLER_ACTOR:SERVE_PROXY_ACTOR-node:127.0.0.1-0' on node 'node:127.0.0.1-0' listening on '127.0.0.1:8000'\n",
      "\u001b[2m\u001b[36m(ServeController pid=99734)\u001b[0m INFO 2022-07-06 14:31:45,282 controller 99734 deployment_state.py:1216 - Adding 1 replicas to deployment 'avg_preprocessor'.\n",
      "\u001b[2m\u001b[36m(ServeController pid=99734)\u001b[0m INFO 2022-07-06 14:31:45,288 controller 99734 deployment_state.py:1216 - Adding 1 replicas to deployment 'Model'.\n",
      "\u001b[2m\u001b[36m(ServeController pid=99734)\u001b[0m INFO 2022-07-06 14:31:45,293 controller 99734 deployment_state.py:1216 - Adding 1 replicas to deployment 'Combiner'.\n",
      "\u001b[2m\u001b[36m(HTTPProxyActor pid=99736)\u001b[0m INFO:     Started server process [99736]\n",
      "\u001b[2m\u001b[36m(ServeController pid=99734)\u001b[0m INFO 2022-07-06 14:31:45,299 controller 99734 deployment_state.py:1216 - Adding 2 replicas to deployment 'DAGDriver'.\n",
      "You are retrieving a sync handle inside an asyncio loop. Try getting client.get_handle(.., sync=False) to get better performance. Learn more at https://docs.ray.io/en/master/serve/http-servehandle.html#sync-and-async-handles\n"
     ]
    }
   ],
   "source": [
    "dag_handle = serve.run(serve_dag)"
   ]
  },
  {
   "cell_type": "markdown",
   "id": "efe30781-2ba0-46d2-9f07-8382e2ab9ed2",
   "metadata": {},
   "source": [
    "### Use Python API"
   ]
  },
  {
   "cell_type": "code",
   "execution_count": 31,
   "id": "69892ba7-6a72-446c-8ca5-4b2f65aad62f",
   "metadata": {},
   "outputs": [
    {
     "name": "stderr",
     "output_type": "stream",
     "text": [
      "\u001b[2m\u001b[36m(DAGDriver pid=99742)\u001b[0m You are retrieving a sync handle inside an asyncio loop. Try getting client.get_handle(.., sync=False) to get better performance. Learn more at https://docs.ray.io/en/master/serve/http-servehandle.html#sync-and-async-handles\n",
      "\u001b[2m\u001b[36m(DAGDriver pid=99742)\u001b[0m You are retrieving a sync handle inside an asyncio loop. Try getting client.get_handle(.., sync=False) to get better performance. Learn more at https://docs.ray.io/en/master/serve/http-servehandle.html#sync-and-async-handles\n",
      "\u001b[2m\u001b[36m(Combiner pid=99740)\u001b[0m You are retrieving a sync handle inside an asyncio loop. Try getting client.get_handle(.., sync=False) to get better performance. Learn more at https://docs.ray.io/en/master/serve/http-servehandle.html#sync-and-async-handles\n",
      "\u001b[2m\u001b[36m(avg_preprocessor pid=99738)\u001b[0m INFO 2022-07-06 14:31:49,202 avg_preprocessor avg_preprocessor#FZuVUH replica.py:478 - HANDLE __call__ OK 151.6ms\n"
     ]
    },
    {
     "name": "stdout",
     "output_type": "stream",
     "text": [
      "CPU times: user 7.75 ms, sys: 5.09 ms, total: 12.8 ms\n",
      "Wall time: 512 ms\n"
     ]
    },
    {
     "data": {
      "text/plain": [
       "\"sum(['(1 * (1.5)'])\""
      ]
     },
     "execution_count": 31,
     "metadata": {},
     "output_type": "execute_result"
    },
    {
     "name": "stderr",
     "output_type": "stream",
     "text": [
      "\u001b[2m\u001b[36m(Combiner pid=99740)\u001b[0m INFO 2022-07-06 14:31:49,533 Combiner Combiner#lYkSfJ replica.py:478 - HANDLE run OK 324.7ms\n",
      "\u001b[2m\u001b[36m(Model pid=99739)\u001b[0m INFO 2022-07-06 14:31:49,529 Model Model#IgYGEr replica.py:478 - HANDLE forward OK 301.8ms\n",
      "\u001b[2m\u001b[36m(DAGDriver pid=99742)\u001b[0m INFO 2022-07-06 14:31:49,536 DAGDriver DAGDriver#wqpEFr replica.py:478 - HANDLE predict OK 505.5ms\n"
     ]
    }
   ],
   "source": [
    "%%time\n",
    "ray.get(dag_handle.predict.remote([[1, 2], \"sum\"]))"
   ]
  },
  {
   "cell_type": "markdown",
   "id": "dd4a91f0-853e-46ae-b2d3-1e66c17fd1be",
   "metadata": {},
   "source": [
    "### Use HTTP endpoint"
   ]
  },
  {
   "cell_type": "code",
   "execution_count": 32,
   "id": "2d7615c4-3d78-43d5-9d65-67eef603e217",
   "metadata": {},
   "outputs": [
    {
     "name": "stderr",
     "output_type": "stream",
     "text": [
      "\u001b[2m\u001b[36m(HTTPProxyActor pid=99736)\u001b[0m INFO 2022-07-06 14:31:51,742 http_proxy 127.0.0.1 http_proxy.py:310 - POST /my-dag 307 4.7ms\n",
      "\u001b[2m\u001b[36m(DAGDriver pid=99742)\u001b[0m INFO 2022-07-06 14:31:51,741 DAGDriver DAGDriver#wqpEFr replica.py:478 - HANDLE __call__ OK 0.4ms\n",
      "\u001b[2m\u001b[36m(DAGDriver pid=99741)\u001b[0m You are retrieving a sync handle inside an asyncio loop. Try getting client.get_handle(.., sync=False) to get better performance. Learn more at https://docs.ray.io/en/master/serve/http-servehandle.html#sync-and-async-handles\n",
      "\u001b[2m\u001b[36m(DAGDriver pid=99741)\u001b[0m You are retrieving a sync handle inside an asyncio loop. Try getting client.get_handle(.., sync=False) to get better performance. Learn more at https://docs.ray.io/en/master/serve/http-servehandle.html#sync-and-async-handles\n",
      "\u001b[2m\u001b[36m(avg_preprocessor pid=99738)\u001b[0m INFO 2022-07-06 14:31:51,914 avg_preprocessor avg_preprocessor#FZuVUH replica.py:478 - HANDLE __call__ OK 151.1ms\n"
     ]
    },
    {
     "name": "stdout",
     "output_type": "stream",
     "text": [
      "\"sum(['(1 * (1.5)'])\"\n",
      "CPU times: user 11.7 ms, sys: 5.36 ms, total: 17 ms\n",
      "Wall time: 495 ms\n"
     ]
    },
    {
     "name": "stderr",
     "output_type": "stream",
     "text": [
      "\u001b[2m\u001b[36m(HTTPProxyActor pid=99736)\u001b[0m INFO 2022-07-06 14:31:52,225 http_proxy 127.0.0.1 http_proxy.py:310 - POST /my-dag 200 480.9ms\n",
      "\u001b[2m\u001b[36m(Combiner pid=99740)\u001b[0m INFO 2022-07-06 14:31:52,222 Combiner Combiner#lYkSfJ replica.py:478 - HANDLE run OK 305.6ms\n",
      "\u001b[2m\u001b[36m(Model pid=99739)\u001b[0m INFO 2022-07-06 14:31:52,221 Model Model#IgYGEr replica.py:478 - HANDLE forward OK 301.3ms\n",
      "\u001b[2m\u001b[36m(DAGDriver pid=99741)\u001b[0m INFO 2022-07-06 14:31:52,223 DAGDriver DAGDriver#IvglWN replica.py:478 - HANDLE __call__ OK 476.8ms\n"
     ]
    }
   ],
   "source": [
    "%%time\n",
    "print(requests.post(\"http://127.0.0.1:8000/my-dag\", json=[[1, 2], \"sum\"]).text)"
   ]
  },
  {
   "cell_type": "code",
   "execution_count": 33,
   "id": "fe036451-3fc3-4d31-824e-c760c8d15c8e",
   "metadata": {},
   "outputs": [
    {
     "name": "stderr",
     "output_type": "stream",
     "text": [
      "\u001b[2m\u001b[36m(ServeController pid=99734)\u001b[0m INFO 2022-07-06 14:31:53,678 controller 99734 deployment_state.py:1240 - Removing 1 replicas from deployment 'avg_preprocessor'.\n",
      "\u001b[2m\u001b[36m(ServeController pid=99734)\u001b[0m INFO 2022-07-06 14:31:53,680 controller 99734 deployment_state.py:1240 - Removing 1 replicas from deployment 'Model'.\n",
      "\u001b[2m\u001b[36m(ServeController pid=99734)\u001b[0m INFO 2022-07-06 14:31:53,682 controller 99734 deployment_state.py:1240 - Removing 1 replicas from deployment 'Combiner'.\n",
      "\u001b[2m\u001b[36m(ServeController pid=99734)\u001b[0m INFO 2022-07-06 14:31:53,683 controller 99734 deployment_state.py:1240 - Removing 2 replicas from deployment 'DAGDriver'.\n"
     ]
    }
   ],
   "source": [
    "serve.shutdown()"
   ]
  }
 ],
 "metadata": {
  "kernelspec": {
   "display_name": "Python 3 (ipykernel)",
   "language": "python",
   "name": "python3"
  },
  "language_info": {
   "codemirror_mode": {
    "name": "ipython",
    "version": 3
   },
   "file_extension": ".py",
   "mimetype": "text/x-python",
   "name": "python",
   "nbconvert_exporter": "python",
   "pygments_lexer": "ipython3",
   "version": "3.9.12"
  }
 },
 "nbformat": 4,
 "nbformat_minor": 5
}
