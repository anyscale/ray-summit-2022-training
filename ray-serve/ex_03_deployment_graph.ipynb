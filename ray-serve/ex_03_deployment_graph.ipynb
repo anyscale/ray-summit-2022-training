{
 "cells": [
  {
   "cell_type": "code",
   "execution_count": null,
   "id": "b0be8a50",
   "metadata": {},
   "outputs": [],
   "source": [
    "# Placeholder file for the deployment graph tutorial."
   ]
  }
 ],
 "metadata": {
  "kernelspec": {
   "display_name": "Python 3.8.13 ('testenv')",
   "language": "python",
   "name": "python3"
  },
  "language_info": {
   "codemirror_mode": {
    "name": "ipython",
    "version": 3
   },
   "file_extension": ".py",
   "mimetype": "text/x-python",
   "name": "python",
   "nbconvert_exporter": "python",
   "pygments_lexer": "ipython3",
   "version": "3.8.13"
  },
  "vscode": {
   "interpreter": {
    "hash": "702b7f2bdc4668b2c8813f062e3a087d4430606596c80ebe27ba9e8f84f1e5b0"
   }
  }
 },
 "nbformat": 4,
 "nbformat_minor": 5
}
