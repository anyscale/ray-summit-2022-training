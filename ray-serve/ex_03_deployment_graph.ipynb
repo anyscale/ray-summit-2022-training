{
 "cells": [
  {
   "cell_type": "markdown",
   "id": "214ce2a5-6b11-41d9-86f4-a2b4f0d1a6d9",
   "metadata": {},
   "source": [
    "# Serve Model Composition \n",
    "\n",
    "© 2019-2022, Anyscale. All Rights Reserved\n",
    "\n",
    "📖 [Back to Table of Contents](./ex_00_tutorial_overview.ipynb)<br>\n",
    "➡ [Next notebook](./ex_05_dev_to_prod.ipynb) <br>\n",
    "⬅️ [Previous notebook](./ex_02_ray_serve_fastapi.ipynb) <br>\n",
    "\n",
    "<img src=\"images/PatternsMLProduction.png\" width=\"70%\" height=\"40%\">\n",
    "\n",
    "## Learning Objective:\n",
    "In this tutorial, you will learn how to:\n",
    "\n",
    " * compose models together. \n",
    " * scale each model independently\n",
    "\n",
    "## Background and Motivation\n",
    "\n",
    "You are working for online furniture retailer called ServeCo. Each piece of furniture that ServeCo sells has a list of reviews from previous indivduals who have purchased that furniture. ServeCo believes that the order in which reviews are displayed on their website has a big impact on how many people purchase the furniture -- more positive reviews yield more purchases.\n",
    "\n",
    "Your goal is:\n",
    "1. Rank the reviews by sentiment\n",
    "2. Improve the ranking over time\n",
    "\n",
    "In this tutorial, we will show you how to use Serve Inference Graph to solve this problem. We will use a HuggingFace 🤗 sentiment model to sort the reviews, try an ensemble model to improve performance, and finally use A/B testing to measure the improvement.\n",
    " \n",
    " <img src=\"images/sentiment_analysis.jpeg\" width=\"70%\" height=\"40%\">"
   ]
  },
  {
   "cell_type": "markdown",
   "id": "398fd812-1545-48eb-8d95-a21c5811d9c2",
   "metadata": {},
   "source": [
    "# Setup"
   ]
  },
  {
   "cell_type": "code",
   "execution_count": 1,
   "id": "d23d1ccb-6951-4e22-aafd-48c74c4635de",
   "metadata": {},
   "outputs": [],
   "source": [
    "# Library imports\n",
    "from typing import List, Tuple\n",
    "import warnings\n",
    "import os\n",
    "import asyncio\n",
    "import logging"
   ]
  },
  {
   "cell_type": "code",
   "execution_count": 2,
   "id": "7d244dd9-103f-4806-8744-348abd939c0b",
   "metadata": {},
   "outputs": [],
   "source": [
    "# Ray imports\n",
    "import ray\n",
    "from ray import serve"
   ]
  },
  {
   "cell_type": "code",
   "execution_count": null,
   "id": "e8694c3c-a668-40e1-a9dc-f98b0be63ef1",
   "metadata": {},
   "outputs": [],
   "source": [
    "# Transformer model imports\n",
    "from transformers import TranslationPipeline, TextClassificationPipeline\n",
    "from transformers import AutoTokenizer, AutoModelForSeq2SeqLM, AutoModelForSequenceClassification"
   ]
  },
  {
   "cell_type": "code",
   "execution_count": null,
   "id": "597dddf4-e1d9-4147-a75f-8620a3ad65cb",
   "metadata": {},
   "outputs": [],
   "source": [
    "# Start ray\n",
    "if ray.is_initialized:\n",
    "    ray.shutdown()\n",
    "ray.init(logging_level=logging.ERROR)"
   ]
  },
  {
   "cell_type": "code",
   "execution_count": 5,
   "id": "dc7ba472-07da-44c2-9ef1-8ff4a2778b1d",
   "metadata": {},
   "outputs": [],
   "source": [
    "# Environment setup\n",
    "warnings.filterwarnings(\"ignore\")\n",
    "os.environ[\"PYTHONWARNINGS\"] = \"ignore\""
   ]
  },
  {
   "cell_type": "markdown",
   "id": "1dbe56f7-81bd-4c3b-91c4-88db9bde7ccb",
   "metadata": {},
   "source": [
    "# Example 1: Sort reviews by sentiment"
   ]
  },
  {
   "cell_type": "markdown",
   "id": "a709b04e-cc7d-4869-8a9f-919d20a2b4cd",
   "metadata": {},
   "source": [
    "Here are some reviews about a sofa on our ecommerce website. We want to sort these reviews by how positive they are!"
   ]
  },
  {
   "cell_type": "code",
   "execution_count": 6,
   "id": "873b8bfd-1ee3-4d9c-bea4-e66924747ebe",
   "metadata": {},
   "outputs": [],
   "source": [
    "reviews = [\n",
    "    \"AirCouch by ServeCo was fantastic! I loved it. Very small, perfect for my nephew who just moved into his place in SF.\",\n",
    "    \"The couch came ridden with bugs. Do not purchase. Last purchase from ServCO. Their custmr support is unresponsive and no return policy\",\n",
    "    \"AirCouch is pretty underwhelming. I bought it because of the positive reviews on their website. It seems okay, but nothing special\",\n",
    "    \"The 2018 edition of AirCouch was better than the 2022. Still, the 2022 beats out SparkCouch\",\n",
    "    \"this review has been removed\",\n",
    "    \"This couch was trending on Spreddit... bought it 6 months ago and never looked back. Second purchase from ServeCo, they always deliver reliable couches.\"\n",
    "]"
   ]
  },
  {
   "cell_type": "markdown",
   "id": "bc13f240-0412-4f14-943d-98a71d5d2b43",
   "metadata": {},
   "source": [
    "## Define the Sentiment Deployment\n",
    "\n",
    "Let's define a sentiment deployment that runs a hugging face sequence model.\n",
    "\n",
    "**On Initialization**: It accepts a hugging face sequence model name, and initializes it\n",
    "\n",
    "**On execution** It accepts a review, and returns its ranking\n",
    "\n",
    "The higher the score, the more positive the review."
   ]
  },
  {
   "cell_type": "code",
   "execution_count": 7,
   "id": "94a160bb-fa06-4b89-9f2f-cea8d17528a8",
   "metadata": {},
   "outputs": [],
   "source": [
    "\n",
    "@serve.deployment\n",
    "class RankingModel:\n",
    "    def __init__(self, model_name: str) -> None:\n",
    "        self.tokenizer = AutoTokenizer.from_pretrained(model_name, model_max_length=128)\n",
    "        self.model = AutoModelForSequenceClassification.from_pretrained(model_name)\n",
    "        self.pipeline = TextClassificationPipeline(model=self.model, tokenizer=self.tokenizer, task=\"sentiment-analysis\")\n",
    "    \n",
    "    def rank(self, review: str) -> float:\n",
    "        # Label is either \"POSITIVE\" or \"NEGATIVE\"    \n",
    "        label = self.pipeline(review)[0]['label']\n",
    "        \n",
    "        # Score gives the model's confidence\n",
    "        score = self.pipeline(review)[0]['score']\n",
    "        \n",
    "        # Combine the label and the score into a ranking  \n",
    "        multiplier = 1 if label == \"POSITIVE\" else -1\n",
    "        ranking = score * multiplier\n",
    "        return ranking\n"
   ]
  },
  {
   "cell_type": "markdown",
   "id": "358f8b2c-d8ec-499d-9a9c-f235abb092d3",
   "metadata": {},
   "source": [
    "## Define the Sorting Deployment"
   ]
  },
  {
   "cell_type": "code",
   "execution_count": 8,
   "id": "0a9de374-c0f9-4d1b-9e42-a3a5374907b1",
   "metadata": {},
   "outputs": [],
   "source": [
    "from pydantic import BaseModel\n",
    "\n",
    "# Define a response type using Pydantic\n",
    "class SortReviewsResponse(BaseModel):\n",
    "    reviews: List[str]\n",
    "    ranks: List[str]\n",
    "    \n",
    "async def parallel(*awaitables):\n",
    "    \"\"\"Run multiple Serve requests in parallel\"\"\"\n",
    "    refs = await asyncio.gather(\n",
    "        *awaitables\n",
    "    )\n",
    "    return await asyncio.gather(\n",
    "        *refs\n",
    "    )\n",
    "\n",
    "@serve.deployment\n",
    "class SortReviews:\n",
    "    def __init__(self, ranking_model):\n",
    "        self.ranking_model = ranking_model\n",
    "    \n",
    "    async def sort(self, reviews: List[str]) -> Tuple[float, str]:\n",
    "        \n",
    "        # Get sentiment for each review in parallel                 \n",
    "        ranks = await parallel(\n",
    "            *(\n",
    "                self.ranking_model.rank.remote(review)\n",
    "                for review in reviews\n",
    "            )\n",
    "        )\n",
    "\n",
    "        # Sort the reviews by descending order of rank \n",
    "        sorted_ranks, sorted_reviews = zip(*sorted(zip(ranks, reviews), reverse=True))\n",
    "        \n",
    "        # Return the response\n",
    "        return SortReviewsResponse(ranks=sorted_ranks, reviews=sorted_reviews)\n"
   ]
  },
  {
   "cell_type": "markdown",
   "id": "d903cc8c-6649-474e-8e6f-6ce148101234",
   "metadata": {},
   "source": [
    "## Deploy"
   ]
  },
  {
   "cell_type": "markdown",
   "id": "87d7f097-a8ff-4f71-951b-37fba17fa91e",
   "metadata": {},
   "source": [
    "Let's deploy! If you recall, `Deployment.bind()` lazily executes the constructor of the deployment, and returns a lazy handle to the deployment. The constructor\n",
    "is only actually executed when we call `serve.run()` on the lazy handle. \n",
    "\n",
    "The idea behind model composition is simple -- we can pass lazy handles as constructor arguments into other deployments! The lazy handle will be populated with a live handle when the inference graph is deployed."
   ]
  },
  {
   "cell_type": "code",
   "execution_count": 9,
   "id": "c9d303ff-ab8a-4e4a-a15d-047923193cf3",
   "metadata": {},
   "outputs": [],
   "source": [
    "baseline_model_name = \"distilbert-base-uncased\"\n",
    "\n",
    "# Lazily construct the RankingModel\n",
    "rank_lazy_handle = RankingModel.bind(baseline_model_name)\n",
    "\n",
    "# Pass the ranking model lazy handle into the Sort Deployment\n",
    "sort_lazy_handle = SortReviews.bind(rank_lazy_handle)\n",
    "\n",
    "# Run\n",
    "sort_live_handle = serve.run(sort_lazy_handle)"
   ]
  },
  {
   "cell_type": "markdown",
   "id": "a292a348",
   "metadata": {},
   "source": [
    "That's it! Our Inference Graph should be live. Let's visualize it and query it."
   ]
  },
  {
   "cell_type": "markdown",
   "id": "b51ae9b9-cb75-4b3b-8a8f-e117208fecee",
   "metadata": {},
   "source": [
    "## Visualize the Graph"
   ]
  },
  {
   "cell_type": "code",
   "execution_count": 10,
   "id": "a1f3c459-5f92-40b0-a990-bbbc9fd9ca8c",
   "metadata": {},
   "outputs": [
    {
     "data": {
      "image/png": "[encoded data removed]",
      "text/plain": [
       "<IPython.core.display.Image object>"
      ]
     },
     "execution_count": 10,
     "metadata": {},
     "output_type": "execute_result"
    }
   ],
   "source": [
    "from ray.dag.vis_utils import plot\n",
    "\n",
    "plot(sort_lazy_handle)"
   ]
  },
  {
   "cell_type": "markdown",
   "id": "46feea4f",
   "metadata": {},
   "source": [
    "As you can see, the `RankingModel` is accessible from the `SortReviews` deployment."
   ]
  },
  {
   "cell_type": "markdown",
   "id": "0c612345-5f35-4920-9214-f5b7ab9a2787",
   "metadata": {},
   "source": [
    "## Query the pipeline"
   ]
  },
  {
   "cell_type": "markdown",
   "id": "71c4b59b-6c38-490e-bd0c-3014e9d6d7b6",
   "metadata": {},
   "source": [
    "It's time to query the Inference Graph. We can query Serve deployment using either REST, or the ServeHandle API. For simplicity, we will use the ServeHandle API to query."
   ]
  },
  {
   "cell_type": "code",
   "execution_count": 11,
   "id": "ce94a267-a906-4d99-865a-fc4d67eb1293",
   "metadata": {},
   "outputs": [
    {
     "name": "stdout",
     "output_type": "stream",
     "text": [
      "{\n",
      "  \"reviews\": [\n",
      "    \"this review has been removed\",\n",
      "    \"The couch came ridden with bugs. Do not purchase. Last purchase from ServCO. Their custmr support is unresponsive and no return policy\",\n",
      "    \"AirCouch by ServeCo was fantastic! I loved it. Very small, perfect for my nephew who just moved into his place in SF.\",\n",
      "    \"AirCouch is pretty underwhelming. I bought it because of the positive reviews on their website. It seems okay, but nothing special\",\n",
      "    \"This couch was trending on Spreddit... bought it 6 months ago and never looked back. Second purchase from ServeCo, they always deliver reliable couches.\",\n",
      "    \"The 2018 edition of AirCouch was better than the 2022. Still, the 2022 beats out SparkCouch\"\n",
      "  ],\n",
      "  \"ranks\": [\n",
      "    \"-0.5050943493843079\",\n",
      "    \"-0.5169469714164734\",\n",
      "    \"-0.5174823999404907\",\n",
      "    \"-0.5203433036804199\",\n",
      "    \"-0.52256178855896\",\n",
      "    \"-0.5467154383659363\"\n",
      "  ]\n",
      "}\n"
     ]
    }
   ],
   "source": [
    "baseline_results = await sort_live_handle.sort.remote(reviews)\n",
    "print(baseline_results.json(indent=2))"
   ]
  },
  {
   "cell_type": "markdown",
   "id": "f875a48a-9a5c-4718-831d-22ee1265722d",
   "metadata": {},
   "source": [
    "Great! We have successfully deployed our ReviewRanking pipeline. ServeCo can now display these ranked reviews on its website. Unfortunately, this ranking does not seem to be very good... "
   ]
  },
  {
   "cell_type": "markdown",
   "id": "438de6ee-088f-449e-9445-fbe820ddd640",
   "metadata": {},
   "source": [
    "# Example 2: Ensemble Sentiment Models"
   ]
  },
  {
   "cell_type": "markdown",
   "id": "7622379e-eb32-4164-bc6a-8129e6f99bf0",
   "metadata": {},
   "source": [
    "ServeCo management has decided that we need to improve the ranking. After some thought, we decide that we can use an **ensemble** of different sentiment models to get a better sentiment prediction. \n",
    "\n",
    "## Problem Statement\n",
    "1. Ensemble the existing baseline model with a new experimental model\n",
    "2. Average the rank predicted by each model to get the final rank\n",
    "\n",
    "\n",
    "## Define the Ensemble\n",
    "For simplicity, we will start with a simple average of rank produced by the models in our Ensemble. \n",
    "\n",
    "Notice that the `Ensemble` deployment is generic and reusable. It accepts any number of models, runs them in parallel, and then averages the result. "
   ]
  },
  {
   "cell_type": "code",
   "execution_count": 12,
   "id": "08cec76c-3ef5-4741-914b-edb2c4fd2585",
   "metadata": {},
   "outputs": [],
   "source": [
    "@serve.deployment\n",
    "class Ensemble:\n",
    "    \"\"\"Average the rank of several models\"\"\"\n",
    "    def __init__(self, *models) -> None:\n",
    "        self.models = models\n",
    "\n",
    "    async def rank(self, review: str) -> float:\n",
    "        # Get the rank of ensembled models in parallel     \n",
    "        ranks = await parallel(\n",
    "            *(model.rank.remote(review) for model in self.models)\n",
    "        )\n",
    "        \n",
    "        # Return the average of the two models    \n",
    "        return sum(ranks) / len(ranks)"
   ]
  },
  {
   "cell_type": "markdown",
   "id": "26264457-b699-48ff-b5a8-f9a8d66c95f6",
   "metadata": {},
   "source": [
    "## Deploy the Ensemble\n",
    "\n",
    "The deploy step is going to be a little bit more complicated now -- we need to pass both the baseline and the experimental model into the ensemble, and then pass the ensemble into the sorter."
   ]
  },
  {
   "cell_type": "code",
   "execution_count": 13,
   "id": "b39401d3-8fb0-410c-bb61-d25164fbeab5",
   "metadata": {},
   "outputs": [],
   "source": [
    "experimental_model_name = \"distilbert-base-uncased-finetuned-sst-2-english\"\n",
    "\n",
    "# Baseline model\n",
    "baseline_lazy_handle = RankingModel.bind(baseline_model_name)\n",
    "\n",
    "# Experimental model\n",
    "experimental_lazy_handle = RankingModel.bind(experimental_model_name)\n",
    "\n",
    "# Ensemble model\n",
    "ensemble_lazy_handle = Ensemble.bind(baseline_lazy_handle, experimental_lazy_handle)\n",
    "\n",
    "# Sort\n",
    "sorted_ensemble_lazy_handle = SortReviews.bind(ensemble_lazy_handle)\n",
    "\n",
    "# Deploy\n",
    "sorted_ensemble_live_handle = serve.run(sorted_ensemble_lazy_handle)"
   ]
  },
  {
   "cell_type": "markdown",
   "id": "3076a673-7109-4aa9-821f-2cfb943660c3",
   "metadata": {},
   "source": [
    "## Visualize the Ensemble"
   ]
  },
  {
   "cell_type": "code",
   "execution_count": 14,
   "id": "76cb208a-2490-4f28-87f4-681140435685",
   "metadata": {},
   "outputs": [
    {
     "data": {
      "image/png": "[encoded data removed]",
      "text/plain": [
       "<IPython.core.display.Image object>"
      ]
     },
     "execution_count": 14,
     "metadata": {},
     "output_type": "execute_result"
    }
   ],
   "source": [
    "plot(sorted_ensemble_lazy_handle)"
   ]
  },
  {
   "cell_type": "markdown",
   "id": "646d1720-b1f8-43d7-adc1-871214b4fde5",
   "metadata": {},
   "source": [
    "The pipeline is getting more complex! We have 2 Ranking models that feed into the Ensemble, which feeds into the Sorter."
   ]
  },
  {
   "cell_type": "markdown",
   "id": "f4ea6006-d578-4eaa-9e95-6b2b6d4ff04a",
   "metadata": {},
   "source": [
    "## Sort reviews using the ensemble model"
   ]
  },
  {
   "cell_type": "code",
   "execution_count": 15,
   "id": "10e72dd6-df3b-4236-bd78-d4b0b9bec98c",
   "metadata": {},
   "outputs": [
    {
     "name": "stdout",
     "output_type": "stream",
     "text": [
      "{\n",
      "  \"reviews\": [\n",
      "    \"this review has been removed\",\n",
      "    \"The couch came ridden with bugs. Do not purchase. Last purchase from ServCO. Their custmr support is unresponsive and no return policy\",\n",
      "    \"AirCouch by ServeCo was fantastic! I loved it. Very small, perfect for my nephew who just moved into his place in SF.\",\n",
      "    \"AirCouch is pretty underwhelming. I bought it because of the positive reviews on their website. It seems okay, but nothing special\",\n",
      "    \"This couch was trending on Spreddit... bought it 6 months ago and never looked back. Second purchase from ServeCo, they always deliver reliable couches.\",\n",
      "    \"The 2018 edition of AirCouch was better than the 2022. Still, the 2022 beats out SparkCouch\"\n",
      "  ],\n",
      "  \"ranks\": [\n",
      "    \"-0.5050943493843079\",\n",
      "    \"-0.5169469714164734\",\n",
      "    \"-0.5174823999404907\",\n",
      "    \"-0.5203433036804199\",\n",
      "    \"-0.52256178855896\",\n",
      "    \"-0.5467154383659363\"\n",
      "  ]\n",
      "}\n",
      "{\n",
      "  \"reviews\": [\n",
      "    \"The 2018 edition of AirCouch was better than the 2022. Still, the 2022 beats out SparkCouch\",\n",
      "    \"This couch was trending on Spreddit... bought it 6 months ago and never looked back. Second purchase from ServeCo, they always deliver reliable couches.\",\n",
      "    \"AirCouch by ServeCo was fantastic! I loved it. Very small, perfect for my nephew who just moved into his place in SF.\",\n",
      "    \"AirCouch is pretty underwhelming. I bought it because of the positive reviews on their website. It seems okay, but nothing special\",\n",
      "    \"this review has been removed\",\n",
      "    \"The couch came ridden with bugs. Do not purchase. Last purchase from ServCO. Their custmr support is unresponsive and no return policy\"\n",
      "  ],\n",
      "  \"ranks\": [\n",
      "    \"0.2332111895084381\",\n",
      "    \"0.22877541184425354\",\n",
      "    \"0.2264380156993866\",\n",
      "    \"-0.7301562428474426\",\n",
      "    \"-0.7612680494785309\",\n",
      "    \"-0.7746935784816742\"\n",
      "  ]\n",
      "}\n"
     ]
    }
   ],
   "source": [
    "ensemble_results = await sorted_ensemble_live_handle.sort.remote(reviews)\n",
    "\n",
    "\n",
    "# Compare ensemble results to baseline results\n",
    "print(baseline_results.json(indent=2))\n",
    "print(ensemble_results.json(indent=2))"
   ]
  },
  {
   "cell_type": "markdown",
   "id": "5fed76c8-796b-4e42-b5bd-9883cfdf5088",
   "metadata": {},
   "source": [
    "Much better! The reviews at the top seem more positive than the ones at the bottom. Great job!"
   ]
  },
  {
   "cell_type": "markdown",
   "id": "1c0483ea-2a8b-4d46-9bcf-9a359b8163d0",
   "metadata": {},
   "source": [
    "# Example 3: A/B Testing\n",
    "\n",
    "ServeCo management is happy with the Ensemble, but wants us to show definitively that it is better than the Baseline model. \n",
    "\n",
    "One way to do this is to **A/B Test** the Baseline model against the Ensemble model. In this example, we will show how A/B testing is easy in Serve!\n",
    "\n",
    "## What is A/B testing\n",
    "\n",
    "To A/B test our models, we need to do the following:\n",
    "1. Randomly assign users to 2 groups (Group A and Group B)\n",
    "2. Show members of A rankings based on the Baseline\n",
    "3. Show members of B rankings based on the Ensemble\n",
    "4. If group B is more satisfied than Group A, then the Ensemble is working!\n",
    "\n",
    "This example is intended to give you a taste of how Serve makes A/B testing easy. We will skip over the statistical details required in practice to conduct an A/B test, to instead focus on building the infrastructure required to gather the data (steps 1-3).\n",
    "\n",
    "## Defining an A/B test deployment\n",
    "\n",
    "Let's start by defining an A/B testing deployment. "
   ]
  },
  {
   "cell_type": "code",
   "execution_count": 16,
   "id": "28be2ae5-7ba3-4374-b499-8c9aa73cf792",
   "metadata": {},
   "outputs": [],
   "source": [
    "@serve.deployment\n",
    "class ABTest:\n",
    "    def __init__(self, model_a, model_b):\n",
    "        self.model_a = model_a\n",
    "        self.model_b = model_b\n",
    "    \n",
    "    def group(self, user_id: int):\n",
    "        \"\"\"Randomely assign the user to a group\"\"\"\n",
    "        return \"A\" if user_id % 2 == 0 else \"B\"\n",
    "    \n",
    "        \n",
    "    async def rank(self, review: str, user_id: int) -> float: \n",
    "        \"\"\"Get the sentiment for a review\"\"\"\n",
    "        \n",
    "        is_group_a = self.group(user_id) == \"A\"\n",
    "        model = self.model_a if is_group_a else self.model_b\n",
    "        ref = await model.rank.remote(review)\n",
    "        return await ref\n",
    "        "
   ]
  },
  {
   "cell_type": "markdown",
   "id": "dd5a7b6c-5494-46d8-977f-630e7ccb90d5",
   "metadata": {},
   "source": [
    "Since the ABTest deployment has a slightly different API than the SentimentModel (it also accepts a user_id), we need to\n",
    "update the SortReviews deployment."
   ]
  },
  {
   "cell_type": "code",
   "execution_count": 17,
   "id": "43ffe278-3314-4489-9fc5-89d33dc2355a",
   "metadata": {},
   "outputs": [],
   "source": [
    "class SortReviewsResponse(BaseModel):\n",
    "    group: str\n",
    "    reviews: List[str]\n",
    "    ranks: List[str]\n",
    "\n",
    "@serve.deployment\n",
    "class SortReviews:\n",
    "    def __init__(self, ranking_model):\n",
    "        self.ranking_model = ranking_model\n",
    "    \n",
    "    async def sort_reviews(self, reviews: List[str], user_id: int) -> Tuple[float, str]:\n",
    "\n",
    "        # Get the group of the user in the AB test\n",
    "        group_ref = await self.ranking_model.group.remote(user_id)\n",
    "\n",
    "        \n",
    "        # Get sentiment for each review in parallel                 \n",
    "        ranks = await parallel(\n",
    "            *(\n",
    "                self.ranking_model.rank.remote(review, user_id)\n",
    "                for review in reviews\n",
    "            )\n",
    "        )\n",
    "\n",
    "        # Sort the reviews by their rank\n",
    "        sorted_ranks, sorted_reviews = zip(*sorted(zip(ranks, reviews), reverse=True))\n",
    "        \n",
    "        return SortReviewsResponse(group=await group_ref, ranks=sorted_ranks, reviews=sorted_reviews)"
   ]
  },
  {
   "cell_type": "markdown",
   "id": "1ef8cfb9-0e05-4666-ba8b-5f08cc1762ab",
   "metadata": {},
   "source": [
    "## Deploy"
   ]
  },
  {
   "cell_type": "markdown",
   "id": "cef9ecec-1f88-4ecb-b8e8-8a098e340277",
   "metadata": {},
   "source": [
    "Deploying our inference graph is a little bit more tricky this time around. We will scale the baseline model to have 2 replicas instead of one -- \n",
    "one replica will handle traffic for group A (which directly hits the Baseline), and the other will handle traffic for group B (which hits the Ensemble model)."
   ]
  },
  {
   "cell_type": "code",
   "execution_count": 18,
   "id": "19880e9e-6661-4448-a2d5-6c650da2023a",
   "metadata": {},
   "outputs": [],
   "source": [
    "# Model 1\n",
    "baseline_lazy_handle = RankingModel.options(num_replicas=2).bind(baseline_model_name)\n",
    "\n",
    "# Model 2 -- same model with different weights\n",
    "experimental_lazy_handle = RankingModel.bind(experimental_model_name)\n",
    "\n",
    "# Ensemble model\n",
    "ensemble_lazy_handle = Ensemble.bind(baseline_lazy_handle, experimental_lazy_handle)\n",
    "\n",
    "# AB Test deployment\n",
    "ab_test_lazy_handle = ABTest.bind(baseline_lazy_handle, ensemble_lazy_handle)\n",
    "\n",
    "# Sort the reviews\n",
    "sorted_ensemble_lazy_handle = SortReviews.bind(ab_test_lazy_handle)\n",
    "\n",
    "# Run!\n",
    "ab_test_live_handle = serve.run(sorted_ensemble_lazy_handle)"
   ]
  },
  {
   "cell_type": "markdown",
   "id": "b897f023-9d45-4b90-bbc9-41a275107bfb",
   "metadata": {},
   "source": [
    "## Visualize"
   ]
  },
  {
   "cell_type": "code",
   "execution_count": 19,
   "id": "8c316a67-bd96-416a-9145-7f3ec8c0060a",
   "metadata": {},
   "outputs": [
    {
     "data": {
      "image/png": "[encoded data removed]",
      "text/plain": [
       "<IPython.core.display.Image object>"
      ]
     },
     "execution_count": 19,
     "metadata": {},
     "output_type": "execute_result"
    }
   ],
   "source": [
    "plot(sorted_ensemble_lazy_handle)"
   ]
  },
  {
   "cell_type": "markdown",
   "id": "15d8ba2b-261f-43f2-8bbc-27da8e68fa65",
   "metadata": {},
   "source": [
    "## Query"
   ]
  },
  {
   "cell_type": "markdown",
   "id": "3a793b5e-c2c3-4b8d-87b1-c7ad01894f00",
   "metadata": {},
   "source": [
    "Let's query the inference graph with 2 different user ids and make sure we are getting the results corresponding to the Baseline Model and the Ensemble Model."
   ]
  },
  {
   "cell_type": "code",
   "execution_count": 20,
   "id": "d6b5156d-79d0-4424-ae0a-958807d47623",
   "metadata": {},
   "outputs": [
    {
     "name": "stdout",
     "output_type": "stream",
     "text": [
      "{\n",
      "  \"group\": \"A\",\n",
      "  \"reviews\": [\n",
      "    \"This couch was trending on Spreddit... bought it 6 months ago and never looked back. Second purchase from ServeCo, they always deliver reliable couches.\",\n",
      "    \"The 2018 edition of AirCouch was better than the 2022. Still, the 2022 beats out SparkCouch\",\n",
      "    \"AirCouch by ServeCo was fantastic! I loved it. Very small, perfect for my nephew who just moved into his place in SF.\",\n",
      "    \"The couch came ridden with bugs. Do not purchase. Last purchase from ServCO. Their custmr support is unresponsive and no return policy\",\n",
      "    \"AirCouch is pretty underwhelming. I bought it because of the positive reviews on their website. It seems okay, but nothing special\",\n",
      "    \"this review has been removed\"\n",
      "  ],\n",
      "  \"ranks\": [\n",
      "    \"-0.534937858581543\",\n",
      "    \"-0.5407721400260925\",\n",
      "    \"-0.541819155216217\",\n",
      "    \"-0.5647710561752319\",\n",
      "    \"-0.5761180520057678\",\n",
      "    \"-0.5762368440628052\"\n",
      "  ]\n",
      "}\n",
      "{\n",
      "  \"group\": \"B\",\n",
      "  \"reviews\": [\n",
      "    \"AirCouch by ServeCo was fantastic! I loved it. Very small, perfect for my nephew who just moved into his place in SF.\",\n",
      "    \"The 2018 edition of AirCouch was better than the 2022. Still, the 2022 beats out SparkCouch\",\n",
      "    \"This couch was trending on Spreddit... bought it 6 months ago and never looked back. Second purchase from ServeCo, they always deliver reliable couches.\",\n",
      "    \"AirCouch is pretty underwhelming. I bought it because of the positive reviews on their website. It seems okay, but nothing special\",\n",
      "    \"this review has been removed\",\n",
      "    \"The couch came ridden with bugs. Do not purchase. Last purchase from ServCO. Their custmr support is unresponsive and no return policy\"\n",
      "  ],\n",
      "  \"ranks\": [\n",
      "    \"0.22902217507362366\",\n",
      "    \"0.22784161567687988\",\n",
      "    \"0.2146378755569458\",\n",
      "    \"-0.7263012528419495\",\n",
      "    \"-0.7586116194725037\",\n",
      "    \"-0.7821536064147949\"\n",
      "  ]\n",
      "}\n"
     ]
    }
   ],
   "source": [
    "sorted_reviews_a = await ab_test_live_handle.sort_reviews.remote(reviews, user_id=0)\n",
    "sorted_reviews_b = await ab_test_live_handle.sort_reviews.remote(reviews, user_id=1)\n",
    "\n",
    "# Compare\n",
    "print(sorted_reviews_a.json(indent=2))\n",
    "print(sorted_reviews_b.json(indent=2))"
   ]
  },
  {
   "cell_type": "markdown",
   "id": "5c295221-f71b-4c98-8c1a-d27c8b4147b0",
   "metadata": {},
   "source": [
    "# Conclusion"
   ]
  },
  {
   "cell_type": "markdown",
   "id": "ce2e1773-7ef9-4f42-aeb2-4ad34d4ec885",
   "metadata": {},
   "source": [
    "Serve has a powerful API for composing arbitrarily complex Inference Graphs. You can compose hundreds of models into a graph, and scale it across hundreds of nodes. Hopefully this tutorial gave you a taste for what is possible in Serve."
   ]
  },
  {
   "cell_type": "code",
   "execution_count": 21,
   "id": "786fcf2e-1afa-4900-bc3f-0fc8844d5b55",
   "metadata": {},
   "outputs": [],
   "source": [
    "ray.shutdown()"
   ]
  },
  {
   "cell_type": "markdown",
   "id": "8190d581-6a31-43f2-9083-94578042efdf",
   "metadata": {},
   "source": [
    "### Exercise\n",
    "\n",
    "1. Add more reviews with different sentiments to see what happens\n",
    "2. Query the pipeline using HTTP. Hint -- you will have to add an HTTP request handler. See the [Fast API Module](ex_02_ray_serve_fastapi.ipynb) for an example.\n",
    "3. Measure the QPS of the pipeline. Look at [Module 1](ex_01_model_serving_challenges.ipynb) to see an example.\n"
   ]
  },
  {
   "cell_type": "markdown",
   "id": "fff4e209-4437-426e-a425-39b443df68a1",
   "metadata": {},
   "source": [
    "### Homework\n",
    "\n",
    "1. Use a different model in your pipeline\n"
   ]
  },
  {
   "cell_type": "markdown",
   "id": "960d2797-a9ca-4f2f-bcd2-477667109fac",
   "metadata": {},
   "source": [
    "📖 [Back to Table of Contents](./ex_00_tutorial_overview.ipynb)<br>\n",
    "➡ [Next notebook](./ex_04_inference_graphs.ipynb) <br>\n",
    "⬅️ [Previous notebook](./ex_02_ray_serve_fastapi.ipynb) <br>"
   ]
  }
 ],
 "metadata": {
  "kernelspec": {
   "display_name": "Python 3 (ipykernel)",
   "language": "python",
   "name": "python3"
  },
  "language_info": {
   "codemirror_mode": {
    "name": "ipython",
    "version": 3
   },
   "file_extension": ".py",
   "mimetype": "text/x-python",
   "name": "python",
   "nbconvert_exporter": "python",
   "pygments_lexer": "ipython3",
   "version": "3.8.13"
  },
  "vscode": {
   "interpreter": {
    "hash": "250a0c8ad49f9e0ab80d6ffa587b8bd67c2b62f7c5238d34c3fd259cc7d4f5bf"
   }
  }
 },
 "nbformat": 4,
 "nbformat_minor": 5
}
