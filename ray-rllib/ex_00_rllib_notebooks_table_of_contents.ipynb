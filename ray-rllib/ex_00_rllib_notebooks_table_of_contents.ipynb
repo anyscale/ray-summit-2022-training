{
 "cells": [
  {
   "cell_type": "markdown",
   "metadata": {},
   "source": [
    "# RLlib Tutorial at Ray Summit 2022 - Overview\n",
    "\n",
    "© 2021-2022, Anyscale. All Rights Reserved\n",
    "\n",
    "<img src=\"images/rllib-logo.png\" width=250>\n",
    "\n",
    "## About This Tutorial\n",
    "\n",
    "\n",
    "See the instructions in the [README](README.md) tutorial overview and setting up your environment to use this tutorial if you want to run this on your laptop.\n",
    "\n",
    "If you are using Anyscale hosted enviroment for this class, then you do not have to do anything!"
   ]
  },
  {
   "cell_type": "markdown",
   "metadata": {},
   "source": [
    "|     | Lesson | Description |\n",
    "| :-- | :----- | :---------- |\n",
    "|     | **Module 1** |\n",
    "| 01  | [Intro to RL, RLlib and Gym Environment APIs](ex_01_intro_gym_and_rllib.ipynb) | **Introduction to Reinforcement Learning, RLlib, and the OpenAI Gym Env APIs** |\n",
    "|     | **(BREAK)** |\n",
    "|     | **Module 2** |\n",
    "| 02  | [Multiagent RLlib Environment](ex_02_create_multiagent_rllib_env.ipynb) | **Creata a custom multi-agent RLlib game anvironment** |\n",
    "| 03  | [Train a RLlib Muti-Agent model using Ray Tune](ex_03_train_tune_rllib_model.ipynb) | **Train RLlib to play your multiplayer game using Ray Tune API** |\n",
    "|     | **(BREAK)** |\n",
    "|     | **Module 3** |\n",
    "| 04  | [Introduction to Offline RL](ex_04_offline_rl_with_rllib.ipynb) | **Introduction to Offline RL** |\n",
    "| 05 | [Ray Serve and RL](ex_05_rllib_and_ray_serve.ipynb)| **Using RLlib in combination with Ray Serve to deploy a policy into production** |\n",
    "|     | **4:30pm - Happy Hour and Ray Meetup** |\n",
    "|     | **Module 4 (take home)** |\n",
    "| 06  | [End-to-end Demo (multi-agent with in-game recommender system using Serve)](ex_06_rllib_end_to_end_demo.ipynb) | **Demo of what you will build in this tutorial** |\n",
    "| 07  | [Introduction to RLlib and Recommender Systems](ex_07_rlib_in_recsys_overview.ipynb) | **Introduction to RecSys in combination with RLlib** |\n",
    "\n"
   ]
  },
  {
   "cell_type": "code",
   "execution_count": null,
   "metadata": {},
   "outputs": [],
   "source": []
  }
 ],
 "metadata": {
  "kernelspec": {
   "display_name": "Python 3 (ipykernel)",
   "language": "python",
   "name": "python3"
  },
  "language_info": {
   "codemirror_mode": {
    "name": "ipython",
    "version": 3
   },
   "file_extension": ".py",
   "mimetype": "text/x-python",
   "name": "python",
   "nbconvert_exporter": "python",
   "pygments_lexer": "ipython3",
   "version": "3.9.0"
  }
 },
 "nbformat": 4,
 "nbformat_minor": 4
}
