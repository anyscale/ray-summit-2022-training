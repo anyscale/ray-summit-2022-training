{
 "cells": [
  {
   "cell_type": "markdown",
   "metadata": {},
   "source": [
    "# Notebook 06. Introduction to RL applied to Recommender Systems\n",
    "\n",
    "© 2019-2022, Anyscale. All Rights Reserved <br>\n",
    "📖 [Back to Table of Contents](./ex_00_rllib_notebooks_table_of_contents.ipynb)<br>\n",
    "➡️ [Next notebook](./ex_07_rllib_end_to_end_demo.ipynb) <br>\n",
    "⬅️ [Previous notebook](./ex_05_rllib_and_ray_serve.ipynb) <br>\n",
    "\n",
    "### Learning objectives\n",
    "In this this tutorial, you will learn how to:\n",
    "\n",
    " * [Understand the Benefits of RL in a Recommender System](#recsys_rl)\n",
    " * [Create a RecSys RL environment](#recsys_env)\n",
    " * [Train a Contextual Bandit on the environment](#cb)\n",
    " * [Train using a SlateQ algorithm on the environment](#slateq)\n",
    " "
   ]
  },
  {
   "cell_type": "markdown",
   "metadata": {},
   "source": [
    "## Benefits of RL in a Recommender System <a class=\"anchor\" id=\"recsys_rl\"></a>\n",
    "\n",
    "A Recommender System <b>(RecSys)</b> suggests items that are most pertinent to a particular user.  Examples of recommender systems include:\n",
    "<ul>\n",
    "    <li>Movie/video/music recommendations (Netflix/YouTube/Spotify)</li>\n",
    "    <li>Online shopping recommendations (Amazon/Shopify)</li>\n",
    "    <li>Filtering your feed as you scroll (Twitter/Instagram)</li>\n",
    "</ul>\n",
    "\n",
    "<b>Two main approaches to training algorithms</b> for RecSys are: \n",
    "<ol>\n",
    "    <li>Traditional Machine Learning <b>(ML)</b></li>\n",
    "    <li>Reinforcement Learning <b>(RL)</b></li>\n",
    "    </ol>\n",
    "\n",
    "In the <b>traditional ML</b> method, data is gathered about users interactions with items.  Often this is represented as a <b>large, sparse matrix A</b> (rows are users, items are columns, elements of aij are the interactions).  <b>Matrix factorization (A = U * VT)</b> is often used to transform A into <i>trainable representations of users (U) and items (V)</i>, where U,V can be thought of as \"embeddings\" or features or X's.  Solving the matrix factorization problem turns into solving the quadratic minimization of frobenius-norm(A - U*VT).  Computationally this is solved using SGD Stochastic gradient descent (SGD), or Weighted Alternating Least Squares (WALS) which is the more parallelizable method of the two.  <br>\n",
    "\n",
    "Solving the matrix factorization problem is often referred to as <b><i>collaborative filtering</i></b>.  The algorithm is trained on all the data at once, which is extremely efficient.  But this means the traditional supervised learning model is <b>static with respect to time</b>. This can produce models that are:\n",
    "- too shortsighted or \n",
    "- overlook important and changing user intents or business conditions such as seasonality or promotional campaigns.\n",
    "\n",
    "<b>In RL</b>, users interact with offers repeatedly over time.  This <b><i>dynamic</i></b> model is iteratively trained based on observations, actions, and rewards.  \n",
    "> RL algorithms have become the de facto standard ML approach for solving sequential decision-making problems based on multiple goals that can be short-term and long-term.\n",
    " \n",
    "One caveat with RL, due to the sequential decision making process, <i>RL needs to calculate a new recommendation at every time step</i>.  This means to use RL efficiently, it is best to <b>restrict the data in a RL environment to only a pre-selected handful of top candidate items per user</b>.  <br>\n",
    "\n",
    "This makes RL a good fit in a Recommender system where a traditional ML ranking model already exists.  RL can be plugged into the last, interactive part of the RecSys system, as either <b>online</b> or <b>offline RL</b>.  \n",
    "> With both types of RL, “serendipitous” aspects of user experience can be explored, since random actions the user did not historically take can be tried in the simulation.\n",
    "\n",
    "<img src=\"./images/recsys_overview.png\" width=\"100%\"/>\n",
    "\n",
    "- <b>Online RL in RecSys</b> takes as input the top-K ranked and ordered recommendations per user, keeps the user and item feature embeddings as context, and optimizes a sequence of user in-session interactions using <b> real-time, live results</b>. \n",
    "\n",
    "- <b>Offline RL in RecSys</b> uses offline data to explore a previous training run (or production) recommender model policy, implicitly through the data.  \n",
    "\n",
    "<div class=\"alert alert-block alert-success\">    \n",
    "    <b>💡 Online vs Offline RL, when the algorithm learning from an environment is: </b> <br><br>\n",
    "    ✔️ live (typically gaming platforms or complex systems simulations), this is called <b>online RL</b> and evaluation during training is <b>on-policy</b>. The live environment could be used for simulation learning purposes or it could be in production. <br><br>\n",
    "    ✔️ trained using data (could be log files of users interactions with items) converted into trajectory sequences of tuples, this is called <b>offline RL</b> and evaluation during training is <b>off-policy</b>, because the policy (RL word for model) used to log the data is different from the policy used to explore the data. Off-policy evaluation is also called <b>counterfactual evaluation</b>.</b> \n",
    "</div>\n",
    "\n",
    "<br>"
   ]
  },
  {
   "cell_type": "markdown",
   "metadata": {
    "tags": []
   },
   "source": [
    "## Create a RecSys RL Environment <a class=\"anchor\" id=\"recsys_env\"></a>\n",
    "\n",
    "As we learned in the first 2 lessons, the first step to learning a RL policy is to create an <b>environment</b> that can be used to train a RL algorithm. \n",
    "\n",
    "In this notebook, we will use <b><a href=\"https://github.com/google-research/recsim\">Google's RecSim environment</a></b>, which was developed for the YouTube recommendation problem.  It is a configurable environment, where ideally you would plug in your own users, products, and embedding features.\n",
    "\n",
    "- <a href=\"https://github.com/ray-project/ray/blob/master/rllib/env/wrappers/recsim.py\">RLlib implementation</a>\n",
    "- <a href=\"https://github.com/ray-project/ray/blob/master/rllib/examples/recommender_system_with_recsim_and_slateq.py\">RLlib example</a>\n",
    "- <a href=\"https://github.com/google-research/recsim\">RecSim github</a>\n",
    "- <a href=\"https://arxiv.org/pdf/1909.04847.pdf\">RecSim paper</a>\n",
    "\n",
    "The environment is <i>Timelimit-based</i>, meaning the termination condition for an episode will be after a fixed number (60) of videos are watched. The RecSim environment consists of:\n",
    "<br>\n",
    "\n",
    "<img src=\"./images/recsim_environment.png\" width=\"100%\" />\n",
    "\n",
    "- <b>Documents</b>, with features sampled in the range [0, 1] .  In this tutorial, we use <b>1 single feature \"sweetness\"</b> drawn from a gaussian distribution.\n",
    "> - The documents can be different at each step (produced by some \"candidate generation\" process), or fixed throughout the simulation.\n",
    "> - The recommendation algorithm observes the D candidate documents.  It then makes a selection (possibly ordered) of k documents and presents them in a \"slate\" to the user.\n",
    "\n",
    "- <b>Users</b>, with no features in this tutorial.\n",
    "> - The user examines a \"slate\" of recommended items and makes a choice of one item. After making their choice, the user emits an observation, which the recommender can use to learn for the next recommendation. \n",
    "> - The <b>user's long-term satisfaction is explicitly revealed as a numerical reward</b> at each time step of the simulation.\n",
    "- <b>Satisfaction</b> mechanism.  Think of this like a \"sugar-level\".  Based on the user's current sugar level, consuming a sweet item may or may not increase their long-term satisfaction (LTS).  <b>LTS stochastically (and slowly) decreases with the consumption of items containing high sweetness</b>. \n",
    "\n",
    "<b>RLlib comes with 3 RecSim environments</b>  <br>\n",
    "<div class=\"alert alert-block alert-success\">    \n",
    "👉 <b>Long Term Satisfaction</b> (used in this tutorial) <br>\n",
    "- Interest Evolution <br>\n",
    "- Interest Exploration <br>\n",
    "</div>\n",
    "\n",
    "<br>"
   ]
  },
  {
   "cell_type": "code",
   "execution_count": 1,
   "metadata": {},
   "outputs": [
    {
     "name": "stdout",
     "output_type": "stream",
     "text": [
      "ray: 2.0.0rc1\n",
      "tensorflow: 2.9.1\n",
      "gym: 0.21.0\n"
     ]
    }
   ],
   "source": [
    "# import libraries\n",
    "import random\n",
    "import time\n",
    "import numpy as np\n",
    "from scipy.stats import linregress, sem\n",
    "import pandas as pd\n",
    "import matplotlib.pyplot as plt\n",
    "import ray\n",
    "from ray import tune\n",
    "from ray.tune.logger import pretty_print\n",
    "from pprint import pprint\n",
    "print(f\"ray: {ray.__version__}\")\n",
    "\n",
    "# silence the many tensorflow warnings\n",
    "import logging, os\n",
    "logging.disable(logging.WARNING)\n",
    "os.environ[\"TF_CPP_MIN_LOG_LEVEL\"] = \"3\"\n",
    "import tensorflow as tf\n",
    "import gym\n",
    "import recsim\n",
    "\n",
    "print(f\"tensorflow: {tf.__version__}\")\n",
    "print(f\"gym: {gym.__version__}\")\n",
    "\n",
    "# Import the built-in RecSim exapmle environment: \"Long Term Satisfaction\", ready to be trained by RLlib.\n",
    "from ray.rllib.examples.env.recommender_system_envs_with_recsim import LongTermSatisfactionRecSimEnv\n"
   ]
  },
  {
   "cell_type": "code",
   "execution_count": 2,
   "metadata": {},
   "outputs": [
    {
     "name": "stdout",
     "output_type": "stream",
     "text": [
      "<class 'ray.rllib.env.wrappers.recsim.make_recsim_env.<locals>._RecSimEnv'>\n"
     ]
    }
   ],
   "source": [
    "# How to make RecSim environments?\n",
    "\n",
    "# Env config with 10 candidate items and a slate-size of 1.\n",
    "\n",
    "# Step 1. define a config dictionary\n",
    "env_config_10 = {\n",
    "    # The number of possible documents/videos/candidates that we can recommend\n",
    "    # no flattening necessary (see `convert_to_discrete_action_space=False` below)\n",
    "    \"num_candidates\": 10,  \n",
    "    # The number of recommendations that we will be making\n",
    "    \"slate_size\": 1,  # MultiDiscrete([20, 20]) -> Discrete(400)\n",
    "    # Set to False for re-using the same candidate doecuments each timestep.\n",
    "    \"resample_documents\": True,\n",
    "    # Use consistent seeds for the environment ...\n",
    "    \"seed\": 0,}\n",
    "\n",
    "# Step 2. create a RecSim environment\n",
    "lts_10_1_env = LongTermSatisfactionRecSimEnv(env_config_10)\n",
    "\n",
    "print(type(lts_10_1_env))\n"
   ]
  },
  {
   "cell_type": "code",
   "execution_count": 3,
   "metadata": {},
   "outputs": [
    {
     "name": "stdout",
     "output_type": "stream",
     "text": [
      "\n",
      "action space: MultiDiscrete([10])\n",
      "\n",
      "('observation space = Dict(user:Box([], [], (0,), float32), '\n",
      " 'doc:Dict(0:Box([0.], [1.], (1,), float32), 1:Box([0.], [1.], (1,), float32), '\n",
      " '2:Box([0.], [1.], (1,), float32), 3:Box([0.], [1.], (1,), float32), '\n",
      " '4:Box([0.], [1.], (1,), float32), 5:Box([0.], [1.], (1,), float32), '\n",
      " '6:Box([0.], [1.], (1,), float32), 7:Box([0.], [1.], (1,), float32), '\n",
      " '8:Box([0.], [1.], (1,), float32), 9:Box([0.], [1.], (1,), float32)), '\n",
      " 'response:Tuple(Dict(click:Discrete(2), engagement:Box(0.0, 100.0, (), '\n",
      " 'float32))))')\n",
      "\n",
      "(\"initial obs = OrderedDict([('user', array([], dtype=float32)), ('doc', {'0': \"\n",
      " \"array([0.79172504], dtype=float32), '1': array([0.5288949], dtype=float32), \"\n",
      " \"'2': array([0.56804454], dtype=float32), '3': array([0.92559665], \"\n",
      " \"dtype=float32), '4': array([0.07103606], dtype=float32), '5': \"\n",
      " \"array([0.0871293], dtype=float32), '6': array([0.0202184], dtype=float32), \"\n",
      " \"'7': array([0.83261985], dtype=float32), '8': array([0.77815676], \"\n",
      " \"dtype=float32), '9': array([0.87001216], dtype=float32)}), ('response', \"\n",
      " \"(OrderedDict([('click', 1), ('engagement', array(80.01132, \"\n",
      " 'dtype=float32))]),))])')\n",
      "engagement=80.0113\n",
      "\n",
      "Take a random action...\n",
      "action = [5]; reward = 6.67; done = False\n",
      "(\"next obs = OrderedDict([('user', array([], dtype=float32)), ('doc', {'0': \"\n",
      " \"array([0.9786183], dtype=float32), '1': array([0.7991586], dtype=float32), \"\n",
      " \"'2': array([0.46147937], dtype=float32), '3': array([0.7805292], \"\n",
      " \"dtype=float32), '4': array([0.11827443], dtype=float32), '5': \"\n",
      " \"array([0.639921], dtype=float32), '6': array([0.14335328], dtype=float32), \"\n",
      " \"'7': array([0.9446689], dtype=float32), '8': array([0.5218483], \"\n",
      " \"dtype=float32), '9': array([0.41466194], dtype=float32)}), ('response', \"\n",
      " \"({'click': 1, 'engagement': array(6.666362, dtype=float32)},))])\")\n",
      "engagement=6.6664\n"
     ]
    }
   ],
   "source": [
    "# print gym Spaces\n",
    "if isinstance(lts_10_1_env.action_space, gym.spaces.Space):\n",
    "    print()\n",
    "    print(f\"action space: {lts_10_1_env.action_space}\")\n",
    "if isinstance(lts_10_1_env.observation_space, gym.spaces.Space):\n",
    "    print()\n",
    "    pprint(f\"observation space = {lts_10_1_env.observation_space}\")\n",
    "\n",
    "# Start a new episode and look at an observation.\n",
    "obs = lts_10_1_env.reset()\n",
    "print()\n",
    "pprint(f\"initial obs = {obs}\")\n",
    "print(f\"engagement={np.sum(obs['response'][0]['engagement']):.4f}\")\n",
    "\n",
    "action = lts_10_1_env.action_space.sample()\n",
    "next_obs, reward, done, _ = lts_10_1_env.step(action)\n",
    "print()\n",
    "print(\"Take a random action...\")\n",
    "print(f\"action = {action}; reward = {reward:.2f}; done = {done}\")\n",
    "pprint(f\"next obs = {next_obs}\")\n",
    "print(f\"engagement={np.sum(next_obs['response'][0]['engagement']):.4f}\")"
   ]
  },
  {
   "cell_type": "markdown",
   "metadata": {},
   "source": [
    "Now let us manually recommend some items (select some actions), send them to the environment, and record the rewards and next observations.  \n",
    "\n",
    "It is always a good idea to make sure you understand your environment well before using it to train a RL algorithm.\n",
    "\n",
    "> 👉 Exercise: Execute the following cell a couple of times chosing different actions (from 0 - 9) to be sent into the environment's step() method. Each time, look at the returned next observation, reward, and done flag and write down what you find interesting about the dynamics and observations of this environment."
   ]
  },
  {
   "cell_type": "code",
   "execution_count": 6,
   "metadata": {},
   "outputs": [
    {
     "name": "stdout",
     "output_type": "stream",
     "text": [
      "OrderedDict([('user', array([], dtype=float32)),\n",
      "             ('doc',\n",
      "              {'0': array([0.2645556], dtype=float32),\n",
      "               '1': array([0.7742337], dtype=float32),\n",
      "               '2': array([0.45615032], dtype=float32),\n",
      "               '3': array([0.56843394], dtype=float32),\n",
      "               '4': array([0.0187898], dtype=float32),\n",
      "               '5': array([0.6176355], dtype=float32),\n",
      "               '6': array([0.6120957], dtype=float32),\n",
      "               '7': array([0.616934], dtype=float32),\n",
      "               '8': array([0.94374806], dtype=float32),\n",
      "               '9': array([0.6818203], dtype=float32)}),\n",
      "             ('response',\n",
      "              ({'click': 1, 'engagement': array(35.357445, dtype=float32)},))])\n",
      "reward = 35.36; done = False\n"
     ]
    }
   ],
   "source": [
    "# Let's send our first action (1-slate back into the env) using the env's `step()` method.\n",
    "action = [3]  # Discrete(10): 0-9 are all valid actions\n",
    "\n",
    "# This method returns 4 items:\n",
    "# - next observation (after having applied the action)\n",
    "# - reward (after having applied the action)\n",
    "# - `done` flag; if True, the episode is terminated and the environment needs to be `reset()` again.\n",
    "# - info dict (we'll ignore this)\n",
    "next_obs, reward, done, _ = lts_10_1_env.step(action)\n",
    "\n",
    "# Print out the next observation.\n",
    "# We expect the \"doc\" and \"user\" items to be the same as in the previous observation\n",
    "# b/c we set \"resample_documents\" to False.\n",
    "pprint(next_obs)\n",
    "# Print out rewards and the vlaue of the `done` flag.\n",
    "print(f\"reward = {reward:.2f}; done = {done}\")\n"
   ]
  },
  {
   "cell_type": "markdown",
   "metadata": {},
   "source": [
    "<b>What did you learn from experimenting with the environment?</b>\n",
    "\n",
    "* User's state (if any) is hidden to agent (not part of observation).\n",
    "* Episodes seem to last about 60 time steps -> user seems to have some time budget to spend.\n",
    "* User always seems to click, no matter what we recommend.\n",
    "* Reward seems to be always identical to the \"engagement\" value (of the clicked item). These values range somewhere between 0.0 and 10.0+.\n",
    "\n",
    "<div class=\"alert alert-block alert-success\">\n",
    "    <b>Weak suspicions</b><br>\n",
    "🤔 If we always recommend the item with the highest feature value, rewards seem to taper off over time - in most of the episodes. <br>\n",
    "🤔 If we always recommend the item with the lowest feature value, rewards seem to increase over time.\n",
    "</div>\n"
   ]
  },
  {
   "cell_type": "markdown",
   "metadata": {},
   "source": [
    "<b>What the environment actually does under the hood</b>\n",
    "\n",
    "Let's take a quick look at a pre-configured RecSim environment: \"Long Term Satisfaction\".\n",
    "\n",
    "<img src=\"./images/long_term_satisfaction_env.png\" width=100%>\n",
    "\n",
    "<b>There is a double objective built into the env </b> (a. sweetness -> engagement; b. sweetness -> unhappyness; unhappyness -> low engagement), let's make this effect a tiny bit stronger by slightly modifying the environment. As said above, the effect is very weak and almost not measurable, which is a problem on the env's side. \n",
    "\n",
    "We can use this following gym.ObservationWrapper class in the cell below to \"fix\" that problem:"
   ]
  },
  {
   "cell_type": "code",
   "execution_count": 4,
   "metadata": {},
   "outputs": [
    {
     "name": "stdout",
     "output_type": "stream",
     "text": [
      "ok; registered the string 'modified-lts' to be used in RLlib configs (see below)\n"
     ]
    }
   ],
   "source": [
    "# Modifying wrapper around the LTS (Long Term Satisfaction) env:\n",
    "# - allows us to tweak the user model (and thus: reward behavior)\n",
    "# - adds user's current satisfaction value to observation\n",
    "\n",
    "class LTSWithStrongerDissatisfactionEffect(gym.ObservationWrapper):\n",
    "\n",
    "    def __init__(self, env):\n",
    "        # Tweak incoming environment.\n",
    "        env.environment._user_model._user_sampler._state_parameters.update({\n",
    "            \"sensitivity\": 0.058,\n",
    "            \"time_budget\": 120,\n",
    "            \"choc_stddev\": 0.1,\n",
    "            \"kale_stddev\": 0.1,\n",
    "            #\"innovation_stddev\": 0.01,\n",
    "            #\"choc_mean\": 1.25,\n",
    "            #\"kale_mean\": 1.0,\n",
    "            #\"memory_discount\": 0.9,\n",
    "        })\n",
    "\n",
    "        super().__init__(env)\n",
    "\n",
    "        # Adjust observation space.\n",
    "        if \"response\" in self.observation_space.spaces:\n",
    "            self.observation_space.spaces[\"user\"] = gym.spaces.Box(0.0, 1.0, (1, ), dtype=np.float32)\n",
    "            for r in self.observation_space[\"response\"]:\n",
    "                if \"engagement\" in r.spaces:\n",
    "                    r.spaces[\"watch_time\"] = r.spaces[\"engagement\"]\n",
    "                    del r.spaces[\"engagement\"]\n",
    "                    break\n",
    "\n",
    "    def observation(self, observation):\n",
    "        if \"response\" in self.observation_space.spaces:\n",
    "            observation[\"user\"] = np.array([self.env.environment._user_model._user_state.satisfaction])\n",
    "            for r in observation[\"response\"]:\n",
    "                if \"engagement\" in r:\n",
    "                    r[\"watch_time\"] = r[\"engagement\"]\n",
    "                    del r[\"engagement\"]\n",
    "        return observation\n",
    "\n",
    "\n",
    "# Add the wrapping around \n",
    "tune.register_env(\"modified-lts\", \n",
    "                  lambda env_config: LTSWithStrongerDissatisfactionEffect(\n",
    "                      LongTermSatisfactionRecSimEnv(env_config)))\n",
    "\n",
    "print(\"ok; registered the string 'modified-lts' to be used in RLlib configs (see below)\")\n",
    "\n"
   ]
  },
  {
   "cell_type": "code",
   "execution_count": 5,
   "metadata": {},
   "outputs": [
    {
     "name": "stdout",
     "output_type": "stream",
     "text": [
      "<class 'ray.rllib.env.wrappers.recsim.make_recsim_env.<locals>._RecSimEnv'>\n",
      "<class '__main__.LTSWithStrongerDissatisfactionEffect'>\n"
     ]
    }
   ],
   "source": [
    "# How to make wrapped RecSim environments?\n",
    "\n",
    "# Env config with 20 candidate items and a slate-size of 2.\n",
    "\n",
    "# Step 1. define a config dictionary\n",
    "env_config_20 = {\n",
    "    # The number of possible documents/videos/candidates that we can recommend\n",
    "    # no flattening necessary (see `convert_to_discrete_action_space=False` below)\n",
    "    \"num_candidates\": 20,  \n",
    "    # The number of recommendations that we will be making\n",
    "    \"slate_size\": 2,  # MultiDiscrete([20, 20]) -> Discrete(400)\n",
    "    # Set to False for re-using the same candidate doecuments each timestep.\n",
    "    \"resample_documents\": True,\n",
    "    # # Convert MultiDiscrete actions to Discrete (flatten action space).\n",
    "    \"convert_to_discrete_action_space\": True,\n",
    "    # # Wrap observations for RLlib bandit: Only changes dict keys (\"item\" instead of \"doc\").\n",
    "    # \"wrap_for_bandits\": True,\n",
    "    # Use consistent seeds for the environment ...\n",
    "    \"seed\": 0,}\n",
    "\n",
    "# Step 2. create a RecSim environment\n",
    "lts_20_2_env = LongTermSatisfactionRecSimEnv(env_config_20)\n",
    "\n",
    "print(type(lts_20_2_env))\n",
    "\n",
    "# step 3. create a modified RecSim environment\n",
    "# LTSWithStrongerDissatisfactionEffect(recsim_env)\n",
    "modified_lts_20_2_env = \\\n",
    "    LTSWithStrongerDissatisfactionEffect(lts_20_2_env)\n",
    "\n",
    "print(type(modified_lts_20_2_env))\n"
   ]
  },
  {
   "cell_type": "code",
   "execution_count": 6,
   "metadata": {},
   "outputs": [
    {
     "name": "stdout",
     "output_type": "stream",
     "text": [
      "\n",
      "action space: Discrete(400)\n",
      "\n",
      "('observation space = Dict(user:Box([0.], [1.], (1,), float32), '\n",
      " 'doc:Dict(0:Box([0.], [1.], (1,), float32), 1:Box([0.], [1.], (1,), float32), '\n",
      " '2:Box([0.], [1.], (1,), float32), 3:Box([0.], [1.], (1,), float32), '\n",
      " '4:Box([0.], [1.], (1,), float32), 5:Box([0.], [1.], (1,), float32), '\n",
      " '6:Box([0.], [1.], (1,), float32), 7:Box([0.], [1.], (1,), float32), '\n",
      " '8:Box([0.], [1.], (1,), float32), 9:Box([0.], [1.], (1,), float32), '\n",
      " '10:Box([0.], [1.], (1,), float32), 11:Box([0.], [1.], (1,), float32), '\n",
      " '12:Box([0.], [1.], (1,), float32), 13:Box([0.], [1.], (1,), float32), '\n",
      " '14:Box([0.], [1.], (1,), float32), 15:Box([0.], [1.], (1,), float32), '\n",
      " '16:Box([0.], [1.], (1,), float32), 17:Box([0.], [1.], (1,), float32), '\n",
      " '18:Box([0.], [1.], (1,), float32), 19:Box([0.], [1.], (1,), float32)), '\n",
      " 'response:Tuple(Dict(click:Discrete(2), watch_time:Box(0.0, 100.0, (), '\n",
      " 'float32)), Dict(click:Discrete(2), watch_time:Box(0.0, 100.0, (), '\n",
      " 'float32))))')\n",
      "\n",
      "(\"initial obs = OrderedDict([('user', array([0.51039932])), ('doc', {'0': \"\n",
      " \"array([0.9786183], dtype=float32), '1': array([0.7991586], dtype=float32), \"\n",
      " \"'2': array([0.46147937], dtype=float32), '3': array([0.7805292], \"\n",
      " \"dtype=float32), '4': array([0.11827443], dtype=float32), '5': \"\n",
      " \"array([0.639921], dtype=float32), '6': array([0.14335328], dtype=float32), \"\n",
      " \"'7': array([0.9446689], dtype=float32), '8': array([0.5218483], \"\n",
      " \"dtype=float32), '9': array([0.41466194], dtype=float32), '10': \"\n",
      " \"array([0.2645556], dtype=float32), '11': array([0.7742337], dtype=float32), \"\n",
      " \"'12': array([0.45615032], dtype=float32), '13': array([0.56843394], \"\n",
      " \"dtype=float32), '14': array([0.0187898], dtype=float32), '15': \"\n",
      " \"array([0.6176355], dtype=float32), '16': array([0.6120957], dtype=float32), \"\n",
      " \"'17': array([0.616934], dtype=float32), '18': array([0.94374806], \"\n",
      " \"dtype=float32), '19': array([0.6818203], dtype=float32)}), ('response', \"\n",
      " \"(OrderedDict([('click', 1), ('watch_time', array(84.2712, dtype=float32))]), \"\n",
      " \"OrderedDict([('click', 0), ('watch_time', array(29.552366, \"\n",
      " 'dtype=float32))])))])')\n",
      "\n",
      "Take a random action...\n",
      "action = 340; reward = 12.25; done = False\n",
      "(\"next obs = OrderedDict([('user', array([0.4930684])), ('doc', {'0': \"\n",
      " \"array([0.3595079], dtype=float32), '1': array([0.43703195], dtype=float32), \"\n",
      " \"'2': array([0.6976312], dtype=float32), '3': array([0.06022547], \"\n",
      " \"dtype=float32), '4': array([0.6667667], dtype=float32), '5': \"\n",
      " \"array([0.67063785], dtype=float32), '6': array([0.21038257], dtype=float32), \"\n",
      " \"'7': array([0.12892629], dtype=float32), '8': array([0.31542835], \"\n",
      " \"dtype=float32), '9': array([0.36371076], dtype=float32), '10': \"\n",
      " \"array([0.57019675], dtype=float32), '11': array([0.43860152], \"\n",
      " \"dtype=float32), '12': array([0.9883738], dtype=float32), '13': \"\n",
      " \"array([0.10204481], dtype=float32), '14': array([0.20887676], \"\n",
      " \"dtype=float32), '15': array([0.16130951], dtype=float32), '16': \"\n",
      " \"array([0.6531083], dtype=float32), '17': array([0.2532916], dtype=float32), \"\n",
      " \"'18': array([0.46631077], dtype=float32), '19': array([0.2444256], \"\n",
      " \"dtype=float32)}), ('response', ({'click': 1, 'watch_time': array(12.245512, \"\n",
      " \"dtype=float32)}, {'click': 0, 'watch_time': array(0., dtype=float32)}))])\")\n"
     ]
    }
   ],
   "source": [
    "# print gym Spaces\n",
    "if isinstance(modified_lts_20_2_env.action_space, gym.spaces.Space):\n",
    "    print()\n",
    "    print(f\"action space: {modified_lts_20_2_env.action_space}\")\n",
    "if isinstance(modified_lts_20_2_env.observation_space, gym.spaces.Space):\n",
    "    print()\n",
    "    pprint(f\"observation space = {modified_lts_20_2_env.observation_space}\")\n",
    "\n",
    "# Start a new episode and look at an observation.\n",
    "obs = modified_lts_20_2_env.reset()\n",
    "print()\n",
    "pprint(f\"initial obs = {obs}\")\n",
    "\n",
    "\n",
    "action = modified_lts_20_2_env.action_space.sample()\n",
    "next_obs, reward, done, _ = modified_lts_20_2_env.step(action)\n",
    "print()\n",
    "print(\"Take a random action...\")\n",
    "print(f\"action = {action}; reward = {reward:.2f}; done = {done}\")\n",
    "pprint(f\"next obs = {next_obs}\")"
   ]
  },
  {
   "cell_type": "markdown",
   "metadata": {},
   "source": [
    "From the RecSim documentation, we can see that:\n",
    "\n",
    "<ul>\n",
    "    <li><b>action</b>, is a number between 0 and num_products - 1 that represents index of products clicked, between 0 and 399 in this case. </li>\n",
    "    <li><b>observation</b> will be the next session of 20 candidate products user sees, based on the user's action.  Only 1 product feature is displayed: the sugar-value of the product.\n",
    "    </li>\n",
    "    <li><b>reward</b> is the engagement value (between 0 and 20) of the product user clicked.  RecSim has a simplified assumption that the products are ordered on the slates, and user always clicks the 1st-position slate.</li>\n",
    "    <li><b>done</b> is a True/False flag indicating if the episode or user's timeline (fixed 60 sessions) is over.</li>\n",
    "    <li><b>info</b> currently not used, so it is always an empty dictionary.</li>\n",
    "    </ul>"
   ]
  },
  {
   "cell_type": "code",
   "execution_count": 7,
   "metadata": {},
   "outputs": [
    {
     "name": "stdout",
     "output_type": "stream",
     "text": [
      "Environment by itself took 42.68 seconds\n",
      "after 1000 episodes, reward slope: 2.843455049828051e-05\n"
     ]
    }
   ],
   "source": [
    "# CHECK SLOPES OF ORIGINAL LTS\n",
    "\n",
    "start_time = time.time()\n",
    "\n",
    "# Capture slopes of all trendlines over all episodes.\n",
    "slopes = []\n",
    "\n",
    "# Run 1000 episodes\n",
    "num_episodes = 1000\n",
    "for _ in range(num_episodes):\n",
    "    obs = lts_20_2_env.reset()  # Reset environment to get initial observation:\n",
    "    doc_list = [t[1][0] for t in list(obs['doc'].items()) ]\n",
    "\n",
    "    # Compute actions that pick doc with highest/lowest feature value.\n",
    "    # action_sweetest = np.argmax(obs['item'])\n",
    "    # action_kaleiest = np.argmin(obs['item'])     \n",
    "    action_sweetest = np.argmax(doc_list)\n",
    "    action_kaleiest = np.argmin(doc_list)\n",
    "\n",
    "    # Play one episode.\n",
    "    done = False\n",
    "    rewards = []\n",
    "    while not done:\n",
    "        action = lts_20_2_env.action_space.sample()\n",
    "        # action = action_sweetest\n",
    "        # action = action_kaleiest\n",
    "\n",
    "        obs, reward, done, _ = lts_20_2_env.step(action)\n",
    "        rewards.append(reward)\n",
    "\n",
    "    # Create linear model of rewards over time.\n",
    "    reward_linreg = linregress(np.array((range(len(rewards)))), np.array(rewards))\n",
    "    slopes.append(reward_linreg.slope)\n",
    "\n",
    "print(f\"Environment by itself took {time.time() - start_time:.2f} seconds\")\n",
    "print(f\"after {num_episodes} episodes, reward slope: {np.mean(slopes)}\")\n",
    "\n",
    "# random slope: -1.6590275464427678e-05          # least negative\n",
    "# greedy sweet slope: -0.00036048910014449743   # most negative\n",
    "# greedy kale slope:  -3.420439462909453e-05     # most negative"
   ]
  },
  {
   "cell_type": "code",
   "execution_count": 8,
   "metadata": {},
   "outputs": [
    {
     "name": "stdout",
     "output_type": "stream",
     "text": [
      "Environment by itself took 48.34 seconds\n",
      "after 1000 episodes, reward slope: 1.6322681144443055e-05\n"
     ]
    }
   ],
   "source": [
    "# CHECK SLOPES OF MODIFIED LTS\n",
    "\n",
    "start_time = time.time()\n",
    "\n",
    "# Capture slopes of all trendlines over all episodes.\n",
    "slopes = []\n",
    "\n",
    "# Run 1000 episodes\n",
    "num_episodes = 1000\n",
    "for _ in range(num_episodes):\n",
    "    obs = modified_lts_20_2_env.reset()  # Reset environment to get initial observation:\n",
    "    doc_list = [t[1][0] for t in list(obs['doc'].items()) ]\n",
    "\n",
    "    # Compute actions that pick doc with highest/lowest feature value.\n",
    "    # action_sweetest = np.argmax(obs['item'])\n",
    "    # action_kaleiest = np.argmin(obs['item'])     \n",
    "    action_sweetest = np.argmax(doc_list)\n",
    "    action_kaleiest = np.argmin(doc_list)\n",
    "\n",
    "    # Play one episode.\n",
    "    done = False\n",
    "    rewards = []\n",
    "    while not done:\n",
    "        action = modified_lts_20_2_env.action_space.sample()\n",
    "        # action = action_sweetest\n",
    "        # action = action_kaleiest\n",
    "\n",
    "        obs, reward, done, _ = modified_lts_20_2_env.step(action)\n",
    "        rewards.append(reward)\n",
    "\n",
    "    # Create linear model of rewards over time.\n",
    "    reward_linreg = linregress(np.array((range(len(rewards)))), np.array(rewards))\n",
    "    slopes.append(reward_linreg.slope)\n",
    "\n",
    "print(f\"Environment by itself took {time.time() - start_time:.2f} seconds\")\n",
    "print(f\"after {num_episodes} episodes, reward slope: {np.mean(slopes)}\")\n",
    "\n",
    "# random slope: 9.586121434477154e-05          # smallest positive\n",
    "# greedy sweet slope: -0.0003199796162644487   # negative\n",
    "# greedy kale slope:  0.00010328813181183704     # larger positive"
   ]
  },
  {
   "cell_type": "code",
   "execution_count": 9,
   "metadata": {},
   "outputs": [],
   "source": [
    "def abline(slope, intercept, the_label):\n",
    "    \"\"\"Plot a line from slope and intercept\"\"\"\n",
    "    x_vals = np.array(ax.get_xlim())\n",
    "    y_vals = intercept + slope * x_vals\n",
    "    ax.plot(x_vals, y_vals, '--', label=the_label)\n",
    "    # Add legend\n",
    "    ax.legend(loc='lower left', frameon=False)\n",
    "    # Add titles\n",
    "    plt.title(\"Satisfaction Slopes\")\n",
    "    # Hide x-axis labels\n",
    "    ax.tick_params(labelbottom=False) "
   ]
  },
  {
   "cell_type": "code",
   "execution_count": 10,
   "metadata": {},
   "outputs": [
    {
     "data": {
      "image/png": "[encoded data removed]",
      "text/plain": [
       "<Figure size 432x216 with 1 Axes>"
      ]
     },
     "metadata": {
      "needs_background": "light"
     },
     "output_type": "display_data"
    }
   ],
   "source": [
    "fig, ax = plt.subplots(1,1,figsize=(6,3))\n",
    "abline(9.586121434477154e-05, 0, \"Random\")\n",
    "abline(-0.0003199796162644487, 0, \"Sweetest\")\n",
    "abline(0.00010328813181183704 , 0, \"Kaleist\")"
   ]
  },
  {
   "cell_type": "markdown",
   "metadata": {},
   "source": [
    "<b>Get an environment baseline</b>\n",
    "\n",
    "It is always best practice, before training an algorithm, to run through the environment and record the mean reward as a baseline.\n",
    "\n",
    "<div class=\"alert alert-block alert-success\">\n",
    "💡 For this environment, we will calculate 3 baselines: <br>\n",
    "    <ul>\n",
    "        <li>Random baseline: pick randomly every time</li>\n",
    "        <li>Greedy sweet baseline: always pick the sweetest item </li>\n",
    "        <li>Greedy kale baseline: always pick the kaleist item </li>\n",
    "    </ul>\n",
    "</div>"
   ]
  },
  {
   "cell_type": "code",
   "execution_count": 11,
   "metadata": {},
   "outputs": [],
   "source": [
    "# Function that measures and outputs the random baseline reward.\n",
    "# This is the expected accumulated reward per episode, if we act randomly (recommend random items) at each time step.\n",
    "def calc_baseline(env, \n",
    "                  baseline_type=\"random\",\n",
    "                  episodes=100, verbose=False):\n",
    "\n",
    "    # Reset the env.\n",
    "    obs = env.reset()\n",
    "    doc_list = [t[1][0] for t in list(obs['doc'].items()) ]\n",
    "\n",
    "    # Number of episodes already done.\n",
    "    num_episodes = 0\n",
    "    # Current episode's accumulated reward.\n",
    "    episode_reward = 0.0\n",
    "    # Collect all episode rewards here to be able to calculate a random baseline reward.\n",
    "    episode_rewards = []\n",
    "    # Keep track of sugar consumed\n",
    "    episode_sugar = 0.0\n",
    "    doc_sugar = []\n",
    "    \n",
    "    # Enter while loop (to step through the episode).\n",
    "    while num_episodes < episodes:\n",
    "        # Produce an action\n",
    "        # action_random = env.action_space.sample()\n",
    "        action_random = random.randint(0, len(doc_list)-1)\n",
    "        action_sweetest = np.argmax(doc_list)\n",
    "        action_kaleiest = np.argmin(doc_list)\n",
    "        if baseline_type == \"random\":\n",
    "            action = action_random\n",
    "        elif baseline_type == \"sweetest\":\n",
    "            action = action_sweetest\n",
    "        elif baseline_type == \"kaleist\":\n",
    "            action = action_kaleiest\n",
    "        sugar = doc_list[action]\n",
    "        # # debugging\n",
    "        # print(f\"doc_val={doc_list[action]}\")\n",
    "        # print(np.argmax(doc_list), doc_list)\n",
    "        \n",
    "        # Send the action to the env's `step()` method to receive: obs, reward, done, and info.\n",
    "        obs, reward, done, _ = env.step(action)\n",
    "        doc_list = [t[1][0] for t in list(obs['doc'].items()) ]\n",
    "        episode_reward += reward\n",
    "        episode_sugar += sugar\n",
    "        \n",
    "        # Check, whether the episde is done, if yes, reset and increase episode counter.\n",
    "        if done:\n",
    "            if verbose:\n",
    "                print(f\"Episode done - accumulated reward={episode_reward}\")\n",
    "            elif num_episodes % 99 == 0:\n",
    "                print(f\" {num_episodes} \", end=\"\")\n",
    "            elif num_episodes % 9 == 0:\n",
    "                print(\".\", end=\"\")\n",
    "                \n",
    "            # increment on end of episode\n",
    "            num_episodes += 1\n",
    "            obs = env.reset()\n",
    "            episode_rewards.append(episode_reward)\n",
    "            episode_reward = 0.0\n",
    "            doc_sugar.append(episode_sugar)\n",
    "            episode_sugar = 0.0\n",
    "\n",
    "    # Print out and return mean episode reward (and standard error of the mean).\n",
    "    env_mean_reward = np.mean(episode_rewards)\n",
    "    env_sd_reward = np.std(episode_rewards)\n",
    "    \n",
    "    # Print out sugar consumed\n",
    "    env_mean_sugar_consumed = np.mean(doc_sugar)\n",
    "    env_sd_sugar = np.std(doc_sugar)\n",
    "\n",
    "    print(f\"\\nMean {baseline_type} baseline reward: {env_mean_reward:.2f}+/-{env_sd_reward:.2f}\")\n",
    "    print(f\"Mean {baseline_type} sugar consumed: {env_mean_sugar_consumed:.2f}+/-{env_sd_sugar:.2f}\")\n",
    "\n",
    "    return env_mean_reward, episode_rewards\n"
   ]
  },
  {
   "cell_type": "code",
   "execution_count": 12,
   "metadata": {},
   "outputs": [
    {
     "name": "stdout",
     "output_type": "stream",
     "text": [
      " 0 .......... 99 \n",
      "Mean kaleist baseline reward: 1082.38+/-9.70\n",
      "Mean kaleist sugar consumed: 5.71+/-0.50\n",
      " 0 .......... 99 \n",
      "Mean random baseline reward: 1158.59+/-10.82\n",
      "Mean random sugar consumed: 60.07+/-3.70\n",
      " 0 .......... 99 \n",
      "Mean sweetest baseline reward: 1163.77+/-10.93\n",
      "Mean sweetest sugar consumed: 114.29+/-0.51\n",
      "Environment by itself took 14.38 seconds\n"
     ]
    }
   ],
   "source": [
    "# Calculate a baseline type: random, sweetest, or kaleist\n",
    "start_time = time.time()\n",
    "\n",
    "lts_20_2_mean_kaleist_reward, lts_20_2_mean_kaleist_rewards = \\\n",
    "    calc_baseline(modified_lts_20_2_env, \n",
    "                  baseline_type=\"kaleist\",\n",
    "                  episodes=100)\n",
    "lts_20_2_mean_random_reward, lts_20_2_mean_random_rewards = \\\n",
    "    calc_baseline(modified_lts_20_2_env, \n",
    "                  baseline_type=\"random\",\n",
    "                  episodes=100)\n",
    "lts_20_2_mean_sweetest_reward, lts_20_2_mean_sweetest_rewards = \\\n",
    "    calc_baseline(modified_lts_20_2_env, \n",
    "                  baseline_type=\"sweetest\",\n",
    "                  episodes=100)\n",
    "\n",
    "print(f\"Environment by itself took {time.time() - start_time:.2f} seconds\")\n",
    "\n",
    "# Mean kaleist baseline reward: 1082.38+/-9.70  # smallest\n",
    "# Mean kaleist sugar consumed: 5.71+/-0.50\n",
    "# Mean random baseline reward: 1158.59+/-10.82 # next biggest\n",
    "# Mean random sugar consumed: 60.07+/-3.70\n",
    "# Mean sweetest baseline reward: 1163.77+/-10.93 # biggest\n",
    "# Mean sweetest sugar consumed: 114.29+/-0.51"
   ]
  },
  {
   "cell_type": "code",
   "execution_count": 34,
   "metadata": {},
   "outputs": [
    {
     "data": {
      "image/png": "[encoded data removed]",
      "text/plain": [
       "<Figure size 576x288 with 1 Axes>"
      ]
     },
     "metadata": {
      "needs_background": "light"
     },
     "output_type": "display_data"
    }
   ],
   "source": [
    "# Plot per-timestep (episode) rewards.\n",
    "fig, ax = plt.subplots(1,1,figsize=(8,4))\n",
    "\n",
    "# collect plot data from rewards\n",
    "start_at = 4\n",
    "smoothing_win = 100\n",
    "\n",
    "# plot rewards\n",
    "x = list(range(start_at, len(lts_20_2_mean_sweetest_rewards)-1))\n",
    "y = [np.nanmean(lts_20_2_mean_sweetest_rewards[max(i - smoothing_win, 0):i + 1]) \n",
    "     for i in range(start_at, len(lts_20_2_mean_sweetest_rewards)-1)]\n",
    "ax.plot(x, y, label=\"Sweetest\", color=\"orange\")\n",
    "\n",
    "x = list(range(start_at, len(lts_20_2_mean_random_rewards)-1))\n",
    "y = [np.nanmean(lts_20_2_mean_random_rewards[max(i - smoothing_win, 0):i + 1]) \n",
    "     for i in range(start_at, len(lts_20_2_mean_random_rewards)-1)]\n",
    "ax.plot(x, y, label=\"Random\", color=\"grey\")\n",
    "\n",
    "x = list(range(start_at, len(lts_20_2_mean_kaleist_rewards)-1))\n",
    "y = [np.nanmean(lts_20_2_mean_kaleist_rewards[max(i - smoothing_win, 0):i + 1]) \n",
    "     for i in range(start_at, len(lts_20_2_mean_kaleist_rewards)-1)]\n",
    "ax.plot(x, y, label=\"Kaleist\", color=\"green\")\n",
    "\n",
    "# # Add mean random baseline reward (red line).\n",
    "# plt.axhline(y=lts_20_2_mean_random_reward, \n",
    "#             color=\"r\", \n",
    "#             linestyle=\"-\",\n",
    "#             label=\"Random baseline\")\n",
    "\n",
    "# Add legend\n",
    "ax.legend(loc='center', frameon=True)\n",
    "\n",
    "# Add titles\n",
    "plt.title(\"Environment-only Mean Reward\")\n",
    "plt.xlabel(\"Training iterations\")\n",
    "\n",
    "plt.plot();"
   ]
  },
  {
   "cell_type": "markdown",
   "metadata": {},
   "source": [
    "## Train a Contextual Bandit on the environment <a class=\"anchor\" id=\"cb\"></a>\n",
    "\n",
    "A Bandit session is one where we have an opportunity to recommend to the user an item and receive a reward if they click.\n",
    "\n",
    "<img src=\"./images/simple_n_armed_bandit.png\" width=\"90%\" />\n",
    "\n",
    "<ol>\n",
    "    <li>Open RLlib docs <a href=\"https://docs.ray.io/en/master/rllib/rllib-algorithms.html\">and navigate to the Algorithms page.</a></li>\n",
    "    <li>Scroll down and click url of algo you want to use, e.g. <i><b>Bandits</b></i></li>\n",
    "    <li>On the <a href=\"https://docs.ray.io/en/master/rllib/rllib-algorithms.html#bandits\">algo docs page </a>, click on the link <i><b>Implementation</b></i>.  This will open the <a href=\"https://github.com/ray-project/ray/blob/master/rllib/algorithms/bandit/bandit.py\">algo code file on github</a>.</li>\n",
    "    <li>Search the github code file for the word <i><b>config</b></i></li>\n",
    "    <li>Typically the docstring example will show: </li>\n",
    "    <ol>\n",
    "        <li>Example code implementing RLlib API, then </li>\n",
    "        <li>Example code implementing Ray Tune API.</li>\n",
    "    </ol>\n",
    "    <li>Scroll down to the config <b>__init()__</b> method</li>\n",
    "    <ol>\n",
    "            <li>Algorithm default hyperparameter values are here.</li>\n",
    "    </ol>\n",
    "    </ol>"
   ]
  },
  {
   "cell_type": "code",
   "execution_count": 14,
   "metadata": {},
   "outputs": [],
   "source": [
    "# Select RLlib Bandit algorithm w/Upper Confidence Bound (UCB) exploration\n",
    "# and find that algorithm's config class\n",
    "\n",
    "# config is an object instead of a dictionary since Ray version >= 1.13\n",
    "from ray.rllib.algorithms.bandit.bandit import BanditLinUCBConfig"
   ]
  },
  {
   "cell_type": "code",
   "execution_count": 15,
   "metadata": {},
   "outputs": [
    {
     "data": {
      "text/plain": [
       "<ray.rllib.algorithms.bandit.bandit.BanditLinUCBConfig at 0x7f18c2fa7e50>"
      ]
     },
     "execution_count": 15,
     "metadata": {},
     "output_type": "execute_result"
    }
   ],
   "source": [
    "# # uncomment below to see the long list of default config values\n",
    "# print(f\"Bandit's default config is:\")\n",
    "# print(pretty_print(BanditLinUCBConfig().to_dict()))\n",
    "\n",
    "# Create a Bandit object\n",
    "bandit_config = BanditLinUCBConfig()\n",
    "\n",
    "# Setup our config object to use our environment\n",
    "env_config_20 = \\\n",
    "    {\n",
    "        # The number of possible documents/videos/candidates that we can recommend\n",
    "        \"num_candidates\": 20,  \n",
    "        # The number of recommendations that we will be making\n",
    "        \"slate_size\": 2,  # MultiDiscrete([20, 20]) -> Discrete(400)\n",
    "        # Set to False for re-using the same candidate doecuments each timestep.\n",
    "        \"resample_documents\": True,\n",
    "        # Convert MultiDiscrete actions to Discrete (flatten action space).\n",
    "        \"convert_to_discrete_action_space\": True,\n",
    "        # Wrap observations for RLlib bandit: Only changes dict keys (\"item\" instead of \"doc\").\n",
    "        \"wrap_for_bandits\": True,\n",
    "        # Use consistent seeds for the environment ...\n",
    "        \"seed\": 0,}\n",
    "\n",
    "# Set it up for the correct environment:\n",
    "bandit_config.environment(env=\"modified-lts\", env_config=env_config_20)\n",
    "\n",
    "# Decide if you want torch or tensorflow DL framework.  Default is \"tf\"\n",
    "bandit_config.framework(\"torch\")\n",
    "\n",
    "# Setup evaluation\n",
    "# Explicitly set \"explore\"=False to override default\n",
    "bandit_config.evaluation(\n",
    "    evaluation_interval=10, \n",
    "    evaluation_duration=20, \n",
    "    evaluation_duration_unit=\"timesteps\",)\n",
    "    # evaluation_config = {\"explore\" : False})\n",
    "\n",
    "# Setup sampling rollout workers\n",
    "# +1 for head node, num parallel workers or actors for rollouts\n",
    "bandit_config.rollouts(\\\n",
    "    num_rollout_workers=1,\n",
    "    num_envs_per_worker=1,)\n",
    "    # enable_connectors=True)\n",
    "\n",
    "bandit_config.resources(num_gpus=0)\n",
    "\n",
    "# Set the log level to DEBUG, INFO, WARN, or ERROR \n",
    "# seed the algorithm / policy\n",
    "bandit_config.debugging(seed=415, log_level=\"ERROR\")\n",
    "\n",
    "# for increasing logging frequency in the terminal for this tutorial\n",
    "bandit_config.reporting(\n",
    "    min_train_timesteps_per_iteration=1,\n",
    "    metrics_num_episodes_for_smoothing=2) #200\n"
   ]
  },
  {
   "cell_type": "code",
   "execution_count": null,
   "metadata": {
    "scrolled": true,
    "tags": []
   },
   "outputs": [],
   "source": [
    "# SINGLE .TRAIN() OUTPUT\n",
    "\n",
    "# instantiate an algo instance\n",
    "linucb_algo = bandit_config.build()\n",
    "print(f\"Algorithm type: {type(linucb_algo)}\")\n",
    "\n",
    "# Perform single `.train() iteration` call\n",
    "# Result is a Python dict object\n",
    "result = linucb_algo.train()\n",
    "\n",
    "# Erase config dict from result (for better overview).\n",
    "del result[\"config\"]\n",
    "# Print out training iteration results.\n",
    "print(pretty_print(result))"
   ]
  },
  {
   "cell_type": "code",
   "execution_count": 17,
   "metadata": {},
   "outputs": [
    {
     "name": "stdout",
     "output_type": "stream",
     "text": [
      "Algorithm type: <class 'ray.rllib.algorithms.bandit.bandit.BanditLinUCB'>\n",
      "Iteration=10, Mean Reward=1148.91+/-7.92\n",
      "Checkpoints saved at results/bandit_recsim/checkpoint_000011\n",
      "Iteration=20, Mean Reward=1167.48+/-8.15\n",
      "Checkpoints saved at results/bandit_recsim/checkpoint_000021\n",
      "Iteration=30, Mean Reward=1165.22+/-6.77\n",
      "Checkpoints saved at results/bandit_recsim/checkpoint_000031\n",
      "Iteration=40, Mean Reward=1148.79+/-6.84\n",
      "Checkpoints saved at results/bandit_recsim/checkpoint_000041\n",
      "Iteration=50, Mean Reward=1165.07+/-7.02\n",
      "Checkpoints saved at results/bandit_recsim/checkpoint_000051\n",
      "Iteration=60, Mean Reward=1169.95+/-6.74\n",
      "Checkpoints saved at results/bandit_recsim/checkpoint_000061\n",
      "Iteration=70, Mean Reward=1156.46+/-7.29\n",
      "Checkpoints saved at results/bandit_recsim/checkpoint_000071\n",
      "Iteration=80, Mean Reward=1164.03+/-7.42\n",
      "Checkpoints saved at results/bandit_recsim/checkpoint_000081\n",
      "Iteration=90, Mean Reward=1158.23+/-7.18\n",
      "Checkpoints saved at results/bandit_recsim/checkpoint_000091\n",
      "Iteration=99, Mean Reward=1166.01+/-6.94\n",
      "Checkpoints saved at results/bandit_recsim/checkpoint_000100\n",
      "Bandit Return 2332.0176404013196 over 200 episodes (24000 timesteps)\n",
      "Approx 11.66 Return per episode\n",
      "Training took 88.33 seconds\n"
     ]
    }
   ],
   "source": [
    "###############\n",
    "# EXAMPLE USING RLLIB API .train() IN A LOOP\n",
    "# To train for N number of episodes, you put .train() into a loop, \n",
    "# similar to the way we ran the Gym env.step() in a loop.\n",
    "###############\n",
    "# # start fresh in case ray already running\n",
    "# if ray.is_initialized():\n",
    "#     ray.shutdown()\n",
    "\n",
    "start_time = time.time()\n",
    "\n",
    "# Use the config object's `build()` method for generating\n",
    "# an RLlib Algorithm instance that we can then train.\n",
    "linucb_algo = bandit_config.build()\n",
    "print(f\"Algorithm type: {type(linucb_algo)}\")\n",
    "\n",
    "# train the Algorithm instance for 100 iterations\n",
    "num_iterations = 100\n",
    "rewards = []\n",
    "checkpoint_dir = \"results/bandit_recsim/\"\n",
    "\n",
    "for i in range(num_iterations):\n",
    "    # Call its `train()` method\n",
    "    result = linucb_algo.train()\n",
    "    \n",
    "    # Extract reward from results.\n",
    "    rewards.append(result[\"episode_reward_mean\"])\n",
    "    \n",
    "    # print something every 10 episodes\n",
    "    if (((i % 10 == 0) and (i >=4)) or (i == num_iterations-1)):\n",
    "        print(f\"Iteration={i}, Mean Reward={result['episode_reward_mean']:.2f}\",end=\"\")\n",
    "        try:\n",
    "            print(f\"+/-{np.std(rewards[4:]):.2f}\")\n",
    "        except:\n",
    "            print(\"\")\n",
    "        # save checkpoint file\n",
    "        checkpoint_file = linucb_algo.save(checkpoint_dir)\n",
    "        print(f\"Checkpoints saved at {checkpoint_file}\")\n",
    "        # evaluate the policy\n",
    "        eval_result = linucb_algo.evaluate()\n",
    "\n",
    "# convert num_iterations to num_episodes\n",
    "num_episodes = len(result[\"hist_stats\"][\"episode_lengths\"]) * num_iterations\n",
    "# convert num_iterations to num_timesteps\n",
    "num_timesteps = sum(result[\"hist_stats\"][\"episode_lengths\"] * num_iterations)\n",
    "# calculate cumulative sum rewards\n",
    "total_return = np.sum(result[\"hist_stats\"][\"episode_reward\"])\n",
    "\n",
    "# train time\n",
    "print(f\"Bandit Return {total_return} over {num_episodes} episodes ({num_timesteps} timesteps)\") \n",
    "print(f\"Approx {total_return/num_episodes:.2f} Return per episode\")\n",
    "print(f\"Training took {time.time() - start_time:.2f} seconds\")\n",
    "\n",
    "\n",
    "# # Uncomment to train and generate the json output.\n",
    "# \"\"\"\n",
    "# algo = dummy_config.build()\n",
    "\n",
    "# for _ in range(4):\n",
    "#     algo.train()\n",
    "# \"\"\""
   ]
  },
  {
   "cell_type": "markdown",
   "metadata": {},
   "source": [
    "<b>Compare the Bandit Training results to Baseline <br></b>\n",
    "- Bandit Mean Reward=~1166.01+/-6.94. \n",
    "> Kaleist Baseline Mean Reward = ~1082.38+/-9.70 (out of success=6000)<br>\n",
    "Random Baseline Mean Reward = ~1158.59+/-10.82 (out of success=6000)<br>\n",
    "Sweetest Baseline Mean Reward = ~1163.77+/-10.93 (out of success=6000)<br>\n",
    "\n",
    "<div class=\"alert alert-block alert-success\">\n",
    "    🤔  <b>Bandit mean reward is approx the same as the sweetest baseline!</b> <br>\n",
    "</div>  \n",
    "\n",
    "<br>\n",
    "Try the code block below to compare what the bandit recommends with what is the sweetest item... you will see that the bandit always recommends the sweetest item!"
   ]
  },
  {
   "cell_type": "code",
   "execution_count": null,
   "metadata": {},
   "outputs": [],
   "source": [
    "# Let's see what items our bandit recommends now that it has been trained and achieves good (>> random) rewards.\n",
    "obs = modified_lts_20_2_env.reset()\n",
    "\n",
    "# Run a single episode.\n",
    "done = False\n",
    "while not done:\n",
    "    # Pass the single (unbatched) observation into the `compute_single_action` method of our Trainer.\n",
    "    # This is one way to perform inference on a learned policy.\n",
    "    action = linucb_algo.compute_single_action(input_dict={\"obs\": obs})\n",
    "    feat_value_of_action = obs[\"item\"][action][0]\n",
    "    max_choc_feat = obs['item'][np.argmax(obs[\"item\"])][0]\n",
    "\n",
    "    # Print out the picked document's feature value and compare that to the highest possible feature value.\n",
    "    print(f\"action's feature value={feat_value_of_action}; max-choc-feature={max_choc_feat}; \")\n",
    "\n",
    "    # Apply the computed action in the environment and continue.\n",
    "    obs, r, done, _ = lts_20_2_env.step(action)\n",
    "    "
   ]
  },
  {
   "cell_type": "markdown",
   "metadata": {},
   "source": [
    "In this dummy Recsim environment, we did not have any user features.  This makes the contextual bandit without any user context, i.e. without any state.  A stateless bandit cannot remember things between timesteps, so it will be exactly the most greedy policy."
   ]
  },
  {
   "cell_type": "code",
   "execution_count": 35,
   "metadata": {},
   "outputs": [
    {
     "data": {
      "image/png": "[encoded data removed]",
      "text/plain": [
       "<Figure size 576x288 with 1 Axes>"
      ]
     },
     "metadata": {
      "needs_background": "light"
     },
     "output_type": "display_data"
    }
   ],
   "source": [
    "# Plot per-timestep (episode) rewards.\n",
    "fig, ax = plt.subplots(1,1,figsize=(8,4))\n",
    "\n",
    "# collect plot data from bandit rewards\n",
    "start_at = 4  #bandit rewards are nan for 1st 3 iterations\n",
    "smoothing_win = 100\n",
    "x = list(range(start_at, len(rewards)-1))\n",
    "y = [np.nanmean(rewards[max(i - smoothing_win, 0):i + 1]) \n",
    "     for i in range(start_at, len(rewards)-1)]\n",
    "\n",
    "# plot bandit rewards\n",
    "ax.plot(x, y, label=\"LinUCBBandit\")\n",
    "\n",
    "# Add mean random baseline reward (red line).\n",
    "plt.axhline(y=lts_20_2_mean_sweetest_reward, \n",
    "            color=\"r\", \n",
    "            linestyle=\"-\",\n",
    "            label=\"Sweetest baseline\")\n",
    "\n",
    "# Add legend\n",
    "ax.legend(loc='center right', frameon=True)\n",
    "\n",
    "# Add titles\n",
    "plt.title(\"Bandit Training Mean Reward\")\n",
    "plt.xlabel(\"Training iterations\")\n",
    "\n",
    "plt.plot();\n"
   ]
  },
  {
   "cell_type": "code",
   "execution_count": 19,
   "metadata": {},
   "outputs": [
    {
     "name": "stdout",
     "output_type": "stream",
     "text": [
      "\n"
     ]
    }
   ],
   "source": [
    "# To stop the Algorithm and release its blocked resources, use:\n",
    "linucb_algo.stop()\n",
    "print()"
   ]
  },
  {
   "cell_type": "markdown",
   "metadata": {},
   "source": [
    "## Train using a RL SlateQ algorithm on the environment <a class=\"anchor\" id=\"slateq\"></a>\n",
    "\n",
    "The RLlib team has implemented the Slate-Q algorithm from Google - Deep Q-Learning (DQN) designed for k-slate, long time horizon, and dynamic user recommendation problems.\n",
    "\n",
    "<a href=\"https://storage.googleapis.com/pub-tools-public-publication-data/pdf/9f91de1fa0ac351ecb12e4062a37afb896aa1463.pdf\">Slate-Q Paper</a> <br>\n",
    "<a href=\"https://slideslive.com/38917655/reinforcement-learning-in-recommender-systems-some-challenges\">Author video</a> about Slate-Q <br>\n",
    "<a href=\"https://www.anyscale.com/blog/reinforcement-learning-with-deep-q-networks\">Anyscale tutorial blog explanation of Deep Q-Learning (DQN)</a>\n",
    "\n",
    "<img src=\"./images/slateq_with_DQN_equations.png\" width=\"100%\" />\n",
    "<br>"
   ]
  },
  {
   "cell_type": "code",
   "execution_count": null,
   "metadata": {},
   "outputs": [],
   "source": [
    "# config is an object instead of a dictionary since Ray version >= 1.13\n",
    "from ray.rllib.algorithms.slateq.slateq import SlateQConfig"
   ]
  },
  {
   "cell_type": "code",
   "execution_count": null,
   "metadata": {},
   "outputs": [],
   "source": [
    "# Create a SlateQConfig object\n",
    "slateq_config = SlateQConfig()\n",
    "\n",
    "# Setup our config object to use our environment\n",
    "slateq_config.environment(\n",
    "        env=\"modified-lts\", \n",
    "        env_config={\n",
    "            # The number of possible documents/videos/candidates that we can recommend\n",
    "            \"num_candidates\": 20,  \n",
    "            # The number of recommendations that we will be making\n",
    "            \"slate_size\": 2,  # MultiDiscrete([20, 20]) -> Discrete(400)\n",
    "            # Set to False for re-using the same candidate doecuments each timestep.\n",
    "            \"resample_documents\": True,\n",
    "            # Convert MultiDiscrete actions to Discrete (flatten action space).\n",
    "            # SlateQ handles MultiDiscrete action spaces (slate recommendations).\n",
    "            \"convert_to_discrete_action_space\": False,\n",
    "            # Wrap observations for RLlib bandit: Only changes dict keys (\"item\" instead of \"doc\").\n",
    "            # SlateQ != Bandit (will keep \"doc\" key, instead of \"items\")\n",
    "            \"wrap_for_bandits\": False,\n",
    "            # Use consistent seeds for the environment ...\n",
    "            \"seed\": 0,})\n",
    "\n",
    "# Decide if you want torch or tensorflow DL framework.  Default is \"tf\"\n",
    "slateq_config.framework(framework=\"torch\")\n",
    "\n",
    "# Set the log level to DEBUG, INFO, WARN, or ERROR \n",
    "# seed the algorithm / policy\n",
    "slateq_config.debugging(seed=415, log_level=\"INFO\")\n",
    "\n",
    "# Setup evaluation\n",
    "# Explicitly set \"explore\"=False to override default\n",
    "slateq_config.evaluation(\n",
    "    # evaluation_interval=10, \n",
    "    # evaluation_duration=20, \n",
    "    # evaluation_duration_unit=\"timesteps\",\n",
    "    evaluation_config = {\"explore\" : False})\n",
    "\n",
    "# Setup sampling rollout workers\n",
    "# +1 for head node, num parallel workers or actors for rollouts\n",
    "slateq_config.rollouts(\n",
    "    num_rollout_workers=1,\n",
    "    num_envs_per_worker=1,)\n",
    "    # enable_connectors=True)\n",
    "\n",
    "slateq_config.resources(num_gpus=0)\n",
    "\n",
    "# Setup target network training\n",
    "slateq_config.training(target_network_update_freq=3200)\n",
    "\n",
    "# Setup exploration\n",
    "slateq_config.exploration(explore=True,\n",
    "                 exploration_config={\n",
    "                  # You could use Ray Tune to run 3 parallel tuning trials\n",
    "                  # epsilon_timesteps=tune.grid_search([30000, 60000, 3000]),  # default: 250000\n",
    "                  \"epsilon_timesteps\": 60000,  \n",
    "                 })\n",
    "\n",
    "# for increasing logging frequency in the terminal for this tutorial\n",
    "slateq_config.reporting(\n",
    "    min_train_timesteps_per_iteration=1,\n",
    "    metrics_num_episodes_for_smoothing=100) #200\n",
    "\n"
   ]
  },
  {
   "cell_type": "markdown",
   "metadata": {},
   "source": [
    "Now that we have confirmed we have setup the Trainer correctly, let's call train() on it for one iteration to inspect a single result.\n",
    "\n",
    "💡 <b>Right-click on the cell below and choose \"Enable Scrolling for Outputs\"!</b>  This will make it easier to view, since model training output can be very long!"
   ]
  },
  {
   "cell_type": "code",
   "execution_count": null,
   "metadata": {
    "scrolled": true,
    "tags": []
   },
   "outputs": [],
   "source": [
    "# SINGLE .TRAIN() OUTPUT\n",
    "\n",
    "# instantiate an algo instance\n",
    "slateq_algo = slateq_config.build()\n",
    "print(f\"Algorithm type: {type(slateq_algo)}\")\n",
    "\n",
    "start_time = time.time()\n",
    "\n",
    "# Perform single `.train() iteration` call\n",
    "# Result is a Python dict object\n",
    "result = slateq_algo.train()\n",
    "\n",
    "# train time\n",
    "print(f\"Training took {time.time() - start_time:.2f} seconds\")\n",
    "\n",
    "# Erase config dict from result (for better overview).\n",
    "del result[\"hist_stats\"]\n",
    "del result[\"config\"]\n",
    "# Print out training iteration results.\n",
    "print(pretty_print(result))\n",
    "\n",
    "# Training took 168.93 seconds for 1 single iteration"
   ]
  },
  {
   "cell_type": "markdown",
   "metadata": {},
   "source": [
    "Now that we have confirmed we have setup the Trainer correctly, let's call train() on it 30 times:"
   ]
  },
  {
   "cell_type": "code",
   "execution_count": null,
   "metadata": {
    "scrolled": true,
    "tags": []
   },
   "outputs": [],
   "source": [
    "# Train using Ray Tune\n",
    "\n",
    "start_time = time.time()\n",
    "\n",
    "# You can change timesteps_total here to see more tuning\n",
    "experiment_results = tune.run(\"SlateQ\", \n",
    "                              \n",
    "        # training config params (translated into a python dict!)\n",
    "        config=slateq_config.to_dict(), \n",
    "         \n",
    "        # Stopping criteria whichever occurs first:\n",
    "        stop={\"timesteps_total\":600000, \n",
    "              \"training_iteration\":30},\n",
    "         \n",
    "        # redirect logs instead of default ~/ray_results/\n",
    "        local_dir=\"results/slateq_recsim\",\n",
    "\n",
    "        # Always save last checkpoint (no matter the frequency).\n",
    "        checkpoint_at_end=True,\n",
    "\n",
    "        ###############\n",
    "        # Note about Ray Tune verbosity.\n",
    "        # Screen verbosity in Ray Tune is defined as verbose = 0, 1, 2, or 3, where:\n",
    "        # 0 = silent\n",
    "        # 1 = only status updates, no logging messages\n",
    "        # 2 = status and brief trial results, includes logging messages\n",
    "        # 3 = status and detailed trial results, includes logging messages\n",
    "        # Defaults to 3.\n",
    "        ###############\n",
    "        verbose=3,\n",
    "\n",
    "        # Define what we are comparing for, when we search for the\n",
    "        # \"best\" checkpoint at the end.\n",
    "        metric=\"episode_reward_mean\",\n",
    "        mode=\"max\",\n",
    "        )\n",
    "\n",
    "# train time\n",
    "print(f\"Training took {time.time() - start_time:.2f} seconds\")\n",
    "\n",
    "# Training 10 iterations took 486.55 seconds; approx 8 minutes\n",
    "# Training 30 iterations took 1174.30 seconds; approx 20 minutes"
   ]
  },
  {
   "cell_type": "code",
   "execution_count": 24,
   "metadata": {},
   "outputs": [],
   "source": [
    "# # Train using RLlib API .train()\n",
    "\n",
    "# start_time = time.time()\n",
    "\n",
    "# # See reward progress with time\n",
    "# # Run `train()` n times. Repeatedly call `train()` now to see rewards increase.\n",
    "# for _ in range(60):\n",
    "#     results = slateq_algo.train()\n",
    "#     print(f\"Iteration={slateq.iteration}; ts={results['timesteps_total']}: R(\\\"return\\\")={results['episode_reward_mean']}\")\n",
    "    \n",
    "# # train time\n",
    "# print(f\"Training took {time.time() - start_time:.2f} seconds\")"
   ]
  },
  {
   "cell_type": "code",
   "execution_count": null,
   "metadata": {
    "scrolled": true,
    "tags": []
   },
   "outputs": [],
   "source": [
    "# Read trainer results in a pandas dataframe\n",
    "df = experiment_results.results_df\n",
    "print(f\"df.shape: {df.shape}\")  #Only 1 trial\n",
    "\n",
    "print(df.columns.tolist())\n",
    "df.iloc[:,0:8].head()"
   ]
  },
  {
   "cell_type": "code",
   "execution_count": 26,
   "metadata": {},
   "outputs": [
    {
     "data": {
      "text/plain": [
       "[1136.4399915339754,\n",
       " 1179.8849388140854,\n",
       " 1166.8024604474872,\n",
       " 1165.9900390035946,\n",
       " 1183.8831479554556,\n",
       " 1167.892385320542,\n",
       " 1173.6663509466946,\n",
       " 1144.0642684658858,\n",
       " 1157.9853816020693,\n",
       " 1175.0277593525238]"
      ]
     },
     "execution_count": 26,
     "metadata": {},
     "output_type": "execute_result"
    }
   ],
   "source": [
    "# found the rewards?\n",
    "df['sampler_results/hist_stats/episode_reward'][0][0:10]"
   ]
  },
  {
   "cell_type": "code",
   "execution_count": 42,
   "metadata": {},
   "outputs": [
    {
     "data": {
      "image/png": "[encoded data removed]",
      "text/plain": [
       "<Figure size 576x288 with 1 Axes>"
      ]
     },
     "metadata": {
      "needs_background": "light"
     },
     "output_type": "display_data"
    }
   ],
   "source": [
    "# Plot per-timestep (episode) rewards.\n",
    "fig, ax = plt.subplots(1,1,figsize=(8,4))\n",
    "\n",
    "# collect plot data from bandit rewards\n",
    "start_at = 4  #bandit rewards are nan for 1st 3 iterations\n",
    "smoothing_win = 100\n",
    "\n",
    "x = list(range(start_at, len(rewards)-1))\n",
    "y = [np.nanmean(rewards[max(i - smoothing_win, 0):i + 1]) \n",
    "     for i in range(start_at, len(rewards)-1)]\n",
    "# plot bandit rewards\n",
    "ax.plot(x, y, label=\"LinUCBBandit\")\n",
    "\n",
    "rewards_slateq = df['sampler_results/hist_stats/episode_reward'][0]\n",
    "x = list(range(start_at, len(rewards_slateq)-1))\n",
    "y = [np.nanmean(rewards_slateq[max(i - smoothing_win, 0):i + 1]) \n",
    "     for i in range(start_at, len(rewards_slateq)-1)]\n",
    "# plot bandit rewards\n",
    "ax.plot(x, y, label=\"SlateQ\")\n",
    "\n",
    "# Add mean random baseline reward (red line).\n",
    "plt.axhline(y=lts_20_2_mean_sweetest_reward, \n",
    "            color=\"r\", \n",
    "            linestyle=\"-\",\n",
    "            label=\"Sweetest baseline\",)\n",
    "\n",
    "# Add legend\n",
    "ax.legend(loc='lower center', frameon=True)\n",
    "\n",
    "# Add titles\n",
    "plt.title(\"Compare Training Mean Reward\")\n",
    "plt.xlabel(\"Training iterations\")\n",
    "\n",
    "plt.plot();"
   ]
  },
  {
   "cell_type": "code",
   "execution_count": 28,
   "metadata": {},
   "outputs": [
    {
     "name": "stdout",
     "output_type": "stream",
     "text": [
      "\n"
     ]
    }
   ],
   "source": [
    "# To stop the Algorithm and release its blocked resources, use:\n",
    "slateq_algo.stop()\n",
    "print()"
   ]
  },
  {
   "cell_type": "markdown",
   "metadata": {},
   "source": [
    "# Offline RL in RecSys\n",
    "\n",
    "To be continued in a few weeks at the [ACM RecSys Conference](https://recsys.acm.org/recsys22/tutorials/) in Seattle!\n",
    "<br>"
   ]
  },
  {
   "cell_type": "markdown",
   "metadata": {},
   "source": [
    "📖 [Back to Table of Contents](./ex_00_rllib_notebooks_table_of_contents.ipynb)<br>\n",
    "➡️ [Next notebook](./ex_07_rllib_end_to_end_demo.ipynb) <br>\n",
    "⬅️ [Previous notebook](./ex_05_rllib_and_ray_serve.ipynb) <br>"
   ]
  },
  {
   "cell_type": "code",
   "execution_count": null,
   "metadata": {},
   "outputs": [],
   "source": []
  }
 ],
 "metadata": {
  "kernelspec": {
   "display_name": "Python 3 (ipykernel)",
   "language": "python",
   "name": "python3"
  },
  "language_info": {
   "codemirror_mode": {
    "name": "ipython",
    "version": 3
   },
   "file_extension": ".py",
   "mimetype": "text/x-python",
   "name": "python",
   "nbconvert_exporter": "python",
   "pygments_lexer": "ipython3",
   "version": "3.7.7"
  }
 },
 "nbformat": 4,
 "nbformat_minor": 4
}
