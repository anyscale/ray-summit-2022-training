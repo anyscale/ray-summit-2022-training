{
 "cells": [
  {
   "cell_type": "markdown",
   "id": "948888f5",
   "metadata": {},
   "source": [
    "# Exercise 06. End-to-end demo: Learning a Multiplayer Game using RLlib, Ray Tune, and Ray Serve\n",
    "\n",
    "© 2019-2022, Anyscale. All Rights Reserved <br>\n",
    "📖 [Back to Table of Contents](./ex_00_rllib_notebooks_table_of_contents.ipynb)<br>\n",
    "⬅️ [Previous notebook](./ex_05_rllib_and_ray_serve.ipynb) <br>\n",
    "\n",
    "This end-to-end example shows off what you will build in class.\n",
    "\n",
    "\n"
   ]
  },
  {
   "cell_type": "code",
   "execution_count": 1,
   "id": "ef15fa4b",
   "metadata": {},
   "outputs": [],
   "source": [
    "from multi_agent_arena.multi_agent_arena import MultiAgentArena"
   ]
  },
  {
   "cell_type": "code",
   "execution_count": null,
   "id": "fd7cd8e2-ce53-487c-a9dd-63d08cde03b5",
   "metadata": {},
   "outputs": [],
   "source": []
  }
 ],
 "metadata": {
  "kernelspec": {
   "display_name": "Python 3 (ipykernel)",
   "language": "python",
   "name": "python3"
  },
  "language_info": {
   "codemirror_mode": {
    "name": "ipython",
    "version": 3
   },
   "file_extension": ".py",
   "mimetype": "text/x-python",
   "name": "python",
   "nbconvert_exporter": "python",
   "pygments_lexer": "ipython3",
   "version": "3.8.13"
  }
 },
 "nbformat": 4,
 "nbformat_minor": 5
}
